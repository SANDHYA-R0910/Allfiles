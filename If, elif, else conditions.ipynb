{
 "cells": [
  {
   "cell_type": "code",
   "execution_count": 11,
   "id": "ee4be8dc",
   "metadata": {},
   "outputs": [
    {
     "name": "stdout",
     "output_type": "stream",
     "text": [
      "this is my first condition\n"
     ]
    }
   ],
   "source": [
    "a=10\n",
    "if a==10:\n",
    "    print(\"this is my first condition\")"
   ]
  },
  {
   "cell_type": "code",
   "execution_count": 12,
   "id": "8541dab6",
   "metadata": {},
   "outputs": [],
   "source": [
    "# = ----> asign\n",
    "# == -----> compare"
   ]
  },
  {
   "cell_type": "code",
   "execution_count": 13,
   "id": "62c7ca58",
   "metadata": {},
   "outputs": [],
   "source": [
    "a=10\n",
    "if a==11:\n",
    "    print(\"this is my first condition\")"
   ]
  },
  {
   "cell_type": "code",
   "execution_count": 14,
   "id": "9a52eb41",
   "metadata": {},
   "outputs": [],
   "source": [
    "a=10\n",
    "if a>5:\n",
    "    pass\n",
    "    "
   ]
  },
  {
   "cell_type": "code",
   "execution_count": 15,
   "id": "a740c158",
   "metadata": {},
   "outputs": [
    {
     "name": "stdout",
     "output_type": "stream",
     "text": [
      "print this if condtion is true\n"
     ]
    }
   ],
   "source": [
    "a=10\n",
    "if a>8:\n",
    "    print(\"print this if condtion is true\")"
   ]
  },
  {
   "cell_type": "code",
   "execution_count": 16,
   "id": "4ee1d701",
   "metadata": {},
   "outputs": [],
   "source": [
    "a=10\n",
    "if a<10:\n",
    "    print(\"print this if condition is true\")"
   ]
  },
  {
   "cell_type": "code",
   "execution_count": 17,
   "id": "785c5c65",
   "metadata": {},
   "outputs": [
    {
     "name": "stdout",
     "output_type": "stream",
     "text": [
      "my condition is false\n"
     ]
    }
   ],
   "source": [
    "a=10\n",
    "if a != 11:\n",
    "    print(\"my condition is false\")\n",
    "else:\n",
    "    print(\"print this\")"
   ]
  },
  {
   "cell_type": "code",
   "execution_count": 18,
   "id": "6922f0a7",
   "metadata": {},
   "outputs": [
    {
     "name": "stdout",
     "output_type": "stream",
     "text": [
      "print this\n"
     ]
    }
   ],
   "source": [
    "a=10\n",
    "if a == 11:\n",
    "    print(\"my condition is false\")\n",
    "else:\n",
    "    print(\"print this\")"
   ]
  },
  {
   "cell_type": "code",
   "execution_count": 19,
   "id": "12322197",
   "metadata": {},
   "outputs": [
    {
     "name": "stdout",
     "output_type": "stream",
     "text": [
      "if all the blocks will fail then do this\n"
     ]
    }
   ],
   "source": [
    "a=10\n",
    "if a==12:\n",
    "    print(\"here we are trying to compare 10 with 12\")\n",
    "elif a==11:\n",
    "    print(\"we are trying to compare 10 with 11\")\n",
    "else:\n",
    "    print(\"if all the blocks will fail then do this\")"
   ]
  },
  {
   "cell_type": "code",
   "execution_count": 20,
   "id": "4031b826",
   "metadata": {},
   "outputs": [
    {
     "ename": "SyntaxError",
     "evalue": "invalid syntax (Temp/ipykernel_8632/1007651267.py, line 6)",
     "output_type": "error",
     "traceback": [
      "\u001b[1;36m  File \u001b[1;32m\"C:\\Users\\admin\\AppData\\Local\\Temp/ipykernel_8632/1007651267.py\"\u001b[1;36m, line \u001b[1;32m6\u001b[0m\n\u001b[1;33m    else price == 500:\u001b[0m\n\u001b[1;37m         ^\u001b[0m\n\u001b[1;31mSyntaxError\u001b[0m\u001b[1;31m:\u001b[0m invalid syntax\n"
     ]
    }
   ],
   "source": [
    "price = 500\n",
    "if price > 500:\n",
    "    print(\"may be i wont be able to buy a jacket\")\n",
    "elif price <= 500:\n",
    "    print(\"i will be able to buy a jacket\")\n",
    "else price == 500:\n",
    "    print(\"dont know\")\n",
    "    \n",
    "    "
   ]
  },
  {
   "cell_type": "code",
   "execution_count": 21,
   "id": "5cde45c2",
   "metadata": {},
   "outputs": [
    {
     "name": "stdout",
     "output_type": "stream",
     "text": [
      "i will be able to buy a jacket\n"
     ]
    }
   ],
   "source": [
    "price = 500\n",
    "if price > 500:\n",
    "    print(\"may be i wont be able to buy a jacket\")\n",
    "elif price <= 500:\n",
    "    print(\"i will be able to buy a jacket\")\n",
    "else:\n",
    "    print(\"dont know\")\n",
    "    \n",
    "    "
   ]
  },
  {
   "cell_type": "code",
   "execution_count": 22,
   "id": "d8a965ee",
   "metadata": {},
   "outputs": [
    {
     "name": "stdout",
     "output_type": "stream",
     "text": [
      "for sure i will be able to buy\n"
     ]
    }
   ],
   "source": [
    "price = 500\n",
    "if price > 500:\n",
    "    print(\"may be i wont be able to buy a jacket\")\n",
    "elif price < 500:\n",
    "    print(\"i will be able to buy a jacket\")\n",
    "elif price ==500:\n",
    "    print(\"for sure i will be able to buy\")\n",
    "else:\n",
    "    print(\"dont know\")"
   ]
  },
  {
   "cell_type": "code",
   "execution_count": 23,
   "id": "cf6de3bf",
   "metadata": {},
   "outputs": [
    {
     "data": {
      "text/plain": [
       "False"
      ]
     },
     "execution_count": 23,
     "metadata": {},
     "output_type": "execute_result"
    }
   ],
   "source": [
    "price > 500"
   ]
  },
  {
   "cell_type": "code",
   "execution_count": 24,
   "id": "b23625b4",
   "metadata": {},
   "outputs": [
    {
     "data": {
      "text/plain": [
       "False"
      ]
     },
     "execution_count": 24,
     "metadata": {},
     "output_type": "execute_result"
    }
   ],
   "source": [
    "price < 500"
   ]
  },
  {
   "cell_type": "code",
   "execution_count": 25,
   "id": "0cb6d5b1",
   "metadata": {},
   "outputs": [
    {
     "data": {
      "text/plain": [
       "True"
      ]
     },
     "execution_count": 25,
     "metadata": {},
     "output_type": "execute_result"
    }
   ],
   "source": [
    "price ==500"
   ]
  },
  {
   "cell_type": "code",
   "execution_count": 26,
   "id": "b3de135c",
   "metadata": {},
   "outputs": [
    {
     "data": {
      "text/plain": [
       "True"
      ]
     },
     "execution_count": 26,
     "metadata": {},
     "output_type": "execute_result"
    }
   ],
   "source": [
    "l=[1,2,3,4,5,6]\n",
    "2 in l\n",
    "    "
   ]
  },
  {
   "cell_type": "code",
   "execution_count": 27,
   "id": "29cec2ad",
   "metadata": {},
   "outputs": [
    {
     "name": "stdout",
     "output_type": "stream",
     "text": [
      "do not perform this task\n"
     ]
    }
   ],
   "source": [
    "if 60 in l:\n",
    "    print(\"try to perform a task\")\n",
    "else:\n",
    "    print(\"do not perform this task\")"
   ]
  },
  {
   "cell_type": "code",
   "execution_count": 28,
   "id": "6d405177",
   "metadata": {},
   "outputs": [
    {
     "data": {
      "text/plain": [
       "False"
      ]
     },
     "execution_count": 28,
     "metadata": {},
     "output_type": "execute_result"
    }
   ],
   "source": [
    "60 in l"
   ]
  },
  {
   "cell_type": "code",
   "execution_count": 29,
   "id": "f01bec21",
   "metadata": {},
   "outputs": [
    {
     "data": {
      "text/plain": [
       "[1, 2, 3, 4, 5, 6]"
      ]
     },
     "execution_count": 29,
     "metadata": {},
     "output_type": "execute_result"
    }
   ],
   "source": [
    "l"
   ]
  },
  {
   "cell_type": "code",
   "execution_count": 30,
   "id": "60d8dc14",
   "metadata": {},
   "outputs": [
    {
     "name": "stdout",
     "output_type": "stream",
     "text": [
      "thy do addition\n"
     ]
    }
   ],
   "source": [
    "if 1 in l:\n",
    "    print(\"thy do addition\")\n",
    "elif 2 in l:\n",
    "    print(\"thy do subtraction\")\n",
    "elif 3 in l:\n",
    "    print(\"thy do mulit\")"
   ]
  },
  {
   "cell_type": "code",
   "execution_count": 31,
   "id": "56f56c63",
   "metadata": {},
   "outputs": [],
   "source": [
    "## if first condition is true it will execute,\n",
    "##it will not go to other condition \n",
    "#and it will come out of the statment."
   ]
  },
  {
   "cell_type": "code",
   "execution_count": 32,
   "id": "738d0294",
   "metadata": {},
   "outputs": [
    {
     "name": "stdout",
     "output_type": "stream",
     "text": [
      "thy do subtraction\n",
      "this is new stat\n"
     ]
    }
   ],
   "source": [
    "if 10 in l:\n",
    "    print(\"thy do addition\")\n",
    "elif 2 in l:\n",
    "    print(\"thy do subtraction\")\n",
    "elif 3 in l:\n",
    "    print(\"thy do mulit\")\n",
    "if 4 in l:\n",
    "    print(\"this is new stat\")"
   ]
  },
  {
   "cell_type": "code",
   "execution_count": 33,
   "id": "2072ff21",
   "metadata": {},
   "outputs": [],
   "source": [
    "a= 400"
   ]
  },
  {
   "cell_type": "code",
   "execution_count": 34,
   "id": "4b23ccb2",
   "metadata": {},
   "outputs": [
    {
     "name": "stdout",
     "output_type": "stream",
     "text": [
      "5\n"
     ]
    }
   ],
   "source": [
    "b  = int(input())\n",
    "\n"
   ]
  },
  {
   "cell_type": "code",
   "execution_count": 35,
   "id": "17a316e5",
   "metadata": {},
   "outputs": [
    {
     "data": {
      "text/plain": [
       "5"
      ]
     },
     "execution_count": 35,
     "metadata": {},
     "output_type": "execute_result"
    }
   ],
   "source": [
    "b"
   ]
  },
  {
   "cell_type": "code",
   "execution_count": 36,
   "id": "562f1220",
   "metadata": {},
   "outputs": [
    {
     "data": {
      "text/plain": [
       "int"
      ]
     },
     "execution_count": 36,
     "metadata": {},
     "output_type": "execute_result"
    }
   ],
   "source": [
    "type(b)"
   ]
  },
  {
   "cell_type": "code",
   "execution_count": 37,
   "id": "ae1d9004",
   "metadata": {},
   "outputs": [
    {
     "name": "stdout",
     "output_type": "stream",
     "text": [
      "300\n",
      "i will be able buy something\n",
      "i will able buy a jacket\n"
     ]
    }
   ],
   "source": [
    "price = int(input())\n",
    "if price < 500:\n",
    "    print(\"i will be able buy something\")\n",
    "    if price < 400:\n",
    "        print(\"i will able buy a jacket\")\n",
    "    elif price < 300:\n",
    "        print(\" i will be able to buy a shirt\")\n",
    "        if price<200:\n",
    "            print(\"i would like to do something\")\n",
    "    else:\n",
    "        print(\"i wont be able to buy anything\")\n",
    "else:\n",
    "    print('i wont be able to buy anything with this price tag')\n",
    "    if price >500:\n",
    "        print(\"lets try something else\")\n"
   ]
  },
  {
   "cell_type": "code",
   "execution_count": 38,
   "id": "170d151b",
   "metadata": {},
   "outputs": [
    {
     "name": "stdout",
     "output_type": "stream",
     "text": [
      "200\n",
      "no gre\n",
      "tofeel\n",
      "try something else\n"
     ]
    }
   ],
   "source": [
    "marks = int(input())\n",
    "if marks <600:\n",
    "    print(\"no gre\")\n",
    "    if marks<500:\n",
    "        print(\"tofeel\")\n",
    "    if marks<400:\n",
    "        print(\"try something else\")\n",
    "    else:\n",
    "        print(\"you got tofeel\")\n",
    "else:\n",
    "    print(\"you got gre congratulations\")"
   ]
  },
  {
   "cell_type": "code",
   "execution_count": 39,
   "id": "17b16954",
   "metadata": {},
   "outputs": [
    {
     "name": "stdout",
     "output_type": "stream",
     "text": [
      "enter a floating number600\n",
      "enter value is a postive number\n"
     ]
    }
   ],
   "source": [
    "val = float(input(\"enter a floating number\"))\n",
    "if val >=0:\n",
    "    if val ==0:\n",
    "        print(\"entered value is zero\")\n",
    "    else:\n",
    "        print(\"enter value is a postive number\")\n",
    "else:\n",
    "    print(\"enter number is negative number\")\n",
    "    "
   ]
  },
  {
   "cell_type": "markdown",
   "id": "038a55bd",
   "metadata": {},
   "source": [
    "### mulitiple conditions"
   ]
  },
  {
   "cell_type": "code",
   "execution_count": null,
   "id": "7924d991",
   "metadata": {},
   "outputs": [],
   "source": [
    "a = 10\n",
    "if a<10 and a==10:\n",
    "    print(\"try to do something\")"
   ]
  },
  {
   "cell_type": "code",
   "execution_count": null,
   "id": "10da6e05",
   "metadata": {},
   "outputs": [],
   "source": [
    "#or \n",
    "0 0 -->0\n",
    "0 1---->1\n",
    "1 0---->1\n",
    "1 1----->1"
   ]
  },
  {
   "cell_type": "code",
   "execution_count": null,
   "id": "a24e0ce9",
   "metadata": {},
   "outputs": [],
   "source": [
    "#and\n",
    "0 0 -->0\n",
    "0 1--->0\n",
    "1 0--->0\n",
    "1 1--->1"
   ]
  },
  {
   "cell_type": "code",
   "execution_count": 40,
   "id": "af0f489b",
   "metadata": {},
   "outputs": [
    {
     "name": "stdout",
     "output_type": "stream",
     "text": [
      "this is sudh\n"
     ]
    }
   ],
   "source": [
    "a =\"sudh\"\n",
    "if a == \"sudh\" and a==\"sudh\":\n",
    "    print(\"this is sudh\")\n"
   ]
  },
  {
   "cell_type": "code",
   "execution_count": 41,
   "id": "3ea4030c",
   "metadata": {},
   "outputs": [
    {
     "name": "stdout",
     "output_type": "stream",
     "text": [
      "this is sudh\n"
     ]
    }
   ],
   "source": [
    "a =\"sudh\"\n",
    "if a == \"sudh\" or a==\"sudh\":\n",
    "    print(\"this is sudh\")\n"
   ]
  },
  {
   "cell_type": "code",
   "execution_count": 42,
   "id": "c6b13acf",
   "metadata": {},
   "outputs": [],
   "source": [
    "a=10\n",
    "b=11\n",
    "c=12\n",
    "d=13\n",
    "if a ==9 and b==11 and c==12 and d==13:\n",
    "    print(\"lets do something \")"
   ]
  },
  {
   "cell_type": "code",
   "execution_count": 43,
   "id": "b9acda55",
   "metadata": {},
   "outputs": [
    {
     "name": "stdout",
     "output_type": "stream",
     "text": [
      "lets do something \n"
     ]
    }
   ],
   "source": [
    "a=10\n",
    "b=11\n",
    "c=12\n",
    "d=13\n",
    "if a ==9 or b==11 and c==12 and d==13:\n",
    "    print(\"lets do something \")"
   ]
  },
  {
   "cell_type": "code",
   "execution_count": 44,
   "id": "34a33f90",
   "metadata": {},
   "outputs": [],
   "source": [
    "d = {'key1':\"value\",\"key2\":\"sudh\",\"key3\":\"ineuron\"}\n",
    "\n",
    "    "
   ]
  },
  {
   "cell_type": "code",
   "execution_count": 45,
   "id": "420d5a44",
   "metadata": {},
   "outputs": [
    {
     "name": "stdout",
     "output_type": "stream",
     "text": [
      "all the values are not verified\n"
     ]
    }
   ],
   "source": [
    "if d['key1']==\"value\" and d[\"key2\"]==\"Sudh\" and d[\"key3\"]==\"ineuron\":\n",
    "    print(\"all the values are verified\")\n",
    "    print(d.values())\n",
    "else:\n",
    "    print(\"all the values are not verified\")"
   ]
  },
  {
   "cell_type": "code",
   "execution_count": 46,
   "id": "1a4cae85",
   "metadata": {},
   "outputs": [
    {
     "data": {
      "text/plain": [
       "'value'"
      ]
     },
     "execution_count": 46,
     "metadata": {},
     "output_type": "execute_result"
    }
   ],
   "source": [
    "\n",
    "d[\"key1\"]"
   ]
  },
  {
   "cell_type": "code",
   "execution_count": 47,
   "id": "916c6603",
   "metadata": {},
   "outputs": [],
   "source": [
    "l=[1,2,3,4,5,\"sudh\",234.45]\n"
   ]
  },
  {
   "cell_type": "code",
   "execution_count": 48,
   "id": "f168a970",
   "metadata": {},
   "outputs": [
    {
     "data": {
      "text/plain": [
       "1"
      ]
     },
     "execution_count": 48,
     "metadata": {},
     "output_type": "execute_result"
    }
   ],
   "source": [
    "l[0]"
   ]
  },
  {
   "cell_type": "code",
   "execution_count": 49,
   "id": "e8de9366",
   "metadata": {},
   "outputs": [
    {
     "data": {
      "text/plain": [
       "[3, 4, 5]"
      ]
     },
     "execution_count": 49,
     "metadata": {},
     "output_type": "execute_result"
    }
   ],
   "source": [
    "l[2:5]"
   ]
  },
  {
   "cell_type": "code",
   "execution_count": 50,
   "id": "c9c288b3",
   "metadata": {},
   "outputs": [
    {
     "name": "stdout",
     "output_type": "stream",
     "text": [
      "2\n",
      "3\n",
      "4\n",
      "5\n",
      "6\n",
      "sudh1\n",
      "235.45\n"
     ]
    }
   ],
   "source": [
    "for i in l:\n",
    "    if type(i)==int or type(i)==float:\n",
    "        print(i+1)\n",
    "    elif type(i)==str:\n",
    "        print(i +str(1))\n",
    "    else:\n",
    "        print(\"error\")\n",
    "    "
   ]
  },
  {
   "cell_type": "code",
   "execution_count": 51,
   "id": "2d21ee16",
   "metadata": {},
   "outputs": [
    {
     "name": "stdout",
     "output_type": "stream",
     "text": [
      "2\n",
      "3\n",
      "4\n",
      "5\n",
      "6\n"
     ]
    },
    {
     "ename": "TypeError",
     "evalue": "can only concatenate str (not \"int\") to str",
     "output_type": "error",
     "traceback": [
      "\u001b[1;31m---------------------------------------------------------------------------\u001b[0m",
      "\u001b[1;31mTypeError\u001b[0m                                 Traceback (most recent call last)",
      "\u001b[1;32m~\\AppData\\Local\\Temp/ipykernel_8632/949430040.py\u001b[0m in \u001b[0;36m<module>\u001b[1;34m\u001b[0m\n\u001b[0;32m      1\u001b[0m \u001b[1;32mfor\u001b[0m \u001b[0mi\u001b[0m \u001b[1;32min\u001b[0m \u001b[0ml\u001b[0m\u001b[1;33m:\u001b[0m\u001b[1;33m\u001b[0m\u001b[1;33m\u001b[0m\u001b[0m\n\u001b[1;32m----> 2\u001b[1;33m     \u001b[0mprint\u001b[0m\u001b[1;33m(\u001b[0m\u001b[0mi\u001b[0m\u001b[1;33m+\u001b[0m\u001b[1;36m1\u001b[0m\u001b[1;33m)\u001b[0m\u001b[1;33m\u001b[0m\u001b[1;33m\u001b[0m\u001b[0m\n\u001b[0m",
      "\u001b[1;31mTypeError\u001b[0m: can only concatenate str (not \"int\") to str"
     ]
    }
   ],
   "source": [
    "for i in l:\n",
    "    print(i+1)"
   ]
  },
  {
   "cell_type": "code",
   "execution_count": 52,
   "id": "ae2ebd72",
   "metadata": {},
   "outputs": [
    {
     "name": "stdout",
     "output_type": "stream",
     "text": [
      "9\n",
      "8\n",
      "7\n",
      "6\n",
      "5\n",
      "4\n",
      "3\n",
      "2\n",
      "10\n"
     ]
    }
   ],
   "source": [
    "a=[9,8,7,6,5,4,3,2,10]\n",
    "for i in a:\n",
    "    print(i)"
   ]
  },
  {
   "cell_type": "code",
   "execution_count": 53,
   "id": "61fabe9d",
   "metadata": {},
   "outputs": [
    {
     "data": {
      "text/plain": [
       "[1, 2, 3, 4, 5, 'sudh', 234.45]"
      ]
     },
     "execution_count": 53,
     "metadata": {},
     "output_type": "execute_result"
    }
   ],
   "source": [
    "l "
   ]
  },
  {
   "cell_type": "code",
   "execution_count": 57,
   "id": "50afb88a",
   "metadata": {},
   "outputs": [],
   "source": [
    "l1=[]\n",
    "for i in l:\n",
    "    if type(i)==int:\n",
    "        l1.append(i)\n",
    "        "
   ]
  },
  {
   "cell_type": "code",
   "execution_count": 58,
   "id": "312c77d1",
   "metadata": {},
   "outputs": [
    {
     "data": {
      "text/plain": [
       "[1, 2, 3, 4, 5]"
      ]
     },
     "execution_count": 58,
     "metadata": {},
     "output_type": "execute_result"
    }
   ],
   "source": [
    "l1"
   ]
  },
  {
   "cell_type": "code",
   "execution_count": 59,
   "id": "9bc1aa17",
   "metadata": {},
   "outputs": [
    {
     "name": "stdout",
     "output_type": "stream",
     "text": [
      "2\n",
      "3\n",
      "4\n",
      "5\n",
      "6\n",
      "sudh1\n",
      "235.45\n"
     ]
    }
   ],
   "source": [
    "for i in l:\n",
    "    if type(i)==int:\n",
    "        print(i+1)\n",
    "    elif type(i)==str:\n",
    "        print(i +str(1))\n",
    "    elif type(i)==float:\n",
    "        print(i+1)\n",
    "    else:\n",
    "        print(\"error\")\n",
    "    "
   ]
  },
  {
   "cell_type": "code",
   "execution_count": 60,
   "id": "99c293ca",
   "metadata": {},
   "outputs": [
    {
     "data": {
      "text/plain": [
       "[1, 2, 3, 4, 5, 'sudh', 234.45]"
      ]
     },
     "execution_count": 60,
     "metadata": {},
     "output_type": "execute_result"
    }
   ],
   "source": [
    "l"
   ]
  },
  {
   "cell_type": "code",
   "execution_count": 61,
   "id": "a86de7cd",
   "metadata": {},
   "outputs": [
    {
     "data": {
      "text/plain": [
       "'1'"
      ]
     },
     "execution_count": 61,
     "metadata": {},
     "output_type": "execute_result"
    }
   ],
   "source": [
    "str(1)"
   ]
  },
  {
   "cell_type": "code",
   "execution_count": 62,
   "id": "74915a05",
   "metadata": {},
   "outputs": [
    {
     "name": "stdout",
     "output_type": "stream",
     "text": [
      "sudh\n"
     ]
    }
   ],
   "source": [
    "for i in l:\n",
    "    if type(i)==str:\n",
    "        print(i)"
   ]
  },
  {
   "cell_type": "code",
   "execution_count": 63,
   "id": "7ed0c603",
   "metadata": {},
   "outputs": [
    {
     "name": "stdout",
     "output_type": "stream",
     "text": [
      "1\n",
      "2\n",
      "3\n",
      "4\n",
      "5\n",
      "5\n",
      "6\n",
      "7\n"
     ]
    }
   ],
   "source": [
    "l=[1,2,3,4,5,\"car\",5,6,7]\n",
    "for i in l:\n",
    "    if type(i)==int:\n",
    "        print(i)"
   ]
  },
  {
   "cell_type": "code",
   "execution_count": 64,
   "id": "da7aa0a3",
   "metadata": {},
   "outputs": [
    {
     "name": "stdout",
     "output_type": "stream",
     "text": [
      "sudh\n"
     ]
    }
   ],
   "source": [
    "l=[1,2,3,4,4546,56,\"sudh\"]\n",
    "for i in l:\n",
    "    if type(i)==str:\n",
    "        #if i == \"d\":\n",
    "            #break\n",
    "        print(i)"
   ]
  },
  {
   "cell_type": "code",
   "execution_count": 65,
   "id": "3a6041b1",
   "metadata": {},
   "outputs": [
    {
     "name": "stdout",
     "output_type": "stream",
     "text": [
      "2\n",
      "3\n",
      "4\n",
      "5\n",
      "ck1\n",
      "2021.12\n"
     ]
    }
   ],
   "source": [
    "a=[1,2,3,4,\"ck\",2020.12]\n",
    "for i in a:\n",
    "    if type(i)==int:\n",
    "        print(i+1)\n",
    "    elif type(i)==str:\n",
    "        print(i+str(1))\n",
    "    elif type(i)==float:\n",
    "        print(i+float(1))"
   ]
  },
  {
   "cell_type": "code",
   "execution_count": 66,
   "id": "dfe8d6ff",
   "metadata": {},
   "outputs": [
    {
     "data": {
      "text/plain": [
       "[1, 2, 3, 4, 4546, 56, 'sudh']"
      ]
     },
     "execution_count": 66,
     "metadata": {},
     "output_type": "execute_result"
    }
   ],
   "source": [
    "l"
   ]
  },
  {
   "cell_type": "code",
   "execution_count": 81,
   "id": "30beb461",
   "metadata": {},
   "outputs": [
    {
     "name": "stdout",
     "output_type": "stream",
     "text": [
      "[1]\n",
      "[1, 2]\n",
      "[1, 2, 3]\n",
      "[1, 2, 3, 4]\n",
      "[1, 2, 3, 4, 4546]\n",
      "[1, 2, 3, 4, 4546, 56]\n",
      "[1, 2, 3, 4, 4546, 56]\n"
     ]
    }
   ],
   "source": [
    "l1=[]\n",
    "for i in l:\n",
    "    if type(i)==int:\n",
    "        l1 = l1+[i]\n",
    "    print(l1)"
   ]
  },
  {
   "cell_type": "code",
   "execution_count": 77,
   "id": "1c995483",
   "metadata": {},
   "outputs": [
    {
     "data": {
      "text/plain": [
       "[1, 2, 3, 4, 4546, 56]"
      ]
     },
     "execution_count": 77,
     "metadata": {},
     "output_type": "execute_result"
    }
   ],
   "source": [
    "l1"
   ]
  },
  {
   "cell_type": "code",
   "execution_count": null,
   "id": "927b05ee",
   "metadata": {},
   "outputs": [],
   "source": []
  },
  {
   "cell_type": "code",
   "execution_count": null,
   "id": "2ab8b644",
   "metadata": {
    "scrolled": true
   },
   "outputs": [],
   "source": []
  },
  {
   "cell_type": "code",
   "execution_count": null,
   "id": "f960e618",
   "metadata": {},
   "outputs": [],
   "source": []
  },
  {
   "cell_type": "code",
   "execution_count": null,
   "id": "a437f6b8",
   "metadata": {},
   "outputs": [],
   "source": []
  }
 ],
 "metadata": {
  "kernelspec": {
   "display_name": "Python 3 (ipykernel)",
   "language": "python",
   "name": "python3"
  },
  "language_info": {
   "codemirror_mode": {
    "name": "ipython",
    "version": 3
   },
   "file_extension": ".py",
   "mimetype": "text/x-python",
   "name": "python",
   "nbconvert_exporter": "python",
   "pygments_lexer": "ipython3",
   "version": "3.9.7"
  }
 },
 "nbformat": 4,
 "nbformat_minor": 5
}
