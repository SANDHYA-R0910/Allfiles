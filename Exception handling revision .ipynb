{
 "cells": [
  {
   "cell_type": "code",
   "execution_count": 2,
   "id": "8e3ca571",
   "metadata": {},
   "outputs": [
    {
     "ename": "ZeroDivisionError",
     "evalue": "division by zero",
     "output_type": "error",
     "traceback": [
      "\u001b[1;31m---------------------------------------------------------------------------\u001b[0m",
      "\u001b[1;31mZeroDivisionError\u001b[0m                         Traceback (most recent call last)",
      "\u001b[1;32m~\\AppData\\Local\\Temp/ipykernel_5600/358941512.py\u001b[0m in \u001b[0;36m<module>\u001b[1;34m\u001b[0m\n\u001b[0;32m      1\u001b[0m \u001b[0ma\u001b[0m\u001b[1;33m=\u001b[0m\u001b[1;36m10\u001b[0m\u001b[1;33m\u001b[0m\u001b[1;33m\u001b[0m\u001b[0m\n\u001b[1;32m----> 2\u001b[1;33m \u001b[0ma\u001b[0m\u001b[1;33m/\u001b[0m\u001b[1;36m0\u001b[0m\u001b[1;33m\u001b[0m\u001b[1;33m\u001b[0m\u001b[0m\n\u001b[0m",
      "\u001b[1;31mZeroDivisionError\u001b[0m: division by zero"
     ]
    }
   ],
   "source": [
    "a=10\n",
    "a/0"
   ]
  },
  {
   "cell_type": "code",
   "execution_count": 3,
   "id": "5d44783d",
   "metadata": {},
   "outputs": [
    {
     "ename": "FileNotFoundError",
     "evalue": "[Errno 2] No such file or directory: 'sudh345.txt'",
     "output_type": "error",
     "traceback": [
      "\u001b[1;31m---------------------------------------------------------------------------\u001b[0m",
      "\u001b[1;31mFileNotFoundError\u001b[0m                         Traceback (most recent call last)",
      "\u001b[1;32m~\\AppData\\Local\\Temp/ipykernel_5600/1904828384.py\u001b[0m in \u001b[0;36m<module>\u001b[1;34m\u001b[0m\n\u001b[1;32m----> 1\u001b[1;33m \u001b[0mf\u001b[0m\u001b[1;33m=\u001b[0m \u001b[0mopen\u001b[0m\u001b[1;33m(\u001b[0m\u001b[1;34m\"sudh345.txt\"\u001b[0m\u001b[1;33m,\u001b[0m\u001b[1;34m\"r\"\u001b[0m\u001b[1;33m)\u001b[0m\u001b[1;33m\u001b[0m\u001b[1;33m\u001b[0m\u001b[0m\n\u001b[0m\u001b[0;32m      2\u001b[0m \u001b[0mprint\u001b[0m\u001b[1;33m(\u001b[0m\u001b[1;34m\"this is my code to handle an exception\"\u001b[0m\u001b[1;33m)\u001b[0m\u001b[1;33m\u001b[0m\u001b[1;33m\u001b[0m\u001b[0m\n",
      "\u001b[1;31mFileNotFoundError\u001b[0m: [Errno 2] No such file or directory: 'sudh345.txt'"
     ]
    }
   ],
   "source": [
    "f= open(\"sudh345.txt\",\"r\")\n",
    "print(\"this is my code to handle an exception\")"
   ]
  },
  {
   "cell_type": "code",
   "execution_count": 4,
   "id": "02f50676",
   "metadata": {},
   "outputs": [
    {
     "name": "stdout",
     "output_type": "stream",
     "text": [
      "1.0\n"
     ]
    }
   ],
   "source": [
    "try:\n",
    "    a=10\n",
    "    print(a/10)\n",
    "except Exception as e:\n",
    "    print(e)\n",
    "    print(\"this will be my final code after handling an exception\")"
   ]
  },
  {
   "cell_type": "code",
   "execution_count": 5,
   "id": "0e45b089",
   "metadata": {},
   "outputs": [
    {
     "name": "stdout",
     "output_type": "stream",
     "text": [
      "[Errno 2] No such file or directory: 'sudhanshu.txt'\n"
     ]
    }
   ],
   "source": [
    "try:\n",
    "    f = open(\"sudhanshu.txt\",\"r\")\n",
    "except Exception as e:\n",
    "    print(e)"
   ]
  },
  {
   "cell_type": "code",
   "execution_count": 6,
   "id": "abcd846f",
   "metadata": {},
   "outputs": [
    {
     "name": "stdout",
     "output_type": "stream",
     "text": [
      "[Errno 2] No such file or directory: 'sudh.txt'\n",
      "this is not my suspicious code\n"
     ]
    }
   ],
   "source": [
    "try:\n",
    "    \n",
    "    f= open(\"sudh.txt\",\"r\")\n",
    "    f.write(\"this is my suspicious code\")\n",
    "except Exception as e:\n",
    "    print(e)\n",
    "    print(\"this is not my suspicious code\")"
   ]
  },
  {
   "cell_type": "code",
   "execution_count": 7,
   "id": "605787dc",
   "metadata": {},
   "outputs": [
    {
     "name": "stdout",
     "output_type": "stream",
     "text": [
      "[Errno 2] No such file or directory: 'sudh.txt'\n",
      "this is not my suspicious code\n",
      "this block will be executed anytime\n"
     ]
    }
   ],
   "source": [
    "try:\n",
    "    \n",
    "    f= open(\"sudh.txt\",\"r\")\n",
    "    f.write(\"this is my suspicious code\")\n",
    "except Exception as e:\n",
    "    print(e)\n",
    "    print(\"this is not my suspicious code\")\n",
    "finally:\n",
    "    print(\"this block will be executed anytime\")"
   ]
  },
  {
   "cell_type": "code",
   "execution_count": 23,
   "id": "cbd3f096",
   "metadata": {},
   "outputs": [],
   "source": [
    "def askint():\n",
    "    try:\n",
    "        val=int(input(\"enter interger number\"))\n",
    "    except Exception as e:\n",
    "        print(\"you havenot entered an integer\")\n",
    "        try:\n",
    "            val = int(input(\"enter integer num\"))\n",
    "        except:\n",
    "            print(\"we are able to handle your mistake second time\")\n",
    "        finally:\n",
    "            print(\"finally will excute anyhow\")"
   ]
  },
  {
   "cell_type": "code",
   "execution_count": 24,
   "id": "fe095191",
   "metadata": {},
   "outputs": [
    {
     "name": "stdout",
     "output_type": "stream",
     "text": [
      "enter interger number20\n"
     ]
    }
   ],
   "source": [
    "askint()"
   ]
  },
  {
   "cell_type": "code",
   "execution_count": 18,
   "id": "b589bd2b",
   "metadata": {},
   "outputs": [],
   "source": [
    "def askint1():\n",
    "    while True:\n",
    "        try:\n",
    "            val =int(input(\"enter interger num\"))\n",
    "            break\n",
    "        except: \n",
    "            print(\"looks like you have not entered an integer\")\n",
    "            continue\n",
    "            \n",
    "        "
   ]
  },
  {
   "cell_type": "code",
   "execution_count": 19,
   "id": "a84ec704",
   "metadata": {},
   "outputs": [
    {
     "name": "stdout",
     "output_type": "stream",
     "text": [
      "enter interger num10\n"
     ]
    }
   ],
   "source": [
    "askint1()"
   ]
  },
  {
   "cell_type": "code",
   "execution_count": null,
   "id": "ef27066b",
   "metadata": {},
   "outputs": [],
   "source": [
    "x=[\"mohan\"]\n"
   ]
  },
  {
   "cell_type": "code",
   "execution_count": null,
   "id": "5c1a66f8",
   "metadata": {},
   "outputs": [],
   "source": [
    "print(x)"
   ]
  },
  {
   "cell_type": "code",
   "execution_count": null,
   "id": "7390ea6f",
   "metadata": {},
   "outputs": [],
   "source": [
    "type(x)"
   ]
  },
  {
   "cell_type": "code",
   "execution_count": null,
   "id": "ab14d90d",
   "metadata": {},
   "outputs": [],
   "source": [
    "b=tuple(x)"
   ]
  },
  {
   "cell_type": "code",
   "execution_count": null,
   "id": "8e66a633",
   "metadata": {},
   "outputs": [],
   "source": [
    "b"
   ]
  },
  {
   "cell_type": "code",
   "execution_count": null,
   "id": "76b90f55",
   "metadata": {},
   "outputs": [],
   "source": [
    "type(b)"
   ]
  },
  {
   "cell_type": "code",
   "execution_count": null,
   "id": "ef95c840",
   "metadata": {},
   "outputs": [],
   "source": [
    "print(type(x))"
   ]
  },
  {
   "cell_type": "code",
   "execution_count": null,
   "id": "8ba257c4",
   "metadata": {},
   "outputs": [],
   "source": [
    "a=(\"mango\")"
   ]
  },
  {
   "cell_type": "code",
   "execution_count": null,
   "id": "2d76b7fa",
   "metadata": {},
   "outputs": [],
   "source": [
    "print(type(a))"
   ]
  },
  {
   "cell_type": "code",
   "execution_count": null,
   "id": "49693693",
   "metadata": {},
   "outputs": [],
   "source": [
    "b=(\"mango\",)"
   ]
  },
  {
   "cell_type": "code",
   "execution_count": null,
   "id": "095b7c01",
   "metadata": {},
   "outputs": [],
   "source": [
    "print(type(b))"
   ]
  },
  {
   "cell_type": "code",
   "execution_count": null,
   "id": "d1f8109d",
   "metadata": {},
   "outputs": [],
   "source": [
    "x = ['cccc']\n",
    "y=tuple(x)\n",
    "m=str(y)\n"
   ]
  },
  {
   "cell_type": "code",
   "execution_count": null,
   "id": "bdc42e0e",
   "metadata": {},
   "outputs": [],
   "source": [
    "print(type(m))"
   ]
  },
  {
   "cell_type": "code",
   "execution_count": null,
   "id": "0baa3bee",
   "metadata": {},
   "outputs": [],
   "source": [
    "print(m)"
   ]
  },
  {
   "cell_type": "code",
   "execution_count": null,
   "id": "6f2d4be3",
   "metadata": {},
   "outputs": [],
   "source": [
    "import re\n",
    "\n",
    "txt = [\"Spain\"]\n",
    "txts = tuple(txt)\n",
    "x = re.findall(\"ai\", txts)\n",
    "print(x)"
   ]
  },
  {
   "cell_type": "code",
   "execution_count": null,
   "id": "61386ac7",
   "metadata": {},
   "outputs": [],
   "source": [
    "\n",
    "thistuple = tuple((\"apple\")) \n",
    "print(thistuple)"
   ]
  },
  {
   "cell_type": "code",
   "execution_count": 21,
   "id": "db78d214",
   "metadata": {},
   "outputs": [
    {
     "name": "stdout",
     "output_type": "stream",
     "text": [
      "('list')\n"
     ]
    }
   ],
   "source": [
    "arr =['list']\n",
    "s = str(arr).replace('[','(')\n",
    "s = s.replace(']', ')')\n",
    "\n",
    "print(s)"
   ]
  },
  {
   "cell_type": "code",
   "execution_count": null,
   "id": "db2d294d",
   "metadata": {},
   "outputs": [],
   "source": []
  },
  {
   "cell_type": "code",
   "execution_count": null,
   "id": "e17ab862",
   "metadata": {},
   "outputs": [],
   "source": []
  }
 ],
 "metadata": {
  "kernelspec": {
   "display_name": "Python 3 (ipykernel)",
   "language": "python",
   "name": "python3"
  },
  "language_info": {
   "codemirror_mode": {
    "name": "ipython",
    "version": 3
   },
   "file_extension": ".py",
   "mimetype": "text/x-python",
   "name": "python",
   "nbconvert_exporter": "python",
   "pygments_lexer": "ipython3",
   "version": "3.9.7"
  }
 },
 "nbformat": 4,
 "nbformat_minor": 5
}
