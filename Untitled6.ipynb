{
 "cells": [
  {
   "cell_type": "code",
   "execution_count": 1,
   "id": "e6553be0",
   "metadata": {},
   "outputs": [
    {
     "name": "stdout",
     "output_type": "stream",
     "text": [
      "['dog', 'cat', 'fish']\n"
     ]
    }
   ],
   "source": [
    "animals = ['dog','cat','fish']\n",
    "print(str(animals))"
   ]
  },
  {
   "cell_type": "code",
   "execution_count": 66,
   "id": "ed25a25c",
   "metadata": {},
   "outputs": [
    {
     "name": "stdout",
     "output_type": "stream",
     "text": [
      "['dog', 'cat', 'fish']\n"
     ]
    }
   ],
   "source": [
    "print(animals)"
   ]
  },
  {
   "cell_type": "code",
   "execution_count": 67,
   "id": "5bc3f1d7",
   "metadata": {},
   "outputs": [
    {
     "data": {
      "text/plain": [
       "list"
      ]
     },
     "execution_count": 67,
     "metadata": {},
     "output_type": "execute_result"
    }
   ],
   "source": [
    "type(animals)"
   ]
  },
  {
   "cell_type": "code",
   "execution_count": null,
   "id": "bd636bde",
   "metadata": {},
   "outputs": [],
   "source": []
  },
  {
   "cell_type": "code",
   "execution_count": 35,
   "id": "f85ef8b6",
   "metadata": {},
   "outputs": [
    {
     "name": "stdout",
     "output_type": "stream",
     "text": [
      "[\"dog\", \"cat\", \"fish\"]\n"
     ]
    }
   ],
   "source": [
    "import json\n",
    "print(json.dumps(animals))"
   ]
  },
  {
   "cell_type": "code",
   "execution_count": 10,
   "id": "522bed5b",
   "metadata": {},
   "outputs": [],
   "source": [
    "values=['dog','cat','fish']"
   ]
  },
  {
   "cell_type": "code",
   "execution_count": 47,
   "id": "0acc3bd5",
   "metadata": {},
   "outputs": [],
   "source": [
    "row1 = []\n",
    "for x in values:\n",
    "  if x == '':\n",
    "    row1.append(\"\")\n",
    "  else:\n",
    "    row1.append(x)"
   ]
  },
  {
   "cell_type": "code",
   "execution_count": 48,
   "id": "4d0051b8",
   "metadata": {},
   "outputs": [
    {
     "name": "stdout",
     "output_type": "stream",
     "text": [
      "['dog', 'cat', 'fish']\n"
     ]
    }
   ],
   "source": [
    "print(row1)"
   ]
  },
  {
   "cell_type": "code",
   "execution_count": 49,
   "id": "108be254",
   "metadata": {},
   "outputs": [],
   "source": [
    "strSource = \"'E:\\PDF\\A Functional Genetic Approach ... Cancer.pdf'\""
   ]
  },
  {
   "cell_type": "code",
   "execution_count": 50,
   "id": "5282fa1b",
   "metadata": {},
   "outputs": [
    {
     "name": "stdout",
     "output_type": "stream",
     "text": [
      "'E:\\PDF\\A Functional Genetic Approach ... Cancer.pdf'\n"
     ]
    }
   ],
   "source": [
    " print(strSource)"
   ]
  },
  {
   "cell_type": "code",
   "execution_count": 59,
   "id": "211f261e",
   "metadata": {},
   "outputs": [],
   "source": [
    "strSource = strSource.replace(\"'\",'\"')"
   ]
  },
  {
   "cell_type": "code",
   "execution_count": 60,
   "id": "07e534df",
   "metadata": {},
   "outputs": [
    {
     "name": "stdout",
     "output_type": "stream",
     "text": [
      "\"E:\\PDF\\A Functional Genetic Approach ... Cancer.pdf\"\n"
     ]
    }
   ],
   "source": [
    "print(strSource)"
   ]
  },
  {
   "cell_type": "code",
   "execution_count": 64,
   "id": "fd4c8c5f",
   "metadata": {},
   "outputs": [],
   "source": [
    "import json"
   ]
  },
  {
   "cell_type": "code",
   "execution_count": 65,
   "id": "cfe13a2a",
   "metadata": {},
   "outputs": [
    {
     "name": "stdout",
     "output_type": "stream",
     "text": [
      "\"\\\"E:\\\\PDF\\\\A Functional Genetic Approach ... Cancer.pdf\\\"\"\n"
     ]
    }
   ],
   "source": [
    "print(json.dumps(strSource))"
   ]
  },
  {
   "cell_type": "code",
   "execution_count": null,
   "id": "808db1ec",
   "metadata": {},
   "outputs": [],
   "source": []
  }
 ],
 "metadata": {
  "kernelspec": {
   "display_name": "Python 3 (ipykernel)",
   "language": "python",
   "name": "python3"
  },
  "language_info": {
   "codemirror_mode": {
    "name": "ipython",
    "version": 3
   },
   "file_extension": ".py",
   "mimetype": "text/x-python",
   "name": "python",
   "nbconvert_exporter": "python",
   "pygments_lexer": "ipython3",
   "version": "3.9.7"
  }
 },
 "nbformat": 4,
 "nbformat_minor": 5
}
