{
 "cells": [
  {
   "cell_type": "code",
   "execution_count": 160,
   "id": "c4cec31a",
   "metadata": {},
   "outputs": [
    {
     "ename": "IndentationError",
     "evalue": "unindent does not match any outer indentation level (<tokenize>, line 50)",
     "output_type": "error",
     "traceback": [
      "\u001b[1;36m  File \u001b[1;32m<tokenize>:50\u001b[1;36m\u001b[0m\n\u001b[1;33m    def __lt__(self,other):\u001b[0m\n\u001b[1;37m    ^\u001b[0m\n\u001b[1;31mIndentationError\u001b[0m\u001b[1;31m:\u001b[0m unindent does not match any outer indentation level\n"
     ]
    }
   ],
   "source": [
    "class Fraction_main():\n",
    "    def __init__(self,num,den):\n",
    "        self.numerator =  num\n",
    "        self.denomenator = den\n",
    "        print(\"The fraction is created\")\n",
    "    def __str__(self):\n",
    "#         return \"I am automatically getting called when print is called\"\n",
    "          return f\"{self.numerator}/{ self.denomenator}\"\n",
    "        \n",
    "    def __add__(self,other):\n",
    "        new_num = self.numerator * other.denomenator + other.numerator * self.denomenator\n",
    "        new_den = self.denomenator * other.denomenator\n",
    "        return Fraction_main(new_num,new_den).simplify()\n",
    "#         print(self)\n",
    "#         print(other)\n",
    "          #add logic\n",
    "          \n",
    "    def _gcd(self,num,den):\n",
    "        while den:\n",
    "            num,den = den, num%den\n",
    "        return num\n",
    "    def _gcd_2(self,num,den):\n",
    "        gcd = 1\n",
    "        for i in range(2,min(num,den)+1):\n",
    "            if (num%i ==0 and dem%i ==0):\n",
    "                gcd = i\n",
    "        return gcd\n",
    "    def simplify(self):\n",
    "        gcd = self._gcd(self.numerator,self.denomenator)\n",
    "        self.numerator = self.numerator // gcd\n",
    "        self.denomenator =  self.denomenator // gcd\n",
    "        return self\n",
    "    def __sub__(self,other):\n",
    "        new_num = self.numerator * other.denomenator - other.numerator * self.denomenator\n",
    "        new_den = self.denomenator * other.denomenator\n",
    "        return Fraction_main(new_num,new_den).simplify()\n",
    "    \n",
    "    def __mul__(self,other):\n",
    "        new_num = self.numerator * other.numerator \n",
    "        new_den = self.denomenator * other.denomenator\n",
    "        return Fraction_main(new_num,new_den).simplify()\n",
    "    def __truediv__(self,other): # division\n",
    "        new_num = self.numerator *  other.denomenator\n",
    "        new_den = self.denomenator * other.numerator\n",
    "        return Fraction_main(new_num,new_den).simplify()\n",
    "    def __eq__(self,other):\n",
    "        return self.numerator == other.numerator and self.denomenator == other.denomenator\n",
    "    def __gt__(self,other):\n",
    "        return (self.numerator * other.denomenator) > (other.numerator * self.denomenator)\n",
    "     def__lt__(self,other):\n",
    "            return (self.numerator * other.denomenator) < (other.numerator * self.denomenator)\n",
    "        \n",
    "        \n",
    "#     def __lt__(self,other):\n",
    "#         new_num = self.numerator *  other.denomenator\n",
    "#         new_den = self.denomenator * other.numerator\n",
    "#         return Fraction_main(new_num,new_den).simplify()\n",
    "        \n",
    "            \n",
    "#     def __div__(self,other):\n",
    "#         new_num = self.numerator *other.denomenator\n",
    "#         new_den = self.denomenator * other.numerator\n",
    "#         return Fraction_main(new_num,new_den).simplify()\n",
    "        \n",
    "        \n",
    "        \n",
    "        \n",
    "       "
   ]
  },
  {
   "cell_type": "code",
   "execution_count": 161,
   "id": "1e5ffa1e",
   "metadata": {},
   "outputs": [],
   "source": [
    "from fractions import Fraction"
   ]
  },
  {
   "cell_type": "code",
   "execution_count": 162,
   "id": "cdf4ebb1",
   "metadata": {},
   "outputs": [
    {
     "name": "stdout",
     "output_type": "stream",
     "text": [
      "The fraction is created\n"
     ]
    }
   ],
   "source": [
    "f1 = Fraction_main(3,5)"
   ]
  },
  {
   "cell_type": "code",
   "execution_count": 144,
   "id": "9c52ca7a",
   "metadata": {},
   "outputs": [
    {
     "name": "stdout",
     "output_type": "stream",
     "text": [
      "3/5\n"
     ]
    }
   ],
   "source": [
    "print(f1)"
   ]
  },
  {
   "cell_type": "code",
   "execution_count": 145,
   "id": "71081382",
   "metadata": {},
   "outputs": [
    {
     "name": "stdout",
     "output_type": "stream",
     "text": [
      "The fraction is created\n"
     ]
    }
   ],
   "source": [
    "f2 = Fraction_main(1,5)"
   ]
  },
  {
   "cell_type": "code",
   "execution_count": 146,
   "id": "c49eac78",
   "metadata": {},
   "outputs": [
    {
     "name": "stdout",
     "output_type": "stream",
     "text": [
      "1/5\n"
     ]
    }
   ],
   "source": [
    "print(f2)"
   ]
  },
  {
   "cell_type": "code",
   "execution_count": 147,
   "id": "13641e74",
   "metadata": {},
   "outputs": [
    {
     "name": "stdout",
     "output_type": "stream",
     "text": [
      "3/5 1/5\n"
     ]
    }
   ],
   "source": [
    "print(f1,f2)"
   ]
  },
  {
   "cell_type": "code",
   "execution_count": 148,
   "id": "8b633d2a",
   "metadata": {},
   "outputs": [
    {
     "name": "stdout",
     "output_type": "stream",
     "text": [
      "The fraction is created\n",
      "4/5\n"
     ]
    }
   ],
   "source": [
    "print(f1+f2)"
   ]
  },
  {
   "cell_type": "code",
   "execution_count": 149,
   "id": "12a865ff",
   "metadata": {},
   "outputs": [
    {
     "name": "stdout",
     "output_type": "stream",
     "text": [
      "The fraction is created\n",
      "2/5\n"
     ]
    }
   ],
   "source": [
    "print(f1-f2)"
   ]
  },
  {
   "cell_type": "code",
   "execution_count": 150,
   "id": "89255431",
   "metadata": {},
   "outputs": [
    {
     "name": "stdout",
     "output_type": "stream",
     "text": [
      "The fraction is created\n",
      "3/25\n"
     ]
    }
   ],
   "source": [
    "print(f1*f2)"
   ]
  },
  {
   "cell_type": "code",
   "execution_count": 151,
   "id": "1d3e624b",
   "metadata": {},
   "outputs": [
    {
     "name": "stdout",
     "output_type": "stream",
     "text": [
      "The fraction is created\n",
      "3/1\n"
     ]
    }
   ],
   "source": [
    "print(f1/f2)"
   ]
  },
  {
   "cell_type": "code",
   "execution_count": 152,
   "id": "65c408da",
   "metadata": {},
   "outputs": [
    {
     "name": "stdout",
     "output_type": "stream",
     "text": [
      "The fraction is created\n",
      "The fraction is created\n"
     ]
    }
   ],
   "source": [
    "f1 = Fraction_main(1,5)\n",
    "f2 = Fraction_main(1,5)"
   ]
  },
  {
   "cell_type": "code",
   "execution_count": 153,
   "id": "cb458173",
   "metadata": {},
   "outputs": [
    {
     "data": {
      "text/plain": [
       "True"
      ]
     },
     "execution_count": 153,
     "metadata": {},
     "output_type": "execute_result"
    }
   ],
   "source": [
    "f1 == f2"
   ]
  },
  {
   "cell_type": "code",
   "execution_count": 154,
   "id": "b86753dc",
   "metadata": {},
   "outputs": [
    {
     "name": "stdout",
     "output_type": "stream",
     "text": [
      "The fraction is created\n",
      "The fraction is created\n"
     ]
    }
   ],
   "source": [
    "f1 = Fraction_main(3,5)\n",
    "f2 = Fraction_main(1,5)"
   ]
  },
  {
   "cell_type": "code",
   "execution_count": 155,
   "id": "8109976d",
   "metadata": {},
   "outputs": [
    {
     "name": "stdout",
     "output_type": "stream",
     "text": [
      "True\n"
     ]
    }
   ],
   "source": [
    "print(f1>f2)"
   ]
  },
  {
   "cell_type": "code",
   "execution_count": null,
   "id": "2bf89ce0",
   "metadata": {},
   "outputs": [],
   "source": []
  },
  {
   "cell_type": "code",
   "execution_count": null,
   "id": "39611615",
   "metadata": {},
   "outputs": [],
   "source": []
  }
 ],
 "metadata": {
  "kernelspec": {
   "display_name": "Python 3 (ipykernel)",
   "language": "python",
   "name": "python3"
  },
  "language_info": {
   "codemirror_mode": {
    "name": "ipython",
    "version": 3
   },
   "file_extension": ".py",
   "mimetype": "text/x-python",
   "name": "python",
   "nbconvert_exporter": "python",
   "pygments_lexer": "ipython3",
   "version": "3.11.5"
  }
 },
 "nbformat": 4,
 "nbformat_minor": 5
}
