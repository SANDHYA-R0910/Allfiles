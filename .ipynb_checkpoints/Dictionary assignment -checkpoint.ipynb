{
 "cells": [
  {
   "cell_type": "code",
   "execution_count": 1,
   "id": "e5107506",
   "metadata": {},
   "outputs": [],
   "source": [
    "# Write a Python program to count the number of items in a dictionary value that is a list.\n",
    "\n",
    "dict =  {'Alex': ['subj1', 'subj2', 'subj3'], 'David': ['subj1', 'subj2']}"
   ]
  },
  {
   "cell_type": "code",
   "execution_count": 2,
   "id": "da543ed1",
   "metadata": {},
   "outputs": [
    {
     "name": "stdout",
     "output_type": "stream",
     "text": [
      "3\n",
      "2\n"
     ]
    }
   ],
   "source": [
    "s = {}\n",
    "for i,j in dict.items():\n",
    "    s = len(j)\n",
    "    print(s)"
   ]
  },
  {
   "cell_type": "code",
   "execution_count": null,
   "id": "7cc96207",
   "metadata": {},
   "outputs": [],
   "source": [
    "Write a  Python program to sort Counter by value.\n",
    "Sample data : {'Math':81, 'Physics':83, 'Chemistry':87}\n",
    "Expected data: [('Chemistry', 87), ('Physics', 83), ('Math', 81)]"
   ]
  },
  {
   "cell_type": "code",
   "execution_count": 3,
   "id": "a325f3dd",
   "metadata": {},
   "outputs": [],
   "source": [
    "x = {'Math':81, 'Physics':83, 'Chemistry':87}"
   ]
  },
  {
   "cell_type": "code",
   "execution_count": 4,
   "id": "ea148dd8",
   "metadata": {},
   "outputs": [],
   "source": [
    "y = list(x.items())"
   ]
  },
  {
   "cell_type": "code",
   "execution_count": 5,
   "id": "955e6898",
   "metadata": {},
   "outputs": [],
   "source": [
    "y.sort()"
   ]
  },
  {
   "cell_type": "code",
   "execution_count": 6,
   "id": "70c3bec8",
   "metadata": {},
   "outputs": [
    {
     "data": {
      "text/plain": [
       "[('Chemistry', 87), ('Math', 81), ('Physics', 83)]"
      ]
     },
     "execution_count": 6,
     "metadata": {},
     "output_type": "execute_result"
    }
   ],
   "source": [
    "y"
   ]
  },
  {
   "cell_type": "code",
   "execution_count": null,
   "id": "fae383f6",
   "metadata": {},
   "outputs": [],
   "source": [
    "Write a Python program to match key values in two dictionaries.\n",
    "Sample dictionary: {'key1': 1, 'key2': 3, 'key3': 2}, {'key1': 1, 'key2': 2}\n",
    "Expected output: key1: 1 is present in both x and y"
   ]
  },
  {
   "cell_type": "code",
   "execution_count": 8,
   "id": "696d7ecd",
   "metadata": {},
   "outputs": [],
   "source": [
    "x =  {'key1': 1, 'key2': 3, 'key3': 2}\n",
    "y = {'key1': 1, 'key2': 2}\n"
   ]
  },
  {
   "cell_type": "code",
   "execution_count": 9,
   "id": "36645488",
   "metadata": {},
   "outputs": [
    {
     "name": "stdout",
     "output_type": "stream",
     "text": [
      "key1:1 is present in both x & y\n"
     ]
    }
   ],
   "source": [
    "for i,j in x.items():\n",
    "    if i in y and y[i]==j:\n",
    "        print(f\"{i}:{j} is present in both x & y\")\n",
    "        "
   ]
  },
  {
   "cell_type": "code",
   "execution_count": null,
   "id": "e40be734",
   "metadata": {},
   "outputs": [],
   "source": [
    "Write a  Python program to drop empty items from a given dictionary.\n",
    "Original Dictionary:\n",
    "{'c1': 'Red', 'c2': 'Green', 'c3': None}\n",
    "New Dictionary after dropping empty items:\n",
    "{'c1': 'Red', 'c2': 'Green'}"
   ]
  },
  {
   "cell_type": "code",
   "execution_count": 10,
   "id": "b5aa8bd0",
   "metadata": {},
   "outputs": [],
   "source": [
    "Originaldict = {'c1': 'Red', 'c2': 'Green', 'c3': None}"
   ]
  },
  {
   "cell_type": "code",
   "execution_count": 12,
   "id": "c5e09352",
   "metadata": {},
   "outputs": [],
   "source": [
    "Newdictionary = Originaldict.popitem()"
   ]
  },
  {
   "cell_type": "code",
   "execution_count": 13,
   "id": "03df11bf",
   "metadata": {},
   "outputs": [
    {
     "data": {
      "text/plain": [
       "('c2', 'Green')"
      ]
     },
     "execution_count": 13,
     "metadata": {},
     "output_type": "execute_result"
    }
   ],
   "source": [
    "Newdictionary"
   ]
  },
  {
   "cell_type": "code",
   "execution_count": null,
   "id": "3920cc28",
   "metadata": {},
   "outputs": [],
   "source": []
  }
 ],
 "metadata": {
  "kernelspec": {
   "display_name": "Python 3 (ipykernel)",
   "language": "python",
   "name": "python3"
  },
  "language_info": {
   "codemirror_mode": {
    "name": "ipython",
    "version": 3
   },
   "file_extension": ".py",
   "mimetype": "text/x-python",
   "name": "python",
   "nbconvert_exporter": "python",
   "pygments_lexer": "ipython3",
   "version": "3.11.5"
  }
 },
 "nbformat": 4,
 "nbformat_minor": 5
}
