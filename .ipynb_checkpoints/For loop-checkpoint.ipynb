{
 "cells": [
  {
   "cell_type": "code",
   "execution_count": 1,
   "id": "020867f1",
   "metadata": {},
   "outputs": [],
   "source": [
    "l=[1,2,3,4,\"sudh\",\"kumar\",45.56]"
   ]
  },
  {
   "cell_type": "code",
   "execution_count": 2,
   "id": "4772fe9a",
   "metadata": {},
   "outputs": [
    {
     "name": "stdout",
     "output_type": "stream",
     "text": [
      "1\n",
      "2\n",
      "3\n",
      "4\n",
      "sudh\n",
      "kumar\n",
      "45.56\n"
     ]
    }
   ],
   "source": [
    "for i in l:\n",
    "    print(i)"
   ]
  },
  {
   "cell_type": "code",
   "execution_count": 3,
   "id": "8c2f01ae",
   "metadata": {},
   "outputs": [],
   "source": [
    "for i in l:\n",
    "    pass"
   ]
  },
  {
   "cell_type": "code",
   "execution_count": 4,
   "id": "afa6b112",
   "metadata": {},
   "outputs": [
    {
     "name": "stdout",
     "output_type": "stream",
     "text": [
      "s\n",
      "u\n",
      "d\n",
      "h\n"
     ]
    }
   ],
   "source": [
    "s=\"sudh\"\n",
    "for i in s:\n",
    "    print(i)\n",
    "    "
   ]
  },
  {
   "cell_type": "code",
   "execution_count": 5,
   "id": "f869f6f1",
   "metadata": {},
   "outputs": [
    {
     "name": "stdout",
     "output_type": "stream",
     "text": [
      "1\n",
      "2\n",
      "3\n",
      "4\n",
      "sudh\n",
      "kumar\n",
      "45.56\n",
      "if for loop is going to complete itself the it will execute else\n"
     ]
    }
   ],
   "source": [
    "for i in l:\n",
    "    print(i)\n",
    "else:\n",
    "    print(\"if for loop is going to complete itself the it will execute else\")"
   ]
  },
  {
   "cell_type": "code",
   "execution_count": 6,
   "id": "85955814",
   "metadata": {},
   "outputs": [
    {
     "data": {
      "text/plain": [
       "[1, 2, 3, 4, 'sudh', 'kumar', 45.56]"
      ]
     },
     "execution_count": 6,
     "metadata": {},
     "output_type": "execute_result"
    }
   ],
   "source": [
    "l"
   ]
  },
  {
   "cell_type": "code",
   "execution_count": 7,
   "id": "53077b9e",
   "metadata": {},
   "outputs": [
    {
     "name": "stdout",
     "output_type": "stream",
     "text": [
      "1\n",
      "2\n",
      "3\n"
     ]
    }
   ],
   "source": [
    "for i in l:\n",
    "    if i==4:\n",
    "        break\n",
    "    print(i)\n",
    "else:\n",
    "    print(\"this will execute only if for is going to complete istelf\")"
   ]
  },
  {
   "cell_type": "code",
   "execution_count": 8,
   "id": "71c9f2f8",
   "metadata": {},
   "outputs": [
    {
     "name": "stdout",
     "output_type": "stream",
     "text": [
      "s\n",
      "u\n",
      "d\n",
      "h\n",
      "a\n",
      "n\n",
      "s\n",
      "h\n",
      "u\n",
      "print string sudhanshu\n"
     ]
    }
   ],
   "source": [
    "s=\"sudhanshu\"\n",
    "for i in s:\n",
    "    if i =='z':\n",
    "        break\n",
    "    print(i)\n",
    "else:\n",
    "    print(\"print string\",s)\n",
    "        "
   ]
  },
  {
   "cell_type": "code",
   "execution_count": 9,
   "id": "b9f80267",
   "metadata": {},
   "outputs": [
    {
     "name": "stdout",
     "output_type": "stream",
     "text": [
      "4\n",
      "5\n",
      "6\n",
      "7\n",
      "8\n",
      "6\n",
      "sudh\n"
     ]
    }
   ],
   "source": [
    "t = (4,5,6,7,8,6,\"sudh\")\n",
    "for i in t:\n",
    "    print(i)"
   ]
  },
  {
   "cell_type": "code",
   "execution_count": 10,
   "id": "1a0114e9",
   "metadata": {},
   "outputs": [],
   "source": [
    "b = {4,5,6,7,7,7,7,7,7,7,8,\"sudh\"}"
   ]
  },
  {
   "cell_type": "code",
   "execution_count": 11,
   "id": "9ea8c97e",
   "metadata": {},
   "outputs": [
    {
     "data": {
      "text/plain": [
       "set"
      ]
     },
     "execution_count": 11,
     "metadata": {},
     "output_type": "execute_result"
    }
   ],
   "source": [
    "type(b)"
   ]
  },
  {
   "cell_type": "code",
   "execution_count": 12,
   "id": "295759e9",
   "metadata": {},
   "outputs": [
    {
     "data": {
      "text/plain": [
       "{4, 5, 6, 7, 8, 'sudh'}"
      ]
     },
     "execution_count": 12,
     "metadata": {},
     "output_type": "execute_result"
    }
   ],
   "source": [
    "b"
   ]
  },
  {
   "cell_type": "code",
   "execution_count": 13,
   "id": "b6c3e9cd",
   "metadata": {},
   "outputs": [
    {
     "name": "stdout",
     "output_type": "stream",
     "text": [
      "4\n",
      "5\n",
      "6\n",
      "7\n",
      "8\n",
      "sudh\n"
     ]
    }
   ],
   "source": [
    "for i in b:\n",
    "    print(i)"
   ]
  },
  {
   "cell_type": "code",
   "execution_count": 14,
   "id": "ff3f6554",
   "metadata": {},
   "outputs": [],
   "source": [
    "d = {\"key1\":\"sudh\",\"content\":\"ami@gmail.com\",\"position\":\"xyz\"}"
   ]
  },
  {
   "cell_type": "code",
   "execution_count": 15,
   "id": "bc72e437",
   "metadata": {},
   "outputs": [
    {
     "name": "stdout",
     "output_type": "stream",
     "text": [
      "key1\n",
      "content\n",
      "position\n"
     ]
    }
   ],
   "source": [
    "for i in d:\n",
    "    print(i)"
   ]
  },
  {
   "cell_type": "code",
   "execution_count": 16,
   "id": "49b89a50",
   "metadata": {},
   "outputs": [
    {
     "name": "stdout",
     "output_type": "stream",
     "text": [
      "sudh\n",
      "ami@gmail.com\n",
      "xyz\n"
     ]
    }
   ],
   "source": [
    "for i in d:\n",
    "    print(d[i])"
   ]
  },
  {
   "cell_type": "code",
   "execution_count": 17,
   "id": "2c9589ae",
   "metadata": {},
   "outputs": [
    {
     "data": {
      "text/plain": [
       "'sudh'"
      ]
     },
     "execution_count": 17,
     "metadata": {},
     "output_type": "execute_result"
    }
   ],
   "source": [
    "d[\"key1\"]"
   ]
  },
  {
   "cell_type": "code",
   "execution_count": 18,
   "id": "3d8b1ae6",
   "metadata": {},
   "outputs": [
    {
     "data": {
      "text/plain": [
       "{'key1': 'sudh', 'content': 'ami@gmail.com', 'position': 'xyz'}"
      ]
     },
     "execution_count": 18,
     "metadata": {},
     "output_type": "execute_result"
    }
   ],
   "source": [
    "d"
   ]
  },
  {
   "cell_type": "code",
   "execution_count": 19,
   "id": "96e3a716",
   "metadata": {},
   "outputs": [
    {
     "name": "stdout",
     "output_type": "stream",
     "text": [
      "key1 : sudh\n",
      "content : ami@gmail.com\n",
      "position : xyz\n"
     ]
    }
   ],
   "source": [
    "for i in d:\n",
    "    print(i,\":\",d[i])"
   ]
  },
  {
   "cell_type": "code",
   "execution_count": 20,
   "id": "1bacf822",
   "metadata": {},
   "outputs": [
    {
     "data": {
      "text/plain": [
       "range(0, 9)"
      ]
     },
     "execution_count": 20,
     "metadata": {},
     "output_type": "execute_result"
    }
   ],
   "source": [
    "range(9)"
   ]
  },
  {
   "cell_type": "code",
   "execution_count": 21,
   "id": "58e19ce3",
   "metadata": {},
   "outputs": [],
   "source": [
    "# range---> to generate the dataset "
   ]
  },
  {
   "cell_type": "code",
   "execution_count": 22,
   "id": "61727e35",
   "metadata": {},
   "outputs": [
    {
     "data": {
      "text/plain": [
       "[0, 1, 2, 3, 4, 5, 6, 7, 8]"
      ]
     },
     "execution_count": 22,
     "metadata": {},
     "output_type": "execute_result"
    }
   ],
   "source": [
    "list(range(9))"
   ]
  },
  {
   "cell_type": "code",
   "execution_count": 23,
   "id": "370310a8",
   "metadata": {},
   "outputs": [
    {
     "name": "stdout",
     "output_type": "stream",
     "text": [
      "0\n",
      "1\n",
      "2\n",
      "3\n",
      "4\n",
      "5\n",
      "6\n",
      "7\n",
      "8\n"
     ]
    }
   ],
   "source": [
    "for i in range(9):\n",
    "    print(i)"
   ]
  },
  {
   "cell_type": "code",
   "execution_count": 24,
   "id": "d04e1f45",
   "metadata": {},
   "outputs": [
    {
     "data": {
      "text/plain": [
       "[0, 1, 2, 3, 4, 5, 6, 7, 8]"
      ]
     },
     "execution_count": 24,
     "metadata": {},
     "output_type": "execute_result"
    }
   ],
   "source": [
    "list(range(0,9))"
   ]
  },
  {
   "cell_type": "code",
   "execution_count": 25,
   "id": "19559bd4",
   "metadata": {},
   "outputs": [
    {
     "data": {
      "text/plain": [
       "[0, 2, 4, 6, 8]"
      ]
     },
     "execution_count": 25,
     "metadata": {},
     "output_type": "execute_result"
    }
   ],
   "source": [
    "list(range(0,9,2))"
   ]
  },
  {
   "cell_type": "code",
   "execution_count": 26,
   "id": "b38d37a6",
   "metadata": {},
   "outputs": [
    {
     "data": {
      "text/plain": [
       "[]"
      ]
     },
     "execution_count": 26,
     "metadata": {},
     "output_type": "execute_result"
    }
   ],
   "source": [
    "list(range(0,9,-1))"
   ]
  },
  {
   "cell_type": "code",
   "execution_count": 27,
   "id": "c4def77c",
   "metadata": {},
   "outputs": [
    {
     "data": {
      "text/plain": [
       "[9, 8, 7, 6, 5, 4, 3, 2, 1]"
      ]
     },
     "execution_count": 27,
     "metadata": {},
     "output_type": "execute_result"
    }
   ],
   "source": [
    "list(range(9,0,-1))"
   ]
  },
  {
   "cell_type": "code",
   "execution_count": 28,
   "id": "2325d030",
   "metadata": {},
   "outputs": [
    {
     "name": "stdout",
     "output_type": "stream",
     "text": [
      "sudh \n",
      "\n",
      "sudh sudh \n",
      "\n",
      "sudh sudh sudh \n",
      "\n",
      "sudh sudh sudh sudh \n",
      "\n"
     ]
    }
   ],
   "source": [
    "n=4\n",
    "for i in range(4):\n",
    "    for j in range(0,i+1):\n",
    "        print(\"sudh\",end=\" \")\n",
    "    print(\"\\n\")\n",
    "    "
   ]
  },
  {
   "cell_type": "code",
   "execution_count": 29,
   "id": "a6b646f2",
   "metadata": {},
   "outputs": [
    {
     "data": {
      "text/plain": [
       "[0, 1, 2, 3]"
      ]
     },
     "execution_count": 29,
     "metadata": {},
     "output_type": "execute_result"
    }
   ],
   "source": [
    "list(range(4))"
   ]
  },
  {
   "cell_type": "code",
   "execution_count": 30,
   "id": "b1b807c0",
   "metadata": {},
   "outputs": [
    {
     "name": "stdout",
     "output_type": "stream",
     "text": [
      "          sudh \n",
      "\n",
      "     sudh sudh sudh \n",
      "\n",
      "sudh sudh sudh sudh sudh \n",
      "\n"
     ]
    }
   ],
   "source": [
    "n=3\n",
    "for i in range(n):\n",
    "    for  j in range(i,n-1):\n",
    "        print(\" \" *len(\"sudh\"),end=\" \")\n",
    "    for j in range(i+1):\n",
    "        print(\"sudh\",end=\" \")\n",
    "    for j in range(i):\n",
    "        print(\"sudh\",end=\" \")\n",
    "    print(\"\\n\")"
   ]
  },
  {
   "cell_type": "code",
   "execution_count": 31,
   "id": "8ff6cc88",
   "metadata": {},
   "outputs": [],
   "source": [
    "t=(3,23,45,67,2,4,5,6)"
   ]
  },
  {
   "cell_type": "code",
   "execution_count": 32,
   "id": "cca0caa9",
   "metadata": {},
   "outputs": [
    {
     "data": {
      "text/plain": [
       "[0, 1, 2, 3, 4, 5, 6, 7]"
      ]
     },
     "execution_count": 32,
     "metadata": {},
     "output_type": "execute_result"
    }
   ],
   "source": [
    "list(range(len(t)))"
   ]
  },
  {
   "cell_type": "code",
   "execution_count": 33,
   "id": "772e6739",
   "metadata": {},
   "outputs": [
    {
     "name": "stdout",
     "output_type": "stream",
     "text": [
      "0 3\n",
      "1 23\n",
      "2 45\n",
      "3 67\n",
      "4 2\n",
      "5 4\n",
      "6 5\n",
      "7 6\n"
     ]
    }
   ],
   "source": [
    "for i in range(len(t)):\n",
    "    print(i,t[i])"
   ]
  },
  {
   "cell_type": "code",
   "execution_count": 34,
   "id": "501246b1",
   "metadata": {},
   "outputs": [
    {
     "data": {
      "text/plain": [
       "(3, 23, 45, 67, 2, 4, 5, 6)"
      ]
     },
     "execution_count": 34,
     "metadata": {},
     "output_type": "execute_result"
    }
   ],
   "source": [
    "t"
   ]
  },
  {
   "cell_type": "code",
   "execution_count": 35,
   "id": "09d25ff3",
   "metadata": {},
   "outputs": [
    {
     "data": {
      "text/plain": [
       "2"
      ]
     },
     "execution_count": 35,
     "metadata": {},
     "output_type": "execute_result"
    }
   ],
   "source": [
    "t.index(45)"
   ]
  },
  {
   "cell_type": "code",
   "execution_count": 36,
   "id": "dc609d2d",
   "metadata": {},
   "outputs": [],
   "source": [
    "t=(3,23,45,67,2,4,5,6)"
   ]
  },
  {
   "cell_type": "code",
   "execution_count": 37,
   "id": "dd998f41",
   "metadata": {},
   "outputs": [
    {
     "name": "stdout",
     "output_type": "stream",
     "text": [
      "0 3\n",
      "1 23\n",
      "2 45\n",
      "3 67\n",
      "4 2\n",
      "5 4\n",
      "6 5\n",
      "7 6\n"
     ]
    }
   ],
   "source": [
    "i=0\n",
    "for v in t:\n",
    "    print(i,v)\n",
    "    i=i+1"
   ]
  },
  {
   "cell_type": "code",
   "execution_count": 38,
   "id": "ef888f07",
   "metadata": {},
   "outputs": [
    {
     "data": {
      "text/plain": [
       "(3, 23, 45, 67, 2, 4, 5, 6)"
      ]
     },
     "execution_count": 38,
     "metadata": {},
     "output_type": "execute_result"
    }
   ],
   "source": [
    "t"
   ]
  },
  {
   "cell_type": "code",
   "execution_count": 39,
   "id": "879dbef1",
   "metadata": {},
   "outputs": [
    {
     "name": "stdout",
     "output_type": "stream",
     "text": [
      "0 i\n",
      "1 n\n",
      "2 e\n",
      "3 u\n",
      "4 r\n",
      "5 o\n",
      "6 n\n"
     ]
    }
   ],
   "source": [
    "s =\"ineuron\"\n",
    "for i in range(len(s)):\n",
    "    print(i,s[i])"
   ]
  },
  {
   "cell_type": "code",
   "execution_count": 40,
   "id": "3a81c1c2",
   "metadata": {},
   "outputs": [
    {
     "data": {
      "text/plain": [
       "'ineuron'"
      ]
     },
     "execution_count": 40,
     "metadata": {},
     "output_type": "execute_result"
    }
   ],
   "source": [
    "s"
   ]
  },
  {
   "cell_type": "code",
   "execution_count": 41,
   "id": "a56e8c14",
   "metadata": {},
   "outputs": [
    {
     "name": "stdout",
     "output_type": "stream",
     "text": [
      "6 n\n",
      "5 o\n",
      "4 r\n",
      "3 u\n",
      "2 e\n",
      "1 n\n",
      "0 i\n"
     ]
    }
   ],
   "source": [
    "for i in range(len(s)-1,-1,-1):\n",
    "    print(i,s[i])"
   ]
  },
  {
   "cell_type": "code",
   "execution_count": 42,
   "id": "ab3d78ad",
   "metadata": {},
   "outputs": [
    {
     "data": {
      "text/plain": [
       "[6, 5, 4, 3, 2, 1, 0]"
      ]
     },
     "execution_count": 42,
     "metadata": {},
     "output_type": "execute_result"
    }
   ],
   "source": [
    "list(range(len(s)-1,-1,-1))"
   ]
  },
  {
   "cell_type": "code",
   "execution_count": 43,
   "id": "d5232df6",
   "metadata": {},
   "outputs": [
    {
     "data": {
      "text/plain": [
       "{'key1': 'sudh', 'content': 'ami@gmail.com', 'position': 'xyz'}"
      ]
     },
     "execution_count": 43,
     "metadata": {},
     "output_type": "execute_result"
    }
   ],
   "source": [
    "d"
   ]
  },
  {
   "cell_type": "code",
   "execution_count": 44,
   "id": "bb2513fc",
   "metadata": {},
   "outputs": [
    {
     "name": "stdout",
     "output_type": "stream",
     "text": [
      "('key1', 'sudh') <class 'tuple'> <class 'str'>\n",
      "('content', 'ami@gmail.com') <class 'tuple'> <class 'str'>\n",
      "('position', 'xyz') <class 'tuple'> <class 'str'>\n"
     ]
    }
   ],
   "source": [
    "for i in d.items():\n",
    "    print(i,type(i),type(i[1]))"
   ]
  },
  {
   "cell_type": "code",
   "execution_count": 45,
   "id": "725d4757",
   "metadata": {},
   "outputs": [
    {
     "name": "stdout",
     "output_type": "stream",
     "text": [
      "[34567, 345, 34567]\n"
     ]
    }
   ],
   "source": [
    "l=[\"sudh\",\"kumar\",34567,\"ami@gmail.com\",345,34567]\n",
    "l1=[]\n",
    "for i in l:\n",
    "    if type(i)==int:\n",
    "        l1.append(i)\n",
    "print(l1)"
   ]
  },
  {
   "cell_type": "code",
   "execution_count": 46,
   "id": "98899015",
   "metadata": {
    "scrolled": true
   },
   "outputs": [
    {
     "name": "stdout",
     "output_type": "stream",
     "text": [
      "1 : 345656\n",
      "234 : 3456\n"
     ]
    }
   ],
   "source": [
    "d={1:345656,\"name\":\"sudh\",\"email\":\"ami@gmail.com\",234:\"fddvdhv\",\"43\":\"sdgdhg\",234:\"3456\"}\n",
    "for i,j in d.items():\n",
    "    if type(i)==int:\n",
    "        print(i,\":\",j)\n"
   ]
  },
  {
   "cell_type": "code",
   "execution_count": 47,
   "id": "00a26ceb",
   "metadata": {},
   "outputs": [
    {
     "name": "stdout",
     "output_type": "stream",
     "text": [
      "1 : 345656\n",
      "234 : 3456\n"
     ]
    }
   ],
   "source": [
    "d={1:345656,\"name\":\"sudh\",\"email\":\"ami@gmail.com\",234:\"fddvdhv\",\"43\":\"sdgdhg\",234:\"3456\"}\n",
    "for i in d:\n",
    "    if type(i)==int:\n",
    "        print(i,\":\",d[i])\n"
   ]
  },
  {
   "cell_type": "code",
   "execution_count": 48,
   "id": "a049f77d",
   "metadata": {},
   "outputs": [
    {
     "name": "stdout",
     "output_type": "stream",
     "text": [
      "a 4\n",
      "a 4\n",
      "a 4\n",
      "a 4\n",
      "b 2\n",
      "b 2\n",
      "c 2\n",
      "c 2\n",
      "d 1\n"
     ]
    }
   ],
   "source": [
    "s=\"aaaabbccd\"\n",
    "count=0\n",
    "for i in s:\n",
    "    print(i,s.count(i))"
   ]
  },
  {
   "cell_type": "code",
   "execution_count": 49,
   "id": "53031ccf",
   "metadata": {},
   "outputs": [
    {
     "data": {
      "text/plain": [
       "str"
      ]
     },
     "execution_count": 49,
     "metadata": {},
     "output_type": "execute_result"
    }
   ],
   "source": [
    "type(s)"
   ]
  },
  {
   "cell_type": "code",
   "execution_count": 50,
   "id": "79fd0e74",
   "metadata": {},
   "outputs": [
    {
     "data": {
      "text/plain": [
       "{'a', 'b', 'c', 'd'}"
      ]
     },
     "execution_count": 50,
     "metadata": {},
     "output_type": "execute_result"
    }
   ],
   "source": [
    "set(s)"
   ]
  },
  {
   "cell_type": "code",
   "execution_count": 51,
   "id": "c05ef0ec",
   "metadata": {},
   "outputs": [
    {
     "data": {
      "text/plain": [
       "4"
      ]
     },
     "execution_count": 51,
     "metadata": {},
     "output_type": "execute_result"
    }
   ],
   "source": [
    "s.count('a')"
   ]
  },
  {
   "cell_type": "code",
   "execution_count": 52,
   "id": "c539c97a",
   "metadata": {},
   "outputs": [
    {
     "name": "stdout",
     "output_type": "stream",
     "text": [
      "c : 2\n",
      "b : 2\n",
      "d : 1\n",
      "a : 4\n"
     ]
    }
   ],
   "source": [
    "for i in set(s):\n",
    "    print(i,\":\",s.count(i))"
   ]
  },
  {
   "cell_type": "code",
   "execution_count": 53,
   "id": "99cdcac1",
   "metadata": {},
   "outputs": [
    {
     "ename": "TypeError",
     "evalue": "'int' object is not iterable",
     "output_type": "error",
     "traceback": [
      "\u001b[1;31m---------------------------------------------------------------------------\u001b[0m",
      "\u001b[1;31mTypeError\u001b[0m                                 Traceback (most recent call last)",
      "\u001b[1;32m~\\AppData\\Local\\Temp/ipykernel_3012/3422087558.py\u001b[0m in \u001b[0;36m<module>\u001b[1;34m\u001b[0m\n\u001b[0;32m      1\u001b[0m \u001b[0mi\u001b[0m \u001b[1;33m=\u001b[0m \u001b[1;36m3453465446435\u001b[0m\u001b[1;33m\u001b[0m\u001b[1;33m\u001b[0m\u001b[0m\n\u001b[1;32m----> 2\u001b[1;33m \u001b[1;32mfor\u001b[0m \u001b[0mj\u001b[0m \u001b[1;32min\u001b[0m \u001b[0mi\u001b[0m\u001b[1;33m:\u001b[0m\u001b[1;33m\u001b[0m\u001b[1;33m\u001b[0m\u001b[0m\n\u001b[0m\u001b[0;32m      3\u001b[0m     \u001b[0mprint\u001b[0m\u001b[1;33m(\u001b[0m\u001b[0mi\u001b[0m\u001b[1;33m)\u001b[0m\u001b[1;33m\u001b[0m\u001b[1;33m\u001b[0m\u001b[0m\n",
      "\u001b[1;31mTypeError\u001b[0m: 'int' object is not iterable"
     ]
    }
   ],
   "source": [
    "i = 3453465446435\n",
    "for j in i:\n",
    "    print(i)"
   ]
  },
  {
   "cell_type": "code",
   "execution_count": null,
   "id": "abbe8fee",
   "metadata": {},
   "outputs": [],
   "source": [
    "str(i)"
   ]
  },
  {
   "cell_type": "code",
   "execution_count": null,
   "id": "128f88ee",
   "metadata": {},
   "outputs": [],
   "source": [
    "for j in str(i):\n",
    "    print(int(j),type(int(j)))"
   ]
  },
  {
   "cell_type": "code",
   "execution_count": null,
   "id": "7c9e4621",
   "metadata": {},
   "outputs": [],
   "source": [
    "type(j)"
   ]
  },
  {
   "cell_type": "code",
   "execution_count": null,
   "id": "9de7ea25",
   "metadata": {},
   "outputs": [],
   "source": [
    "t=(\"sudh\",\"kumar\",[1,2,3,4,5],(3,4,5,6),{3:3,\"key2\":\"kumar\"})\n",
    "for i in t:\n",
    "    if type(i)==list or type(i)==tuple:\n",
    "        for j in i:\n",
    "            if j == 3:\n",
    "                print(j)\n",
    "    if type(i)==dict:\n",
    "        for k,v in i.items():\n",
    "            if k == 3 or v==3:\n",
    "                print(v)\n",
    "                print(k)"
   ]
  },
  {
   "cell_type": "code",
   "execution_count": null,
   "id": "ba60ab6a",
   "metadata": {},
   "outputs": [],
   "source": [
    "d={4:5,\"key1\":\"sudh\",\"key2\":\"kumar\"}\n",
    "for i in d.items():\n",
    "    print(i)"
   ]
  },
  {
   "cell_type": "code",
   "execution_count": null,
   "id": "b913ff41",
   "metadata": {},
   "outputs": [],
   "source": [
    "d={4:5,\"key1\":\"sudh\",\"key2\":\"kumar\"}\n",
    "for i,j in d.items():\n",
    "    print(i,j)"
   ]
  },
  {
   "cell_type": "code",
   "execution_count": null,
   "id": "709e5ed8",
   "metadata": {},
   "outputs": [],
   "source": [
    "d.items()"
   ]
  },
  {
   "cell_type": "code",
   "execution_count": null,
   "id": "f1f70d72",
   "metadata": {},
   "outputs": [],
   "source": [
    "#simillar "
   ]
  },
  {
   "cell_type": "code",
   "execution_count": null,
   "id": "a7243016",
   "metadata": {},
   "outputs": [],
   "source": [
    "a=10\n",
    "b=11\n",
    "c=30"
   ]
  },
  {
   "cell_type": "code",
   "execution_count": null,
   "id": "9e58a3e1",
   "metadata": {},
   "outputs": [],
   "source": [
    "a,b,c = 10,20,30"
   ]
  },
  {
   "cell_type": "code",
   "execution_count": null,
   "id": "06d7b012",
   "metadata": {},
   "outputs": [],
   "source": [
    "a,b,c = (10,20,30)"
   ]
  },
  {
   "cell_type": "code",
   "execution_count": null,
   "id": "d2561de2",
   "metadata": {},
   "outputs": [],
   "source": [
    "#task  "
   ]
  },
  {
   "cell_type": "code",
   "execution_count": 54,
   "id": "3d836ed8",
   "metadata": {},
   "outputs": [
    {
     "name": "stdout",
     "output_type": "stream",
     "text": [
      "ineuron \n",
      "ineuron ineuron \n",
      "ineuron ineuron ineuron \n",
      "ineuron ineuron ineuron ineuron \n"
     ]
    }
   ],
   "source": [
    "#1.\n",
    "n=4\n",
    "for i in range(n):\n",
    "    for j in range(0,i+1):\n",
    "        print(\"ineuron\",end=\" \")\n",
    "    print()"
   ]
  },
  {
   "cell_type": "code",
   "execution_count": 55,
   "id": "f48d8c7b",
   "metadata": {},
   "outputs": [
    {
     "name": "stdout",
     "output_type": "stream",
     "text": [
      "enter num6\n",
      "\n",
      "ineuron \n",
      "ineuron ineuron \n",
      "ineuron ineuron ineuron \n",
      "ineuron ineuron ineuron ineuron \n",
      "ineuron ineuron ineuron ineuron ineuron \n",
      "ineuron ineuron ineuron ineuron ineuron ineuron \n"
     ]
    }
   ],
   "source": [
    "x=int(input(\"enter num\"))\n",
    "print()\n",
    "for i in range(x):\n",
    "    print(\"ineuron \"*(i+1))"
   ]
  },
  {
   "cell_type": "code",
   "execution_count": 56,
   "id": "c7c910e2",
   "metadata": {},
   "outputs": [
    {
     "name": "stdout",
     "output_type": "stream",
     "text": [
      "      ineuron \n",
      "   ineuron ineuron \n",
      "ineuron ineuron ineuron \n",
      "   ineuron ineuron \n",
      "      ineuron \n"
     ]
    }
   ],
   "source": [
    "#2\n",
    "n=3\n",
    "for i in range(n):\n",
    "    print(\"   \"*(n-i-1)+\"ineuron \"*(i+1))\n",
    "for j in range(n-1,0,-1):\n",
    "    print(\"   \"*(n-j)+\"ineuron \"*(j))\n",
    "    \n",
    "    \n",
    "    "
   ]
  },
  {
   "cell_type": "code",
   "execution_count": 57,
   "id": "25cb2acc",
   "metadata": {},
   "outputs": [
    {
     "name": "stdout",
     "output_type": "stream",
     "text": [
      "enter num6\n",
      "                                                  \n",
      "                     ineuron                      \n",
      "                 ineuron ineuron                  \n",
      "             ineuron ineuron ineuron              \n",
      "                 ineuron ineuron                  \n",
      "                     ineuron                      \n"
     ]
    }
   ],
   "source": [
    "x=int(input(\"enter num\"))\n",
    "for i in range(x):\n",
    "    if i<=3:\n",
    "        n=i\n",
    "    else:\n",
    "        n=x-i\n",
    "    print((\"ineuron \"*n).center(50,\" \"))"
   ]
  },
  {
   "cell_type": "code",
   "execution_count": 58,
   "id": "1b1f24a6",
   "metadata": {},
   "outputs": [
    {
     "name": "stdout",
     "output_type": "stream",
     "text": [
      "                                                  \n",
      "                     ineuron                      \n",
      "                 ineuron ineuron                  \n",
      "             ineuron ineuron ineuron              \n",
      "                 ineuron ineuron                  \n",
      "                     ineuron                      \n"
     ]
    }
   ],
   "source": [
    "for i in range(6):\n",
    "    if i<=3:\n",
    "        n=i\n",
    "    else:\n",
    "        n=6-i\n",
    "    print((\"ineuron \"*n).center(50,\" \"))"
   ]
  },
  {
   "cell_type": "code",
   "execution_count": 59,
   "id": "f13411e7",
   "metadata": {},
   "outputs": [],
   "source": [
    "#3 extract all list entities\n",
    "#4 extract all dict entites\n",
    "#5 extract all tuple\n",
    "#6 extract all numerical data it may be part of dict key and values\n",
    "#7 try to give summation of all numeric data\n",
    "#8 try to filter out all the odd values out of all numeric data which is aprt of list\n",
    "#9 try to extract \"ineuron\" out of this data\n",
    "#10 try to find out a number of occurance of all the data\n",
    "#11 try to find out number or key in dict element\n",
    "#12 try to filter out all th string data\n",
    "#13 try to find out alphanum in data\n",
    "#14 try to find out multiplication of all the indivisual collections inside dataset\n",
    "#15 try to unwrap all the collection inside collection and create a flat list\n",
    "l=[[1,2,3,4],(2,3,4,5,6),(3,4,5,6,7),set([23,4,5,45,4,4,5,45,45,45]),{\"k1\":\"sudh\",\"k2\":\"ineuron\",\"k3\":\"kumar\",3:6,7:8},[\"ineuron\",\"datascience\"]]\n"
   ]
  },
  {
   "cell_type": "code",
   "execution_count": 60,
   "id": "4df083fe",
   "metadata": {},
   "outputs": [
    {
     "name": "stdout",
     "output_type": "stream",
     "text": [
      "[1, 2, 3, 4]\n",
      "['ineuron', 'datascience']\n"
     ]
    }
   ],
   "source": [
    "for i in l:\n",
    "    if type(i)==list:\n",
    "        print(i)"
   ]
  },
  {
   "cell_type": "code",
   "execution_count": 61,
   "id": "99caa7f4",
   "metadata": {},
   "outputs": [
    {
     "name": "stdout",
     "output_type": "stream",
     "text": [
      "(2, 3, 4, 5, 6)\n",
      "(3, 4, 5, 6, 7)\n"
     ]
    }
   ],
   "source": [
    "for i in l:\n",
    "    if type(i)==tuple:\n",
    "        print(i)"
   ]
  },
  {
   "cell_type": "code",
   "execution_count": 62,
   "id": "01687ec0",
   "metadata": {},
   "outputs": [
    {
     "name": "stdout",
     "output_type": "stream",
     "text": [
      "{'k1': 'sudh', 'k2': 'ineuron', 'k3': 'kumar', 3: 6, 7: 8}\n"
     ]
    }
   ],
   "source": [
    "for i in l:\n",
    "    if type(i)==dict:\n",
    "        print(i)"
   ]
  },
  {
   "cell_type": "code",
   "execution_count": 63,
   "id": "557b5a65",
   "metadata": {},
   "outputs": [],
   "source": [
    "l1=[]\n",
    "for i in l:\n",
    "    if type(i)==list or type(i)==tuple or type(i)==set:\n",
    "        for j in i:\n",
    "            if type(j) == int:\n",
    "                l1.append(j)\n",
    "    if type(i)==dict:\n",
    "        for k,v in i.items():\n",
    "            if type(k) == int or type(v)==int:\n",
    "                l1.append(v)\n",
    "                l1.append(k)\n",
    "                \n",
    "                #print(v)\n",
    "                #print(k)   "
   ]
  },
  {
   "cell_type": "code",
   "execution_count": 64,
   "id": "37d57a06",
   "metadata": {},
   "outputs": [
    {
     "data": {
      "text/plain": [
       "[1, 2, 3, 4, 2, 3, 4, 5, 6, 3, 4, 5, 6, 7, 45, 4, 5, 23, 6, 3, 8, 7]"
      ]
     },
     "execution_count": 64,
     "metadata": {},
     "output_type": "execute_result"
    }
   ],
   "source": [
    "l1"
   ]
  },
  {
   "cell_type": "code",
   "execution_count": 65,
   "id": "2a16c5f7",
   "metadata": {},
   "outputs": [],
   "source": [
    "d = {\"k1\":\"sudh\",\"k2\":\"ineuron\",\"k3\":\"kumar\",3:6,7:8}"
   ]
  },
  {
   "cell_type": "code",
   "execution_count": 66,
   "id": "8a72c4d0",
   "metadata": {},
   "outputs": [
    {
     "data": {
      "text/plain": [
       "dict_items([('k1', 'sudh'), ('k2', 'ineuron'), ('k3', 'kumar'), (3, 6), (7, 8)])"
      ]
     },
     "execution_count": 66,
     "metadata": {},
     "output_type": "execute_result"
    }
   ],
   "source": [
    "d.items()"
   ]
  },
  {
   "cell_type": "code",
   "execution_count": 67,
   "id": "e821638b",
   "metadata": {},
   "outputs": [],
   "source": [
    "l1=[]\n",
    "for i in l:\n",
    "    if type(i)==list or type(i)==tuple or type(i)==set:\n",
    "        for j in i:\n",
    "            if type(j) == int:\n",
    "                l1.append(j)\n",
    "    if type(i)==dict:\n",
    "        for k in i.items():\n",
    "            for g in k:\n",
    "                if type(g)==int:\n",
    "                    l1.append(g)\n",
    "            \n",
    "     "
   ]
  },
  {
   "cell_type": "code",
   "execution_count": 68,
   "id": "84e4190d",
   "metadata": {},
   "outputs": [
    {
     "data": {
      "text/plain": [
       "[1, 2, 3, 4, 2, 3, 4, 5, 6, 3, 4, 5, 6, 7, 45, 4, 5, 23, 3, 6, 7, 8]"
      ]
     },
     "execution_count": 68,
     "metadata": {},
     "output_type": "execute_result"
    }
   ],
   "source": [
    "l1"
   ]
  },
  {
   "cell_type": "code",
   "execution_count": 69,
   "id": "e2705715",
   "metadata": {},
   "outputs": [
    {
     "data": {
      "text/plain": [
       "156"
      ]
     },
     "execution_count": 69,
     "metadata": {},
     "output_type": "execute_result"
    }
   ],
   "source": [
    "sum(l1)\n",
    "        "
   ]
  },
  {
   "cell_type": "code",
   "execution_count": 70,
   "id": "00cbffb4",
   "metadata": {},
   "outputs": [
    {
     "name": "stdout",
     "output_type": "stream",
     "text": [
      "1\n",
      "3\n",
      "3\n",
      "5\n",
      "3\n",
      "5\n",
      "7\n",
      "45\n",
      "5\n",
      "23\n",
      "3\n",
      "7\n"
     ]
    }
   ],
   "source": [
    "for i in l1:\n",
    "    if i%2==0:\n",
    "        pass\n",
    "    else:\n",
    "        if i%2==1:\n",
    "            print(i)\n",
    "        "
   ]
  },
  {
   "cell_type": "code",
   "execution_count": 71,
   "id": "fc3a1635",
   "metadata": {},
   "outputs": [],
   "source": [
    "l1=[]\n",
    "for i in l:\n",
    "    if type(i) == list or type(i)==tuple or type(i)==set:\n",
    "        for j in i:\n",
    "            if j == \"ineuron\":\n",
    "                l1.append(j)\n",
    "    if type(i)==dict:\n",
    "        for k in d.items():\n",
    "            for g in k:\n",
    "                if g == \"ineuron\":\n",
    "                    l1.append(g)\n",
    "            "
   ]
  },
  {
   "cell_type": "code",
   "execution_count": 72,
   "id": "af22f145",
   "metadata": {},
   "outputs": [
    {
     "data": {
      "text/plain": [
       "['ineuron', 'ineuron']"
      ]
     },
     "execution_count": 72,
     "metadata": {},
     "output_type": "execute_result"
    }
   ],
   "source": [
    "l1"
   ]
  },
  {
   "cell_type": "code",
   "execution_count": 73,
   "id": "286c3028",
   "metadata": {},
   "outputs": [],
   "source": [
    "l1=[]\n",
    "for i in l:\n",
    "    if type(i) == list or type(i)==tuple or type(i)==set:\n",
    "        for j in i:\n",
    "            if type(j) == int or type(j)==str:\n",
    "                l1.append(j)\n",
    "    if type(i)==dict:\n",
    "        for k in d.items():\n",
    "            for g in k:\n",
    "                if type(g) == int or type(g)==str:\n",
    "                    l1.append(g)\n",
    "            "
   ]
  },
  {
   "cell_type": "code",
   "execution_count": 74,
   "id": "458afc0c",
   "metadata": {},
   "outputs": [
    {
     "data": {
      "text/plain": [
       "[1,\n",
       " 2,\n",
       " 3,\n",
       " 4,\n",
       " 2,\n",
       " 3,\n",
       " 4,\n",
       " 5,\n",
       " 6,\n",
       " 3,\n",
       " 4,\n",
       " 5,\n",
       " 6,\n",
       " 7,\n",
       " 45,\n",
       " 4,\n",
       " 5,\n",
       " 23,\n",
       " 'k1',\n",
       " 'sudh',\n",
       " 'k2',\n",
       " 'ineuron',\n",
       " 'k3',\n",
       " 'kumar',\n",
       " 3,\n",
       " 6,\n",
       " 7,\n",
       " 8,\n",
       " 'ineuron',\n",
       " 'datascience']"
      ]
     },
     "execution_count": 74,
     "metadata": {},
     "output_type": "execute_result"
    }
   ],
   "source": [
    "l1"
   ]
  },
  {
   "cell_type": "code",
   "execution_count": 75,
   "id": "2bf71132",
   "metadata": {},
   "outputs": [
    {
     "data": {
      "text/plain": [
       "{1,\n",
       " 2,\n",
       " 23,\n",
       " 3,\n",
       " 4,\n",
       " 45,\n",
       " 5,\n",
       " 6,\n",
       " 7,\n",
       " 8,\n",
       " 'datascience',\n",
       " 'ineuron',\n",
       " 'k1',\n",
       " 'k2',\n",
       " 'k3',\n",
       " 'kumar',\n",
       " 'sudh'}"
      ]
     },
     "execution_count": 75,
     "metadata": {},
     "output_type": "execute_result"
    }
   ],
   "source": [
    "set(l1)"
   ]
  },
  {
   "cell_type": "code",
   "execution_count": 76,
   "id": "1214a61d",
   "metadata": {},
   "outputs": [
    {
     "name": "stdout",
     "output_type": "stream",
     "text": [
      "1 : 1\n",
      "2 : 2\n",
      "3 : 4\n",
      "4 : 4\n",
      "5 : 3\n",
      "6 : 3\n",
      "7 : 2\n",
      "k1 : 1\n",
      "k2 : 1\n",
      "ineuron : 2\n",
      "8 : 1\n",
      "45 : 1\n",
      "k3 : 1\n",
      "sudh : 1\n",
      "23 : 1\n",
      "datascience : 1\n",
      "kumar : 1\n"
     ]
    }
   ],
   "source": [
    "for i in set(l1):\n",
    "    print(i,\":\",l1.count(i))"
   ]
  },
  {
   "cell_type": "code",
   "execution_count": 77,
   "id": "7dc8c812",
   "metadata": {},
   "outputs": [
    {
     "data": {
      "text/plain": [
       "{'k1': 'sudh', 'k2': 'ineuron', 'k3': 'kumar', 3: 6, 7: 8}"
      ]
     },
     "execution_count": 77,
     "metadata": {},
     "output_type": "execute_result"
    }
   ],
   "source": [
    "d"
   ]
  },
  {
   "cell_type": "code",
   "execution_count": 78,
   "id": "631cfb0e",
   "metadata": {},
   "outputs": [
    {
     "data": {
      "text/plain": [
       "dict_keys(['k1', 'k2', 'k3', 3, 7])"
      ]
     },
     "execution_count": 78,
     "metadata": {},
     "output_type": "execute_result"
    }
   ],
   "source": [
    "d.keys()"
   ]
  },
  {
   "cell_type": "code",
   "execution_count": 79,
   "id": "e818d8f5",
   "metadata": {},
   "outputs": [
    {
     "name": "stdout",
     "output_type": "stream",
     "text": [
      "5\n"
     ]
    }
   ],
   "source": [
    "for i in l:\n",
    "    if type(i)==dict:\n",
    "        print(len(list(i.keys())))"
   ]
  },
  {
   "cell_type": "code",
   "execution_count": 80,
   "id": "fed31776",
   "metadata": {},
   "outputs": [
    {
     "name": "stdout",
     "output_type": "stream",
     "text": [
      "k1\n",
      "sudh\n",
      "k2\n",
      "ineuron\n",
      "k3\n",
      "kumar\n",
      "ineuron\n",
      "datascience\n"
     ]
    }
   ],
   "source": [
    "for i in l1:\n",
    "    if type(i)==str:\n",
    "        print(i)"
   ]
  },
  {
   "cell_type": "code",
   "execution_count": 81,
   "id": "25a6712e",
   "metadata": {},
   "outputs": [
    {
     "name": "stdout",
     "output_type": "stream",
     "text": [
      "k1\n",
      "sudh\n",
      "k2\n",
      "ineuron\n",
      "k3\n",
      "kumar\n",
      "ineuron\n",
      "datascience\n"
     ]
    }
   ],
   "source": [
    "for i in l1:\n",
    "    if type(i)==str:\n",
    "        if i.isalnum():\n",
    "             print(i)\n",
    "        \n",
    "    \n",
    "       "
   ]
  },
  {
   "cell_type": "code",
   "execution_count": 82,
   "id": "0d91f8e1",
   "metadata": {},
   "outputs": [
    {
     "name": "stdout",
     "output_type": "stream",
     "text": [
      "908605071360000\n"
     ]
    }
   ],
   "source": [
    "j=1\n",
    "for i in l1:\n",
    "    if type(i)==int:\n",
    "        j=j*i\n",
    "print(j)"
   ]
  },
  {
   "cell_type": "code",
   "execution_count": 83,
   "id": "d63209e8",
   "metadata": {},
   "outputs": [
    {
     "data": {
      "text/plain": [
       "[[1, 2, 3, 4],\n",
       " (2, 3, 4, 5, 6),\n",
       " (3, 4, 5, 6, 7),\n",
       " {4, 5, 23, 45},\n",
       " {'k1': 'sudh', 'k2': 'ineuron', 'k3': 'kumar', 3: 6, 7: 8},\n",
       " ['ineuron', 'datascience']]"
      ]
     },
     "execution_count": 83,
     "metadata": {},
     "output_type": "execute_result"
    }
   ],
   "source": [
    "l"
   ]
  },
  {
   "cell_type": "code",
   "execution_count": 90,
   "id": "e0a1d186",
   "metadata": {},
   "outputs": [
    {
     "name": "stdout",
     "output_type": "stream",
     "text": [
      "<class 'list'> 24\n",
      "<class 'tuple'> 720\n",
      "<class 'tuple'> 2520\n",
      "<class 'set'> 20700\n",
      "<class 'dict'> 1008\n",
      "<class 'list'> 1\n"
     ]
    }
   ],
   "source": [
    "for i in l:\n",
    "    m=1\n",
    "    if type(i)==list or type(i)==tuple or type(i)==set:\n",
    "        for j in i:\n",
    "            if type(j)==int:\n",
    "                m=m*j\n",
    "        print(type(i),m)\n",
    "    if type(i)==dict:\n",
    "        for k in i.items():\n",
    "            for n in k:\n",
    "                if type(n)==int:\n",
    "                    m =m*n\n",
    "        print(type(i),m)"
   ]
  },
  {
   "cell_type": "code",
   "execution_count": 91,
   "id": "83d56394",
   "metadata": {},
   "outputs": [
    {
     "data": {
      "text/plain": [
       "[[1, 2, 3, 4],\n",
       " (2, 3, 4, 5, 6),\n",
       " (3, 4, 5, 6, 7),\n",
       " {4, 5, 23, 45},\n",
       " {'k1': 'sudh', 'k2': 'ineuron', 'k3': 'kumar', 3: 6, 7: 8},\n",
       " ['ineuron', 'datascience']]"
      ]
     },
     "execution_count": 91,
     "metadata": {},
     "output_type": "execute_result"
    }
   ],
   "source": [
    "l"
   ]
  },
  {
   "cell_type": "code",
   "execution_count": 93,
   "id": "20c6799a",
   "metadata": {},
   "outputs": [
    {
     "data": {
      "text/plain": [
       "[1,\n",
       " 2,\n",
       " 3,\n",
       " 4,\n",
       " 2,\n",
       " 3,\n",
       " 4,\n",
       " 5,\n",
       " 6,\n",
       " 3,\n",
       " 4,\n",
       " 5,\n",
       " 6,\n",
       " 7,\n",
       " 45,\n",
       " 4,\n",
       " 5,\n",
       " 23,\n",
       " 'k1',\n",
       " 'sudh',\n",
       " 'k2',\n",
       " 'ineuron',\n",
       " 'k3',\n",
       " 'kumar',\n",
       " 3,\n",
       " 6,\n",
       " 7,\n",
       " 8,\n",
       " 'ineuron',\n",
       " 'datascience']"
      ]
     },
     "execution_count": 93,
     "metadata": {},
     "output_type": "execute_result"
    }
   ],
   "source": [
    "l1"
   ]
  },
  {
   "cell_type": "code",
   "execution_count": 10,
   "id": "f8c700ee",
   "metadata": {
    "scrolled": true
   },
   "outputs": [
    {
     "name": "stdout",
     "output_type": "stream",
     "text": [
      "enter num5\n",
      "120\n"
     ]
    }
   ],
   "source": [
    "n= int(input(\"enter num\"))\n",
    "m=1\n",
    "for i in range(1,n+1):\n",
    "    m = m*i\n",
    "print(m)\n",
    "   "
   ]
  },
  {
   "cell_type": "code",
   "execution_count": 17,
   "id": "704088e0",
   "metadata": {},
   "outputs": [
    {
     "name": "stdout",
     "output_type": "stream",
     "text": [
      "enter your namesairam\n"
     ]
    },
    {
     "data": {
      "text/plain": [
       "'srm'"
      ]
     },
     "execution_count": 17,
     "metadata": {},
     "output_type": "execute_result"
    }
   ],
   "source": [
    "name = input(\"enter your name\")\n",
    "ans = \"\"\n",
    "for alphabet  in name:\n",
    "    if alphabet in \"aeiou\" or alphabet in\"AEIOU\":\n",
    "        continue\n",
    "    ans = ans + alphabet\n",
    " \n",
    "ans\n",
    "        \n",
    "        "
   ]
  },
  {
   "cell_type": "code",
   "execution_count": 27,
   "id": "965c26dc",
   "metadata": {},
   "outputs": [],
   "source": [
    "str1 = \"sairam\" ##sequence\n",
    "lst = ['s','a','i','r','a','m'] #sequence\n",
    "tup = ('s','a','i','r','a','m')  #sequence\n",
    "set1 = {'m','a','y','a','n','k'}  #set is a iterbale, not a sequence"
   ]
  },
  {
   "cell_type": "code",
   "execution_count": 28,
   "id": "a7b80ff5",
   "metadata": {},
   "outputs": [
    {
     "name": "stdout",
     "output_type": "stream",
     "text": [
      "s\n",
      "a\n",
      "i\n",
      "r\n",
      "a\n",
      "m\n"
     ]
    }
   ],
   "source": [
    "for i in str1:\n",
    "    print(i)"
   ]
  },
  {
   "cell_type": "code",
   "execution_count": 29,
   "id": "cec226df",
   "metadata": {},
   "outputs": [
    {
     "name": "stdout",
     "output_type": "stream",
     "text": [
      "s\n",
      "a\n",
      "i\n",
      "r\n",
      "a\n",
      "m\n"
     ]
    }
   ],
   "source": [
    "for i in lst:\n",
    "    print(i)"
   ]
  },
  {
   "cell_type": "code",
   "execution_count": 30,
   "id": "2109ecce",
   "metadata": {},
   "outputs": [
    {
     "name": "stdout",
     "output_type": "stream",
     "text": [
      "s\n",
      "a\n",
      "i\n",
      "r\n",
      "a\n",
      "m\n"
     ]
    }
   ],
   "source": [
    "for i in tup:\n",
    "    print(i)"
   ]
  },
  {
   "cell_type": "code",
   "execution_count": 31,
   "id": "c12bd12f",
   "metadata": {},
   "outputs": [
    {
     "name": "stdout",
     "output_type": "stream",
     "text": [
      "n\n",
      "m\n",
      "a\n",
      "k\n",
      "y\n"
     ]
    }
   ],
   "source": [
    "for i in set1:\n",
    "    print(i)"
   ]
  },
  {
   "cell_type": "markdown",
   "id": "712f7454",
   "metadata": {},
   "source": [
    "Range function"
   ]
  },
  {
   "cell_type": "markdown",
   "id": "cfdf8e5e",
   "metadata": {},
   "source": [
    "range with 1 argument "
   ]
  },
  {
   "cell_type": "code",
   "execution_count": 33,
   "id": "273b639a",
   "metadata": {},
   "outputs": [
    {
     "data": {
      "text/plain": [
       "range(0, 5)"
      ]
     },
     "execution_count": 33,
     "metadata": {},
     "output_type": "execute_result"
    }
   ],
   "source": [
    "range(5)"
   ]
  },
  {
   "cell_type": "code",
   "execution_count": 35,
   "id": "16a5574d",
   "metadata": {},
   "outputs": [
    {
     "data": {
      "text/plain": [
       "[0, 1, 2, 3, 4]"
      ]
     },
     "execution_count": 35,
     "metadata": {},
     "output_type": "execute_result"
    }
   ],
   "source": [
    "list(range(5))"
   ]
  },
  {
   "cell_type": "code",
   "execution_count": 37,
   "id": "0bf6d645",
   "metadata": {},
   "outputs": [
    {
     "data": {
      "text/plain": [
       "[0, 1, 2, 3, 4]"
      ]
     },
     "execution_count": 37,
     "metadata": {},
     "output_type": "execute_result"
    }
   ],
   "source": [
    "list(range(0,5,1))"
   ]
  },
  {
   "cell_type": "code",
   "execution_count": 38,
   "id": "cd6e0ed9",
   "metadata": {},
   "outputs": [
    {
     "data": {
      "text/plain": [
       "5"
      ]
     },
     "execution_count": 38,
     "metadata": {},
     "output_type": "execute_result"
    }
   ],
   "source": [
    "len(list(range(5)))"
   ]
  },
  {
   "cell_type": "code",
   "execution_count": 3,
   "id": "93a9db1e",
   "metadata": {},
   "outputs": [
    {
     "name": "stdout",
     "output_type": "stream",
     "text": [
      "[2, 4, 6]\n"
     ]
    }
   ],
   "source": [
    "print(list(range(2, 8, 2)))"
   ]
  },
  {
   "cell_type": "code",
   "execution_count": 4,
   "id": "b6936c62",
   "metadata": {},
   "outputs": [
    {
     "name": "stdout",
     "output_type": "stream",
     "text": [
      "B\n"
     ]
    }
   ],
   "source": [
    "x = 5 \n",
    "if x > 10:\n",
    "    print('A') \n",
    "elif x < 10: \n",
    "    print('B')"
   ]
  },
  {
   "cell_type": "code",
   "execution_count": 5,
   "id": "56167e87",
   "metadata": {},
   "outputs": [],
   "source": [
    " x = 5 \n",
    "x += 3 \n",
    "x *= 2"
   ]
  },
  {
   "cell_type": "code",
   "execution_count": 6,
   "id": "91215c77",
   "metadata": {},
   "outputs": [
    {
     "name": "stdout",
     "output_type": "stream",
     "text": [
      "16\n"
     ]
    }
   ],
   "source": [
    "print(x)"
   ]
  },
  {
   "cell_type": "code",
   "execution_count": 7,
   "id": "7bc16a14",
   "metadata": {},
   "outputs": [
    {
     "name": "stdout",
     "output_type": "stream",
     "text": [
      "abc3\n"
     ]
    }
   ],
   "source": [
    " print('abc' + str(3))"
   ]
  },
  {
   "cell_type": "code",
   "execution_count": 8,
   "id": "50acf511",
   "metadata": {},
   "outputs": [
    {
     "name": "stdout",
     "output_type": "stream",
     "text": [
      "3\n"
     ]
    }
   ],
   "source": [
    "x = 7 \n",
    "y = 2 \n",
    "print(x // y)"
   ]
  },
  {
   "cell_type": "code",
   "execution_count": 1,
   "id": "cd70982d",
   "metadata": {},
   "outputs": [
    {
     "name": "stdout",
     "output_type": "stream",
     "text": [
      "0\n",
      "1\n",
      "2\n"
     ]
    }
   ],
   "source": [
    " for i in range(3): \n",
    "        print(i)"
   ]
  },
  {
   "cell_type": "code",
   "execution_count": 2,
   "id": "bb918a8b",
   "metadata": {},
   "outputs": [
    {
     "name": "stdout",
     "output_type": "stream",
     "text": [
      "1\n",
      "3\n"
     ]
    }
   ],
   "source": [
    "for i in range(1, 5, 2): \n",
    "    print(i)"
   ]
  },
  {
   "cell_type": "code",
   "execution_count": 3,
   "id": "b4942e8d",
   "metadata": {},
   "outputs": [
    {
     "name": "stdout",
     "output_type": "stream",
     "text": [
      "2\n",
      "4\n",
      "6\n"
     ]
    }
   ],
   "source": [
    "for i in range(2, 8, 2):\n",
    "    print(i)"
   ]
  },
  {
   "cell_type": "code",
   "execution_count": 4,
   "id": "f3665d61",
   "metadata": {},
   "outputs": [
    {
     "name": "stdout",
     "output_type": "stream",
     "text": [
      "h\n",
      "e\n",
      "l\n",
      "l\n",
      "o\n"
     ]
    }
   ],
   "source": [
    " for char in 'hello': \n",
    "        print(char)"
   ]
  },
  {
   "cell_type": "code",
   "execution_count": 9,
   "id": "b7f77098",
   "metadata": {},
   "outputs": [
    {
     "name": "stdout",
     "output_type": "stream",
     "text": [
      "1 1 1 1 \n",
      "2 2 2 2 \n",
      "3 3 3 3 \n",
      "4 4 4 4 \n"
     ]
    }
   ],
   "source": [
    "n = 4\n",
    "for outerloop in range(n):\n",
    "    for innerloop in range(n):\n",
    "        print(outerloop + 1,end=\" \")\n",
    "    print()"
   ]
  },
  {
   "cell_type": "code",
   "execution_count": 10,
   "id": "881776fd",
   "metadata": {},
   "outputs": [
    {
     "name": "stdout",
     "output_type": "stream",
     "text": [
      "1 \n",
      "2 2 \n",
      "3 3 3 \n",
      "4 4 4 4 \n"
     ]
    }
   ],
   "source": [
    "n = 4\n",
    "for outerloop in range(n):   # will give how many row to print \n",
    "    for innerloop in range(outerloop +1):\n",
    "        print(outerloop + 1,end=\" \")\n",
    "    print()"
   ]
  },
  {
   "cell_type": "code",
   "execution_count": 15,
   "id": "2af6c76a",
   "metadata": {},
   "outputs": [
    {
     "name": "stdout",
     "output_type": "stream",
     "text": [
      "0 0 0 0 \n",
      "1 1 1 \n",
      "2 2 \n",
      "3 \n"
     ]
    }
   ],
   "source": [
    "n=4\n",
    "for outerloop in range(n):\n",
    "    for innerloop in range(n-outerloop):\n",
    "        print(outerloop,end = \" \")\n",
    "    print()"
   ]
  },
  {
   "cell_type": "code",
   "execution_count": 22,
   "id": "3c9cc452",
   "metadata": {},
   "outputs": [
    {
     "name": "stdout",
     "output_type": "stream",
     "text": [
      "1\n",
      "3\n",
      "6\n",
      "10\n",
      "15\n",
      "21\n",
      "28\n",
      "36\n"
     ]
    }
   ],
   "source": [
    "x = [1,2,3,4,5,6,7,8]\n",
    "y = 0 \n",
    "for i in x:\n",
    "    y = y + i\n",
    "    print(y)"
   ]
  },
  {
   "cell_type": "code",
   "execution_count": 2,
   "id": "b5e8a56d",
   "metadata": {},
   "outputs": [
    {
     "name": "stdout",
     "output_type": "stream",
     "text": [
      "yes\n"
     ]
    }
   ],
   "source": [
    "x = [\"a\",\"b\",\"c\",\"d\",\"e\"]\n",
    "if \"b\" in x:\n",
    "    print(\"yes\")\n",
    "else:\n",
    "    print(\"no\")"
   ]
  },
  {
   "cell_type": "code",
   "execution_count": 3,
   "id": "7f892e2e",
   "metadata": {},
   "outputs": [
    {
     "name": "stdout",
     "output_type": "stream",
     "text": [
      "no\n",
      "yes\n",
      "no\n",
      "no\n",
      "no\n"
     ]
    }
   ],
   "source": [
    "for i in x:\n",
    "    if i == \"b\":\n",
    "        print(\"yes\")\n",
    "    else:\n",
    "        print(\"no\")"
   ]
  },
  {
   "cell_type": "code",
   "execution_count": 5,
   "id": "f86ea68e",
   "metadata": {},
   "outputs": [
    {
     "name": "stdout",
     "output_type": "stream",
     "text": [
      "a\n",
      "b\n",
      "c\n",
      "d\n",
      "e\n"
     ]
    }
   ],
   "source": [
    "for i in x:\n",
    "    print(i)"
   ]
  },
  {
   "cell_type": "code",
   "execution_count": 6,
   "id": "d8a612b6",
   "metadata": {},
   "outputs": [
    {
     "data": {
      "text/plain": [
       "5"
      ]
     },
     "execution_count": 6,
     "metadata": {},
     "output_type": "execute_result"
    }
   ],
   "source": [
    "len(x)"
   ]
  },
  {
   "cell_type": "code",
   "execution_count": 10,
   "id": "cb9da4d8",
   "metadata": {},
   "outputs": [
    {
     "name": "stdout",
     "output_type": "stream",
     "text": [
      "0 a\n",
      "1 b\n",
      "2 c\n",
      "3 d\n",
      "4 e\n"
     ]
    }
   ],
   "source": [
    "for i in range(len(x)):\n",
    "    print(i,x[i])"
   ]
  },
  {
   "cell_type": "code",
   "execution_count": 23,
   "id": "eeb3cfb0",
   "metadata": {},
   "outputs": [
    {
     "data": {
      "text/plain": [
       "['a', 'b', 'c', 'd', 'e']"
      ]
     },
     "execution_count": 23,
     "metadata": {},
     "output_type": "execute_result"
    }
   ],
   "source": [
    "x"
   ]
  },
  {
   "cell_type": "code",
   "execution_count": 17,
   "id": "ddcf823c",
   "metadata": {},
   "outputs": [
    {
     "data": {
      "text/plain": [
       "['a', 'b']"
      ]
     },
     "execution_count": 17,
     "metadata": {},
     "output_type": "execute_result"
    }
   ],
   "source": [
    "x[0:2]"
   ]
  },
  {
   "cell_type": "code",
   "execution_count": 18,
   "id": "e85da8c6",
   "metadata": {},
   "outputs": [
    {
     "data": {
      "text/plain": [
       "['a', 'c', 'e']"
      ]
     },
     "execution_count": 18,
     "metadata": {},
     "output_type": "execute_result"
    }
   ],
   "source": [
    "x[0::2]"
   ]
  },
  {
   "cell_type": "code",
   "execution_count": 24,
   "id": "f98ff1e2",
   "metadata": {},
   "outputs": [],
   "source": [
    "y =['f','g','a','b']\n"
   ]
  },
  {
   "cell_type": "code",
   "execution_count": 25,
   "id": "cb6d0599",
   "metadata": {},
   "outputs": [
    {
     "name": "stdout",
     "output_type": "stream",
     "text": [
      "no\n"
     ]
    }
   ],
   "source": [
    "if x == y:\n",
    "    print(yes)\n",
    "else:\n",
    "    print(\"no\")"
   ]
  },
  {
   "cell_type": "code",
   "execution_count": 29,
   "id": "aa139c76",
   "metadata": {},
   "outputs": [
    {
     "name": "stdout",
     "output_type": "stream",
     "text": [
      "a\n",
      "b\n"
     ]
    }
   ],
   "source": [
    "\n",
    "for i in x:\n",
    "      if i in y:\n",
    "            print(i)\n",
    "    \n",
    "    "
   ]
  },
  {
   "cell_type": "code",
   "execution_count": 35,
   "id": "1a79e0f2",
   "metadata": {},
   "outputs": [
    {
     "name": "stdout",
     "output_type": "stream",
     "text": [
      "odd\n",
      "odd\n",
      "odd\n",
      "odd\n",
      "odd\n",
      "[2, 4, 6, 8, 10]\n"
     ]
    }
   ],
   "source": [
    "num = [1,2,3,4,5,6,7,8,9,10]\n",
    "z = []\n",
    "for i in num:\n",
    "    if i % 2 ==0:\n",
    "        z.append(i)\n",
    "    else:\n",
    "        print(\"odd\")\n",
    "print(z)"
   ]
  },
  {
   "cell_type": "code",
   "execution_count": 36,
   "id": "2b355545",
   "metadata": {},
   "outputs": [],
   "source": [
    "x[1]=10"
   ]
  },
  {
   "cell_type": "code",
   "execution_count": 37,
   "id": "3ec91b6c",
   "metadata": {},
   "outputs": [
    {
     "data": {
      "text/plain": [
       "['a', 10, 'c', 'd', 'e']"
      ]
     },
     "execution_count": 37,
     "metadata": {},
     "output_type": "execute_result"
    }
   ],
   "source": [
    "x"
   ]
  },
  {
   "cell_type": "code",
   "execution_count": 38,
   "id": "848d4772",
   "metadata": {},
   "outputs": [],
   "source": [
    "a = num[0]* num[1]"
   ]
  },
  {
   "cell_type": "code",
   "execution_count": 39,
   "id": "0b0485df",
   "metadata": {},
   "outputs": [
    {
     "data": {
      "text/plain": [
       "2"
      ]
     },
     "execution_count": 39,
     "metadata": {},
     "output_type": "execute_result"
    }
   ],
   "source": [
    "a"
   ]
  },
  {
   "cell_type": "code",
   "execution_count": 55,
   "id": "0b4bbbcb",
   "metadata": {},
   "outputs": [],
   "source": [
    "m = \"swap case\"\n",
    "a = x.upper()"
   ]
  },
  {
   "cell_type": "code",
   "execution_count": 57,
   "id": "d8630d00",
   "metadata": {},
   "outputs": [
    {
     "ename": "NameError",
     "evalue": "name 's' is not defined",
     "output_type": "error",
     "traceback": [
      "\u001b[1;31m---------------------------------------------------------------------------\u001b[0m",
      "\u001b[1;31mNameError\u001b[0m                                 Traceback (most recent call last)",
      "Cell \u001b[1;32mIn[57], line 1\u001b[0m\n\u001b[1;32m----> 1\u001b[0m \u001b[38;5;28;01mif\u001b[39;00m m \u001b[38;5;241m==\u001b[39m s \u001b[38;5;129;01mand\u001b[39;00m m \u001b[38;5;241m==\u001b[39m c:\n\u001b[0;32m      2\u001b[0m     \u001b[38;5;28mprint\u001b[39m(m\u001b[38;5;241m.\u001b[39mlower())\n",
      "\u001b[1;31mNameError\u001b[0m: name 's' is not defined"
     ]
    }
   ],
   "source": [
    "if m == s and m == c:\n",
    "    print(m.lower())"
   ]
  },
  {
   "cell_type": "code",
   "execution_count": 71,
   "id": "8ae558a7",
   "metadata": {},
   "outputs": [
    {
     "name": "stdout",
     "output_type": "stream",
     "text": [
      "SWAP CASE\n"
     ]
    }
   ],
   "source": [
    "m = \"swap case\"\n",
    "output = \"\"\n",
    "for i in m:\n",
    "    if i.isupper():\n",
    "        output = output + i.lower()\n",
    "    elif i.islower():\n",
    "        output = output + i.upper() \n",
    "    else:\n",
    "        output = output+i\n",
    "print(output)\n",
    " "
   ]
  },
  {
   "cell_type": "code",
   "execution_count": 82,
   "id": "36f9b856",
   "metadata": {},
   "outputs": [
    {
     "name": "stdout",
     "output_type": "stream",
     "text": [
      "sWAP CASE\n"
     ]
    }
   ],
   "source": [
    "m = \"swap case\"\n",
    "output = \"\"\n",
    "for i, char in enumerate(m):\n",
    "    if i == 0:\n",
    "        output += char.lower()\n",
    "    elif char.islower():\n",
    "        output += char.upper()\n",
    "    else:\n",
    "        output += char.lower()\n",
    "print(output)\n"
   ]
  },
  {
   "cell_type": "code",
   "execution_count": 106,
   "id": "cf40a641",
   "metadata": {},
   "outputs": [],
   "source": [
    "list = [1,2,3,4,5,6,7,8,9,10]\n",
    "\n"
   ]
  },
  {
   "cell_type": "code",
   "execution_count": 111,
   "id": "82f881fb",
   "metadata": {},
   "outputs": [],
   "source": [
    "k = [\"even\" if i %2 == 0 else \"odd\" for i in range(10)]"
   ]
  },
  {
   "cell_type": "code",
   "execution_count": 112,
   "id": "b7d0f458",
   "metadata": {},
   "outputs": [
    {
     "data": {
      "text/plain": [
       "['even', 'odd', 'even', 'odd', 'even', 'odd', 'even', 'odd', 'even', 'odd']"
      ]
     },
     "execution_count": 112,
     "metadata": {},
     "output_type": "execute_result"
    }
   ],
   "source": [
    "k"
   ]
  },
  {
   "cell_type": "code",
   "execution_count": 102,
   "id": "a4556274",
   "metadata": {},
   "outputs": [],
   "source": [
    "k = [True for i in range(10) if i %2 == 1]"
   ]
  },
  {
   "cell_type": "code",
   "execution_count": 103,
   "id": "58947fc1",
   "metadata": {},
   "outputs": [
    {
     "data": {
      "text/plain": [
       "[True, True, True, True, True]"
      ]
     },
     "execution_count": 103,
     "metadata": {},
     "output_type": "execute_result"
    }
   ],
   "source": [
    "k"
   ]
  },
  {
   "cell_type": "code",
   "execution_count": 113,
   "id": "6a7c2dd4",
   "metadata": {},
   "outputs": [
    {
     "name": "stdout",
     "output_type": "stream",
     "text": [
      "Using the nested comprehension in the Python along with the if /else \n",
      "['Harsha', 'Krishna', 'Gowtham', 'Vasanth Kumar', 'Raghav']\n",
      "[1, 2, 3, 4, 5]\n"
     ]
    }
   ],
   "source": [
    "string = \"G1\"\n",
    "firstList = [\"Harsha\", \"Krishna\", \"Gowtham\", \"Vasanth Kumar\", \"Raghav\"]\n",
    " \n",
    "list_comp = [[k for k in firstList] if i.isalpha(\n",
    ") else [j for j in range(1, 6)] for i in string]\n",
    " \n",
    "print(\"Using the nested comprehension in the Python along with the if /else \")\n",
    "for i in list_comp:\n",
    "    print(i)"
   ]
  },
  {
   "cell_type": "code",
   "execution_count": 120,
   "id": "190ab521",
   "metadata": {},
   "outputs": [
    {
     "name": "stdout",
     "output_type": "stream",
     "text": [
      "SwAp CaSe\n"
     ]
    }
   ],
   "source": [
    "m = \"swap case\"\n",
    "output = \"\"\n",
    "capitalize_next = True\n",
    "\n",
    "for i in m:\n",
    "    if i.isupper():\n",
    "        if capitalize_next:\n",
    "            output += i.lower()\n",
    "        else:\n",
    "            output += i.upper()\n",
    "    elif i.islower():\n",
    "        if capitalize_next:\n",
    "            output += i.upper()\n",
    "        else:\n",
    "            output += i.lower()\n",
    "    else:\n",
    "        output += i\n",
    "    \n",
    "    if i != ' ':  # Check if the current character is not a space\n",
    "        capitalize_next = not capitalize_next\n",
    "\n",
    "print(output)\n",
    "\n"
   ]
  },
  {
   "cell_type": "code",
   "execution_count": 119,
   "id": "042b0415",
   "metadata": {},
   "outputs": [
    {
     "name": "stdout",
     "output_type": "stream",
     "text": [
      "sWAP CASE\n"
     ]
    }
   ],
   "source": [
    "m = \"swap case\"\n",
    "output = m[0].lower() + m[1:].swapcase()\n",
    "print(output)\n"
   ]
  },
  {
   "cell_type": "code",
   "execution_count": 117,
   "id": "298106a2",
   "metadata": {},
   "outputs": [
    {
     "data": {
      "text/plain": [
       "'Swap case'"
      ]
     },
     "execution_count": 117,
     "metadata": {},
     "output_type": "execute_result"
    }
   ],
   "source": [
    "m.capitalize()"
   ]
  },
  {
   "cell_type": "code",
   "execution_count": 118,
   "id": "db084d21",
   "metadata": {},
   "outputs": [
    {
     "data": {
      "text/plain": [
       "'SWAP CASE'"
      ]
     },
     "execution_count": 118,
     "metadata": {},
     "output_type": "execute_result"
    }
   ],
   "source": [
    "m.upper()"
   ]
  },
  {
   "cell_type": "code",
   "execution_count": 5,
   "id": "6c158152",
   "metadata": {},
   "outputs": [
    {
     "name": "stdout",
     "output_type": "stream",
     "text": [
      "[67, 45, 13, 10, 9, 8, 6, 5, 3, 2]\n"
     ]
    }
   ],
   "source": [
    "x = [10,2,3,5,6,8,9,13,45,67]\n",
    "x.sort(reverse=True)\n",
    "print(x)"
   ]
  },
  {
   "cell_type": "code",
   "execution_count": 2,
   "id": "ad9ea885",
   "metadata": {},
   "outputs": [],
   "source": []
  },
  {
   "cell_type": "code",
   "execution_count": 4,
   "id": "927cf731",
   "metadata": {},
   "outputs": [
    {
     "name": "stdout",
     "output_type": "stream",
     "text": [
      "[9, 6, 5, 5, 5, 4, 3, 3, 2, 1, 1]\n"
     ]
    }
   ],
   "source": [
    "my_list = [3, 1, 4, 1, 5, 9, 2, 6, 5, 3, 5]\n",
    "my_list.sort(reverse=True)\n",
    "print(my_list)\n"
   ]
  },
  {
   "cell_type": "code",
   "execution_count": 6,
   "id": "4e2ef9a2",
   "metadata": {},
   "outputs": [],
   "source": [
    "tup = (1,2,3,4,\"sai\",True,3.47)"
   ]
  },
  {
   "cell_type": "code",
   "execution_count": 7,
   "id": "dc0eb06b",
   "metadata": {},
   "outputs": [
    {
     "data": {
      "text/plain": [
       "tuple"
      ]
     },
     "execution_count": 7,
     "metadata": {},
     "output_type": "execute_result"
    }
   ],
   "source": [
    "type(tup)"
   ]
  },
  {
   "cell_type": "code",
   "execution_count": 8,
   "id": "01f02dc2",
   "metadata": {},
   "outputs": [
    {
     "data": {
      "text/plain": [
       "1"
      ]
     },
     "execution_count": 8,
     "metadata": {},
     "output_type": "execute_result"
    }
   ],
   "source": [
    "tup[0]"
   ]
  },
  {
   "cell_type": "code",
   "execution_count": 9,
   "id": "444f5764",
   "metadata": {},
   "outputs": [
    {
     "data": {
      "text/plain": [
       "1"
      ]
     },
     "execution_count": 9,
     "metadata": {},
     "output_type": "execute_result"
    }
   ],
   "source": [
    "tup.count(\"sai\")"
   ]
  },
  {
   "cell_type": "code",
   "execution_count": 10,
   "id": "798271df",
   "metadata": {},
   "outputs": [
    {
     "data": {
      "text/plain": [
       "4"
      ]
     },
     "execution_count": 10,
     "metadata": {},
     "output_type": "execute_result"
    }
   ],
   "source": [
    "tup.index(\"sai\")"
   ]
  },
  {
   "cell_type": "code",
   "execution_count": 11,
   "id": "d4e9a9a4",
   "metadata": {},
   "outputs": [
    {
     "ename": "TypeError",
     "evalue": "'tuple' object does not support item assignment",
     "output_type": "error",
     "traceback": [
      "\u001b[1;31m---------------------------------------------------------------------------\u001b[0m",
      "\u001b[1;31mTypeError\u001b[0m                                 Traceback (most recent call last)",
      "Cell \u001b[1;32mIn[11], line 1\u001b[0m\n\u001b[1;32m----> 1\u001b[0m tup[\u001b[38;5;241m4\u001b[39m] \u001b[38;5;241m=\u001b[39m \u001b[38;5;124m\"\u001b[39m\u001b[38;5;124mjhon\u001b[39m\u001b[38;5;124m\"\u001b[39m\n",
      "\u001b[1;31mTypeError\u001b[0m: 'tuple' object does not support item assignment"
     ]
    }
   ],
   "source": [
    "tup[4] = \"jhon\""
   ]
  },
  {
   "cell_type": "code",
   "execution_count": 15,
   "id": "201731e7",
   "metadata": {},
   "outputs": [
    {
     "data": {
      "text/plain": [
       "(1, 2, 3, 4, 'sai', True, 3.47)"
      ]
     },
     "execution_count": 15,
     "metadata": {},
     "output_type": "execute_result"
    }
   ],
   "source": [
    "tup"
   ]
  },
  {
   "cell_type": "code",
   "execution_count": 13,
   "id": "65dd319c",
   "metadata": {},
   "outputs": [],
   "source": [
    "## industry example for tuple:"
   ]
  },
  {
   "cell_type": "markdown",
   "id": "8d1fcc94",
   "metadata": {},
   "source": [
    "build software: admin pannel access \n",
    "    tup = (\"sai\",\"ram\") ---> tuple is imutable/ can't change the value once assigned"
   ]
  },
  {
   "cell_type": "code",
   "execution_count": 16,
   "id": "65be7623",
   "metadata": {},
   "outputs": [],
   "source": [
    "tup = (1, 2, 3, 4, 'sai', True, 3.47, \"ram\")"
   ]
  },
  {
   "cell_type": "code",
   "execution_count": 17,
   "id": "000eed54",
   "metadata": {},
   "outputs": [
    {
     "data": {
      "text/plain": [
       "(1, 2, 3, 4, 'sai', True, 3.47, 'ram')"
      ]
     },
     "execution_count": 17,
     "metadata": {},
     "output_type": "execute_result"
    }
   ],
   "source": [
    "tup"
   ]
  },
  {
   "cell_type": "code",
   "execution_count": 19,
   "id": "6ad4c220",
   "metadata": {},
   "outputs": [
    {
     "ename": "AttributeError",
     "evalue": "'tuple' object has no attribute 'pop'",
     "output_type": "error",
     "traceback": [
      "\u001b[1;31m---------------------------------------------------------------------------\u001b[0m",
      "\u001b[1;31mAttributeError\u001b[0m                            Traceback (most recent call last)",
      "Cell \u001b[1;32mIn[19], line 1\u001b[0m\n\u001b[1;32m----> 1\u001b[0m tup\u001b[38;5;241m.\u001b[39mpop()\n",
      "\u001b[1;31mAttributeError\u001b[0m: 'tuple' object has no attribute 'pop'"
     ]
    }
   ],
   "source": [
    "tup.pop()"
   ]
  },
  {
   "cell_type": "code",
   "execution_count": 20,
   "id": "a6220a3e",
   "metadata": {},
   "outputs": [
    {
     "ename": "AttributeError",
     "evalue": "'tuple' object has no attribute 'sort'",
     "output_type": "error",
     "traceback": [
      "\u001b[1;31m---------------------------------------------------------------------------\u001b[0m",
      "\u001b[1;31mAttributeError\u001b[0m                            Traceback (most recent call last)",
      "Cell \u001b[1;32mIn[20], line 1\u001b[0m\n\u001b[1;32m----> 1\u001b[0m tup\u001b[38;5;241m.\u001b[39msort()\n",
      "\u001b[1;31mAttributeError\u001b[0m: 'tuple' object has no attribute 'sort'"
     ]
    }
   ],
   "source": [
    "tup.sort()"
   ]
  },
  {
   "cell_type": "code",
   "execution_count": 21,
   "id": "8af1cd68",
   "metadata": {},
   "outputs": [
    {
     "ename": "AttributeError",
     "evalue": "'tuple' object has no attribute 'update'",
     "output_type": "error",
     "traceback": [
      "\u001b[1;31m---------------------------------------------------------------------------\u001b[0m",
      "\u001b[1;31mAttributeError\u001b[0m                            Traceback (most recent call last)",
      "Cell \u001b[1;32mIn[21], line 1\u001b[0m\n\u001b[1;32m----> 1\u001b[0m tup\u001b[38;5;241m.\u001b[39mupdate(\u001b[38;5;124m\"\u001b[39m\u001b[38;5;124mjack\u001b[39m\u001b[38;5;124m\"\u001b[39m)\n",
      "\u001b[1;31mAttributeError\u001b[0m: 'tuple' object has no attribute 'update'"
     ]
    }
   ],
   "source": [
    "tup.update(\"jack\")"
   ]
  },
  {
   "cell_type": "code",
   "execution_count": 27,
   "id": "9116c889",
   "metadata": {},
   "outputs": [],
   "source": [
    " y = list(tup)"
   ]
  },
  {
   "cell_type": "code",
   "execution_count": 28,
   "id": "c30d2016",
   "metadata": {},
   "outputs": [
    {
     "data": {
      "text/plain": [
       "list"
      ]
     },
     "execution_count": 28,
     "metadata": {},
     "output_type": "execute_result"
    }
   ],
   "source": [
    "type(y)"
   ]
  },
  {
   "cell_type": "code",
   "execution_count": 29,
   "id": "3ceb7fab",
   "metadata": {},
   "outputs": [
    {
     "data": {
      "text/plain": [
       "[1, 2, 3, 4, 'sai', True, 3.47, 'ram']"
      ]
     },
     "execution_count": 29,
     "metadata": {},
     "output_type": "execute_result"
    }
   ],
   "source": [
    "y"
   ]
  },
  {
   "cell_type": "code",
   "execution_count": 30,
   "id": "3fce0088",
   "metadata": {},
   "outputs": [
    {
     "data": {
      "text/plain": [
       "'ram'"
      ]
     },
     "execution_count": 30,
     "metadata": {},
     "output_type": "execute_result"
    }
   ],
   "source": [
    "y.pop()"
   ]
  },
  {
   "cell_type": "code",
   "execution_count": 31,
   "id": "158149ef",
   "metadata": {},
   "outputs": [],
   "source": [
    "y.reverse()"
   ]
  },
  {
   "cell_type": "code",
   "execution_count": 32,
   "id": "9e119584",
   "metadata": {},
   "outputs": [
    {
     "data": {
      "text/plain": [
       "[3.47, True, 'sai', 4, 3, 2, 1]"
      ]
     },
     "execution_count": 32,
     "metadata": {},
     "output_type": "execute_result"
    }
   ],
   "source": [
    "y"
   ]
  },
  {
   "cell_type": "code",
   "execution_count": 33,
   "id": "108e6dab",
   "metadata": {},
   "outputs": [
    {
     "data": {
      "text/plain": [
       "1"
      ]
     },
     "execution_count": 33,
     "metadata": {},
     "output_type": "execute_result"
    }
   ],
   "source": [
    "y.count(3.47)"
   ]
  },
  {
   "cell_type": "code",
   "execution_count": 34,
   "id": "45a76b13",
   "metadata": {},
   "outputs": [],
   "source": [
    "y.insert(4,\"sairam\")"
   ]
  },
  {
   "cell_type": "code",
   "execution_count": 35,
   "id": "cbe78116",
   "metadata": {},
   "outputs": [
    {
     "data": {
      "text/plain": [
       "[3.47, True, 'sai', 4, 'sairam', 3, 2, 1]"
      ]
     },
     "execution_count": 35,
     "metadata": {},
     "output_type": "execute_result"
    }
   ],
   "source": [
    "y"
   ]
  },
  {
   "cell_type": "code",
   "execution_count": 37,
   "id": "abcbc8d8",
   "metadata": {},
   "outputs": [],
   "source": [
    "z= y.copy()"
   ]
  },
  {
   "cell_type": "code",
   "execution_count": 38,
   "id": "bee39972",
   "metadata": {},
   "outputs": [
    {
     "data": {
      "text/plain": [
       "[3.47, True, 'sai', 4, 'sairam', 3, 2, 1]"
      ]
     },
     "execution_count": 38,
     "metadata": {},
     "output_type": "execute_result"
    }
   ],
   "source": [
    "z"
   ]
  },
  {
   "cell_type": "code",
   "execution_count": 39,
   "id": "ec1fa04a",
   "metadata": {},
   "outputs": [],
   "source": [
    "z.append(\"janu\")"
   ]
  },
  {
   "cell_type": "code",
   "execution_count": 40,
   "id": "2af1e75b",
   "metadata": {},
   "outputs": [
    {
     "data": {
      "text/plain": [
       "[3.47, True, 'sai', 4, 'sairam', 3, 2, 1, 'janu']"
      ]
     },
     "execution_count": 40,
     "metadata": {},
     "output_type": "execute_result"
    }
   ],
   "source": [
    "z"
   ]
  },
  {
   "cell_type": "code",
   "execution_count": 41,
   "id": "3049dff4",
   "metadata": {},
   "outputs": [
    {
     "name": "stdout",
     "output_type": "stream",
     "text": [
      "1\n",
      "2\n",
      "3\n",
      "4\n",
      "5\n",
      "6\n",
      "7\n",
      "8\n",
      "9\n",
      "10\n"
     ]
    }
   ],
   "source": [
    "x= [1,2,3,4,5,6,7,8,9,10]  # we will get the values\n",
    "for i in x:\n",
    "    print(i)"
   ]
  },
  {
   "cell_type": "code",
   "execution_count": 43,
   "id": "b30638cf",
   "metadata": {},
   "outputs": [
    {
     "ename": "TypeError",
     "evalue": "'list' object cannot be interpreted as an integer",
     "output_type": "error",
     "traceback": [
      "\u001b[1;31m---------------------------------------------------------------------------\u001b[0m",
      "\u001b[1;31mTypeError\u001b[0m                                 Traceback (most recent call last)",
      "Cell \u001b[1;32mIn[43], line 1\u001b[0m\n\u001b[1;32m----> 1\u001b[0m \u001b[38;5;28;01mfor\u001b[39;00m i \u001b[38;5;129;01min\u001b[39;00m \u001b[38;5;28mrange\u001b[39m(x):\n\u001b[0;32m      2\u001b[0m     \u001b[38;5;28mprint\u001b[39m(i)\n",
      "\u001b[1;31mTypeError\u001b[0m: 'list' object cannot be interpreted as an integer"
     ]
    }
   ],
   "source": [
    "for i in range(x):\n",
    "    print(i)"
   ]
  },
  {
   "cell_type": "code",
   "execution_count": 44,
   "id": "87349304",
   "metadata": {},
   "outputs": [
    {
     "name": "stdout",
     "output_type": "stream",
     "text": [
      "0\n",
      "1\n",
      "2\n",
      "3\n",
      "4\n",
      "5\n",
      "6\n",
      "7\n",
      "8\n",
      "9\n"
     ]
    }
   ],
   "source": [
    "for i in range(len(x)):  # we will get index\n",
    "    print(i)"
   ]
  },
  {
   "cell_type": "code",
   "execution_count": 46,
   "id": "bcb804da",
   "metadata": {},
   "outputs": [
    {
     "name": "stdout",
     "output_type": "stream",
     "text": [
      "0 1\n",
      "1 2\n",
      "2 3\n",
      "3 4\n",
      "4 5\n",
      "5 6\n",
      "6 7\n",
      "7 8\n",
      "8 9\n",
      "9 10\n"
     ]
    }
   ],
   "source": [
    "for i in range(10):\n",
    "    print(i,x[i])"
   ]
  },
  {
   "cell_type": "code",
   "execution_count": 47,
   "id": "1659524d",
   "metadata": {},
   "outputs": [],
   "source": [
    "y = [1,2,\"sai\",\"ram\"]"
   ]
  },
  {
   "cell_type": "code",
   "execution_count": 48,
   "id": "9ae82aac",
   "metadata": {},
   "outputs": [
    {
     "name": "stdout",
     "output_type": "stream",
     "text": [
      "1\n",
      "2\n"
     ]
    }
   ],
   "source": [
    "for i in x:\n",
    "    if i in y:\n",
    "        print(i)"
   ]
  },
  {
   "cell_type": "code",
   "execution_count": 49,
   "id": "cd66f34e",
   "metadata": {},
   "outputs": [
    {
     "data": {
      "text/plain": [
       "[1, 2, 3, 4, 5, 6, 7, 8, 9, 10]"
      ]
     },
     "execution_count": 49,
     "metadata": {},
     "output_type": "execute_result"
    }
   ],
   "source": [
    "x"
   ]
  },
  {
   "cell_type": "code",
   "execution_count": 51,
   "id": "d08c43c1",
   "metadata": {},
   "outputs": [
    {
     "name": "stdout",
     "output_type": "stream",
     "text": [
      "55\n"
     ]
    }
   ],
   "source": [
    "y = 0\n",
    "for i in x:\n",
    "    y = i + y\n",
    "print(y)"
   ]
  },
  {
   "cell_type": "code",
   "execution_count": 53,
   "id": "158aa354",
   "metadata": {},
   "outputs": [
    {
     "name": "stdout",
     "output_type": "stream",
     "text": [
      "10\n"
     ]
    }
   ],
   "source": [
    "large = x[0]\n",
    "for i in x:\n",
    "    if i >large:\n",
    "        large = i \n",
    "print(large)"
   ]
  },
  {
   "cell_type": "code",
   "execution_count": 54,
   "id": "d670972e",
   "metadata": {},
   "outputs": [
    {
     "data": {
      "text/plain": [
       "8"
      ]
     },
     "execution_count": 54,
     "metadata": {},
     "output_type": "execute_result"
    }
   ],
   "source": [
    "x.index(9)"
   ]
  },
  {
   "cell_type": "code",
   "execution_count": 55,
   "id": "fc070b71",
   "metadata": {},
   "outputs": [
    {
     "data": {
      "text/plain": [
       "[1, 2, 3, 4, 5, 6, 7, 8, 9, 10]"
      ]
     },
     "execution_count": 55,
     "metadata": {},
     "output_type": "execute_result"
    }
   ],
   "source": [
    "x"
   ]
  },
  {
   "cell_type": "code",
   "execution_count": 59,
   "id": "22d776f3",
   "metadata": {},
   "outputs": [
    {
     "name": "stdout",
     "output_type": "stream",
     "text": [
      "55\n"
     ]
    }
   ],
   "source": [
    "y = sum(i for i in x)\n",
    "print(y)"
   ]
  },
  {
   "cell_type": "code",
   "execution_count": 60,
   "id": "08a88e77",
   "metadata": {},
   "outputs": [],
   "source": [
    "y =sum([int(i) for i in x])"
   ]
  },
  {
   "cell_type": "code",
   "execution_count": 61,
   "id": "55210257",
   "metadata": {},
   "outputs": [
    {
     "name": "stdout",
     "output_type": "stream",
     "text": [
      "55\n"
     ]
    }
   ],
   "source": [
    "print(y)"
   ]
  },
  {
   "cell_type": "code",
   "execution_count": 62,
   "id": "431853a2",
   "metadata": {},
   "outputs": [],
   "source": [
    "info = {\"name\" : \"sai\",\n",
    "       \"email\": \"sai@gmail.com\",\n",
    "       \"password\":\"1234\"}"
   ]
  },
  {
   "cell_type": "code",
   "execution_count": 64,
   "id": "cd1972c4",
   "metadata": {},
   "outputs": [
    {
     "data": {
      "text/plain": [
       "'sai'"
      ]
     },
     "execution_count": 64,
     "metadata": {},
     "output_type": "execute_result"
    }
   ],
   "source": [
    "info[\"name\"]"
   ]
  },
  {
   "cell_type": "code",
   "execution_count": 71,
   "id": "6c469d55",
   "metadata": {},
   "outputs": [
    {
     "data": {
      "text/plain": [
       "'sai@gmail.com'"
      ]
     },
     "execution_count": 71,
     "metadata": {},
     "output_type": "execute_result"
    }
   ],
   "source": [
    "info[\"email\"]"
   ]
  },
  {
   "cell_type": "code",
   "execution_count": 81,
   "id": "f1ebab50",
   "metadata": {},
   "outputs": [
    {
     "name": "stdout",
     "output_type": "stream",
     "text": [
      "None\n"
     ]
    }
   ],
   "source": [
    "print(info.get(\"phonenumber\"))"
   ]
  },
  {
   "cell_type": "code",
   "execution_count": 86,
   "id": "9e61a201",
   "metadata": {},
   "outputs": [],
   "source": [
    "info.update({\"phonenumber\":9865734})"
   ]
  },
  {
   "cell_type": "code",
   "execution_count": 87,
   "id": "6b6b9ab8",
   "metadata": {},
   "outputs": [
    {
     "data": {
      "text/plain": [
       "{'name': 'sai',\n",
       " 'email': 'sai@gmail.com',\n",
       " 'password': '1234',\n",
       " 'phonenumber': 9865734}"
      ]
     },
     "execution_count": 87,
     "metadata": {},
     "output_type": "execute_result"
    }
   ],
   "source": [
    "info"
   ]
  },
  {
   "cell_type": "code",
   "execution_count": 65,
   "id": "1c9da786",
   "metadata": {},
   "outputs": [
    {
     "name": "stdout",
     "output_type": "stream",
     "text": [
      "name\n",
      "email\n",
      "password\n"
     ]
    }
   ],
   "source": [
    "for i in info:\n",
    "    print(i)"
   ]
  },
  {
   "cell_type": "code",
   "execution_count": 69,
   "id": "0043a594",
   "metadata": {},
   "outputs": [
    {
     "name": "stdout",
     "output_type": "stream",
     "text": [
      "name sai\n",
      "email sai@gmail.com\n",
      "password 1234\n"
     ]
    }
   ],
   "source": [
    "for i,j in info.items():\n",
    "    print(i, j)"
   ]
  },
  {
   "cell_type": "code",
   "execution_count": 70,
   "id": "d4838eef",
   "metadata": {},
   "outputs": [
    {
     "name": "stdout",
     "output_type": "stream",
     "text": [
      "sai\n",
      "sai@gmail.com\n",
      "1234\n"
     ]
    }
   ],
   "source": [
    "for i in info.values():\n",
    "    print(i)"
   ]
  },
  {
   "cell_type": "code",
   "execution_count": 83,
   "id": "8011a697",
   "metadata": {},
   "outputs": [],
   "source": [
    "info1 = {\"ineuron\": {\"name\":\"Bappy\", \"Age\":22},\n",
    "         \"dswithbappy\": {\"name\":\"dswith\",\"age\":45}\n",
    "        }"
   ]
  },
  {
   "cell_type": "code",
   "execution_count": 84,
   "id": "e9aa2915",
   "metadata": {},
   "outputs": [
    {
     "data": {
      "text/plain": [
       "'Bappy'"
      ]
     },
     "execution_count": 84,
     "metadata": {},
     "output_type": "execute_result"
    }
   ],
   "source": [
    "info1[\"ineuron\"][\"name\"]"
   ]
  },
  {
   "cell_type": "code",
   "execution_count": 85,
   "id": "ef1895fa",
   "metadata": {},
   "outputs": [
    {
     "data": {
      "text/plain": [
       "45"
      ]
     },
     "execution_count": 85,
     "metadata": {},
     "output_type": "execute_result"
    }
   ],
   "source": [
    "info1[\"dswithbappy\"][\"age\"]"
   ]
  },
  {
   "cell_type": "code",
   "execution_count": 89,
   "id": "0aed96d8",
   "metadata": {},
   "outputs": [
    {
     "data": {
      "text/plain": [
       "'Bappy'"
      ]
     },
     "execution_count": 89,
     "metadata": {},
     "output_type": "execute_result"
    }
   ],
   "source": [
    "info1.get(\"ineuron\").get(\"name\")"
   ]
  },
  {
   "cell_type": "code",
   "execution_count": 90,
   "id": "d3ac710f",
   "metadata": {},
   "outputs": [
    {
     "data": {
      "text/plain": [
       "dict_keys(['name', 'email', 'password', 'phonenumber'])"
      ]
     },
     "execution_count": 90,
     "metadata": {},
     "output_type": "execute_result"
    }
   ],
   "source": [
    "info.keys()"
   ]
  },
  {
   "cell_type": "code",
   "execution_count": 91,
   "id": "a58bd7d7",
   "metadata": {},
   "outputs": [
    {
     "data": {
      "text/plain": [
       "dict_keys(['name', 'email', 'password', 'phonenumber'])"
      ]
     },
     "execution_count": 91,
     "metadata": {},
     "output_type": "execute_result"
    }
   ],
   "source": [
    "info.keys()"
   ]
  },
  {
   "cell_type": "code",
   "execution_count": 92,
   "id": "a27d85ee",
   "metadata": {},
   "outputs": [
    {
     "data": {
      "text/plain": [
       "dict_items([('name', 'sai'), ('email', 'sai@gmail.com'), ('password', '1234'), ('phonenumber', 9865734)])"
      ]
     },
     "execution_count": 92,
     "metadata": {},
     "output_type": "execute_result"
    }
   ],
   "source": [
    "info.items()"
   ]
  },
  {
   "cell_type": "code",
   "execution_count": 97,
   "id": "2ace11da",
   "metadata": {},
   "outputs": [],
   "source": [
    "temp = info1.items()"
   ]
  },
  {
   "cell_type": "code",
   "execution_count": 98,
   "id": "c7721981",
   "metadata": {},
   "outputs": [
    {
     "name": "stdout",
     "output_type": "stream",
     "text": [
      "('ineuron', {'name': 'Bappy', 'Age': 22})\n",
      "('dswithbappy', {'name': 'dswith', 'age': 45})\n"
     ]
    }
   ],
   "source": [
    "for i in temp:\n",
    "    print(i)"
   ]
  },
  {
   "cell_type": "code",
   "execution_count": 101,
   "id": "33085da4",
   "metadata": {},
   "outputs": [
    {
     "name": "stdout",
     "output_type": "stream",
     "text": [
      "<class 'tuple'>\n",
      "<class 'tuple'>\n"
     ]
    }
   ],
   "source": [
    "for i in temp:\n",
    "    print(type(i))"
   ]
  },
  {
   "cell_type": "code",
   "execution_count": 99,
   "id": "3d7e1e14",
   "metadata": {},
   "outputs": [
    {
     "data": {
      "text/plain": [
       "dict_items"
      ]
     },
     "execution_count": 99,
     "metadata": {},
     "output_type": "execute_result"
    }
   ],
   "source": [
    "type(temp)"
   ]
  },
  {
   "cell_type": "code",
   "execution_count": 107,
   "id": "b499a19c",
   "metadata": {},
   "outputs": [],
   "source": [
    "student_marks = {\n",
    "    \"class1\":[2,3,4,5,6,7],\n",
    "    \"class2\":(4,5,6,7,8,9)\n",
    "}"
   ]
  },
  {
   "cell_type": "code",
   "execution_count": 108,
   "id": "f4cc9412",
   "metadata": {},
   "outputs": [],
   "source": [
    "a = student_marks[\"class1\"]"
   ]
  },
  {
   "cell_type": "code",
   "execution_count": 109,
   "id": "eef63afb",
   "metadata": {},
   "outputs": [
    {
     "name": "stdout",
     "output_type": "stream",
     "text": [
      "[2, 3, 4, 5, 6, 7]\n"
     ]
    }
   ],
   "source": [
    "print(a)"
   ]
  },
  {
   "cell_type": "code",
   "execution_count": 110,
   "id": "47290aee",
   "metadata": {},
   "outputs": [
    {
     "name": "stdout",
     "output_type": "stream",
     "text": [
      "<class 'list'>\n"
     ]
    }
   ],
   "source": [
    "print(type(a))"
   ]
  },
  {
   "cell_type": "raw",
   "id": "71f99f69",
   "metadata": {},
   "source": []
  },
  {
   "cell_type": "markdown",
   "id": "7fd15b24",
   "metadata": {},
   "source": []
  }
 ],
 "metadata": {
  "kernelspec": {
   "display_name": "Python 3 (ipykernel)",
   "language": "python",
   "name": "python3"
  },
  "language_info": {
   "codemirror_mode": {
    "name": "ipython",
    "version": 3
   },
   "file_extension": ".py",
   "mimetype": "text/x-python",
   "name": "python",
   "nbconvert_exporter": "python",
   "pygments_lexer": "ipython3",
   "version": "3.11.5"
  }
 },
 "nbformat": 4,
 "nbformat_minor": 5
}
