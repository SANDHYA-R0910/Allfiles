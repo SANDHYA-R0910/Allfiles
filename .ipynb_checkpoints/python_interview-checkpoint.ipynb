{
 "cells": [
  {
   "cell_type": "markdown",
   "id": "70c7ff50",
   "metadata": {},
   "source": [
    "1. Convert string to the list"
   ]
  },
  {
   "cell_type": "code",
   "execution_count": 10,
   "id": "57bfed20",
   "metadata": {},
   "outputs": [
    {
     "data": {
      "text/plain": [
       "['my', 'name', 'is', 'sai,am', 'i', 'am', 'teaching', 'data', 'science']"
      ]
     },
     "execution_count": 10,
     "metadata": {},
     "output_type": "execute_result"
    }
   ],
   "source": [
    "string = \"my name is sai,am i am teaching data science\"\n",
    "string.split()"
   ]
  },
  {
   "cell_type": "markdown",
   "id": "924bffd9",
   "metadata": {},
   "source": [
    "2. Remove duplicates from the string"
   ]
  },
  {
   "cell_type": "code",
   "execution_count": 21,
   "id": "a179fed3",
   "metadata": {},
   "outputs": [
    {
     "data": {
      "text/plain": [
       "'my name is sai, and am i am teaching data science'"
      ]
     },
     "execution_count": 21,
     "metadata": {},
     "output_type": "execute_result"
    }
   ],
   "source": [
    "string"
   ]
  },
  {
   "cell_type": "code",
   "execution_count": 22,
   "id": "6b468a97",
   "metadata": {},
   "outputs": [
    {
     "name": "stdout",
     "output_type": "stream",
     "text": [
      "my name is sai, and am i teaching data science\n"
     ]
    }
   ],
   "source": [
    "words = string.split()\n",
    "\n",
    "empty_string = []\n",
    "\n",
    "[empty_string.append(i) for i in words if i not in empty_string]\n",
    "y = \" \".join(empty_string)\n",
    "print(y)\n"
   ]
  },
  {
   "cell_type": "markdown",
   "id": "71bd8fc9",
   "metadata": {},
   "source": [
    "3. Reverse the give string"
   ]
  },
  {
   "cell_type": "code",
   "execution_count": 31,
   "id": "14282aed",
   "metadata": {},
   "outputs": [
    {
     "data": {
      "text/plain": [
       "'my name is sai, and am i am teaching data science'"
      ]
     },
     "execution_count": 31,
     "metadata": {},
     "output_type": "execute_result"
    }
   ],
   "source": [
    "string"
   ]
  },
  {
   "cell_type": "code",
   "execution_count": 32,
   "id": "bf1e9237",
   "metadata": {},
   "outputs": [
    {
     "data": {
      "text/plain": [
       "'ecneics atad gnihcaet ma i ma dna ,ias si eman ym'"
      ]
     },
     "execution_count": 32,
     "metadata": {},
     "output_type": "execute_result"
    }
   ],
   "source": [
    "string[::-1]"
   ]
  },
  {
   "cell_type": "code",
   "execution_count": 43,
   "id": "9a25cb60",
   "metadata": {},
   "outputs": [
    {
     "name": "stdout",
     "output_type": "stream",
     "text": [
      "ecneics atad gnihcaet ma i ma dna ,ias si eman ym\n"
     ]
    }
   ],
   "source": [
    "y = \"\"\n",
    "for i in string:\n",
    "    y = i+y\n",
    "print(y)"
   ]
  },
  {
   "cell_type": "code",
   "execution_count": 42,
   "id": "36182312",
   "metadata": {},
   "outputs": [
    {
     "name": "stdout",
     "output_type": "stream",
     "text": [
      "['ym', 'eman', 'si', ',ias', 'dna', 'ma', 'i', 'ma', 'gnihcaet', 'atad', 'ecneics']\n"
     ]
    }
   ],
   "source": [
    "m = []\n",
    "for i in string.split():\n",
    "    m.append(i[::-1])\n",
    "print(m)"
   ]
  },
  {
   "cell_type": "code",
   "execution_count": 51,
   "id": "9c45a1e7",
   "metadata": {},
   "outputs": [
    {
     "name": "stdout",
     "output_type": "stream",
     "text": [
      "science data teaching am i am and sai, is name my\n"
     ]
    }
   ],
   "source": [
    "k = string.split()\n",
    "l = []\n",
    "\n",
    "for i in reversed(k):\n",
    "    l.append(i)\n",
    "n = \" \".join(l)\n",
    "print(n)"
   ]
  },
  {
   "cell_type": "code",
   "execution_count": 55,
   "id": "dc76e138",
   "metadata": {},
   "outputs": [
    {
     "name": "stdout",
     "output_type": "stream",
     "text": [
      "science data teaching am i am and sai, is name my\n"
     ]
    }
   ],
   "source": [
    "k = string.split()\n",
    "l = []\n",
    "\n",
    "for i in range(len(k)-1,-1,-1):\n",
    "    l.append(k[i])\n",
    "n = \" \".join(l)\n",
    "print(n)"
   ]
  },
  {
   "cell_type": "markdown",
   "id": "1cc1e690",
   "metadata": {},
   "source": [
    "4. Array"
   ]
  },
  {
   "cell_type": "code",
   "execution_count": 56,
   "id": "8fda0024",
   "metadata": {},
   "outputs": [],
   "source": [
    "import numpy as np"
   ]
  },
  {
   "cell_type": "code",
   "execution_count": 60,
   "id": "044fc3e9",
   "metadata": {},
   "outputs": [],
   "source": [
    "arr = (np.array([1,2,3,4,5]))\n"
   ]
  },
  {
   "cell_type": "code",
   "execution_count": 61,
   "id": "685e47e6",
   "metadata": {},
   "outputs": [
    {
     "data": {
      "text/plain": [
       "array([1, 2, 3, 4, 5])"
      ]
     },
     "execution_count": 61,
     "metadata": {},
     "output_type": "execute_result"
    }
   ],
   "source": [
    "arr"
   ]
  },
  {
   "cell_type": "code",
   "execution_count": 67,
   "id": "7c82dc5c",
   "metadata": {},
   "outputs": [
    {
     "name": "stdout",
     "output_type": "stream",
     "text": [
      "[array([5, 4, 3, 2, 1])]\n"
     ]
    }
   ],
   "source": [
    "x = []\n",
    "for i in range(1):\n",
    "    a = arr[::-1]\n",
    "    x.append(a)\n",
    "print(x)\n",
    "\n",
    "   "
   ]
  },
  {
   "cell_type": "code",
   "execution_count": null,
   "id": "0d4abd1f",
   "metadata": {},
   "outputs": [],
   "source": [
    "# 5. Give me the function which can give the sort the given list"
   ]
  },
  {
   "cell_type": "code",
   "execution_count": 78,
   "id": "40f42d63",
   "metadata": {},
   "outputs": [],
   "source": [
    "my_list = [64,83,45,23,78,92]\n",
    "my_list.sort()"
   ]
  },
  {
   "cell_type": "code",
   "execution_count": 79,
   "id": "56a23a59",
   "metadata": {},
   "outputs": [
    {
     "data": {
      "text/plain": [
       "[23, 45, 64, 78, 83, 92]"
      ]
     },
     "execution_count": 79,
     "metadata": {},
     "output_type": "execute_result"
    }
   ],
   "source": [
    "my_list"
   ]
  },
  {
   "cell_type": "code",
   "execution_count": 85,
   "id": "4881f319",
   "metadata": {},
   "outputs": [],
   "source": [
    "my_list = [64,83,45,23,78,92]"
   ]
  },
  {
   "cell_type": "code",
   "execution_count": 95,
   "id": "b186f693",
   "metadata": {},
   "outputs": [],
   "source": [
    "def sort_fun(my_list):\n",
    "    for i in range(len(my_list)):\n",
    "        for j in range(len(my_list)-1):\n",
    "            if my_list[j] > my_list[j+1]:\n",
    "                my_list[j],my_list[j+1] = my_list[j+1],my_list[j]\n",
    "    return my_list\n",
    "\n",
    "# print(\"sorted list\",my_list)\n",
    "a = sort_fun(my_list)"
   ]
  },
  {
   "cell_type": "code",
   "execution_count": 96,
   "id": "e80d95e0",
   "metadata": {},
   "outputs": [
    {
     "name": "stdout",
     "output_type": "stream",
     "text": [
      "[2, 3, 5, 6, 8, 98]\n"
     ]
    }
   ],
   "source": [
    "print(a)"
   ]
  },
  {
   "cell_type": "markdown",
   "id": "ca875f42",
   "metadata": {},
   "source": [
    "# 6  time complexity of the above code\n",
    "#  time complexity is O(n^2)\n",
    "O -->  represents the asymptotic upper bound \n",
    "\n",
    "The outer loop runs \n",
    "\n",
    "n times, where \n",
    "n is the number of elements in the list.\n",
    "Inside the outer loop, the inner loop also runs \n",
    "n times for each iteration of the outer loop.\n",
    "Within the inner loop, there are constant-time operations (comparisons and swapping) performed n square times in the worst case."
   ]
  },
  {
   "cell_type": "markdown",
   "id": "15cf9df0",
   "metadata": {},
   "source": [
    "##7 Can you give me mutablity and immutablity in python"
   ]
  },
  {
   "cell_type": "code",
   "execution_count": 100,
   "id": "a190ed8a",
   "metadata": {},
   "outputs": [],
   "source": [
    "my_list = [1,2,3,4,5]\n",
    "my_list[1] = 6"
   ]
  },
  {
   "cell_type": "code",
   "execution_count": 101,
   "id": "337c0b97",
   "metadata": {},
   "outputs": [
    {
     "data": {
      "text/plain": [
       "[1, 6, 3, 4, 5]"
      ]
     },
     "execution_count": 101,
     "metadata": {},
     "output_type": "execute_result"
    }
   ],
   "source": [
    "my_list"
   ]
  },
  {
   "cell_type": "code",
   "execution_count": 102,
   "id": "bd07608a",
   "metadata": {},
   "outputs": [],
   "source": [
    "my_list = (1,2,3,4,5)"
   ]
  },
  {
   "cell_type": "code",
   "execution_count": 103,
   "id": "1415923a",
   "metadata": {},
   "outputs": [
    {
     "data": {
      "text/plain": [
       "2"
      ]
     },
     "execution_count": 103,
     "metadata": {},
     "output_type": "execute_result"
    }
   ],
   "source": [
    "my_list[1]"
   ]
  },
  {
   "cell_type": "code",
   "execution_count": 104,
   "id": "e5c83b99",
   "metadata": {},
   "outputs": [
    {
     "ename": "TypeError",
     "evalue": "'tuple' object does not support item assignment",
     "output_type": "error",
     "traceback": [
      "\u001b[1;31m---------------------------------------------------------------------------\u001b[0m",
      "\u001b[1;31mTypeError\u001b[0m                                 Traceback (most recent call last)",
      "Cell \u001b[1;32mIn[104], line 1\u001b[0m\n\u001b[1;32m----> 1\u001b[0m my_list[\u001b[38;5;241m1\u001b[39m]\u001b[38;5;241m=\u001b[39m\u001b[38;5;241m9\u001b[39m\n",
      "\u001b[1;31mTypeError\u001b[0m: 'tuple' object does not support item assignment"
     ]
    }
   ],
   "source": [
    "my_list[1]=9"
   ]
  },
  {
   "cell_type": "code",
   "execution_count": 107,
   "id": "4e43bb70",
   "metadata": {},
   "outputs": [],
   "source": [
    "string = \"Hello\""
   ]
  },
  {
   "cell_type": "code",
   "execution_count": 108,
   "id": "00faba17",
   "metadata": {},
   "outputs": [
    {
     "ename": "TypeError",
     "evalue": "'str' object does not support item assignment",
     "output_type": "error",
     "traceback": [
      "\u001b[1;31m---------------------------------------------------------------------------\u001b[0m",
      "\u001b[1;31mTypeError\u001b[0m                                 Traceback (most recent call last)",
      "Cell \u001b[1;32mIn[108], line 1\u001b[0m\n\u001b[1;32m----> 1\u001b[0m string[\u001b[38;5;241m1\u001b[39m]\u001b[38;5;241m=\u001b[39m \u001b[38;5;124m'\u001b[39m\u001b[38;5;124mp\u001b[39m\u001b[38;5;124m'\u001b[39m\n",
      "\u001b[1;31mTypeError\u001b[0m: 'str' object does not support item assignment"
     ]
    }
   ],
   "source": [
    "string[1] = 'p'"
   ]
  },
  {
   "cell_type": "markdown",
   "id": "38ec9a75",
   "metadata": {},
   "source": [
    "Immutable objects are safer to use in multithreaded environments because their state cannot be changed.\n",
    "Mutable objects are generally less memory efficient compared to immutable objects because\n",
    "modifying them often involves creating new objects or modifying existing ones in place.\n",
    "Mutable objects are often used when you need to represent a collection of items that can change over time, \n",
    "whereas immutable objects are useful when you want to ensure that the object's state remains constant."
   ]
  },
  {
   "cell_type": "code",
   "execution_count": 134,
   "id": "9d697328",
   "metadata": {},
   "outputs": [],
   "source": [
    "list1 = ['w','a','w','b']\n",
    "list2 = ['e','','ritting','log']"
   ]
  },
  {
   "cell_type": "code",
   "execution_count": 135,
   "id": "3b46b54f",
   "metadata": {},
   "outputs": [
    {
     "name": "stdout",
     "output_type": "stream",
     "text": [
      "['we', 'a', 'writting', 'blog']\n"
     ]
    }
   ],
   "source": [
    "list3 = []\n",
    "for i in range(len(list1)):\n",
    "               list3.append(list1[i]+list2[i]) \n",
    "print(list3)\n",
    "        "
   ]
  },
  {
   "cell_type": "code",
   "execution_count": 139,
   "id": "18254ea2",
   "metadata": {},
   "outputs": [
    {
     "name": "stdout",
     "output_type": "stream",
     "text": [
      "we\n",
      "a\n",
      "writting\n",
      "blog\n"
     ]
    }
   ],
   "source": [
    "for m,n in zip(list1,list2):\n",
    "    print(m+n)"
   ]
  },
  {
   "cell_type": "code",
   "execution_count": 137,
   "id": "608ce8bb",
   "metadata": {},
   "outputs": [
    {
     "data": {
      "text/plain": [
       "['we', 'a', 'writting', 'blog']"
      ]
     },
     "execution_count": 137,
     "metadata": {},
     "output_type": "execute_result"
    }
   ],
   "source": [
    "[i+j for i,j in zip(list1,list2)]\n"
   ]
  },
  {
   "cell_type": "markdown",
   "id": "0820f690",
   "metadata": {},
   "source": [
    "#7 is removing first item or last item taking in same time in the pysthon list\n",
    "\n",
    "Ans :  Python list do not take the same time."
   ]
  },
  {
   "cell_type": "code",
   "execution_count": 156,
   "id": "2848ed6f",
   "metadata": {},
   "outputs": [],
   "source": [
    "x = [1,2,4,5,7,8,9]\n"
   ]
  },
  {
   "cell_type": "code",
   "execution_count": 157,
   "id": "02c82154",
   "metadata": {},
   "outputs": [
    {
     "data": {
      "text/plain": [
       "9"
      ]
     },
     "execution_count": 157,
     "metadata": {},
     "output_type": "execute_result"
    }
   ],
   "source": [
    "x.pop()"
   ]
  },
  {
   "cell_type": "markdown",
   "id": "694f5e67",
   "metadata": {},
   "source": [
    "O(n)--> strating element\n",
    "O(1)--> Last element \n",
    "\n",
    "O(1) represents constant time complexity, where the time taken is independent of the input size.\n",
    "O(n) represents linear time complexity, where the time taken is directly proportional to the input size.\n",
    "\n",
    "Removing the last item from a list (x.pop()) is faster than removing the first item (x.pop(0)), \n",
    "especially for large lists, because it does not require shifting elements."
   ]
  },
  {
   "cell_type": "code",
   "execution_count": 158,
   "id": "1aef73ac",
   "metadata": {},
   "outputs": [
    {
     "data": {
      "text/plain": [
       "1"
      ]
     },
     "execution_count": 158,
     "metadata": {},
     "output_type": "execute_result"
    }
   ],
   "source": [
    "x.pop(0)"
   ]
  },
  {
   "cell_type": "code",
   "execution_count": 159,
   "id": "ff8b4827",
   "metadata": {},
   "outputs": [
    {
     "data": {
      "text/plain": [
       "[2, 4, 5, 7, 8]"
      ]
     },
     "execution_count": 159,
     "metadata": {},
     "output_type": "execute_result"
    }
   ],
   "source": [
    "x"
   ]
  },
  {
   "cell_type": "markdown",
   "id": "5b7e2646",
   "metadata": {},
   "source": [
    "## 8. Minimun value in the dict"
   ]
  },
  {
   "cell_type": "code",
   "execution_count": 233,
   "id": "535fda8a",
   "metadata": {},
   "outputs": [],
   "source": [
    "my_dict = {'a':10,'b':5,'c':8,'d':3}\n"
   ]
  },
  {
   "cell_type": "code",
   "execution_count": 195,
   "id": "42e5f87c",
   "metadata": {},
   "outputs": [
    {
     "data": {
      "text/plain": [
       "3"
      ]
     },
     "execution_count": 195,
     "metadata": {},
     "output_type": "execute_result"
    }
   ],
   "source": [
    "min(my_dict.values())"
   ]
  },
  {
   "cell_type": "code",
   "execution_count": 196,
   "id": "201f6385",
   "metadata": {},
   "outputs": [
    {
     "data": {
      "text/plain": [
       "'a'"
      ]
     },
     "execution_count": 196,
     "metadata": {},
     "output_type": "execute_result"
    }
   ],
   "source": [
    "min(my_dict.keys())"
   ]
  },
  {
   "cell_type": "code",
   "execution_count": 227,
   "id": "4c552967",
   "metadata": {},
   "outputs": [],
   "source": [
    "min_key = None\n",
    "min_value = float('inf')\n"
   ]
  },
  {
   "cell_type": "code",
   "execution_count": 228,
   "id": "ddfc299c",
   "metadata": {},
   "outputs": [],
   "source": [
    "min_key"
   ]
  },
  {
   "cell_type": "code",
   "execution_count": 229,
   "id": "5661c9e6",
   "metadata": {},
   "outputs": [
    {
     "data": {
      "text/plain": [
       "inf"
      ]
     },
     "execution_count": 229,
     "metadata": {},
     "output_type": "execute_result"
    }
   ],
   "source": [
    "min_value"
   ]
  },
  {
   "cell_type": "code",
   "execution_count": 287,
   "id": "b30b97a3",
   "metadata": {},
   "outputs": [],
   "source": [
    "min_key, min_value = next(iter(my_dict.items()))"
   ]
  },
  {
   "cell_type": "code",
   "execution_count": 288,
   "id": "f3be3182",
   "metadata": {},
   "outputs": [],
   "source": [
    "for i, j in my_dict.items():\n",
    "    if j < min_value:\n",
    "        min_value = j\n",
    "    if i < min_key:\n",
    "        min_key = i \n"
   ]
  },
  {
   "cell_type": "code",
   "execution_count": 289,
   "id": "bc953e5b",
   "metadata": {},
   "outputs": [
    {
     "name": "stdout",
     "output_type": "stream",
     "text": [
      "a\n",
      "3\n"
     ]
    }
   ],
   "source": [
    "print(min_key)\n",
    "print(min_value)"
   ]
  },
  {
   "cell_type": "markdown",
   "id": "9a35dad2",
   "metadata": {},
   "source": [
    "#9 i want shuffle the element inside  the list"
   ]
  },
  {
   "cell_type": "code",
   "execution_count": 281,
   "id": "582842f1",
   "metadata": {},
   "outputs": [],
   "source": [
    "list = [\"python\",\"is\",\"Easy\",\"if\",\"sunny\",\"teaching\"]"
   ]
  },
  {
   "cell_type": "code",
   "execution_count": 269,
   "id": "e9e343dd",
   "metadata": {},
   "outputs": [],
   "source": [
    "import random\n",
    "random.shuffle(list)"
   ]
  },
  {
   "cell_type": "code",
   "execution_count": 268,
   "id": "5410a26f",
   "metadata": {},
   "outputs": [
    {
     "data": {
      "text/plain": [
       "['python', 'Easy', 'sunny', 'teaching', 'is', 'if']"
      ]
     },
     "execution_count": 268,
     "metadata": {},
     "output_type": "execute_result"
    }
   ],
   "source": [
    "list"
   ]
  },
  {
   "cell_type": "code",
   "execution_count": 270,
   "id": "14b78317",
   "metadata": {},
   "outputs": [
    {
     "data": {
      "text/plain": [
       "['sunny', 'is', 'Easy', 'teaching', 'if', 'python']"
      ]
     },
     "execution_count": 270,
     "metadata": {},
     "output_type": "execute_result"
    }
   ],
   "source": [
    "list"
   ]
  },
  {
   "cell_type": "markdown",
   "id": "f593a82a",
   "metadata": {},
   "source": [
    "#10. Remove all the white spaces in a string"
   ]
  },
  {
   "cell_type": "code",
   "execution_count": 254,
   "id": "c159bbfb",
   "metadata": {},
   "outputs": [],
   "source": [
    "string = \" C O D E \""
   ]
  },
  {
   "cell_type": "code",
   "execution_count": 255,
   "id": "cf16b29f",
   "metadata": {},
   "outputs": [
    {
     "data": {
      "text/plain": [
       "'CODE'"
      ]
     },
     "execution_count": 255,
     "metadata": {},
     "output_type": "execute_result"
    }
   ],
   "source": [
    "string.replace(' ','')"
   ]
  },
  {
   "cell_type": "code",
   "execution_count": 271,
   "id": "4b63eff0",
   "metadata": {},
   "outputs": [
    {
     "data": {
      "text/plain": [
       "'CODE'"
      ]
     },
     "execution_count": 271,
     "metadata": {},
     "output_type": "execute_result"
    }
   ],
   "source": [
    "\"\".join(string.split())"
   ]
  },
  {
   "cell_type": "markdown",
   "id": "74a25602",
   "metadata": {},
   "source": [
    "# 11. write a python program to find the secong largest number in the given list"
   ]
  },
  {
   "cell_type": "code",
   "execution_count": 300,
   "id": "5475532c",
   "metadata": {},
   "outputs": [
    {
     "name": "stdout",
     "output_type": "stream",
     "text": [
      "67\n"
     ]
    }
   ],
   "source": [
    "list = [2,4,6,89,45,67]\n",
    "sorted_number = sorted(list,reverse=True)\n",
    "second_largest = sorted_number[1]\n",
    "print(second_largest)"
   ]
  },
  {
   "cell_type": "code",
   "execution_count": 318,
   "id": "0a2d62fc",
   "metadata": {},
   "outputs": [],
   "source": [
    "list = [2,4,6,89,45,67]\n"
   ]
  },
  {
   "cell_type": "code",
   "execution_count": 311,
   "id": "aeac6eac",
   "metadata": {},
   "outputs": [
    {
     "data": {
      "text/plain": [
       "[2, 4, 6, 45, 67, 89]"
      ]
     },
     "execution_count": 311,
     "metadata": {},
     "output_type": "execute_result"
    }
   ],
   "source": [
    "list.sort()\n",
    "list"
   ]
  },
  {
   "cell_type": "code",
   "execution_count": 313,
   "id": "87a31e54",
   "metadata": {},
   "outputs": [],
   "source": [
    "list.reverse()"
   ]
  },
  {
   "cell_type": "code",
   "execution_count": 314,
   "id": "311f54a1",
   "metadata": {},
   "outputs": [
    {
     "data": {
      "text/plain": [
       "[89, 67, 45, 6, 4, 2]"
      ]
     },
     "execution_count": 314,
     "metadata": {},
     "output_type": "execute_result"
    }
   ],
   "source": [
    "list"
   ]
  },
  {
   "cell_type": "code",
   "execution_count": 315,
   "id": "8fb475ad",
   "metadata": {},
   "outputs": [
    {
     "data": {
      "text/plain": [
       "67"
      ]
     },
     "execution_count": 315,
     "metadata": {},
     "output_type": "execute_result"
    }
   ],
   "source": [
    "list[1]"
   ]
  },
  {
   "cell_type": "code",
   "execution_count": 320,
   "id": "66085335",
   "metadata": {},
   "outputs": [],
   "source": [
    "sorted_numbers = sorted(list, reverse=True)"
   ]
  },
  {
   "cell_type": "code",
   "execution_count": 321,
   "id": "6b5b0c66",
   "metadata": {},
   "outputs": [],
   "source": [
    "second_largest = sorted_numbers[1]"
   ]
  },
  {
   "cell_type": "code",
   "execution_count": null,
   "id": "f73fc952",
   "metadata": {},
   "outputs": [],
   "source": []
  }
 ],
 "metadata": {
  "kernelspec": {
   "display_name": "Python 3 (ipykernel)",
   "language": "python",
   "name": "python3"
  },
  "language_info": {
   "codemirror_mode": {
    "name": "ipython",
    "version": 3
   },
   "file_extension": ".py",
   "mimetype": "text/x-python",
   "name": "python",
   "nbconvert_exporter": "python",
   "pygments_lexer": "ipython3",
   "version": "3.11.5"
  }
 },
 "nbformat": 4,
 "nbformat_minor": 5
}
