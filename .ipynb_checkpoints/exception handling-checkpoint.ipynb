{
 "cells": [
  {
   "cell_type": "code",
   "execution_count": 1,
   "id": "c78a2ca6",
   "metadata": {},
   "outputs": [
    {
     "name": "stdout",
     "output_type": "stream",
     "text": [
      "30\n"
     ]
    }
   ],
   "source": [
    "a=10\n",
    "b=20\n",
    "c=a+b\n",
    "print(c)\n"
   ]
  },
  {
   "cell_type": "code",
   "execution_count": 2,
   "id": "00b66f2b",
   "metadata": {},
   "outputs": [],
   "source": [
    "#complie time error(synatx error)\n",
    "#source code-->complier"
   ]
  },
  {
   "cell_type": "code",
   "execution_count": 3,
   "id": "a7145421",
   "metadata": {},
   "outputs": [
    {
     "ename": "SyntaxError",
     "evalue": "unexpected EOF while parsing (Temp/ipykernel_13452/1116166254.py, line 4)",
     "output_type": "error",
     "traceback": [
      "\u001b[1;36m  File \u001b[1;32m\"C:\\Users\\admin\\AppData\\Local\\Temp/ipykernel_13452/1116166254.py\"\u001b[1;36m, line \u001b[1;32m4\u001b[0m\n\u001b[1;33m    print(c\u001b[0m\n\u001b[1;37m           ^\u001b[0m\n\u001b[1;31mSyntaxError\u001b[0m\u001b[1;31m:\u001b[0m unexpected EOF while parsing\n"
     ]
    }
   ],
   "source": [
    "a=10\n",
    "b=20\n",
    "c=a+b\n",
    "print(c"
   ]
  },
  {
   "cell_type": "code",
   "execution_count": null,
   "id": "43c94652",
   "metadata": {},
   "outputs": [],
   "source": [
    "#Runtime error or exception (logical error)"
   ]
  },
  {
   "cell_type": "code",
   "execution_count": null,
   "id": "23f11fcc",
   "metadata": {},
   "outputs": [],
   "source": [
    "#source code--->complier-->byte code(machine code)-->interpreter"
   ]
  },
  {
   "cell_type": "code",
   "execution_count": null,
   "id": "0e87964b",
   "metadata": {},
   "outputs": [],
   "source": [
    "a=10\n",
    "b=\"abc\"\n",
    "c=a+b\n",
    "print(c)"
   ]
  },
  {
   "cell_type": "code",
   "execution_count": null,
   "id": "297f5543",
   "metadata": {},
   "outputs": [],
   "source": [
    "# why exception handling?\n",
    "--> it will stop the further code of lines\n",
    "---> its not user friendly"
   ]
  },
  {
   "cell_type": "code",
   "execution_count": null,
   "id": "4bb08bcb",
   "metadata": {},
   "outputs": [],
   "source": [
    "a=int(input(\"enter first num\"))\n",
    "b=int(input(\"enter second num\"))\n",
    "c=a/b\n",
    "print(c)\n",
    "d=a*b\n",
    "print(d)"
   ]
  },
  {
   "cell_type": "code",
   "execution_count": null,
   "id": "58d2e8d0",
   "metadata": {},
   "outputs": [],
   "source": [
    "#try\n",
    "#except\n",
    "#else\n",
    "#raise\n",
    "#finally"
   ]
  },
  {
   "cell_type": "code",
   "execution_count": null,
   "id": "9d763b3e",
   "metadata": {},
   "outputs": [],
   "source": [
    "a=int(input(\"enter first num\"))\n",
    "b=int(input(\"enter second num\"))\n",
    "try:\n",
    "    c=a/b\n",
    "    print(c)\n",
    "except ZeroDivisionError:\n",
    "    print(\"b should not be a zero\")\n",
    "    #d=a*b\n",
    "    #print(d)"
   ]
  },
  {
   "cell_type": "code",
   "execution_count": null,
   "id": "f2b7105a",
   "metadata": {},
   "outputs": [],
   "source": [
    "#code---->1. function--->def abc():\n",
    "#         2. oops-->class abc:-->object of class"
   ]
  },
  {
   "cell_type": "code",
   "execution_count": null,
   "id": "5e70740d",
   "metadata": {},
   "outputs": [],
   "source": [
    "a=int(input(\"enter first num\"))\n",
    "b=int(input(\"enter second num\"))\n",
    "try:\n",
    "    c=a/b\n",
    "    print(c)\n",
    "except:\n",
    "    print(\"wrong syntax\")\n",
    "d=a+b\n",
    "print(d)"
   ]
  },
  {
   "cell_type": "code",
   "execution_count": null,
   "id": "c1fed16e",
   "metadata": {},
   "outputs": [],
   "source": [
    "a=int(input(\"enter first num\"))\n",
    "b=int(input(\"enter second num\"))\n",
    "try:\n",
    "    c=a/b\n",
    "    print(c))\n",
    "except:\n",
    "    print(\"wrong syntax\")\n",
    "d=a+b\n",
    "print(d)"
   ]
  },
  {
   "cell_type": "code",
   "execution_count": null,
   "id": "802b7272",
   "metadata": {},
   "outputs": [],
   "source": [
    "#task\n",
    "Write a program to ask the user to input 2 integers and calculate and print their division. Make sure your program behaves as follows:\n",
    "\n",
    "If the user enters a non integer value then ask him to enter only integers If denominator is 0 , then ask him to input non-zero denominator Repeat the process until correct input is given\n",
    "\n",
    "Only if the inputs are correct then display their division and terminate the code"
   ]
  },
  {
   "cell_type": "code",
   "execution_count": null,
   "id": "5bba9af2",
   "metadata": {},
   "outputs": [],
   "source": [
    "try:\n",
    "    x=int(input(\"enter num\"))\n",
    "    y=int(input(\"enter num\"))\n",
    "    c=a/b\n",
    "    print(c)\n",
    "    d=a+b\n",
    "    print(d)\n",
    "except ZeroDivisionError :\n",
    "    print(\"enter non-zero inputs in denominator \")\n",
    "except ValueError:\n",
    "    print(\"enter only integer inputs\")\n",
    "\n",
    "\n",
    "    "
   ]
  },
  {
   "cell_type": "code",
   "execution_count": null,
   "id": "b72c2f52",
   "metadata": {},
   "outputs": [],
   "source": [
    "#wrong input-->infinite\n",
    "#correct input --->finite"
   ]
  },
  {
   "cell_type": "code",
   "execution_count": null,
   "id": "151a8dc4",
   "metadata": {},
   "outputs": [],
   "source": [
    "while True:\n",
    "    try:\n",
    "        x=int(input(\"enter num\"))\n",
    "        y=int(input(\"enter num\"))\n",
    "        z=x/y\n",
    "        print(z)\n",
    "        break\n",
    "    except ZeroDivisionError:\n",
    "        print(\"non zero denominator \")\n",
    "        \n",
    "    except ValueError:\n",
    "        print(\"there should not be string\")\n",
    "    \n",
    "    \n",
    "    "
   ]
  },
  {
   "cell_type": "code",
   "execution_count": null,
   "id": "a98ca7a3",
   "metadata": {},
   "outputs": [],
   "source": [
    "while True:\n",
    "    name=input(\"write your name\")\n",
    "    if name == \"sunny\":\n",
    "        print(\"sunny\")\n",
    "        break\n",
    "        "
   ]
  },
  {
   "cell_type": "code",
   "execution_count": null,
   "id": "c84d6de3",
   "metadata": {},
   "outputs": [],
   "source": [
    "try:\n",
    "    int(input(\"enter string\"))\n",
    "except:\n",
    "    print(\"string not allow\")"
   ]
  },
  {
   "cell_type": "code",
   "execution_count": null,
   "id": "1cfdf9af",
   "metadata": {},
   "outputs": [],
   "source": [
    "while True:\n",
    "    try:\n",
    "        a=int(input(\"first number\"))\n",
    "        b=int(input(\"second num\"))\n",
    "        c=a/b\n",
    "        print(\"div:\", c)\n",
    "        break\n",
    "    except ZeroDivisionError as e:\n",
    "        print(e)\n",
    "        "
   ]
  },
  {
   "cell_type": "code",
   "execution_count": null,
   "id": "21c8042e",
   "metadata": {},
   "outputs": [],
   "source": [
    "import sys\n",
    "while True:\n",
    "    try:\n",
    "        a=int(input(\"first number\"))\n",
    "        b=int(input(\"second num\"))\n",
    "        c=a/b\n",
    "        print(\"div:\", c)\n",
    "        break\n",
    "    except:\n",
    "        print(sys.exc_info())\n",
    "        "
   ]
  },
  {
   "cell_type": "code",
   "execution_count": null,
   "id": "f3472c6d",
   "metadata": {},
   "outputs": [],
   "source": [
    "#sys--->module\n",
    "# .py---->python file (module)"
   ]
  },
  {
   "cell_type": "markdown",
   "id": "37b77e3b",
   "metadata": {},
   "source": [
    "# packing and unpacking"
   ]
  },
  {
   "cell_type": "code",
   "execution_count": null,
   "id": "28c78105",
   "metadata": {},
   "outputs": [],
   "source": [
    "a,b,c =(1,2,3)"
   ]
  },
  {
   "cell_type": "code",
   "execution_count": null,
   "id": "8d96da50",
   "metadata": {},
   "outputs": [],
   "source": [
    "a"
   ]
  },
  {
   "cell_type": "code",
   "execution_count": null,
   "id": "70293685",
   "metadata": {},
   "outputs": [],
   "source": [
    "b"
   ]
  },
  {
   "cell_type": "code",
   "execution_count": null,
   "id": "1e0122b9",
   "metadata": {},
   "outputs": [],
   "source": [
    "b"
   ]
  },
  {
   "cell_type": "code",
   "execution_count": null,
   "id": "8e4c456a",
   "metadata": {},
   "outputs": [],
   "source": [
    "c\n"
   ]
  },
  {
   "cell_type": "code",
   "execution_count": null,
   "id": "f57dd91d",
   "metadata": {},
   "outputs": [],
   "source": [
    "import sys\n",
    "while True:\n",
    "    try:\n",
    "        a=int(input(\"first number\"))\n",
    "        b=int(input(\"second num\"))\n",
    "        c=a/b\n",
    "        print(\"div:\", c)\n",
    "        break\n",
    "    except:\n",
    "        a,b,c=sys.exc_info()\n",
    "        print(\"exception class\",a)\n",
    "        print(\"exception messgae\",b)\n",
    "        print(\"line number\",c.tb_lineno)\n",
    "        "
   ]
  },
  {
   "cell_type": "code",
   "execution_count": null,
   "id": "327873e1",
   "metadata": {},
   "outputs": [],
   "source": [
    "#import sys.exc.info()\n",
    "import traceback.format_exc()"
   ]
  },
  {
   "cell_type": "code",
   "execution_count": null,
   "id": "b956be92",
   "metadata": {},
   "outputs": [],
   "source": [
    "import traceback\n",
    "while True:\n",
    "    try:\n",
    "        a=int(input(\"first number\"))\n",
    "        b=int(input(\"second num\"))\n",
    "        c=a/b\n",
    "        print(\"div:\", c)\n",
    "        break\n",
    "    except:\n",
    "        print(traceback.format_exc())"
   ]
  },
  {
   "cell_type": "code",
   "execution_count": null,
   "id": "830e8038",
   "metadata": {},
   "outputs": [],
   "source": [
    "a=10\n",
    "b=0\n",
    "c=a/b\n",
    "print(c)"
   ]
  },
  {
   "cell_type": "code",
   "execution_count": null,
   "id": "4779ef8a",
   "metadata": {},
   "outputs": [],
   "source": [
    "#raise exception"
   ]
  },
  {
   "cell_type": "code",
   "execution_count": null,
   "id": "fc953e9e",
   "metadata": {},
   "outputs": [],
   "source": [
    "#at custom line"
   ]
  },
  {
   "cell_type": "code",
   "execution_count": null,
   "id": "7a064648",
   "metadata": {},
   "outputs": [],
   "source": [
    "while True:\n",
    "    try:\n",
    "        a=int(input(\"first num\"))\n",
    "        b=int(input(\"second num\"))\n",
    "        if a<0 or b<0: \n",
    "            raise Exception(\"negative num not allowed\")\n",
    "        c=a/b\n",
    "        print(\"div is\",c)\n",
    "        break\n",
    "    except ValueError:\n",
    "        print(\"please enter int no only\")\n",
    "    except ZeroDivisionError:\n",
    "        print(\"please enter non zero denomitor\")\n",
    "    except Exception as e:\n",
    "        print(e)"
   ]
  },
  {
   "cell_type": "code",
   "execution_count": null,
   "id": "44f59782",
   "metadata": {},
   "outputs": [],
   "source": [
    "# exception class in python already they have defined and we are calling this calss"
   ]
  },
  {
   "cell_type": "code",
   "execution_count": null,
   "id": "0965f309",
   "metadata": {},
   "outputs": [],
   "source": [
    "#if you are going to define this class in your code so it will run"
   ]
  },
  {
   "cell_type": "code",
   "execution_count": null,
   "id": "ae803cb0",
   "metadata": {},
   "outputs": [],
   "source": [
    "class NegativeNumberException(Exception):\n",
    "    pass"
   ]
  },
  {
   "cell_type": "code",
   "execution_count": null,
   "id": "9b9d6d83",
   "metadata": {},
   "outputs": [],
   "source": [
    "while True:\n",
    "    try:\n",
    "        a=int(input(\"first num\"))\n",
    "        b=int(input(\"second num\"))\n",
    "        if a<0 or b<0: \n",
    "            raise NegativeNumberException(\"negative num not allowed\")\n",
    "        c=a/b\n",
    "        print(\"div is\",c)\n",
    "        break\n",
    "    except ValueError:\n",
    "        print(\"please enter int no only\")\n",
    "    except ZeroDivisionError:\n",
    "        print(\"please enter non zero denomitor\")\n",
    "    except NegativeNumberException as e:\n",
    "        print(e)"
   ]
  },
  {
   "cell_type": "code",
   "execution_count": null,
   "id": "1604f56b",
   "metadata": {},
   "outputs": [],
   "source": [
    "### final block"
   ]
  },
  {
   "cell_type": "code",
   "execution_count": 5,
   "id": "acd25cf0",
   "metadata": {},
   "outputs": [
    {
     "name": "stdout",
     "output_type": "stream",
     "text": [
      "first num10\n",
      "second num0\n",
      "dont use zero in denominator \n",
      "hello\n",
      "python\n"
     ]
    }
   ],
   "source": [
    "try:\n",
    "    a=int(input(\"first num\"))\n",
    "    b=int(input(\"second num\"))\n",
    "    c=a/b\n",
    "    print(c)\n",
    "    \n",
    "except:\n",
    "    print(\"dont use zero in denominator \")\n",
    "finally:\n",
    "    print(\"hello\")\n",
    "    print(\"python\")\n",
    "#finally:"
   ]
  },
  {
   "cell_type": "code",
   "execution_count": null,
   "id": "df2e4677",
   "metadata": {},
   "outputs": [],
   "source": [
    "#1.we have created one database\n",
    "#we forgot to close the connection\n",
    "\n",
    "#2. cloud service\n",
    "#those application we forgot to terminate"
   ]
  },
  {
   "cell_type": "code",
   "execution_count": 7,
   "id": "664aa12f",
   "metadata": {},
   "outputs": [
    {
     "name": "stdout",
     "output_type": "stream",
     "text": [
      "first num10\n",
      "second num0\n",
      "dont use zero in denominator \n"
     ]
    }
   ],
   "source": [
    "try:\n",
    "    a=int(input(\"first num\"))\n",
    "    b=int(input(\"second num\"))\n",
    "    c=a/b\n",
    "    print(c)\n",
    "except:\n",
    "    print(\"dont use zero in denominator \")\n",
    "else:\n",
    "    print(\"python rocks!\")\n",
    "    \n",
    "    "
   ]
  },
  {
   "cell_type": "code",
   "execution_count": 12,
   "id": "2f0ae74f",
   "metadata": {},
   "outputs": [],
   "source": [
    "def test():\n",
    "    try:\n",
    "        a=int(input(\"first num\"))\n",
    "        b=int(input(\"second num\"))\n",
    "        c=a/b\n",
    "        print(c)\n",
    "    except:\n",
    "        print(\"dont use zero in denominator \")\n",
    "    else:\n",
    "        print(\"python rocks!\")\n",
    "    "
   ]
  },
  {
   "cell_type": "code",
   "execution_count": 13,
   "id": "9f09a8e6",
   "metadata": {},
   "outputs": [
    {
     "name": "stdout",
     "output_type": "stream",
     "text": [
      "first num10\n",
      "second num20\n",
      "0.5\n",
      "python rocks!\n"
     ]
    }
   ],
   "source": [
    "test()"
   ]
  },
  {
   "cell_type": "code",
   "execution_count": null,
   "id": "cfb9b2ed",
   "metadata": {},
   "outputs": [],
   "source": []
  },
  {
   "cell_type": "code",
   "execution_count": null,
   "id": "f6a0aaac",
   "metadata": {},
   "outputs": [],
   "source": []
  }
 ],
 "metadata": {
  "kernelspec": {
   "display_name": "Python 3 (ipykernel)",
   "language": "python",
   "name": "python3"
  },
  "language_info": {
   "codemirror_mode": {
    "name": "ipython",
    "version": 3
   },
   "file_extension": ".py",
   "mimetype": "text/x-python",
   "name": "python",
   "nbconvert_exporter": "python",
   "pygments_lexer": "ipython3",
   "version": "3.9.7"
  }
 },
 "nbformat": 4,
 "nbformat_minor": 5
}
