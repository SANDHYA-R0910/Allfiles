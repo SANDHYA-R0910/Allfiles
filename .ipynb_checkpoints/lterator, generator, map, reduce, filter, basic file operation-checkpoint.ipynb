{
 "cells": [
  {
   "cell_type": "code",
   "execution_count": 1,
   "id": "ff7446fa",
   "metadata": {},
   "outputs": [],
   "source": [
    "l=[1,2,3,4,5,5]\n"
   ]
  },
  {
   "cell_type": "code",
   "execution_count": 2,
   "id": "2a383554",
   "metadata": {},
   "outputs": [
    {
     "name": "stdout",
     "output_type": "stream",
     "text": [
      "1\n",
      "2\n",
      "3\n",
      "4\n",
      "5\n",
      "5\n"
     ]
    }
   ],
   "source": [
    "for i in l:\n",
    "    print(i)"
   ]
  },
  {
   "cell_type": "code",
   "execution_count": 3,
   "id": "82e71b32",
   "metadata": {},
   "outputs": [
    {
     "ename": "TypeError",
     "evalue": "'list' object is not an iterator",
     "output_type": "error",
     "traceback": [
      "\u001b[1;31m---------------------------------------------------------------------------\u001b[0m",
      "\u001b[1;31mTypeError\u001b[0m                                 Traceback (most recent call last)",
      "\u001b[1;32m~\\AppData\\Local\\Temp/ipykernel_12660/2016234150.py\u001b[0m in \u001b[0;36m<module>\u001b[1;34m\u001b[0m\n\u001b[1;32m----> 1\u001b[1;33m \u001b[0mnext\u001b[0m\u001b[1;33m(\u001b[0m\u001b[0ml\u001b[0m\u001b[1;33m)\u001b[0m\u001b[1;33m\u001b[0m\u001b[1;33m\u001b[0m\u001b[0m\n\u001b[0m",
      "\u001b[1;31mTypeError\u001b[0m: 'list' object is not an iterator"
     ]
    }
   ],
   "source": [
    "next(l)"
   ]
  },
  {
   "cell_type": "code",
   "execution_count": null,
   "id": "0e58a4c6",
   "metadata": {},
   "outputs": [],
   "source": [
    "#next is a inbulit function "
   ]
  },
  {
   "cell_type": "code",
   "execution_count": 4,
   "id": "c717b53b",
   "metadata": {},
   "outputs": [],
   "source": [
    "b=iter(l)"
   ]
  },
  {
   "cell_type": "code",
   "execution_count": 5,
   "id": "c752aaf7",
   "metadata": {},
   "outputs": [
    {
     "data": {
      "text/plain": [
       "1"
      ]
     },
     "execution_count": 5,
     "metadata": {},
     "output_type": "execute_result"
    }
   ],
   "source": [
    "next(b)"
   ]
  },
  {
   "cell_type": "code",
   "execution_count": 6,
   "id": "d71ec359",
   "metadata": {},
   "outputs": [
    {
     "data": {
      "text/plain": [
       "2"
      ]
     },
     "execution_count": 6,
     "metadata": {},
     "output_type": "execute_result"
    }
   ],
   "source": [
    "next(b)"
   ]
  },
  {
   "cell_type": "code",
   "execution_count": 7,
   "id": "04f94719",
   "metadata": {},
   "outputs": [
    {
     "data": {
      "text/plain": [
       "3"
      ]
     },
     "execution_count": 7,
     "metadata": {},
     "output_type": "execute_result"
    }
   ],
   "source": [
    "next(b)"
   ]
  },
  {
   "cell_type": "code",
   "execution_count": 8,
   "id": "15155443",
   "metadata": {},
   "outputs": [
    {
     "data": {
      "text/plain": [
       "4"
      ]
     },
     "execution_count": 8,
     "metadata": {},
     "output_type": "execute_result"
    }
   ],
   "source": [
    "next(b)"
   ]
  },
  {
   "cell_type": "code",
   "execution_count": 9,
   "id": "dbe98bde",
   "metadata": {},
   "outputs": [
    {
     "data": {
      "text/plain": [
       "5"
      ]
     },
     "execution_count": 9,
     "metadata": {},
     "output_type": "execute_result"
    }
   ],
   "source": [
    "next(b)"
   ]
  },
  {
   "cell_type": "code",
   "execution_count": 10,
   "id": "16d8a4f7",
   "metadata": {},
   "outputs": [
    {
     "data": {
      "text/plain": [
       "5"
      ]
     },
     "execution_count": 10,
     "metadata": {},
     "output_type": "execute_result"
    }
   ],
   "source": [
    "next(b)"
   ]
  },
  {
   "cell_type": "code",
   "execution_count": 11,
   "id": "f17bb306",
   "metadata": {},
   "outputs": [
    {
     "ename": "StopIteration",
     "evalue": "",
     "output_type": "error",
     "traceback": [
      "\u001b[1;31m---------------------------------------------------------------------------\u001b[0m",
      "\u001b[1;31mStopIteration\u001b[0m                             Traceback (most recent call last)",
      "\u001b[1;32m~\\AppData\\Local\\Temp/ipykernel_12660/973617480.py\u001b[0m in \u001b[0;36m<module>\u001b[1;34m\u001b[0m\n\u001b[1;32m----> 1\u001b[1;33m \u001b[0mnext\u001b[0m\u001b[1;33m(\u001b[0m\u001b[0mb\u001b[0m\u001b[1;33m)\u001b[0m\u001b[1;33m\u001b[0m\u001b[1;33m\u001b[0m\u001b[0m\n\u001b[0m",
      "\u001b[1;31mStopIteration\u001b[0m: "
     ]
    }
   ],
   "source": [
    "next(b)"
   ]
  },
  {
   "cell_type": "code",
   "execution_count": 12,
   "id": "d5ea7618",
   "metadata": {},
   "outputs": [],
   "source": [
    "#iterable--->\n",
    "#iterator--->"
   ]
  },
  {
   "cell_type": "code",
   "execution_count": 13,
   "id": "5b538e54",
   "metadata": {},
   "outputs": [],
   "source": [
    "#for loop --->iterbale to iterator"
   ]
  },
  {
   "cell_type": "code",
   "execution_count": 14,
   "id": "261ef02a",
   "metadata": {},
   "outputs": [
    {
     "ename": "TypeError",
     "evalue": "'int' object is not an iterator",
     "output_type": "error",
     "traceback": [
      "\u001b[1;31m---------------------------------------------------------------------------\u001b[0m",
      "\u001b[1;31mTypeError\u001b[0m                                 Traceback (most recent call last)",
      "\u001b[1;32m~\\AppData\\Local\\Temp/ipykernel_12660/2317411141.py\u001b[0m in \u001b[0;36m<module>\u001b[1;34m\u001b[0m\n\u001b[1;32m----> 1\u001b[1;33m \u001b[0mnext\u001b[0m\u001b[1;33m(\u001b[0m\u001b[1;36m45\u001b[0m\u001b[1;33m)\u001b[0m\u001b[1;33m\u001b[0m\u001b[1;33m\u001b[0m\u001b[0m\n\u001b[0m",
      "\u001b[1;31mTypeError\u001b[0m: 'int' object is not an iterator"
     ]
    }
   ],
   "source": [
    "next(45)"
   ]
  },
  {
   "cell_type": "code",
   "execution_count": 15,
   "id": "8145f2ae",
   "metadata": {},
   "outputs": [
    {
     "ename": "TypeError",
     "evalue": "'int' object is not iterable",
     "output_type": "error",
     "traceback": [
      "\u001b[1;31m---------------------------------------------------------------------------\u001b[0m",
      "\u001b[1;31mTypeError\u001b[0m                                 Traceback (most recent call last)",
      "\u001b[1;32m~\\AppData\\Local\\Temp/ipykernel_12660/3186544426.py\u001b[0m in \u001b[0;36m<module>\u001b[1;34m\u001b[0m\n\u001b[1;32m----> 1\u001b[1;33m \u001b[0miter\u001b[0m\u001b[1;33m(\u001b[0m\u001b[1;36m45\u001b[0m\u001b[1;33m)\u001b[0m\u001b[1;33m\u001b[0m\u001b[1;33m\u001b[0m\u001b[0m\n\u001b[0m",
      "\u001b[1;31mTypeError\u001b[0m: 'int' object is not iterable"
     ]
    }
   ],
   "source": [
    "iter(45)"
   ]
  },
  {
   "cell_type": "code",
   "execution_count": 16,
   "id": "6e1384c1",
   "metadata": {},
   "outputs": [
    {
     "ename": "TypeError",
     "evalue": "'int' object is not iterable",
     "output_type": "error",
     "traceback": [
      "\u001b[1;31m---------------------------------------------------------------------------\u001b[0m",
      "\u001b[1;31mTypeError\u001b[0m                                 Traceback (most recent call last)",
      "\u001b[1;32m~\\AppData\\Local\\Temp/ipykernel_12660/692675371.py\u001b[0m in \u001b[0;36m<module>\u001b[1;34m\u001b[0m\n\u001b[1;32m----> 1\u001b[1;33m \u001b[1;32mfor\u001b[0m \u001b[0mi\u001b[0m \u001b[1;32min\u001b[0m \u001b[1;36m4567\u001b[0m\u001b[1;33m:\u001b[0m\u001b[1;33m\u001b[0m\u001b[1;33m\u001b[0m\u001b[0m\n\u001b[0m\u001b[0;32m      2\u001b[0m     \u001b[0mprint\u001b[0m\u001b[1;33m(\u001b[0m\u001b[0mi\u001b[0m\u001b[1;33m)\u001b[0m\u001b[1;33m\u001b[0m\u001b[1;33m\u001b[0m\u001b[0m\n",
      "\u001b[1;31mTypeError\u001b[0m: 'int' object is not iterable"
     ]
    }
   ],
   "source": [
    "for i in 4567:\n",
    "    print(i)"
   ]
  },
  {
   "cell_type": "code",
   "execution_count": 17,
   "id": "49dfe419",
   "metadata": {},
   "outputs": [
    {
     "data": {
      "text/plain": [
       "[1, 2, 3, 4, 5, 5]"
      ]
     },
     "execution_count": 17,
     "metadata": {},
     "output_type": "execute_result"
    }
   ],
   "source": [
    "l\n"
   ]
  },
  {
   "cell_type": "code",
   "execution_count": 18,
   "id": "01cbcde4",
   "metadata": {},
   "outputs": [
    {
     "name": "stdout",
     "output_type": "stream",
     "text": [
      "1\n",
      "2\n",
      "3\n",
      "4\n",
      "5\n",
      "5\n"
     ]
    }
   ],
   "source": [
    "for i in l:\n",
    "    print(i)"
   ]
  },
  {
   "cell_type": "code",
   "execution_count": 19,
   "id": "b5466836",
   "metadata": {},
   "outputs": [],
   "source": [
    "#by default here list is a iterable"
   ]
  },
  {
   "cell_type": "code",
   "execution_count": 20,
   "id": "647a566c",
   "metadata": {},
   "outputs": [
    {
     "ename": "SyntaxError",
     "evalue": "invalid syntax (Temp/ipykernel_12660/1548033809.py, line 1)",
     "output_type": "error",
     "traceback": [
      "\u001b[1;36m  File \u001b[1;32m\"C:\\Users\\admin\\AppData\\Local\\Temp/ipykernel_12660/1548033809.py\"\u001b[1;36m, line \u001b[1;32m1\u001b[0m\n\u001b[1;33m    list--->iter()--->next()\u001b[0m\n\u001b[1;37m          ^\u001b[0m\n\u001b[1;31mSyntaxError\u001b[0m\u001b[1;31m:\u001b[0m invalid syntax\n"
     ]
    }
   ],
   "source": [
    "list--->iter()--->next()\n",
    "if objects  are not iterable, not be able convet into iterator at all.\n",
    "example digits."
   ]
  },
  {
   "cell_type": "code",
   "execution_count": 21,
   "id": "198b6263",
   "metadata": {},
   "outputs": [],
   "source": [
    "s=\"sudh\""
   ]
  },
  {
   "cell_type": "code",
   "execution_count": 22,
   "id": "3fe31b24",
   "metadata": {},
   "outputs": [
    {
     "ename": "TypeError",
     "evalue": "'str' object is not an iterator",
     "output_type": "error",
     "traceback": [
      "\u001b[1;31m---------------------------------------------------------------------------\u001b[0m",
      "\u001b[1;31mTypeError\u001b[0m                                 Traceback (most recent call last)",
      "\u001b[1;32m~\\AppData\\Local\\Temp/ipykernel_12660/1977886155.py\u001b[0m in \u001b[0;36m<module>\u001b[1;34m\u001b[0m\n\u001b[1;32m----> 1\u001b[1;33m \u001b[0mnext\u001b[0m\u001b[1;33m(\u001b[0m\u001b[0ms\u001b[0m\u001b[1;33m)\u001b[0m\u001b[1;33m\u001b[0m\u001b[1;33m\u001b[0m\u001b[0m\n\u001b[0m",
      "\u001b[1;31mTypeError\u001b[0m: 'str' object is not an iterator"
     ]
    }
   ],
   "source": [
    "next(s)"
   ]
  },
  {
   "cell_type": "code",
   "execution_count": 23,
   "id": "8adc7961",
   "metadata": {},
   "outputs": [],
   "source": [
    "s=iter(s)"
   ]
  },
  {
   "cell_type": "code",
   "execution_count": 24,
   "id": "66039c98",
   "metadata": {},
   "outputs": [
    {
     "data": {
      "text/plain": [
       "'s'"
      ]
     },
     "execution_count": 24,
     "metadata": {},
     "output_type": "execute_result"
    }
   ],
   "source": [
    "next(s)"
   ]
  },
  {
   "cell_type": "code",
   "execution_count": 25,
   "id": "e8472ec4",
   "metadata": {},
   "outputs": [
    {
     "data": {
      "text/plain": [
       "'u'"
      ]
     },
     "execution_count": 25,
     "metadata": {},
     "output_type": "execute_result"
    }
   ],
   "source": [
    "next(s)"
   ]
  },
  {
   "cell_type": "code",
   "execution_count": 26,
   "id": "1e7d8089",
   "metadata": {},
   "outputs": [
    {
     "data": {
      "text/plain": [
       "'d'"
      ]
     },
     "execution_count": 26,
     "metadata": {},
     "output_type": "execute_result"
    }
   ],
   "source": [
    "next(s)"
   ]
  },
  {
   "cell_type": "code",
   "execution_count": 27,
   "id": "61a36edc",
   "metadata": {},
   "outputs": [
    {
     "data": {
      "text/plain": [
       "'h'"
      ]
     },
     "execution_count": 27,
     "metadata": {},
     "output_type": "execute_result"
    }
   ],
   "source": [
    "next(s)"
   ]
  },
  {
   "cell_type": "code",
   "execution_count": 28,
   "id": "fe777245",
   "metadata": {},
   "outputs": [
    {
     "ename": "StopIteration",
     "evalue": "",
     "output_type": "error",
     "traceback": [
      "\u001b[1;31m---------------------------------------------------------------------------\u001b[0m",
      "\u001b[1;31mStopIteration\u001b[0m                             Traceback (most recent call last)",
      "\u001b[1;32m~\\AppData\\Local\\Temp/ipykernel_12660/1977886155.py\u001b[0m in \u001b[0;36m<module>\u001b[1;34m\u001b[0m\n\u001b[1;32m----> 1\u001b[1;33m \u001b[0mnext\u001b[0m\u001b[1;33m(\u001b[0m\u001b[0ms\u001b[0m\u001b[1;33m)\u001b[0m\u001b[1;33m\u001b[0m\u001b[1;33m\u001b[0m\u001b[0m\n\u001b[0m",
      "\u001b[1;31mStopIteration\u001b[0m: "
     ]
    }
   ],
   "source": [
    "next(s)"
   ]
  },
  {
   "cell_type": "code",
   "execution_count": 29,
   "id": "869ecec7",
   "metadata": {},
   "outputs": [
    {
     "name": "stdout",
     "output_type": "stream",
     "text": [
      "s\n",
      "u\n",
      "d\n",
      "h\n"
     ]
    }
   ],
   "source": [
    "s=\"sudh\"\n",
    "for i in s:\n",
    "    print(i)"
   ]
  },
  {
   "cell_type": "code",
   "execution_count": null,
   "id": "72a52d84",
   "metadata": {},
   "outputs": [],
   "source": [
    "#internally for loop uses len function."
   ]
  },
  {
   "cell_type": "code",
   "execution_count": 30,
   "id": "4c859a5a",
   "metadata": {},
   "outputs": [],
   "source": [
    "t=(5,6,7,8)\n"
   ]
  },
  {
   "cell_type": "code",
   "execution_count": 31,
   "id": "c8e1f0d2",
   "metadata": {},
   "outputs": [
    {
     "ename": "TypeError",
     "evalue": "'tuple' object is not an iterator",
     "output_type": "error",
     "traceback": [
      "\u001b[1;31m---------------------------------------------------------------------------\u001b[0m",
      "\u001b[1;31mTypeError\u001b[0m                                 Traceback (most recent call last)",
      "\u001b[1;32m~\\AppData\\Local\\Temp/ipykernel_12660/2139502855.py\u001b[0m in \u001b[0;36m<module>\u001b[1;34m\u001b[0m\n\u001b[1;32m----> 1\u001b[1;33m \u001b[0mnext\u001b[0m\u001b[1;33m(\u001b[0m\u001b[0mt\u001b[0m\u001b[1;33m)\u001b[0m\u001b[1;33m\u001b[0m\u001b[1;33m\u001b[0m\u001b[0m\n\u001b[0m",
      "\u001b[1;31mTypeError\u001b[0m: 'tuple' object is not an iterator"
     ]
    }
   ],
   "source": [
    "next(t)"
   ]
  },
  {
   "cell_type": "code",
   "execution_count": 32,
   "id": "69d17820",
   "metadata": {},
   "outputs": [],
   "source": [
    "t=iter(t)"
   ]
  },
  {
   "cell_type": "code",
   "execution_count": 33,
   "id": "123eb743",
   "metadata": {},
   "outputs": [
    {
     "data": {
      "text/plain": [
       "5"
      ]
     },
     "execution_count": 33,
     "metadata": {},
     "output_type": "execute_result"
    }
   ],
   "source": [
    "next(t)"
   ]
  },
  {
   "cell_type": "code",
   "execution_count": 34,
   "id": "f311c818",
   "metadata": {},
   "outputs": [
    {
     "data": {
      "text/plain": [
       "6"
      ]
     },
     "execution_count": 34,
     "metadata": {},
     "output_type": "execute_result"
    }
   ],
   "source": [
    "next(t)"
   ]
  },
  {
   "cell_type": "code",
   "execution_count": 35,
   "id": "a7efce36",
   "metadata": {},
   "outputs": [
    {
     "data": {
      "text/plain": [
       "7"
      ]
     },
     "execution_count": 35,
     "metadata": {},
     "output_type": "execute_result"
    }
   ],
   "source": [
    "next(t)"
   ]
  },
  {
   "cell_type": "code",
   "execution_count": 36,
   "id": "4f8ddcc7",
   "metadata": {},
   "outputs": [
    {
     "data": {
      "text/plain": [
       "8"
      ]
     },
     "execution_count": 36,
     "metadata": {},
     "output_type": "execute_result"
    }
   ],
   "source": [
    "next(t)"
   ]
  },
  {
   "cell_type": "code",
   "execution_count": 37,
   "id": "ff70d77b",
   "metadata": {},
   "outputs": [
    {
     "ename": "StopIteration",
     "evalue": "",
     "output_type": "error",
     "traceback": [
      "\u001b[1;31m---------------------------------------------------------------------------\u001b[0m",
      "\u001b[1;31mStopIteration\u001b[0m                             Traceback (most recent call last)",
      "\u001b[1;32m~\\AppData\\Local\\Temp/ipykernel_12660/2139502855.py\u001b[0m in \u001b[0;36m<module>\u001b[1;34m\u001b[0m\n\u001b[1;32m----> 1\u001b[1;33m \u001b[0mnext\u001b[0m\u001b[1;33m(\u001b[0m\u001b[0mt\u001b[0m\u001b[1;33m)\u001b[0m\u001b[1;33m\u001b[0m\u001b[1;33m\u001b[0m\u001b[0m\n\u001b[0m",
      "\u001b[1;31mStopIteration\u001b[0m: "
     ]
    }
   ],
   "source": [
    "next(t)"
   ]
  },
  {
   "cell_type": "code",
   "execution_count": 39,
   "id": "849c6b1d",
   "metadata": {},
   "outputs": [
    {
     "data": {
      "text/plain": [
       "[1, 2, 3, 4, 5, 6, 7, 8, 9]"
      ]
     },
     "execution_count": 39,
     "metadata": {},
     "output_type": "execute_result"
    }
   ],
   "source": [
    "list(range(1,10))"
   ]
  },
  {
   "cell_type": "code",
   "execution_count": 42,
   "id": "822e294e",
   "metadata": {},
   "outputs": [],
   "source": [
    "def f1():\n",
    "    for i in range(1,10):\n",
    "        print(i**2)\n",
    "    \n"
   ]
  },
  {
   "cell_type": "code",
   "execution_count": 43,
   "id": "53335b3d",
   "metadata": {},
   "outputs": [
    {
     "name": "stdout",
     "output_type": "stream",
     "text": [
      "1\n",
      "4\n",
      "9\n",
      "16\n",
      "25\n",
      "36\n",
      "49\n",
      "64\n",
      "81\n"
     ]
    }
   ],
   "source": [
    "f1()"
   ]
  },
  {
   "cell_type": "code",
   "execution_count": 50,
   "id": "2660c006",
   "metadata": {},
   "outputs": [],
   "source": [
    "def square_fun(n):\n",
    "    x=[i*i for i in range(n)]\n",
    "    return x"
   ]
  },
  {
   "cell_type": "code",
   "execution_count": 52,
   "id": "a65d514e",
   "metadata": {},
   "outputs": [
    {
     "data": {
      "text/plain": [
       "[0, 1, 4, 9]"
      ]
     },
     "execution_count": 52,
     "metadata": {},
     "output_type": "execute_result"
    }
   ],
   "source": [
    "square_fun(4)"
   ]
  },
  {
   "cell_type": "code",
   "execution_count": 54,
   "id": "e72dc9df",
   "metadata": {},
   "outputs": [
    {
     "data": {
      "text/plain": [
       "[0, 1, 2, 3]"
      ]
     },
     "execution_count": 54,
     "metadata": {},
     "output_type": "execute_result"
    }
   ],
   "source": [
    "list(range(4))"
   ]
  },
  {
   "cell_type": "code",
   "execution_count": 55,
   "id": "6949f160",
   "metadata": {},
   "outputs": [],
   "source": [
    "def square_fun1(n):\n",
    "    x=[i*i for i in range(n)]\n",
    "    yield x"
   ]
  },
  {
   "cell_type": "code",
   "execution_count": 56,
   "id": "73f5cef1",
   "metadata": {},
   "outputs": [
    {
     "data": {
      "text/plain": [
       "<generator object square_fun1 at 0x000002B165FF7890>"
      ]
     },
     "execution_count": 56,
     "metadata": {},
     "output_type": "execute_result"
    }
   ],
   "source": [
    "square_fun1(4)"
   ]
  },
  {
   "cell_type": "code",
   "execution_count": 57,
   "id": "e4ba3631",
   "metadata": {},
   "outputs": [
    {
     "data": {
      "text/plain": [
       "range(0, 5)"
      ]
     },
     "execution_count": 57,
     "metadata": {},
     "output_type": "execute_result"
    }
   ],
   "source": [
    "range(5)"
   ]
  },
  {
   "cell_type": "code",
   "execution_count": 58,
   "id": "e33597e0",
   "metadata": {},
   "outputs": [
    {
     "name": "stdout",
     "output_type": "stream",
     "text": [
      "[0, 1, 4, 9]\n"
     ]
    }
   ],
   "source": [
    "for i in square_fun1(4):\n",
    "    print(i)"
   ]
  },
  {
   "cell_type": "code",
   "execution_count": 59,
   "id": "37de4f35",
   "metadata": {},
   "outputs": [
    {
     "name": "stdout",
     "output_type": "stream",
     "text": [
      "0\n",
      "1\n",
      "2\n",
      "3\n"
     ]
    }
   ],
   "source": [
    "for i in range(4):\n",
    "    print(i)"
   ]
  },
  {
   "cell_type": "code",
   "execution_count": 60,
   "id": "5987d53a",
   "metadata": {},
   "outputs": [
    {
     "data": {
      "text/plain": [
       "[0, 1, 4, 9]"
      ]
     },
     "execution_count": 60,
     "metadata": {},
     "output_type": "execute_result"
    }
   ],
   "source": [
    "next(square_fun1(4))"
   ]
  },
  {
   "cell_type": "code",
   "execution_count": 61,
   "id": "a3545b80",
   "metadata": {},
   "outputs": [
    {
     "ename": "TypeError",
     "evalue": "'range' object is not an iterator",
     "output_type": "error",
     "traceback": [
      "\u001b[1;31m---------------------------------------------------------------------------\u001b[0m",
      "\u001b[1;31mTypeError\u001b[0m                                 Traceback (most recent call last)",
      "\u001b[1;32m~\\AppData\\Local\\Temp/ipykernel_12660/2900367581.py\u001b[0m in \u001b[0;36m<module>\u001b[1;34m\u001b[0m\n\u001b[1;32m----> 1\u001b[1;33m \u001b[0mnext\u001b[0m\u001b[1;33m(\u001b[0m\u001b[0mrange\u001b[0m\u001b[1;33m(\u001b[0m\u001b[1;36m4\u001b[0m\u001b[1;33m)\u001b[0m\u001b[1;33m)\u001b[0m\u001b[1;33m\u001b[0m\u001b[1;33m\u001b[0m\u001b[0m\n\u001b[0m",
      "\u001b[1;31mTypeError\u001b[0m: 'range' object is not an iterator"
     ]
    }
   ],
   "source": [
    "next(range(4))"
   ]
  },
  {
   "cell_type": "code",
   "execution_count": 62,
   "id": "8238dae3",
   "metadata": {},
   "outputs": [],
   "source": [
    "r=iter(range(4))"
   ]
  },
  {
   "cell_type": "code",
   "execution_count": 63,
   "id": "2873eeb2",
   "metadata": {},
   "outputs": [
    {
     "data": {
      "text/plain": [
       "0"
      ]
     },
     "execution_count": 63,
     "metadata": {},
     "output_type": "execute_result"
    }
   ],
   "source": [
    "next(r)"
   ]
  },
  {
   "cell_type": "code",
   "execution_count": 64,
   "id": "97b186bf",
   "metadata": {},
   "outputs": [
    {
     "data": {
      "text/plain": [
       "1"
      ]
     },
     "execution_count": 64,
     "metadata": {},
     "output_type": "execute_result"
    }
   ],
   "source": [
    "next(r)"
   ]
  },
  {
   "cell_type": "code",
   "execution_count": 65,
   "id": "f3719d11",
   "metadata": {},
   "outputs": [
    {
     "data": {
      "text/plain": [
       "2"
      ]
     },
     "execution_count": 65,
     "metadata": {},
     "output_type": "execute_result"
    }
   ],
   "source": [
    "next(r)"
   ]
  },
  {
   "cell_type": "code",
   "execution_count": 66,
   "id": "f96fae82",
   "metadata": {},
   "outputs": [
    {
     "data": {
      "text/plain": [
       "3"
      ]
     },
     "execution_count": 66,
     "metadata": {},
     "output_type": "execute_result"
    }
   ],
   "source": [
    "next(r)"
   ]
  },
  {
   "cell_type": "code",
   "execution_count": 67,
   "id": "39d2636e",
   "metadata": {},
   "outputs": [
    {
     "ename": "StopIteration",
     "evalue": "",
     "output_type": "error",
     "traceback": [
      "\u001b[1;31m---------------------------------------------------------------------------\u001b[0m",
      "\u001b[1;31mStopIteration\u001b[0m                             Traceback (most recent call last)",
      "\u001b[1;32m~\\AppData\\Local\\Temp/ipykernel_12660/4134984757.py\u001b[0m in \u001b[0;36m<module>\u001b[1;34m\u001b[0m\n\u001b[1;32m----> 1\u001b[1;33m \u001b[0mnext\u001b[0m\u001b[1;33m(\u001b[0m\u001b[0mr\u001b[0m\u001b[1;33m)\u001b[0m\u001b[1;33m\u001b[0m\u001b[1;33m\u001b[0m\u001b[0m\n\u001b[0m",
      "\u001b[1;31mStopIteration\u001b[0m: "
     ]
    }
   ],
   "source": [
    "next(r)"
   ]
  },
  {
   "cell_type": "code",
   "execution_count": null,
   "id": "2d5b0ca6",
   "metadata": {},
   "outputs": [],
   "source": [
    "#to convert any iterator to generator yelid function is used."
   ]
  },
  {
   "cell_type": "code",
   "execution_count": 72,
   "id": "124ebed3",
   "metadata": {},
   "outputs": [],
   "source": [
    "def genfib(n):\n",
    "    a=1\n",
    "    b=1\n",
    "    l=[]\n",
    "    for i in range(n):\n",
    "        l.append(a)\n",
    "        a,b=b,a+b\n",
    "    return l"
   ]
  },
  {
   "cell_type": "code",
   "execution_count": 73,
   "id": "90993519",
   "metadata": {},
   "outputs": [
    {
     "data": {
      "text/plain": [
       "[1, 1, 2, 3, 5, 8, 13, 21, 34, 55]"
      ]
     },
     "execution_count": 73,
     "metadata": {},
     "output_type": "execute_result"
    }
   ],
   "source": [
    "genfib(10)"
   ]
  },
  {
   "cell_type": "code",
   "execution_count": 77,
   "id": "eaf31086",
   "metadata": {},
   "outputs": [],
   "source": [
    "def genfib(n):\n",
    "    a=1\n",
    "    b=1\n",
    "    for i in range(n):\n",
    "        yield a\n",
    "        a,b=b,a+b\n",
    "    "
   ]
  },
  {
   "cell_type": "code",
   "execution_count": 78,
   "id": "aba2ddac",
   "metadata": {},
   "outputs": [
    {
     "data": {
      "text/plain": [
       "<generator object genfib at 0x000002B165FFABA0>"
      ]
     },
     "execution_count": 78,
     "metadata": {},
     "output_type": "execute_result"
    }
   ],
   "source": [
    "genfib(10)"
   ]
  },
  {
   "cell_type": "code",
   "execution_count": 79,
   "id": "897dbee3",
   "metadata": {},
   "outputs": [
    {
     "name": "stdout",
     "output_type": "stream",
     "text": [
      "1\n",
      "1\n",
      "2\n",
      "3\n",
      "5\n",
      "8\n",
      "13\n",
      "21\n",
      "34\n",
      "55\n"
     ]
    }
   ],
   "source": [
    "for i in genfib(10):\n",
    "    print(i)"
   ]
  },
  {
   "cell_type": "code",
   "execution_count": 80,
   "id": "508dc057",
   "metadata": {},
   "outputs": [],
   "source": [
    "#file operation"
   ]
  },
  {
   "cell_type": "code",
   "execution_count": 86,
   "id": "d063b382",
   "metadata": {},
   "outputs": [],
   "source": [
    "f=open(\"sudh1.txt\",\"w\")"
   ]
  },
  {
   "cell_type": "code",
   "execution_count": 87,
   "id": "09673e93",
   "metadata": {},
   "outputs": [
    {
     "name": "stdout",
     "output_type": "stream",
     "text": [
      " Volume in drive C has no label.\n",
      " Volume Serial Number is 401B-AA7E\n",
      "\n",
      " Directory of C:\\Users\\admin\\Untitled Folder\n",
      "\n",
      "18-07-2022  15:56    <DIR>          .\n",
      "18-07-2022  15:56    <DIR>          ..\n",
      "15-07-2022  17:19    <DIR>          .ipynb_checkpoints\n",
      "15-07-2022  15:59             6,528 ammi.mp3\n",
      "14-07-2022  17:51            15,455 exception handling.ipynb\n",
      "05-07-2022  17:31            41,255 For loop.ipynb\n",
      "13-07-2022  15:36            45,214 Functions.ipynb\n",
      "28-06-2022  14:26            24,228 If, elif, else conditions.ipynb\n",
      "08-06-2022  17:53            69,478 List tuple set dict.ipynb\n",
      "18-07-2022  15:56            31,313 lterator, generator, map, reduce, filter, basic file operation.ipynb\n",
      "07-06-2022  15:06            54,507 Python String Basic.ipynb\n",
      "06-06-2022  15:56            13,161 python variables.ipynb\n",
      "18-07-2022  15:58                 0 sudh1.txt\n",
      "15-07-2022  15:58             6,528 welcome.mp3\n",
      "15-07-2022  16:00            33,440 while loop and basic function.ipynb\n",
      "              12 File(s)        341,107 bytes\n",
      "               3 Dir(s)  423,278,878,720 bytes free\n"
     ]
    }
   ],
   "source": [
    "ls"
   ]
  },
  {
   "cell_type": "code",
   "execution_count": 88,
   "id": "fdaf47cc",
   "metadata": {},
   "outputs": [
    {
     "data": {
      "text/plain": [
       "33"
      ]
     },
     "execution_count": 88,
     "metadata": {},
     "output_type": "execute_result"
    }
   ],
   "source": [
    "f.write(\"this is very first file operation\")"
   ]
  },
  {
   "cell_type": "code",
   "execution_count": 89,
   "id": "d663750e",
   "metadata": {},
   "outputs": [],
   "source": [
    "f.close()"
   ]
  },
  {
   "cell_type": "code",
   "execution_count": 90,
   "id": "528cac50",
   "metadata": {},
   "outputs": [
    {
     "name": "stdout",
     "output_type": "stream",
     "text": [
      " Volume in drive C has no label.\n",
      " Volume Serial Number is 401B-AA7E\n",
      "\n",
      " Directory of C:\\Users\\admin\\Untitled Folder\n",
      "\n",
      "18-07-2022  16:00    <DIR>          .\n",
      "18-07-2022  16:00    <DIR>          ..\n",
      "15-07-2022  17:19    <DIR>          .ipynb_checkpoints\n",
      "15-07-2022  15:59             6,528 ammi.mp3\n",
      "14-07-2022  17:51            15,455 exception handling.ipynb\n",
      "05-07-2022  17:31            41,255 For loop.ipynb\n",
      "13-07-2022  15:36            45,214 Functions.ipynb\n",
      "28-06-2022  14:26            24,228 If, elif, else conditions.ipynb\n",
      "08-06-2022  17:53            69,478 List tuple set dict.ipynb\n",
      "18-07-2022  16:00            28,409 lterator, generator, map, reduce, filter, basic file operation.ipynb\n",
      "07-06-2022  15:06            54,507 Python String Basic.ipynb\n",
      "06-06-2022  15:56            13,161 python variables.ipynb\n",
      "18-07-2022  16:00                33 sudh1.txt\n",
      "15-07-2022  15:58             6,528 welcome.mp3\n",
      "15-07-2022  16:00            33,440 while loop and basic function.ipynb\n",
      "              12 File(s)        338,236 bytes\n",
      "               3 Dir(s)  423,278,358,528 bytes free\n"
     ]
    }
   ],
   "source": [
    "ls\n"
   ]
  },
  {
   "cell_type": "code",
   "execution_count": 91,
   "id": "dc11df8f",
   "metadata": {},
   "outputs": [
    {
     "name": "stdout",
     "output_type": "stream",
     "text": [
      " Volume in drive C has no label.\n",
      " Volume Serial Number is 401B-AA7E\n",
      "\n",
      " Directory of C:\\Users\\admin\\Untitled Folder\n",
      "\n",
      "18-07-2022  16:00    <DIR>          .\n",
      "18-07-2022  16:00    <DIR>          ..\n",
      "15-07-2022  17:19    <DIR>          .ipynb_checkpoints\n",
      "15-07-2022  15:59             6,528 ammi.mp3\n",
      "14-07-2022  17:51            15,455 exception handling.ipynb\n",
      "05-07-2022  17:31            41,255 For loop.ipynb\n",
      "13-07-2022  15:36            45,214 Functions.ipynb\n",
      "28-06-2022  14:26            24,228 If, elif, else conditions.ipynb\n",
      "08-06-2022  17:53            69,478 List tuple set dict.ipynb\n",
      "18-07-2022  16:00            28,409 lterator, generator, map, reduce, filter, basic file operation.ipynb\n",
      "07-06-2022  15:06            54,507 Python String Basic.ipynb\n",
      "06-06-2022  15:56            13,161 python variables.ipynb\n",
      "18-07-2022  16:00                33 sudh1.txt\n",
      "15-07-2022  15:58             6,528 welcome.mp3\n",
      "15-07-2022  16:00            33,440 while loop and basic function.ipynb\n",
      "              12 File(s)        338,236 bytes\n",
      "               3 Dir(s)  423,278,354,432 bytes free\n"
     ]
    }
   ],
   "source": [
    "ls"
   ]
  },
  {
   "cell_type": "code",
   "execution_count": 92,
   "id": "4d2f1346",
   "metadata": {},
   "outputs": [],
   "source": [
    "f1=open(\"test1.txt\",\"w\")\n"
   ]
  },
  {
   "cell_type": "code",
   "execution_count": 93,
   "id": "4c002bb8",
   "metadata": {},
   "outputs": [
    {
     "data": {
      "text/plain": [
       "59"
      ]
     },
     "execution_count": 93,
     "metadata": {},
     "output_type": "execute_result"
    }
   ],
   "source": [
    "f1.write(\"this is a file operation i am trying to do in my fsdf class\")"
   ]
  },
  {
   "cell_type": "code",
   "execution_count": 94,
   "id": "9d49f644",
   "metadata": {},
   "outputs": [],
   "source": [
    "f1.close()"
   ]
  },
  {
   "cell_type": "code",
   "execution_count": 95,
   "id": "27dd454d",
   "metadata": {},
   "outputs": [],
   "source": [
    "l=[1,2,3,4,5,6,7,8,78,9]"
   ]
  },
  {
   "cell_type": "code",
   "execution_count": 96,
   "id": "d1a1845a",
   "metadata": {},
   "outputs": [],
   "source": [
    "f2=open(\"test2\",\"w\")"
   ]
  },
  {
   "cell_type": "code",
   "execution_count": 98,
   "id": "4a6561b4",
   "metadata": {},
   "outputs": [
    {
     "data": {
      "text/plain": [
       "31"
      ]
     },
     "execution_count": 98,
     "metadata": {},
     "output_type": "execute_result"
    }
   ],
   "source": [
    "f2.write(str(l))"
   ]
  },
  {
   "cell_type": "code",
   "execution_count": 99,
   "id": "45c6b0a7",
   "metadata": {},
   "outputs": [],
   "source": [
    "f2.close()"
   ]
  },
  {
   "cell_type": "code",
   "execution_count": 102,
   "id": "0b0279e1",
   "metadata": {},
   "outputs": [],
   "source": [
    "f3 = open(\"test.sudh\",\"w\")"
   ]
  },
  {
   "cell_type": "code",
   "execution_count": 103,
   "id": "38fc6a29",
   "metadata": {},
   "outputs": [],
   "source": [
    "f3.write(\"gchbcvdckdvev\")\n",
    "f3.close()"
   ]
  },
  {
   "cell_type": "code",
   "execution_count": null,
   "id": "76bfdc63",
   "metadata": {},
   "outputs": [],
   "source": [
    "#alternate way to write file"
   ]
  },
  {
   "cell_type": "code",
   "execution_count": 104,
   "id": "e80e9f0d",
   "metadata": {},
   "outputs": [
    {
     "name": "stdout",
     "output_type": "stream",
     "text": [
      "Writing test5.txt\n"
     ]
    }
   ],
   "source": [
    "%%writefile test5.txt\n",
    "this is my python program to write into a file in different way"
   ]
  },
  {
   "cell_type": "code",
   "execution_count": 105,
   "id": "d35b5fe6",
   "metadata": {},
   "outputs": [
    {
     "name": "stdout",
     "output_type": "stream",
     "text": [
      "Overwriting test5.txt\n"
     ]
    }
   ],
   "source": [
    "%%writefile test5.txt\n",
    "this is my python program to write into a file in different way\n",
    "this is my python program to write into a file in different way\n",
    "this is my python program to write into a file in different way\n",
    "this is my python program to write into a file in different way"
   ]
  },
  {
   "cell_type": "code",
   "execution_count": 113,
   "id": "0748e273",
   "metadata": {},
   "outputs": [],
   "source": [
    "f=open(\"test5.txt\")"
   ]
  },
  {
   "cell_type": "code",
   "execution_count": 114,
   "id": "d9838afc",
   "metadata": {},
   "outputs": [
    {
     "data": {
      "text/plain": [
       "'this is my python program to write into a file in different way\\nthis is my python program to write into a file in different way\\nthis is my python program to write into a file in different way\\nthis is my python program to write into a file in different way\\n'"
      ]
     },
     "execution_count": 114,
     "metadata": {},
     "output_type": "execute_result"
    }
   ],
   "source": [
    "f.read()"
   ]
  },
  {
   "cell_type": "code",
   "execution_count": 115,
   "id": "87979999",
   "metadata": {},
   "outputs": [
    {
     "data": {
      "text/plain": [
       "''"
      ]
     },
     "execution_count": 115,
     "metadata": {},
     "output_type": "execute_result"
    }
   ],
   "source": [
    "f.read()"
   ]
  },
  {
   "cell_type": "code",
   "execution_count": 116,
   "id": "469688f5",
   "metadata": {},
   "outputs": [
    {
     "data": {
      "text/plain": [
       "0"
      ]
     },
     "execution_count": 116,
     "metadata": {},
     "output_type": "execute_result"
    }
   ],
   "source": [
    "f.seek(0)"
   ]
  },
  {
   "cell_type": "code",
   "execution_count": 117,
   "id": "dfc0388b",
   "metadata": {},
   "outputs": [
    {
     "data": {
      "text/plain": [
       "'this is my python program to write into a file in different way\\nthis is my python program to write into a file in different way\\nthis is my python program to write into a file in different way\\nthis is my python program to write into a file in different way\\n'"
      ]
     },
     "execution_count": 117,
     "metadata": {},
     "output_type": "execute_result"
    }
   ],
   "source": [
    "f.read()"
   ]
  },
  {
   "cell_type": "code",
   "execution_count": 118,
   "id": "3d08ad01",
   "metadata": {},
   "outputs": [
    {
     "data": {
      "text/plain": [
       "4"
      ]
     },
     "execution_count": 118,
     "metadata": {},
     "output_type": "execute_result"
    }
   ],
   "source": [
    "f.seek(4)"
   ]
  },
  {
   "cell_type": "code",
   "execution_count": 119,
   "id": "a3811b63",
   "metadata": {},
   "outputs": [
    {
     "data": {
      "text/plain": [
       "' is my python program to write into a file in different way\\nthis is my python program to write into a file in different way\\nthis is my python program to write into a file in different way\\nthis is my python program to write into a file in different way\\n'"
      ]
     },
     "execution_count": 119,
     "metadata": {},
     "output_type": "execute_result"
    }
   ],
   "source": [
    "f.read()"
   ]
  },
  {
   "cell_type": "code",
   "execution_count": 120,
   "id": "9bab2309",
   "metadata": {},
   "outputs": [
    {
     "data": {
      "text/plain": [
       "50"
      ]
     },
     "execution_count": 120,
     "metadata": {},
     "output_type": "execute_result"
    }
   ],
   "source": [
    "f.seek(50)"
   ]
  },
  {
   "cell_type": "code",
   "execution_count": 121,
   "id": "4f7cf4f7",
   "metadata": {},
   "outputs": [
    {
     "data": {
      "text/plain": [
       "'different way\\nthis is my python program to write into a file in different way\\nthis is my python program to write into a file in different way\\nthis is my python program to write into a file in different way\\n'"
      ]
     },
     "execution_count": 121,
     "metadata": {},
     "output_type": "execute_result"
    }
   ],
   "source": [
    "f.read()"
   ]
  },
  {
   "cell_type": "code",
   "execution_count": 123,
   "id": "d24692b9",
   "metadata": {},
   "outputs": [],
   "source": [
    "f1=open(\"test5.txt\")"
   ]
  },
  {
   "cell_type": "code",
   "execution_count": 124,
   "id": "7c3afb79",
   "metadata": {},
   "outputs": [
    {
     "data": {
      "text/plain": [
       "0"
      ]
     },
     "execution_count": 124,
     "metadata": {},
     "output_type": "execute_result"
    }
   ],
   "source": [
    "f1.tell()"
   ]
  },
  {
   "cell_type": "code",
   "execution_count": 125,
   "id": "1e3b3e92",
   "metadata": {},
   "outputs": [
    {
     "data": {
      "text/plain": [
       "'this is my python program to write into a file in different way\\nthis is my python program to write into a file in different way\\nthis is my python program to write into a file in different way\\nthis is my python program to write into a file in different way\\n'"
      ]
     },
     "execution_count": 125,
     "metadata": {},
     "output_type": "execute_result"
    }
   ],
   "source": [
    "f1.read()"
   ]
  },
  {
   "cell_type": "code",
   "execution_count": 126,
   "id": "f90a762c",
   "metadata": {},
   "outputs": [
    {
     "data": {
      "text/plain": [
       "260"
      ]
     },
     "execution_count": 126,
     "metadata": {},
     "output_type": "execute_result"
    }
   ],
   "source": [
    "f1.tell()"
   ]
  },
  {
   "cell_type": "code",
   "execution_count": 127,
   "id": "6edce2d8",
   "metadata": {},
   "outputs": [
    {
     "data": {
      "text/plain": [
       "5"
      ]
     },
     "execution_count": 127,
     "metadata": {},
     "output_type": "execute_result"
    }
   ],
   "source": [
    "f1.seek(5)"
   ]
  },
  {
   "cell_type": "code",
   "execution_count": 128,
   "id": "4b55ee6a",
   "metadata": {},
   "outputs": [
    {
     "data": {
      "text/plain": [
       "5"
      ]
     },
     "execution_count": 128,
     "metadata": {},
     "output_type": "execute_result"
    }
   ],
   "source": [
    "f1.tell()"
   ]
  },
  {
   "cell_type": "code",
   "execution_count": 130,
   "id": "7d38b44f",
   "metadata": {},
   "outputs": [
    {
     "data": {
      "text/plain": [
       "'is my python program to write into a file in different way\\nthis is my python program to write into a file in different way\\nthis is my python program to write into a file in different way\\nthis is my python program to write into a file in different way\\n'"
      ]
     },
     "execution_count": 130,
     "metadata": {},
     "output_type": "execute_result"
    }
   ],
   "source": [
    "f1.read()"
   ]
  },
  {
   "cell_type": "code",
   "execution_count": 131,
   "id": "cf224fdf",
   "metadata": {},
   "outputs": [
    {
     "data": {
      "text/plain": [
       "0"
      ]
     },
     "execution_count": 131,
     "metadata": {},
     "output_type": "execute_result"
    }
   ],
   "source": [
    "f1.seek(0)"
   ]
  },
  {
   "cell_type": "code",
   "execution_count": 132,
   "id": "836545e3",
   "metadata": {},
   "outputs": [
    {
     "data": {
      "text/plain": [
       "0"
      ]
     },
     "execution_count": 132,
     "metadata": {},
     "output_type": "execute_result"
    }
   ],
   "source": [
    "f1.tell()"
   ]
  },
  {
   "cell_type": "code",
   "execution_count": 133,
   "id": "10487fda",
   "metadata": {},
   "outputs": [
    {
     "data": {
      "text/plain": [
       "'this is my pyth'"
      ]
     },
     "execution_count": 133,
     "metadata": {},
     "output_type": "execute_result"
    }
   ],
   "source": [
    "f1.read(15)"
   ]
  },
  {
   "cell_type": "code",
   "execution_count": 134,
   "id": "0b31cc30",
   "metadata": {},
   "outputs": [],
   "source": [
    "f2 = open(\"test5.txt\")"
   ]
  },
  {
   "cell_type": "code",
   "execution_count": 135,
   "id": "312246ef",
   "metadata": {},
   "outputs": [
    {
     "data": {
      "text/plain": [
       "'this is my python program to write into a file in different way\\nthis is my python program to write into a file in different way\\nthis is my python program to write into a file in different way\\nthis is my python program to write into a file in different way\\n'"
      ]
     },
     "execution_count": 135,
     "metadata": {},
     "output_type": "execute_result"
    }
   ],
   "source": [
    "f2.read()"
   ]
  },
  {
   "cell_type": "code",
   "execution_count": 137,
   "id": "de6f9cc8",
   "metadata": {},
   "outputs": [
    {
     "data": {
      "text/plain": [
       "0"
      ]
     },
     "execution_count": 137,
     "metadata": {},
     "output_type": "execute_result"
    }
   ],
   "source": [
    "f2.seek(0)"
   ]
  },
  {
   "cell_type": "code",
   "execution_count": 138,
   "id": "7d027ed7",
   "metadata": {},
   "outputs": [
    {
     "data": {
      "text/plain": [
       "'this is my python program to write into a file in different way\\n'"
      ]
     },
     "execution_count": 138,
     "metadata": {},
     "output_type": "execute_result"
    }
   ],
   "source": [
    "f2.readline()"
   ]
  },
  {
   "cell_type": "code",
   "execution_count": 139,
   "id": "04b70407",
   "metadata": {},
   "outputs": [
    {
     "data": {
      "text/plain": [
       "['this is my python program to write into a file in different way\\n',\n",
       " 'this is my python program to write into a file in different way\\n',\n",
       " 'this is my python program to write into a file in different way\\n']"
      ]
     },
     "execution_count": 139,
     "metadata": {},
     "output_type": "execute_result"
    }
   ],
   "source": [
    "f2.readlines()"
   ]
  },
  {
   "cell_type": "code",
   "execution_count": 140,
   "id": "58e8a54b",
   "metadata": {},
   "outputs": [
    {
     "data": {
      "text/plain": [
       "<_io.TextIOWrapper name='test5.txt' mode='r' encoding='cp1252'>"
      ]
     },
     "execution_count": 140,
     "metadata": {},
     "output_type": "execute_result"
    }
   ],
   "source": [
    "f2"
   ]
  },
  {
   "cell_type": "code",
   "execution_count": 141,
   "id": "975e74d6",
   "metadata": {},
   "outputs": [
    {
     "data": {
      "text/plain": [
       "6"
      ]
     },
     "execution_count": 141,
     "metadata": {},
     "output_type": "execute_result"
    }
   ],
   "source": [
    "f2.fileno()"
   ]
  },
  {
   "cell_type": "code",
   "execution_count": 177,
   "id": "0748a5d9",
   "metadata": {},
   "outputs": [],
   "source": [
    "f=open(\"test.txt\",\"w\")"
   ]
  },
  {
   "cell_type": "code",
   "execution_count": 173,
   "id": "1bc9148b",
   "metadata": {},
   "outputs": [
    {
     "data": {
      "text/plain": [
       "67"
      ]
     },
     "execution_count": 173,
     "metadata": {},
     "output_type": "execute_result"
    }
   ],
   "source": [
    "f.write(\"\"\"'this is my python program to write into a file in different way\\n',\"\"\")"
   ]
  },
  {
   "cell_type": "code",
   "execution_count": 174,
   "id": "b4906abc",
   "metadata": {},
   "outputs": [],
   "source": [
    "f.close()"
   ]
  },
  {
   "cell_type": "code",
   "execution_count": 178,
   "id": "09523364",
   "metadata": {},
   "outputs": [
    {
     "data": {
      "text/plain": [
       "19"
      ]
     },
     "execution_count": 178,
     "metadata": {},
     "output_type": "execute_result"
    }
   ],
   "source": [
    "f.write(\"vfsjfsfvsjmcsvcjsdv\")"
   ]
  },
  {
   "cell_type": "code",
   "execution_count": 179,
   "id": "ccc8dda8",
   "metadata": {},
   "outputs": [],
   "source": [
    "f.close()"
   ]
  },
  {
   "cell_type": "code",
   "execution_count": 255,
   "id": "7d966942",
   "metadata": {},
   "outputs": [],
   "source": [
    "f=open('test.txt','a')"
   ]
  },
  {
   "cell_type": "code",
   "execution_count": 256,
   "id": "15666a58",
   "metadata": {},
   "outputs": [
    {
     "data": {
      "text/plain": [
       "22"
      ]
     },
     "execution_count": 256,
     "metadata": {},
     "output_type": "execute_result"
    }
   ],
   "source": [
    "f.write(\"this is my new dataset\")"
   ]
  },
  {
   "cell_type": "code",
   "execution_count": 250,
   "id": "60a6b05a",
   "metadata": {},
   "outputs": [],
   "source": [
    "f.close()"
   ]
  },
  {
   "cell_type": "code",
   "execution_count": 257,
   "id": "ab79d616",
   "metadata": {},
   "outputs": [
    {
     "data": {
      "text/plain": [
       "'test.txt'"
      ]
     },
     "execution_count": 257,
     "metadata": {},
     "output_type": "execute_result"
    }
   ],
   "source": [
    "f.name"
   ]
  },
  {
   "cell_type": "code",
   "execution_count": 258,
   "id": "8ad4840e",
   "metadata": {},
   "outputs": [
    {
     "data": {
      "text/plain": [
       "False"
      ]
     },
     "execution_count": 258,
     "metadata": {},
     "output_type": "execute_result"
    }
   ],
   "source": [
    "f.closed"
   ]
  },
  {
   "cell_type": "code",
   "execution_count": 259,
   "id": "7c169e7a",
   "metadata": {},
   "outputs": [
    {
     "data": {
      "text/plain": [
       "'a'"
      ]
     },
     "execution_count": 259,
     "metadata": {},
     "output_type": "execute_result"
    }
   ],
   "source": [
    "f.mode"
   ]
  },
  {
   "cell_type": "code",
   "execution_count": 260,
   "id": "6adc507e",
   "metadata": {},
   "outputs": [
    {
     "data": {
      "text/plain": [
       "15"
      ]
     },
     "execution_count": 260,
     "metadata": {},
     "output_type": "execute_result"
    }
   ],
   "source": [
    "f.seek(15)"
   ]
  },
  {
   "cell_type": "code",
   "execution_count": 261,
   "id": "94009190",
   "metadata": {},
   "outputs": [
    {
     "data": {
      "text/plain": [
       "<function TextIOWrapper.read(size=-1, /)>"
      ]
     },
     "execution_count": 261,
     "metadata": {},
     "output_type": "execute_result"
    }
   ],
   "source": [
    "f.read"
   ]
  },
  {
   "cell_type": "code",
   "execution_count": 262,
   "id": "1e2aefa2",
   "metadata": {},
   "outputs": [
    {
     "ename": "UnsupportedOperation",
     "evalue": "not readable",
     "output_type": "error",
     "traceback": [
      "\u001b[1;31m---------------------------------------------------------------------------\u001b[0m",
      "\u001b[1;31mUnsupportedOperation\u001b[0m                      Traceback (most recent call last)",
      "\u001b[1;32m~\\AppData\\Local\\Temp/ipykernel_12660/3059900045.py\u001b[0m in \u001b[0;36m<module>\u001b[1;34m\u001b[0m\n\u001b[1;32m----> 1\u001b[1;33m \u001b[0mf\u001b[0m\u001b[1;33m.\u001b[0m\u001b[0mread\u001b[0m\u001b[1;33m(\u001b[0m\u001b[1;33m)\u001b[0m\u001b[1;33m\u001b[0m\u001b[1;33m\u001b[0m\u001b[0m\n\u001b[0m",
      "\u001b[1;31mUnsupportedOperation\u001b[0m: not readable"
     ]
    }
   ],
   "source": [
    "f.read()"
   ]
  },
  {
   "cell_type": "code",
   "execution_count": 1,
   "id": "f3dc02cc",
   "metadata": {},
   "outputs": [
    {
     "ename": "PermissionError",
     "evalue": "[Errno 13] Permission denied: 'C:/test.txt'",
     "output_type": "error",
     "traceback": [
      "\u001b[1;31m---------------------------------------------------------------------------\u001b[0m",
      "\u001b[1;31mPermissionError\u001b[0m                           Traceback (most recent call last)",
      "\u001b[1;32m~\\AppData\\Local\\Temp/ipykernel_4700/2731820795.py\u001b[0m in \u001b[0;36m<module>\u001b[1;34m\u001b[0m\n\u001b[1;32m----> 1\u001b[1;33m \u001b[0mf\u001b[0m\u001b[1;33m=\u001b[0m\u001b[0mopen\u001b[0m\u001b[1;33m(\u001b[0m\u001b[1;34m'C:/test.txt'\u001b[0m\u001b[1;33m,\u001b[0m\u001b[1;34m'w'\u001b[0m\u001b[1;33m)\u001b[0m\u001b[1;33m\u001b[0m\u001b[1;33m\u001b[0m\u001b[0m\n\u001b[0m",
      "\u001b[1;31mPermissionError\u001b[0m: [Errno 13] Permission denied: 'C:/test.txt'"
     ]
    }
   ],
   "source": [
    "f=open('C:/test.txt','w')"
   ]
  },
  {
   "cell_type": "code",
   "execution_count": 2,
   "id": "b922c6ab",
   "metadata": {},
   "outputs": [
    {
     "ename": "FileNotFoundError",
     "evalue": "[Errno 2] No such file or directory: 'D:\\test.txt'",
     "output_type": "error",
     "traceback": [
      "\u001b[1;31m---------------------------------------------------------------------------\u001b[0m",
      "\u001b[1;31mFileNotFoundError\u001b[0m                         Traceback (most recent call last)",
      "\u001b[1;32m~\\AppData\\Local\\Temp/ipykernel_4700/1391107166.py\u001b[0m in \u001b[0;36m<module>\u001b[1;34m\u001b[0m\n\u001b[1;32m----> 1\u001b[1;33m \u001b[0mf\u001b[0m \u001b[1;33m=\u001b[0m \u001b[0mopen\u001b[0m\u001b[1;33m(\u001b[0m\u001b[1;34m\"D:\\test.txt\"\u001b[0m\u001b[1;33m,\u001b[0m \u001b[1;34m\"w\"\u001b[0m\u001b[1;33m)\u001b[0m\u001b[1;33m\u001b[0m\u001b[1;33m\u001b[0m\u001b[0m\n\u001b[0m\u001b[0;32m      2\u001b[0m \u001b[0mprint\u001b[0m\u001b[1;33m(\u001b[0m\u001b[0mf\u001b[0m\u001b[1;33m.\u001b[0m\u001b[0mread\u001b[0m\u001b[1;33m(\u001b[0m\u001b[1;33m)\u001b[0m\u001b[1;33m)\u001b[0m\u001b[1;33m\u001b[0m\u001b[1;33m\u001b[0m\u001b[0m\n",
      "\u001b[1;31mFileNotFoundError\u001b[0m: [Errno 2] No such file or directory: 'D:\\test.txt'"
     ]
    }
   ],
   "source": [
    "f = open(\"D:\\test.txt\", \"w\")\n",
    "print(f.read())"
   ]
  },
  {
   "cell_type": "code",
   "execution_count": 6,
   "id": "e4cca7df",
   "metadata": {},
   "outputs": [
    {
     "data": {
      "text/plain": [
       "'C:\\\\Users\\\\admin\\\\Untitled Folder'"
      ]
     },
     "execution_count": 6,
     "metadata": {},
     "output_type": "execute_result"
    }
   ],
   "source": [
    "import os\n",
    "os.getcwd()"
   ]
  },
  {
   "cell_type": "code",
   "execution_count": 3,
   "id": "73f98ceb",
   "metadata": {},
   "outputs": [],
   "source": [
    "## map, reduce, filter "
   ]
  },
  {
   "cell_type": "code",
   "execution_count": 268,
   "id": "09e79617",
   "metadata": {},
   "outputs": [],
   "source": [
    "l=[2,3,4,5,6,7]"
   ]
  },
  {
   "cell_type": "code",
   "execution_count": 270,
   "id": "efa824fe",
   "metadata": {},
   "outputs": [],
   "source": [
    "l1=[]\n",
    "for i in l:\n",
    "    l1.append(i**2)\n",
    "    "
   ]
  },
  {
   "cell_type": "code",
   "execution_count": 271,
   "id": "6a16a9a6",
   "metadata": {},
   "outputs": [
    {
     "data": {
      "text/plain": [
       "[4, 9, 16, 25, 36, 49]"
      ]
     },
     "execution_count": 271,
     "metadata": {},
     "output_type": "execute_result"
    }
   ],
   "source": [
    "l1"
   ]
  },
  {
   "cell_type": "code",
   "execution_count": 272,
   "id": "d57adc83",
   "metadata": {},
   "outputs": [],
   "source": [
    "def sq(n):\n",
    "    return n**2"
   ]
  },
  {
   "cell_type": "code",
   "execution_count": 274,
   "id": "5a9e7820",
   "metadata": {},
   "outputs": [
    {
     "data": {
      "text/plain": [
       "[4, 9, 16, 25, 36, 49]"
      ]
     },
     "execution_count": 274,
     "metadata": {},
     "output_type": "execute_result"
    }
   ],
   "source": [
    "list(map(sq,l))"
   ]
  },
  {
   "cell_type": "code",
   "execution_count": 276,
   "id": "d2fe8ea1",
   "metadata": {},
   "outputs": [
    {
     "data": {
      "text/plain": [
       "[4, 9, 16, 25, 36, 49]"
      ]
     },
     "execution_count": 276,
     "metadata": {},
     "output_type": "execute_result"
    }
   ],
   "source": [
    "list(map(lambda x: x**2,l))"
   ]
  },
  {
   "cell_type": "code",
   "execution_count": 277,
   "id": "96296b10",
   "metadata": {},
   "outputs": [
    {
     "data": {
      "text/plain": [
       "[2, 3, 4, 5, 6, 7]"
      ]
     },
     "execution_count": 277,
     "metadata": {},
     "output_type": "execute_result"
    }
   ],
   "source": [
    "l"
   ]
  },
  {
   "cell_type": "code",
   "execution_count": 281,
   "id": "5c2112fe",
   "metadata": {},
   "outputs": [
    {
     "data": {
      "text/plain": [
       "['2', '3', '4', '5', '6', '7']"
      ]
     },
     "execution_count": 281,
     "metadata": {},
     "output_type": "execute_result"
    }
   ],
   "source": [
    "list(map(lambda x:str(x),l))"
   ]
  },
  {
   "cell_type": "code",
   "execution_count": 282,
   "id": "62c59ecf",
   "metadata": {},
   "outputs": [],
   "source": [
    "def str_c(n):\n",
    "    return str(n)"
   ]
  },
  {
   "cell_type": "code",
   "execution_count": 284,
   "id": "c2632223",
   "metadata": {},
   "outputs": [
    {
     "data": {
      "text/plain": [
       "['2', '3', '4', '5', '6', '7']"
      ]
     },
     "execution_count": 284,
     "metadata": {},
     "output_type": "execute_result"
    }
   ],
   "source": [
    "list(map(str,l))"
   ]
  },
  {
   "cell_type": "code",
   "execution_count": 285,
   "id": "c2d3527e",
   "metadata": {},
   "outputs": [],
   "source": [
    "#map ---> 1 to 1 mapping"
   ]
  },
  {
   "cell_type": "code",
   "execution_count": null,
   "id": "d9b650ef",
   "metadata": {},
   "outputs": [],
   "source": [
    "#reduce:\n"
   ]
  },
  {
   "cell_type": "code",
   "execution_count": 286,
   "id": "b6ce3f93",
   "metadata": {},
   "outputs": [],
   "source": [
    "from functools import reduce"
   ]
  },
  {
   "cell_type": "code",
   "execution_count": 287,
   "id": "e396a6c0",
   "metadata": {},
   "outputs": [],
   "source": [
    "l=[3,4,5,6,7,8,9]"
   ]
  },
  {
   "cell_type": "code",
   "execution_count": 288,
   "id": "2fe2b0c3",
   "metadata": {},
   "outputs": [
    {
     "data": {
      "text/plain": [
       "42"
      ]
     },
     "execution_count": 288,
     "metadata": {},
     "output_type": "execute_result"
    }
   ],
   "source": [
    "sum(l)\n",
    "    "
   ]
  },
  {
   "cell_type": "code",
   "execution_count": 292,
   "id": "f399bcde",
   "metadata": {},
   "outputs": [
    {
     "data": {
      "text/plain": [
       "42"
      ]
     },
     "execution_count": 292,
     "metadata": {},
     "output_type": "execute_result"
    }
   ],
   "source": [
    "reduce(lambda x, y : x+y,l)"
   ]
  },
  {
   "cell_type": "code",
   "execution_count": 293,
   "id": "d4edf0ac",
   "metadata": {},
   "outputs": [
    {
     "data": {
      "text/plain": [
       "181440"
      ]
     },
     "execution_count": 293,
     "metadata": {},
     "output_type": "execute_result"
    }
   ],
   "source": [
    "reduce(lambda x, y : x*y,l)"
   ]
  },
  {
   "cell_type": "code",
   "execution_count": 294,
   "id": "eaf7986b",
   "metadata": {},
   "outputs": [
    {
     "ename": "TypeError",
     "evalue": "<lambda>() missing 1 required positional argument: 'z'",
     "output_type": "error",
     "traceback": [
      "\u001b[1;31m---------------------------------------------------------------------------\u001b[0m",
      "\u001b[1;31mTypeError\u001b[0m                                 Traceback (most recent call last)",
      "\u001b[1;32m~\\AppData\\Local\\Temp/ipykernel_12660/2505282428.py\u001b[0m in \u001b[0;36m<module>\u001b[1;34m\u001b[0m\n\u001b[1;32m----> 1\u001b[1;33m \u001b[0mreduce\u001b[0m\u001b[1;33m(\u001b[0m\u001b[1;32mlambda\u001b[0m \u001b[0mx\u001b[0m\u001b[1;33m,\u001b[0m \u001b[0my\u001b[0m\u001b[1;33m,\u001b[0m\u001b[0mz\u001b[0m \u001b[1;33m:\u001b[0m \u001b[0mx\u001b[0m\u001b[1;33m*\u001b[0m\u001b[0my\u001b[0m\u001b[1;33m*\u001b[0m\u001b[0mz\u001b[0m\u001b[1;33m,\u001b[0m\u001b[0ml\u001b[0m\u001b[1;33m)\u001b[0m\u001b[1;33m\u001b[0m\u001b[1;33m\u001b[0m\u001b[0m\n\u001b[0m",
      "\u001b[1;31mTypeError\u001b[0m: <lambda>() missing 1 required positional argument: 'z'"
     ]
    }
   ],
   "source": [
    "reduce(lambda x, y,z : x*y*z,l)"
   ]
  },
  {
   "cell_type": "code",
   "execution_count": 296,
   "id": "24d62713",
   "metadata": {},
   "outputs": [],
   "source": [
    "l=[3]"
   ]
  },
  {
   "cell_type": "code",
   "execution_count": 297,
   "id": "b8c9caec",
   "metadata": {},
   "outputs": [
    {
     "data": {
      "text/plain": [
       "3"
      ]
     },
     "execution_count": 297,
     "metadata": {},
     "output_type": "execute_result"
    }
   ],
   "source": [
    "reduce(lambda a,b : a*b,l)"
   ]
  },
  {
   "cell_type": "code",
   "execution_count": 295,
   "id": "1de813c2",
   "metadata": {},
   "outputs": [],
   "source": [
    "# reduce only accept 2 parameter not 3"
   ]
  },
  {
   "cell_type": "code",
   "execution_count": 298,
   "id": "015a887a",
   "metadata": {},
   "outputs": [],
   "source": [
    "##filter----> filter out information / dataset\n",
    "only accept True "
   ]
  },
  {
   "cell_type": "code",
   "execution_count": 303,
   "id": "e209d63d",
   "metadata": {},
   "outputs": [],
   "source": [
    "l=[1,2,3,4,45,5]"
   ]
  },
  {
   "cell_type": "code",
   "execution_count": 304,
   "id": "d8af1757",
   "metadata": {},
   "outputs": [
    {
     "data": {
      "text/plain": [
       "[2, 4]"
      ]
     },
     "execution_count": 304,
     "metadata": {},
     "output_type": "execute_result"
    }
   ],
   "source": [
    "list(filter(lambda i:i%2==0,l))"
   ]
  },
  {
   "cell_type": "code",
   "execution_count": 305,
   "id": "99418d2e",
   "metadata": {},
   "outputs": [],
   "source": [
    "def check_even(n):\n",
    "    if n%2==0:\n",
    "        return True"
   ]
  },
  {
   "cell_type": "code",
   "execution_count": 306,
   "id": "dbe81467",
   "metadata": {},
   "outputs": [
    {
     "data": {
      "text/plain": [
       "[2, 4]"
      ]
     },
     "execution_count": 306,
     "metadata": {},
     "output_type": "execute_result"
    }
   ],
   "source": [
    "list(filter(check_even,l))"
   ]
  },
  {
   "cell_type": "code",
   "execution_count": 11,
   "id": "36e6d8af",
   "metadata": {},
   "outputs": [],
   "source": [
    "l=[1,2,3,4,5]"
   ]
  },
  {
   "cell_type": "code",
   "execution_count": 12,
   "id": "aff52072",
   "metadata": {},
   "outputs": [],
   "source": [
    "m=lambda:[x**2 for x in l]"
   ]
  },
  {
   "cell_type": "code",
   "execution_count": 13,
   "id": "41a384ee",
   "metadata": {},
   "outputs": [
    {
     "data": {
      "text/plain": [
       "[1, 4, 9, 16, 25]"
      ]
     },
     "execution_count": 13,
     "metadata": {},
     "output_type": "execute_result"
    }
   ],
   "source": [
    "m()"
   ]
  },
  {
   "cell_type": "code",
   "execution_count": null,
   "id": "529f2f74",
   "metadata": {},
   "outputs": [],
   "source": []
  },
  {
   "cell_type": "code",
   "execution_count": null,
   "id": "17bea418",
   "metadata": {},
   "outputs": [],
   "source": []
  }
 ],
 "metadata": {
  "kernelspec": {
   "display_name": "Python 3 (ipykernel)",
   "language": "python",
   "name": "python3"
  },
  "language_info": {
   "codemirror_mode": {
    "name": "ipython",
    "version": 3
   },
   "file_extension": ".py",
   "mimetype": "text/x-python",
   "name": "python",
   "nbconvert_exporter": "python",
   "pygments_lexer": "ipython3",
   "version": "3.9.7"
  }
 },
 "nbformat": 4,
 "nbformat_minor": 5
}
