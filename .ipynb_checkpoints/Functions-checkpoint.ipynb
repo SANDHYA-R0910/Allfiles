{
 "cells": [
  {
   "cell_type": "code",
   "execution_count": 9,
   "id": "b7d95c43",
   "metadata": {},
   "outputs": [],
   "source": [
    "def test(a,b):\n",
    "    '''this is my function for concatination or addition'''\n",
    "    return a+b\n",
    "    "
   ]
  },
  {
   "cell_type": "code",
   "execution_count": 10,
   "id": "97fd0ba4",
   "metadata": {},
   "outputs": [
    {
     "data": {
      "text/plain": [
       "30"
      ]
     },
     "execution_count": 10,
     "metadata": {},
     "output_type": "execute_result"
    }
   ],
   "source": [
    "test(10,20)"
   ]
  },
  {
   "cell_type": "code",
   "execution_count": 11,
   "id": "5716775f",
   "metadata": {},
   "outputs": [
    {
     "data": {
      "text/plain": [
       "'sudhkumar'"
      ]
     },
     "execution_count": 11,
     "metadata": {},
     "output_type": "execute_result"
    }
   ],
   "source": [
    "test(\"sudh\",\"kumar\")"
   ]
  },
  {
   "cell_type": "code",
   "execution_count": 12,
   "id": "1200aaf9",
   "metadata": {},
   "outputs": [
    {
     "data": {
      "text/plain": [
       "15"
      ]
     },
     "execution_count": 12,
     "metadata": {},
     "output_type": "execute_result"
    }
   ],
   "source": [
    "test(a=9,b=6)"
   ]
  },
  {
   "cell_type": "code",
   "execution_count": 13,
   "id": "e916892f",
   "metadata": {},
   "outputs": [
    {
     "data": {
      "text/plain": [
       "64"
      ]
     },
     "execution_count": 13,
     "metadata": {},
     "output_type": "execute_result"
    }
   ],
   "source": [
    "test(b=30,a=34)"
   ]
  },
  {
   "cell_type": "code",
   "execution_count": 14,
   "id": "a5a298de",
   "metadata": {},
   "outputs": [
    {
     "name": "stdout",
     "output_type": "stream",
     "text": [
      "\n"
     ]
    }
   ],
   "source": [
    "print()"
   ]
  },
  {
   "cell_type": "code",
   "execution_count": 15,
   "id": "4200e53d",
   "metadata": {},
   "outputs": [],
   "source": [
    "def test1(a,b,c,d,e):\n",
    "    return a,b,c,d,e"
   ]
  },
  {
   "cell_type": "code",
   "execution_count": 16,
   "id": "9f8bf7b6",
   "metadata": {},
   "outputs": [
    {
     "ename": "TypeError",
     "evalue": "test1() missing 1 required positional argument: 'e'",
     "output_type": "error",
     "traceback": [
      "\u001b[1;31m---------------------------------------------------------------------------\u001b[0m",
      "\u001b[1;31mTypeError\u001b[0m                                 Traceback (most recent call last)",
      "\u001b[1;32m~\\AppData\\Local\\Temp/ipykernel_14188/2630490214.py\u001b[0m in \u001b[0;36m<module>\u001b[1;34m\u001b[0m\n\u001b[1;32m----> 1\u001b[1;33m \u001b[0mtest1\u001b[0m\u001b[1;33m(\u001b[0m\u001b[1;36m3\u001b[0m\u001b[1;33m,\u001b[0m\u001b[1;36m4\u001b[0m\u001b[1;33m,\u001b[0m\u001b[1;36m5\u001b[0m\u001b[1;33m,\u001b[0m\u001b[1;36m6\u001b[0m\u001b[1;33m)\u001b[0m\u001b[1;33m\u001b[0m\u001b[1;33m\u001b[0m\u001b[0m\n\u001b[0m",
      "\u001b[1;31mTypeError\u001b[0m: test1() missing 1 required positional argument: 'e'"
     ]
    }
   ],
   "source": [
    "test1(3,4,5,6)"
   ]
  },
  {
   "cell_type": "code",
   "execution_count": 17,
   "id": "43c9fd8e",
   "metadata": {},
   "outputs": [],
   "source": [
    "def test(*a):\n",
    "    return a\n"
   ]
  },
  {
   "cell_type": "code",
   "execution_count": 18,
   "id": "b518b7d8",
   "metadata": {},
   "outputs": [
    {
     "data": {
      "text/plain": [
       "(34, 456)"
      ]
     },
     "execution_count": 18,
     "metadata": {},
     "output_type": "execute_result"
    }
   ],
   "source": [
    "test(34,456)"
   ]
  },
  {
   "cell_type": "code",
   "execution_count": 19,
   "id": "7937c3b2",
   "metadata": {},
   "outputs": [
    {
     "data": {
      "text/plain": [
       "(4, 5, 6, 7, 8, 9, 0, 2, 3, 2, 1)"
      ]
     },
     "execution_count": 19,
     "metadata": {},
     "output_type": "execute_result"
    }
   ],
   "source": [
    "test(4,5,6,7,8,9,0,2,3,2,1)"
   ]
  },
  {
   "cell_type": "code",
   "execution_count": 20,
   "id": "a8792b4c",
   "metadata": {},
   "outputs": [],
   "source": [
    "def test1(*args):\n",
    "    return args"
   ]
  },
  {
   "cell_type": "code",
   "execution_count": 21,
   "id": "6631288c",
   "metadata": {},
   "outputs": [
    {
     "data": {
      "text/plain": [
       "(34, 56, 78)"
      ]
     },
     "execution_count": 21,
     "metadata": {},
     "output_type": "execute_result"
    }
   ],
   "source": [
    "test1(34,56,78)"
   ]
  },
  {
   "cell_type": "code",
   "execution_count": 22,
   "id": "6c84df78",
   "metadata": {},
   "outputs": [],
   "source": [
    "def test5(*a):\n",
    "    l=[]\n",
    "    for i in a:\n",
    "        l.append(i)\n",
    "    return l\n",
    "        "
   ]
  },
  {
   "cell_type": "code",
   "execution_count": 23,
   "id": "c5298ddb",
   "metadata": {},
   "outputs": [
    {
     "data": {
      "text/plain": [
       "[2, 3, 4, 5, 67, [4, 5, 6, 7, 8]]"
      ]
     },
     "execution_count": 23,
     "metadata": {},
     "output_type": "execute_result"
    }
   ],
   "source": [
    "test5(2,3,4,5,67,[4,5,6,7,8])"
   ]
  },
  {
   "cell_type": "code",
   "execution_count": 24,
   "id": "5e010e1e",
   "metadata": {},
   "outputs": [],
   "source": [
    "def test6(a,b,c,d,*n):\n",
    "    return a,b,c,d,n\n"
   ]
  },
  {
   "cell_type": "code",
   "execution_count": 25,
   "id": "46c85415",
   "metadata": {},
   "outputs": [
    {
     "data": {
      "text/plain": [
       "(1, 2, 3, 4, (5, 6, 78, 67, 8))"
      ]
     },
     "execution_count": 25,
     "metadata": {},
     "output_type": "execute_result"
    }
   ],
   "source": [
    "test6(1,2,3,4,5,6,78,67,8)"
   ]
  },
  {
   "cell_type": "code",
   "execution_count": 26,
   "id": "8a1199c9",
   "metadata": {},
   "outputs": [],
   "source": [
    "def test7(*m,a,b,c,d,e):\n",
    "    return m,a,b,c,d,e"
   ]
  },
  {
   "cell_type": "code",
   "execution_count": 27,
   "id": "da2f14db",
   "metadata": {},
   "outputs": [
    {
     "data": {
      "text/plain": [
       "((1, 2, 3, 4, 5, 6, 7, 8, 9), 10, 11, 12, 13, 14)"
      ]
     },
     "execution_count": 27,
     "metadata": {},
     "output_type": "execute_result"
    }
   ],
   "source": [
    "test7(1,2,3,4,5,6,7,8,9, a=10,b=11,c=12,d=13,e=14)"
   ]
  },
  {
   "cell_type": "code",
   "execution_count": 28,
   "id": "b581f19a",
   "metadata": {},
   "outputs": [],
   "source": [
    "#**----->use for key & value "
   ]
  },
  {
   "cell_type": "code",
   "execution_count": 29,
   "id": "498bda4a",
   "metadata": {},
   "outputs": [],
   "source": [
    "def test8(**kwargs):\n",
    "    return kwargs"
   ]
  },
  {
   "cell_type": "code",
   "execution_count": 30,
   "id": "2798b910",
   "metadata": {},
   "outputs": [
    {
     "ename": "TypeError",
     "evalue": "test8() takes 0 positional arguments but 3 were given",
     "output_type": "error",
     "traceback": [
      "\u001b[1;31m---------------------------------------------------------------------------\u001b[0m",
      "\u001b[1;31mTypeError\u001b[0m                                 Traceback (most recent call last)",
      "\u001b[1;32m~\\AppData\\Local\\Temp/ipykernel_14188/4224045032.py\u001b[0m in \u001b[0;36m<module>\u001b[1;34m\u001b[0m\n\u001b[1;32m----> 1\u001b[1;33m \u001b[0mtest8\u001b[0m\u001b[1;33m(\u001b[0m\u001b[1;36m4\u001b[0m\u001b[1;33m,\u001b[0m\u001b[1;36m5\u001b[0m\u001b[1;33m,\u001b[0m\u001b[1;36m6\u001b[0m\u001b[1;33m)\u001b[0m\u001b[1;33m\u001b[0m\u001b[1;33m\u001b[0m\u001b[0m\n\u001b[0m",
      "\u001b[1;31mTypeError\u001b[0m: test8() takes 0 positional arguments but 3 were given"
     ]
    }
   ],
   "source": [
    "test8(4,5,6)"
   ]
  },
  {
   "cell_type": "code",
   "execution_count": 31,
   "id": "bbdf4764",
   "metadata": {},
   "outputs": [
    {
     "data": {
      "text/plain": [
       "{'b': 5, 'c': 6, 'd': 4, 'e': 78, 'n': [1, 2, 3, 4]}"
      ]
     },
     "execution_count": 31,
     "metadata": {},
     "output_type": "execute_result"
    }
   ],
   "source": [
    "test8(b=5,c=6,d=4,e=78,n=[1,2,3,4])"
   ]
  },
  {
   "cell_type": "code",
   "execution_count": 32,
   "id": "7741cdae",
   "metadata": {},
   "outputs": [],
   "source": [
    "d={'b': 5, 'c': 6, 'd': 4, 'e': 78}"
   ]
  },
  {
   "cell_type": "code",
   "execution_count": 33,
   "id": "6f41c640",
   "metadata": {},
   "outputs": [
    {
     "ename": "TypeError",
     "evalue": "test8() takes 0 positional arguments but 1 was given",
     "output_type": "error",
     "traceback": [
      "\u001b[1;31m---------------------------------------------------------------------------\u001b[0m",
      "\u001b[1;31mTypeError\u001b[0m                                 Traceback (most recent call last)",
      "\u001b[1;32m~\\AppData\\Local\\Temp/ipykernel_14188/2123698705.py\u001b[0m in \u001b[0;36m<module>\u001b[1;34m\u001b[0m\n\u001b[1;32m----> 1\u001b[1;33m \u001b[0mtest8\u001b[0m\u001b[1;33m(\u001b[0m\u001b[0md\u001b[0m\u001b[1;33m)\u001b[0m\u001b[1;33m\u001b[0m\u001b[1;33m\u001b[0m\u001b[0m\n\u001b[0m",
      "\u001b[1;31mTypeError\u001b[0m: test8() takes 0 positional arguments but 1 was given"
     ]
    }
   ],
   "source": [
    "test8(d)"
   ]
  },
  {
   "cell_type": "code",
   "execution_count": 34,
   "id": "ce6d1df5",
   "metadata": {},
   "outputs": [],
   "source": [
    "def test9(*m,**s):\n",
    "    return m,s"
   ]
  },
  {
   "cell_type": "code",
   "execution_count": 35,
   "id": "f745b577",
   "metadata": {},
   "outputs": [
    {
     "data": {
      "text/plain": [
       "((345, 45, 56, 78, 5, 6, 7), {'b': 5, 'c': 8, 'd': 9})"
      ]
     },
     "execution_count": 35,
     "metadata": {},
     "output_type": "execute_result"
    }
   ],
   "source": [
    "test9(345,45,56,78,5,6,7,b=5,c=8,d=9)"
   ]
  },
  {
   "cell_type": "code",
   "execution_count": 36,
   "id": "14a7f77f",
   "metadata": {},
   "outputs": [],
   "source": [
    "def test10(*m):\n",
    "    n=0\n",
    "    for i in m:\n",
    "        if type(i)==int:\n",
    "            n=n+i\n",
    "    return n\n",
    "            "
   ]
  },
  {
   "cell_type": "code",
   "execution_count": 37,
   "id": "924a20d1",
   "metadata": {},
   "outputs": [
    {
     "data": {
      "text/plain": [
       "26"
      ]
     },
     "execution_count": 37,
     "metadata": {},
     "output_type": "execute_result"
    }
   ],
   "source": [
    "test10(2,3,4,5,6,6)"
   ]
  },
  {
   "cell_type": "code",
   "execution_count": 38,
   "id": "c703dd62",
   "metadata": {},
   "outputs": [
    {
     "data": {
      "text/plain": [
       "9"
      ]
     },
     "execution_count": 38,
     "metadata": {},
     "output_type": "execute_result"
    }
   ],
   "source": [
    "test10(2,3,4)"
   ]
  },
  {
   "cell_type": "code",
   "execution_count": 39,
   "id": "7bcb0389",
   "metadata": {},
   "outputs": [],
   "source": [
    "def test10(*m):\n",
    "    n=1\n",
    "    for i in m:\n",
    "        if type(i)==int:\n",
    "            n=n*i\n",
    "    return n"
   ]
  },
  {
   "cell_type": "code",
   "execution_count": 40,
   "id": "ad61d0e4",
   "metadata": {},
   "outputs": [
    {
     "data": {
      "text/plain": [
       "3507840"
      ]
     },
     "execution_count": 40,
     "metadata": {},
     "output_type": "execute_result"
    }
   ],
   "source": [
    "test10(4,5,6,6,7,87,8)"
   ]
  },
  {
   "cell_type": "code",
   "execution_count": 41,
   "id": "9b4ac29d",
   "metadata": {},
   "outputs": [],
   "source": [
    "def test10(*m):\n",
    "    n=0\n",
    "    for i in m:\n",
    "        if type(i)==int:\n",
    "            n=n-i\n",
    "    return n"
   ]
  },
  {
   "cell_type": "code",
   "execution_count": 42,
   "id": "66374ab9",
   "metadata": {},
   "outputs": [
    {
     "data": {
      "text/plain": [
       "-123"
      ]
     },
     "execution_count": 42,
     "metadata": {},
     "output_type": "execute_result"
    }
   ],
   "source": [
    "test10(4,5,6,6,7,87,8)"
   ]
  },
  {
   "cell_type": "code",
   "execution_count": 43,
   "id": "12a65644",
   "metadata": {},
   "outputs": [],
   "source": [
    "##lambda fun or annanomus"
   ]
  },
  {
   "cell_type": "code",
   "execution_count": 45,
   "id": "394d5591",
   "metadata": {},
   "outputs": [],
   "source": [
    "n=lambda a,b : a+b"
   ]
  },
  {
   "cell_type": "code",
   "execution_count": 46,
   "id": "6320af47",
   "metadata": {},
   "outputs": [
    {
     "data": {
      "text/plain": [
       "<function __main__.<lambda>(a, b)>"
      ]
     },
     "execution_count": 46,
     "metadata": {},
     "output_type": "execute_result"
    }
   ],
   "source": [
    "n"
   ]
  },
  {
   "cell_type": "code",
   "execution_count": 47,
   "id": "f3db222d",
   "metadata": {},
   "outputs": [
    {
     "data": {
      "text/plain": [
       "9"
      ]
     },
     "execution_count": 47,
     "metadata": {},
     "output_type": "execute_result"
    }
   ],
   "source": [
    "n(4,5)"
   ]
  },
  {
   "cell_type": "code",
   "execution_count": 48,
   "id": "4d8f0db7",
   "metadata": {},
   "outputs": [],
   "source": [
    "def test5(a,b):\n",
    "    return a+b\n"
   ]
  },
  {
   "cell_type": "code",
   "execution_count": 49,
   "id": "6b583ca4",
   "metadata": {},
   "outputs": [
    {
     "data": {
      "text/plain": [
       "9"
      ]
     },
     "execution_count": 49,
     "metadata": {},
     "output_type": "execute_result"
    }
   ],
   "source": [
    "test5(4,5)"
   ]
  },
  {
   "cell_type": "code",
   "execution_count": 50,
   "id": "f666ebd5",
   "metadata": {},
   "outputs": [
    {
     "data": {
      "text/plain": [
       "11"
      ]
     },
     "execution_count": 50,
     "metadata": {},
     "output_type": "execute_result"
    }
   ],
   "source": [
    "n(5,6)"
   ]
  },
  {
   "cell_type": "code",
   "execution_count": 51,
   "id": "317085a7",
   "metadata": {},
   "outputs": [],
   "source": [
    "b=lambda *sudh:sudh"
   ]
  },
  {
   "cell_type": "code",
   "execution_count": 52,
   "id": "3165ebe3",
   "metadata": {},
   "outputs": [
    {
     "data": {
      "text/plain": [
       "<function __main__.<lambda>(*sudh)>"
      ]
     },
     "execution_count": 52,
     "metadata": {},
     "output_type": "execute_result"
    }
   ],
   "source": [
    "b"
   ]
  },
  {
   "cell_type": "code",
   "execution_count": 53,
   "id": "52987264",
   "metadata": {},
   "outputs": [
    {
     "data": {
      "text/plain": [
       "(45, 5, 6, 7, 8, 9)"
      ]
     },
     "execution_count": 53,
     "metadata": {},
     "output_type": "execute_result"
    }
   ],
   "source": [
    "b(45,5,6,7,8,9)"
   ]
  },
  {
   "cell_type": "code",
   "execution_count": 54,
   "id": "0f7f100f",
   "metadata": {},
   "outputs": [],
   "source": [
    "def f1(*a):\n",
    "    return a"
   ]
  },
  {
   "cell_type": "code",
   "execution_count": 55,
   "id": "28f60a96",
   "metadata": {},
   "outputs": [
    {
     "data": {
      "text/plain": [
       "(4, 5, 6, 7)"
      ]
     },
     "execution_count": 55,
     "metadata": {},
     "output_type": "execute_result"
    }
   ],
   "source": [
    "f1(4,5,6,7)"
   ]
  },
  {
   "cell_type": "code",
   "execution_count": 56,
   "id": "f5b8962a",
   "metadata": {},
   "outputs": [],
   "source": [
    "t=(3,4,5,5,6,7,7,8,8)\n",
    "l=[]\n",
    "for i in t:\n",
    "    l.append(i)"
   ]
  },
  {
   "cell_type": "code",
   "execution_count": 57,
   "id": "3e97327d",
   "metadata": {},
   "outputs": [
    {
     "data": {
      "text/plain": [
       "[3, 4, 5, 5, 6, 7, 7, 8, 8]"
      ]
     },
     "execution_count": 57,
     "metadata": {},
     "output_type": "execute_result"
    }
   ],
   "source": [
    "l"
   ]
  },
  {
   "cell_type": "code",
   "execution_count": null,
   "id": "1603518c",
   "metadata": {},
   "outputs": [],
   "source": [
    "#list compression "
   ]
  },
  {
   "cell_type": "code",
   "execution_count": 58,
   "id": "0bba8eef",
   "metadata": {},
   "outputs": [
    {
     "data": {
      "text/plain": [
       "[3, 4, 5, 5, 6, 7, 7, 8, 8]"
      ]
     },
     "execution_count": 58,
     "metadata": {},
     "output_type": "execute_result"
    }
   ],
   "source": [
    "[i for i in t]"
   ]
  },
  {
   "cell_type": "code",
   "execution_count": 59,
   "id": "126f339d",
   "metadata": {},
   "outputs": [],
   "source": [
    "s=\"sudh\""
   ]
  },
  {
   "cell_type": "code",
   "execution_count": 60,
   "id": "5c618261",
   "metadata": {},
   "outputs": [
    {
     "data": {
      "text/plain": [
       "['s', 'u', 'd', 'h']"
      ]
     },
     "execution_count": 60,
     "metadata": {},
     "output_type": "execute_result"
    }
   ],
   "source": [
    "[i for i in s]"
   ]
  },
  {
   "cell_type": "code",
   "execution_count": 63,
   "id": "90557b5d",
   "metadata": {},
   "outputs": [
    {
     "data": {
      "text/plain": [
       "[0, 1, 4, 9, 16, 25, 36, 49, 64, 81, 100]"
      ]
     },
     "execution_count": 63,
     "metadata": {},
     "output_type": "execute_result"
    }
   ],
   "source": [
    "[i*i for i in range(11)]"
   ]
  },
  {
   "cell_type": "code",
   "execution_count": 66,
   "id": "32e124bf",
   "metadata": {},
   "outputs": [],
   "source": [
    "l=[]\n",
    "for i in range(10):\n",
    "    l.append(i*i)\n",
    "    "
   ]
  },
  {
   "cell_type": "code",
   "execution_count": 67,
   "id": "187b48cd",
   "metadata": {},
   "outputs": [
    {
     "data": {
      "text/plain": [
       "[0, 1, 4, 9, 16, 25, 36, 49, 64, 81]"
      ]
     },
     "execution_count": 67,
     "metadata": {},
     "output_type": "execute_result"
    }
   ],
   "source": [
    "l"
   ]
  },
  {
   "cell_type": "code",
   "execution_count": 70,
   "id": "369f51d6",
   "metadata": {},
   "outputs": [],
   "source": [
    "l=lambda *x:[i**2 for i in x]"
   ]
  },
  {
   "cell_type": "code",
   "execution_count": 71,
   "id": "0466b526",
   "metadata": {},
   "outputs": [
    {
     "data": {
      "text/plain": [
       "[16, 25, 36, 49, 64, 81]"
      ]
     },
     "execution_count": 71,
     "metadata": {},
     "output_type": "execute_result"
    }
   ],
   "source": [
    "l(4,5,6,7,8,9)"
   ]
  },
  {
   "cell_type": "code",
   "execution_count": 256,
   "id": "e48a7268",
   "metadata": {},
   "outputs": [
    {
     "name": "stdout",
     "output_type": "stream",
     "text": [
      "{'a': 7, 'b': 'sudh', 'c': 345, 'd': 'sudh', 'l': [2, 3, 4, 45, 'sudh']}\n",
      "dict_values([7, 'sudh', 345, 'sudh', [2, 3, 4, 45, 'sudh']])\n"
     ]
    },
    {
     "data": {
      "text/plain": [
       "3"
      ]
     },
     "execution_count": 256,
     "metadata": {},
     "output_type": "execute_result"
    }
   ],
   "source": [
    "test14(a=7,b=\"sudh\",c=345,d=\"sudh\",l=[2,3,4,45,\"sudh\"])"
   ]
  },
  {
   "cell_type": "code",
   "execution_count": 257,
   "id": "00b6a0a2",
   "metadata": {},
   "outputs": [],
   "source": [
    "def test14(**n):\n",
    "    count = 0\n",
    "    print(n)\n",
    "    print(n.values())\n",
    "    for i in n.values():\n",
    "        if type(i)==str or type(i)==list:\n",
    "            count=count+1\n",
    "    return count \n",
    "    "
   ]
  },
  {
   "cell_type": "code",
   "execution_count": 88,
   "id": "062ce5e0",
   "metadata": {},
   "outputs": [
    {
     "name": "stdout",
     "output_type": "stream",
     "text": [
      "{'a': 7, 'b': 'sudh', 'c': 345, 'd': 'sudh', 'l': [2, 3, 4, 45, 'sudh']}\n",
      "dict_values([7, 'sudh', 345, 'sudh', [2, 3, 4, 45, 'sudh']])\n"
     ]
    },
    {
     "data": {
      "text/plain": [
       "3"
      ]
     },
     "execution_count": 88,
     "metadata": {},
     "output_type": "execute_result"
    }
   ],
   "source": [
    "test14(a=7,b=\"sudh\",c=345,d=\"sudh\",l=[2,3,4,45,\"sudh\"])"
   ]
  },
  {
   "cell_type": "code",
   "execution_count": 89,
   "id": "bc4c2895",
   "metadata": {},
   "outputs": [],
   "source": [
    "def test15(**kwargs):\n",
    "    return list(kwargs.values())"
   ]
  },
  {
   "cell_type": "code",
   "execution_count": 90,
   "id": "4db982ae",
   "metadata": {},
   "outputs": [
    {
     "data": {
      "text/plain": [
       "[7, 'sudh', 345, 'sudh', [2, 3, 4, 45, 'sudh']]"
      ]
     },
     "execution_count": 90,
     "metadata": {},
     "output_type": "execute_result"
    }
   ],
   "source": [
    "test15(a=7,b=\"sudh\",c=345,d=\"sudh\",l=[2,3,4,45,\"sudh\"])"
   ]
  },
  {
   "cell_type": "code",
   "execution_count": 91,
   "id": "afd00720",
   "metadata": {},
   "outputs": [],
   "source": [
    "##task"
   ]
  },
  {
   "cell_type": "code",
   "execution_count": 92,
   "id": "7b64f1ff",
   "metadata": {},
   "outputs": [],
   "source": [
    "#1. try to print a prime no in b/w 1 to 1000\n",
    "def f1(n):\n",
    "    for i in range(1000):\n",
    "        if i%2==1:\n",
    "            print(i)"
   ]
  },
  {
   "cell_type": "code",
   "execution_count": 93,
   "id": "21dd0f2e",
   "metadata": {},
   "outputs": [
    {
     "name": "stdout",
     "output_type": "stream",
     "text": [
      "1\n",
      "3\n",
      "5\n",
      "7\n",
      "9\n",
      "11\n",
      "13\n",
      "15\n",
      "17\n",
      "19\n",
      "21\n",
      "23\n",
      "25\n",
      "27\n",
      "29\n",
      "31\n",
      "33\n",
      "35\n",
      "37\n",
      "39\n",
      "41\n",
      "43\n",
      "45\n",
      "47\n",
      "49\n",
      "51\n",
      "53\n",
      "55\n",
      "57\n",
      "59\n",
      "61\n",
      "63\n",
      "65\n",
      "67\n",
      "69\n",
      "71\n",
      "73\n",
      "75\n",
      "77\n",
      "79\n",
      "81\n",
      "83\n",
      "85\n",
      "87\n",
      "89\n",
      "91\n",
      "93\n",
      "95\n",
      "97\n",
      "99\n",
      "101\n",
      "103\n",
      "105\n",
      "107\n",
      "109\n",
      "111\n",
      "113\n",
      "115\n",
      "117\n",
      "119\n",
      "121\n",
      "123\n",
      "125\n",
      "127\n",
      "129\n",
      "131\n",
      "133\n",
      "135\n",
      "137\n",
      "139\n",
      "141\n",
      "143\n",
      "145\n",
      "147\n",
      "149\n",
      "151\n",
      "153\n",
      "155\n",
      "157\n",
      "159\n",
      "161\n",
      "163\n",
      "165\n",
      "167\n",
      "169\n",
      "171\n",
      "173\n",
      "175\n",
      "177\n",
      "179\n",
      "181\n",
      "183\n",
      "185\n",
      "187\n",
      "189\n",
      "191\n",
      "193\n",
      "195\n",
      "197\n",
      "199\n",
      "201\n",
      "203\n",
      "205\n",
      "207\n",
      "209\n",
      "211\n",
      "213\n",
      "215\n",
      "217\n",
      "219\n",
      "221\n",
      "223\n",
      "225\n",
      "227\n",
      "229\n",
      "231\n",
      "233\n",
      "235\n",
      "237\n",
      "239\n",
      "241\n",
      "243\n",
      "245\n",
      "247\n",
      "249\n",
      "251\n",
      "253\n",
      "255\n",
      "257\n",
      "259\n",
      "261\n",
      "263\n",
      "265\n",
      "267\n",
      "269\n",
      "271\n",
      "273\n",
      "275\n",
      "277\n",
      "279\n",
      "281\n",
      "283\n",
      "285\n",
      "287\n",
      "289\n",
      "291\n",
      "293\n",
      "295\n",
      "297\n",
      "299\n",
      "301\n",
      "303\n",
      "305\n",
      "307\n",
      "309\n",
      "311\n",
      "313\n",
      "315\n",
      "317\n",
      "319\n",
      "321\n",
      "323\n",
      "325\n",
      "327\n",
      "329\n",
      "331\n",
      "333\n",
      "335\n",
      "337\n",
      "339\n",
      "341\n",
      "343\n",
      "345\n",
      "347\n",
      "349\n",
      "351\n",
      "353\n",
      "355\n",
      "357\n",
      "359\n",
      "361\n",
      "363\n",
      "365\n",
      "367\n",
      "369\n",
      "371\n",
      "373\n",
      "375\n",
      "377\n",
      "379\n",
      "381\n",
      "383\n",
      "385\n",
      "387\n",
      "389\n",
      "391\n",
      "393\n",
      "395\n",
      "397\n",
      "399\n",
      "401\n",
      "403\n",
      "405\n",
      "407\n",
      "409\n",
      "411\n",
      "413\n",
      "415\n",
      "417\n",
      "419\n",
      "421\n",
      "423\n",
      "425\n",
      "427\n",
      "429\n",
      "431\n",
      "433\n",
      "435\n",
      "437\n",
      "439\n",
      "441\n",
      "443\n",
      "445\n",
      "447\n",
      "449\n",
      "451\n",
      "453\n",
      "455\n",
      "457\n",
      "459\n",
      "461\n",
      "463\n",
      "465\n",
      "467\n",
      "469\n",
      "471\n",
      "473\n",
      "475\n",
      "477\n",
      "479\n",
      "481\n",
      "483\n",
      "485\n",
      "487\n",
      "489\n",
      "491\n",
      "493\n",
      "495\n",
      "497\n",
      "499\n",
      "501\n",
      "503\n",
      "505\n",
      "507\n",
      "509\n",
      "511\n",
      "513\n",
      "515\n",
      "517\n",
      "519\n",
      "521\n",
      "523\n",
      "525\n",
      "527\n",
      "529\n",
      "531\n",
      "533\n",
      "535\n",
      "537\n",
      "539\n",
      "541\n",
      "543\n",
      "545\n",
      "547\n",
      "549\n",
      "551\n",
      "553\n",
      "555\n",
      "557\n",
      "559\n",
      "561\n",
      "563\n",
      "565\n",
      "567\n",
      "569\n",
      "571\n",
      "573\n",
      "575\n",
      "577\n",
      "579\n",
      "581\n",
      "583\n",
      "585\n",
      "587\n",
      "589\n",
      "591\n",
      "593\n",
      "595\n",
      "597\n",
      "599\n",
      "601\n",
      "603\n",
      "605\n",
      "607\n",
      "609\n",
      "611\n",
      "613\n",
      "615\n",
      "617\n",
      "619\n",
      "621\n",
      "623\n",
      "625\n",
      "627\n",
      "629\n",
      "631\n",
      "633\n",
      "635\n",
      "637\n",
      "639\n",
      "641\n",
      "643\n",
      "645\n",
      "647\n",
      "649\n",
      "651\n",
      "653\n",
      "655\n",
      "657\n",
      "659\n",
      "661\n",
      "663\n",
      "665\n",
      "667\n",
      "669\n",
      "671\n",
      "673\n",
      "675\n",
      "677\n",
      "679\n",
      "681\n",
      "683\n",
      "685\n",
      "687\n",
      "689\n",
      "691\n",
      "693\n",
      "695\n",
      "697\n",
      "699\n",
      "701\n",
      "703\n",
      "705\n",
      "707\n",
      "709\n",
      "711\n",
      "713\n",
      "715\n",
      "717\n",
      "719\n",
      "721\n",
      "723\n",
      "725\n",
      "727\n",
      "729\n",
      "731\n",
      "733\n",
      "735\n",
      "737\n",
      "739\n",
      "741\n",
      "743\n",
      "745\n",
      "747\n",
      "749\n",
      "751\n",
      "753\n",
      "755\n",
      "757\n",
      "759\n",
      "761\n",
      "763\n",
      "765\n",
      "767\n",
      "769\n",
      "771\n",
      "773\n",
      "775\n",
      "777\n",
      "779\n",
      "781\n",
      "783\n",
      "785\n",
      "787\n",
      "789\n",
      "791\n",
      "793\n",
      "795\n",
      "797\n",
      "799\n",
      "801\n",
      "803\n",
      "805\n",
      "807\n",
      "809\n",
      "811\n",
      "813\n",
      "815\n",
      "817\n",
      "819\n",
      "821\n",
      "823\n",
      "825\n",
      "827\n",
      "829\n",
      "831\n",
      "833\n",
      "835\n",
      "837\n",
      "839\n",
      "841\n",
      "843\n",
      "845\n",
      "847\n",
      "849\n",
      "851\n",
      "853\n",
      "855\n",
      "857\n",
      "859\n",
      "861\n",
      "863\n",
      "865\n",
      "867\n",
      "869\n",
      "871\n",
      "873\n",
      "875\n",
      "877\n",
      "879\n",
      "881\n",
      "883\n",
      "885\n",
      "887\n",
      "889\n",
      "891\n",
      "893\n",
      "895\n",
      "897\n",
      "899\n",
      "901\n",
      "903\n",
      "905\n",
      "907\n",
      "909\n",
      "911\n",
      "913\n",
      "915\n",
      "917\n",
      "919\n",
      "921\n",
      "923\n",
      "925\n",
      "927\n",
      "929\n",
      "931\n",
      "933\n",
      "935\n",
      "937\n",
      "939\n",
      "941\n",
      "943\n",
      "945\n",
      "947\n",
      "949\n",
      "951\n",
      "953\n",
      "955\n",
      "957\n",
      "959\n",
      "961\n",
      "963\n",
      "965\n",
      "967\n",
      "969\n",
      "971\n",
      "973\n",
      "975\n",
      "977\n",
      "979\n",
      "981\n",
      "983\n",
      "985\n",
      "987\n",
      "989\n",
      "991\n",
      "993\n",
      "995\n",
      "997\n",
      "999\n"
     ]
    }
   ],
   "source": [
    "f1(1000)"
   ]
  },
  {
   "cell_type": "code",
   "execution_count": 94,
   "id": "38cf8e8a",
   "metadata": {},
   "outputs": [],
   "source": [
    "#2. try to write a fun which is equivalent to print fun in python"
   ]
  },
  {
   "cell_type": "code",
   "execution_count": 95,
   "id": "308fd057",
   "metadata": {},
   "outputs": [],
   "source": [
    "def f1(a,b):\n",
    "    return a+b\n",
    "    "
   ]
  },
  {
   "cell_type": "code",
   "execution_count": 96,
   "id": "fe5f88bb",
   "metadata": {},
   "outputs": [
    {
     "data": {
      "text/plain": [
       "7"
      ]
     },
     "execution_count": 96,
     "metadata": {},
     "output_type": "execute_result"
    }
   ],
   "source": [
    "f1(3,4)"
   ]
  },
  {
   "cell_type": "code",
   "execution_count": 97,
   "id": "617463bd",
   "metadata": {},
   "outputs": [],
   "source": [
    "#3 try to write a fun which is replica of list append, extend and pop function"
   ]
  },
  {
   "cell_type": "code",
   "execution_count": 99,
   "id": "6cbcba21",
   "metadata": {},
   "outputs": [
    {
     "name": "stdout",
     "output_type": "stream",
     "text": [
      "[40, 50, 60, 10, 20, 30]\n"
     ]
    }
   ],
   "source": [
    "x = [10, 20, 30]\n",
    "y = [40, 50, 60]\n",
    "x[:0] =y\n",
    "print(x)"
   ]
  },
  {
   "cell_type": "code",
   "execution_count": 123,
   "id": "a9ef6711",
   "metadata": {},
   "outputs": [],
   "source": [
    "x = [10, 20, 30]\n",
    "y = [40, 50, 60]"
   ]
  },
  {
   "cell_type": "code",
   "execution_count": 124,
   "id": "21972663",
   "metadata": {},
   "outputs": [],
   "source": [
    "y[:0]=x"
   ]
  },
  {
   "cell_type": "code",
   "execution_count": 125,
   "id": "60e5d251",
   "metadata": {},
   "outputs": [
    {
     "data": {
      "text/plain": [
       "[10, 20, 30, 40, 50, 60]"
      ]
     },
     "execution_count": 125,
     "metadata": {},
     "output_type": "execute_result"
    }
   ],
   "source": [
    "y"
   ]
  },
  {
   "cell_type": "code",
   "execution_count": 119,
   "id": "86828625",
   "metadata": {},
   "outputs": [],
   "source": [
    "x[:0] = y"
   ]
  },
  {
   "cell_type": "code",
   "execution_count": 120,
   "id": "705b50ef",
   "metadata": {},
   "outputs": [
    {
     "data": {
      "text/plain": [
       "[40, 50, 60, 10, 20, 30]"
      ]
     },
     "execution_count": 120,
     "metadata": {},
     "output_type": "execute_result"
    }
   ],
   "source": [
    "x"
   ]
  },
  {
   "cell_type": "code",
   "execution_count": 193,
   "id": "f79dac75",
   "metadata": {},
   "outputs": [],
   "source": [
    "lst=[1,2,3,4,5,6,7]"
   ]
  },
  {
   "cell_type": "code",
   "execution_count": 208,
   "id": "a3afeaf1",
   "metadata": {},
   "outputs": [],
   "source": [
    "def add_item(lst, x):\n",
    "    x = x\n",
    "    x[:0] = lst\n",
    "    return x"
   ]
  },
  {
   "cell_type": "code",
   "execution_count": 209,
   "id": "653da09a",
   "metadata": {},
   "outputs": [
    {
     "name": "stdout",
     "output_type": "stream",
     "text": [
      "[1, 2, 3, 4, 5, 6, 7, 8]\n"
     ]
    }
   ],
   "source": [
    "lst = add_item(lst, [8])\n",
    "print(lst)"
   ]
  },
  {
   "cell_type": "code",
   "execution_count": 210,
   "id": "b7482fad",
   "metadata": {},
   "outputs": [],
   "source": [
    "def pop_item(lst):\n",
    "    return lst[:-1]"
   ]
  },
  {
   "cell_type": "code",
   "execution_count": 211,
   "id": "8701b139",
   "metadata": {},
   "outputs": [
    {
     "data": {
      "text/plain": [
       "[1, 2, 3, 4, 5, 6, 7]"
      ]
     },
     "execution_count": 211,
     "metadata": {},
     "output_type": "execute_result"
    }
   ],
   "source": [
    "pop_item(lst)"
   ]
  },
  {
   "cell_type": "code",
   "execution_count": null,
   "id": "75aed66c",
   "metadata": {},
   "outputs": [],
   "source": [
    "#4.Try to write a lambda function which can return a concatination of all the string that we will pass"
   ]
  },
  {
   "cell_type": "code",
   "execution_count": 213,
   "id": "bcfbbaf3",
   "metadata": {},
   "outputs": [],
   "source": [
    "l=lambda x,y : x+y"
   ]
  },
  {
   "cell_type": "code",
   "execution_count": 214,
   "id": "e71b21fa",
   "metadata": {},
   "outputs": [
    {
     "data": {
      "text/plain": [
       "'sairam'"
      ]
     },
     "execution_count": 214,
     "metadata": {},
     "output_type": "execute_result"
    }
   ],
   "source": [
    "l(\"sai\",\"ram\")"
   ]
  },
  {
   "cell_type": "code",
   "execution_count": 252,
   "id": "de36dd13",
   "metadata": {},
   "outputs": [],
   "source": [
    "\n",
    "x=lambda *args:\"\".join([i for i in args])"
   ]
  },
  {
   "cell_type": "code",
   "execution_count": 253,
   "id": "acb0433b",
   "metadata": {},
   "outputs": [
    {
     "data": {
      "text/plain": [
       "'sairam'"
      ]
     },
     "execution_count": 253,
     "metadata": {},
     "output_type": "execute_result"
    }
   ],
   "source": [
    "x(\"sai\",\"ram\")"
   ]
  },
  {
   "cell_type": "code",
   "execution_count": null,
   "id": "e06a7a5d",
   "metadata": {},
   "outputs": [],
   "source": [
    "#5. Try to write a lambda function which can return list of square of all the data between 1-100 "
   ]
  },
  {
   "cell_type": "code",
   "execution_count": 218,
   "id": "09c73178",
   "metadata": {},
   "outputs": [],
   "source": [
    "l=lambda x:[i*i for i in range(x)]"
   ]
  },
  {
   "cell_type": "code",
   "execution_count": 219,
   "id": "3cc9d4a4",
   "metadata": {},
   "outputs": [
    {
     "data": {
      "text/plain": [
       "[0,\n",
       " 1,\n",
       " 4,\n",
       " 9,\n",
       " 16,\n",
       " 25,\n",
       " 36,\n",
       " 49,\n",
       " 64,\n",
       " 81,\n",
       " 100,\n",
       " 121,\n",
       " 144,\n",
       " 169,\n",
       " 196,\n",
       " 225,\n",
       " 256,\n",
       " 289,\n",
       " 324,\n",
       " 361,\n",
       " 400,\n",
       " 441,\n",
       " 484,\n",
       " 529,\n",
       " 576,\n",
       " 625,\n",
       " 676,\n",
       " 729,\n",
       " 784,\n",
       " 841,\n",
       " 900,\n",
       " 961,\n",
       " 1024,\n",
       " 1089,\n",
       " 1156,\n",
       " 1225,\n",
       " 1296,\n",
       " 1369,\n",
       " 1444,\n",
       " 1521,\n",
       " 1600,\n",
       " 1681,\n",
       " 1764,\n",
       " 1849,\n",
       " 1936,\n",
       " 2025,\n",
       " 2116,\n",
       " 2209,\n",
       " 2304,\n",
       " 2401,\n",
       " 2500,\n",
       " 2601,\n",
       " 2704,\n",
       " 2809,\n",
       " 2916,\n",
       " 3025,\n",
       " 3136,\n",
       " 3249,\n",
       " 3364,\n",
       " 3481,\n",
       " 3600,\n",
       " 3721,\n",
       " 3844,\n",
       " 3969,\n",
       " 4096,\n",
       " 4225,\n",
       " 4356,\n",
       " 4489,\n",
       " 4624,\n",
       " 4761,\n",
       " 4900,\n",
       " 5041,\n",
       " 5184,\n",
       " 5329,\n",
       " 5476,\n",
       " 5625,\n",
       " 5776,\n",
       " 5929,\n",
       " 6084,\n",
       " 6241,\n",
       " 6400,\n",
       " 6561,\n",
       " 6724,\n",
       " 6889,\n",
       " 7056,\n",
       " 7225,\n",
       " 7396,\n",
       " 7569,\n",
       " 7744,\n",
       " 7921,\n",
       " 8100,\n",
       " 8281,\n",
       " 8464,\n",
       " 8649,\n",
       " 8836,\n",
       " 9025,\n",
       " 9216,\n",
       " 9409,\n",
       " 9604,\n",
       " 9801]"
      ]
     },
     "execution_count": 219,
     "metadata": {},
     "output_type": "execute_result"
    }
   ],
   "source": [
    "l(100)"
   ]
  },
  {
   "cell_type": "code",
   "execution_count": null,
   "id": "d913d415",
   "metadata": {},
   "outputs": [],
   "source": [
    "#6.Try to write a 10 Different different example of lambda function with a choice of your taks "
   ]
  },
  {
   "cell_type": "code",
   "execution_count": 220,
   "id": "2f6b5a45",
   "metadata": {},
   "outputs": [],
   "source": [
    "#1\n",
    "l=lambda *x:[i*2 for i in x]"
   ]
  },
  {
   "cell_type": "code",
   "execution_count": 221,
   "id": "2c6b05a6",
   "metadata": {},
   "outputs": [
    {
     "data": {
      "text/plain": [
       "[2, 4, 6, 8, 10]"
      ]
     },
     "execution_count": 221,
     "metadata": {},
     "output_type": "execute_result"
    }
   ],
   "source": [
    "l(1,2,3,4,5)"
   ]
  },
  {
   "cell_type": "code",
   "execution_count": 224,
   "id": "7fb760a7",
   "metadata": {},
   "outputs": [],
   "source": [
    "#2\n",
    "l=lambda x:[i for i in range(x) if i%2==0]"
   ]
  },
  {
   "cell_type": "code",
   "execution_count": 225,
   "id": "ab3238e1",
   "metadata": {},
   "outputs": [
    {
     "data": {
      "text/plain": [
       "[0, 2, 4, 6, 8]"
      ]
     },
     "execution_count": 225,
     "metadata": {},
     "output_type": "execute_result"
    }
   ],
   "source": [
    "l(10)"
   ]
  },
  {
   "cell_type": "code",
   "execution_count": 234,
   "id": "5689a1d7",
   "metadata": {},
   "outputs": [],
   "source": [
    "#3\n",
    "l=lambda y: y*y*y"
   ]
  },
  {
   "cell_type": "code",
   "execution_count": 235,
   "id": "f0790650",
   "metadata": {},
   "outputs": [
    {
     "data": {
      "text/plain": [
       "27"
      ]
     },
     "execution_count": 235,
     "metadata": {},
     "output_type": "execute_result"
    }
   ],
   "source": [
    "l(3)"
   ]
  },
  {
   "cell_type": "code",
   "execution_count": 237,
   "id": "3131a166",
   "metadata": {},
   "outputs": [],
   "source": [
    "#7 Try to wwrite a funtion whihc can perform a read operation from .txt file "
   ]
  },
  {
   "cell_type": "code",
   "execution_count": 243,
   "id": "d1d670ef",
   "metadata": {},
   "outputs": [
    {
     "name": "stdout",
     "output_type": "stream",
     "text": [
      "10\n",
      "9\n",
      "8\n",
      "7\n",
      "6\n",
      "5\n",
      "4\n",
      "3\n",
      "2\n",
      "1\n"
     ]
    }
   ],
   "source": [
    "for i in range(10,0,-1):\n",
    "    print(i)"
   ]
  },
  {
   "cell_type": "code",
   "execution_count": 249,
   "id": "12fc14e2",
   "metadata": {},
   "outputs": [
    {
     "name": "stdout",
     "output_type": "stream",
     "text": [
      "even num in the list: 6\n",
      "odd num in the list: 5\n"
     ]
    }
   ],
   "source": [
    "x=[1,2,3,4,5,6,7,8,9,10]\n",
    "even_count,odd_count=0,0\n",
    "for i in x:\n",
    "    if i%2==0:\n",
    "        even_count=count+1\n",
    "    else:\n",
    "        odd_count=odd_count+1\n",
    "print(\"even num in the list:\",even_count)\n",
    "print(\"odd num in the list:\",odd_count)        "
   ]
  },
  {
   "cell_type": "code",
   "execution_count": 250,
   "id": "cafda9c8",
   "metadata": {},
   "outputs": [
    {
     "name": "stdout",
     "output_type": "stream",
     "text": [
      "even num in the list: 6\n"
     ]
    }
   ],
   "source": [
    "x=[1,2,3,4,5,6,7,8,9,10]\n",
    "count=0\n",
    "for i in x:\n",
    "    if i%2==0:\n",
    "        count=count+1\n",
    "print(\"even num in the list:\",even_count)\n",
    "       "
   ]
  },
  {
   "cell_type": "code",
   "execution_count": 260,
   "id": "8f04d236",
   "metadata": {},
   "outputs": [],
   "source": [
    "l=[]\n",
    "sum=0\n",
    "for i in range(100,200):\n",
    "    sum=sum+i\n",
    "    l.append(sum)\n",
    "    "
   ]
  },
  {
   "cell_type": "code",
   "execution_count": 259,
   "id": "0a3e5668",
   "metadata": {},
   "outputs": [
    {
     "data": {
      "text/plain": [
       "[100,\n",
       " 101,\n",
       " 102,\n",
       " 103,\n",
       " 104,\n",
       " 105,\n",
       " 106,\n",
       " 107,\n",
       " 108,\n",
       " 109,\n",
       " 110,\n",
       " 111,\n",
       " 112,\n",
       " 113,\n",
       " 114,\n",
       " 115,\n",
       " 116,\n",
       " 117,\n",
       " 118,\n",
       " 119,\n",
       " 120,\n",
       " 121,\n",
       " 122,\n",
       " 123,\n",
       " 124,\n",
       " 125,\n",
       " 126,\n",
       " 127,\n",
       " 128,\n",
       " 129,\n",
       " 130,\n",
       " 131,\n",
       " 132,\n",
       " 133,\n",
       " 134,\n",
       " 135,\n",
       " 136,\n",
       " 137,\n",
       " 138,\n",
       " 139,\n",
       " 140,\n",
       " 141,\n",
       " 142,\n",
       " 143,\n",
       " 144,\n",
       " 145,\n",
       " 146,\n",
       " 147,\n",
       " 148,\n",
       " 149,\n",
       " 150,\n",
       " 151,\n",
       " 152,\n",
       " 153,\n",
       " 154,\n",
       " 155,\n",
       " 156,\n",
       " 157,\n",
       " 158,\n",
       " 159,\n",
       " 160,\n",
       " 161,\n",
       " 162,\n",
       " 163,\n",
       " 164,\n",
       " 165,\n",
       " 166,\n",
       " 167,\n",
       " 168,\n",
       " 169,\n",
       " 170,\n",
       " 171,\n",
       " 172,\n",
       " 173,\n",
       " 174,\n",
       " 175,\n",
       " 176,\n",
       " 177,\n",
       " 178,\n",
       " 179,\n",
       " 180,\n",
       " 181,\n",
       " 182,\n",
       " 183,\n",
       " 184,\n",
       " 185,\n",
       " 186,\n",
       " 187,\n",
       " 188,\n",
       " 189,\n",
       " 190,\n",
       " 191,\n",
       " 192,\n",
       " 193,\n",
       " 194,\n",
       " 195,\n",
       " 196,\n",
       " 197,\n",
       " 198,\n",
       " 199]"
      ]
     },
     "execution_count": 259,
     "metadata": {},
     "output_type": "execute_result"
    }
   ],
   "source": [
    "l"
   ]
  },
  {
   "cell_type": "code",
   "execution_count": null,
   "id": "4474f422",
   "metadata": {},
   "outputs": [],
   "source": []
  }
 ],
 "metadata": {
  "kernelspec": {
   "display_name": "Python 3 (ipykernel)",
   "language": "python",
   "name": "python3"
  },
  "language_info": {
   "codemirror_mode": {
    "name": "ipython",
    "version": 3
   },
   "file_extension": ".py",
   "mimetype": "text/x-python",
   "name": "python",
   "nbconvert_exporter": "python",
   "pygments_lexer": "ipython3",
   "version": "3.9.7"
  }
 },
 "nbformat": 4,
 "nbformat_minor": 5
}
