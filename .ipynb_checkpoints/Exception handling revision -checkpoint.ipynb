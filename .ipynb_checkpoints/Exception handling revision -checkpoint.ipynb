{
 "cells": [
  {
   "cell_type": "code",
   "execution_count": 1,
   "id": "8e3ca571",
   "metadata": {},
   "outputs": [
    {
     "ename": "ZeroDivisionError",
     "evalue": "division by zero",
     "output_type": "error",
     "traceback": [
      "\u001b[1;31m---------------------------------------------------------------------------\u001b[0m",
      "\u001b[1;31mZeroDivisionError\u001b[0m                         Traceback (most recent call last)",
      "\u001b[1;32m~\\AppData\\Local\\Temp/ipykernel_20816/358941512.py\u001b[0m in \u001b[0;36m<module>\u001b[1;34m\u001b[0m\n\u001b[0;32m      1\u001b[0m \u001b[0ma\u001b[0m\u001b[1;33m=\u001b[0m\u001b[1;36m10\u001b[0m\u001b[1;33m\u001b[0m\u001b[1;33m\u001b[0m\u001b[0m\n\u001b[1;32m----> 2\u001b[1;33m \u001b[0ma\u001b[0m\u001b[1;33m/\u001b[0m\u001b[1;36m0\u001b[0m\u001b[1;33m\u001b[0m\u001b[1;33m\u001b[0m\u001b[0m\n\u001b[0m",
      "\u001b[1;31mZeroDivisionError\u001b[0m: division by zero"
     ]
    }
   ],
   "source": [
    "a=10\n",
    "a/0"
   ]
  },
  {
   "cell_type": "code",
   "execution_count": 3,
   "id": "5d44783d",
   "metadata": {},
   "outputs": [
    {
     "ename": "FileNotFoundError",
     "evalue": "[Errno 2] No such file or directory: 'sudh345.txt'",
     "output_type": "error",
     "traceback": [
      "\u001b[1;31m---------------------------------------------------------------------------\u001b[0m",
      "\u001b[1;31mFileNotFoundError\u001b[0m                         Traceback (most recent call last)",
      "\u001b[1;32m~\\AppData\\Local\\Temp/ipykernel_20816/1904828384.py\u001b[0m in \u001b[0;36m<module>\u001b[1;34m\u001b[0m\n\u001b[1;32m----> 1\u001b[1;33m \u001b[0mf\u001b[0m\u001b[1;33m=\u001b[0m \u001b[0mopen\u001b[0m\u001b[1;33m(\u001b[0m\u001b[1;34m\"sudh345.txt\"\u001b[0m\u001b[1;33m,\u001b[0m\u001b[1;34m\"r\"\u001b[0m\u001b[1;33m)\u001b[0m\u001b[1;33m\u001b[0m\u001b[1;33m\u001b[0m\u001b[0m\n\u001b[0m\u001b[0;32m      2\u001b[0m \u001b[0mprint\u001b[0m\u001b[1;33m(\u001b[0m\u001b[1;34m\"this is my code to handle an exception\"\u001b[0m\u001b[1;33m)\u001b[0m\u001b[1;33m\u001b[0m\u001b[1;33m\u001b[0m\u001b[0m\n",
      "\u001b[1;31mFileNotFoundError\u001b[0m: [Errno 2] No such file or directory: 'sudh345.txt'"
     ]
    }
   ],
   "source": [
    "f= open(\"sudh345.txt\",\"r\")\n",
    "print(\"this is my code to handle an exception\")"
   ]
  },
  {
   "cell_type": "code",
   "execution_count": 9,
   "id": "02f50676",
   "metadata": {},
   "outputs": [
    {
     "name": "stdout",
     "output_type": "stream",
     "text": [
      "1.0\n"
     ]
    }
   ],
   "source": [
    "try:\n",
    "    a=10\n",
    "    print(a/10)\n",
    "except Exception as e:\n",
    "    print(e)\n",
    "    print(\"this will be my final code after handling an exception\")"
   ]
  },
  {
   "cell_type": "code",
   "execution_count": 10,
   "id": "0e45b089",
   "metadata": {},
   "outputs": [
    {
     "name": "stdout",
     "output_type": "stream",
     "text": [
      "[Errno 2] No such file or directory: 'sudhanshu.txt'\n"
     ]
    }
   ],
   "source": [
    "try:\n",
    "    f = open(\"sudhanshu.txt\",\"r\")\n",
    "except Exception as e:\n",
    "    print(e)"
   ]
  },
  {
   "cell_type": "code",
   "execution_count": 13,
   "id": "abcd846f",
   "metadata": {},
   "outputs": [
    {
     "name": "stdout",
     "output_type": "stream",
     "text": [
      "[Errno 2] No such file or directory: 'sudh.txt'\n",
      "this is not my suspicious code\n"
     ]
    }
   ],
   "source": [
    "try:\n",
    "    \n",
    "    f= open(\"sudh.txt\",\"r\")\n",
    "    f.write(\"this is my suspicious code\")\n",
    "except Exception as e:\n",
    "    print(e)\n",
    "    print(\"this is not my suspicious code\")"
   ]
  },
  {
   "cell_type": "code",
   "execution_count": 15,
   "id": "605787dc",
   "metadata": {},
   "outputs": [
    {
     "name": "stdout",
     "output_type": "stream",
     "text": [
      "[Errno 2] No such file or directory: 'sudh.txt'\n",
      "this is not my suspicious code\n",
      "this block will be executed anytime\n"
     ]
    }
   ],
   "source": [
    "try:\n",
    "    \n",
    "    f= open(\"sudh.txt\",\"r\")\n",
    "    f.write(\"this is my suspicious code\")\n",
    "except Exception as e:\n",
    "    print(e)\n",
    "    print(\"this is not my suspicious code\")\n",
    "finally:\n",
    "    print(\"this block will be executed anytime\")"
   ]
  },
  {
   "cell_type": "code",
   "execution_count": 20,
   "id": "cbd3f096",
   "metadata": {},
   "outputs": [],
   "source": [
    "def askint():\n",
    "    try:\n",
    "        val=int(input(\"enter interger number\"))\n",
    "    except Exception as e:\n",
    "        print(\"you havenot entered an integer\")\n",
    "        try:\n",
    "            val = int(input(\"enter integer num\"))\n",
    "        except:\n",
    "            print(\"we are able to handle your mistake second time\")\n",
    "        finally:\n",
    "            print(\"finally will excute anyhow\")"
   ]
  },
  {
   "cell_type": "code",
   "execution_count": 21,
   "id": "fe095191",
   "metadata": {},
   "outputs": [
    {
     "name": "stdout",
     "output_type": "stream",
     "text": [
      "enter interger numberash\n",
      "you havenot entered an integer\n",
      "enter integer numbhu\n",
      "we are able to handle your mistake second time\n",
      "finally will excute anyhow\n"
     ]
    }
   ],
   "source": [
    "askint()"
   ]
  },
  {
   "cell_type": "code",
   "execution_count": 24,
   "id": "b589bd2b",
   "metadata": {},
   "outputs": [],
   "source": [
    "def askint1():\n",
    "    while True:\n",
    "        try:\n",
    "            val =int(input(\"enter interger num\"))\n",
    "            break\n",
    "        except: \n",
    "            print(\"looks like you have not entered an integer\")\n",
    "            continue\n",
    "            \n",
    "        "
   ]
  },
  {
   "cell_type": "code",
   "execution_count": 25,
   "id": "a84ec704",
   "metadata": {},
   "outputs": [
    {
     "name": "stdout",
     "output_type": "stream",
     "text": [
      "enter interger numabc\n",
      "looks like you have not entered an integer\n",
      "enter interger num1234%1236q123\n",
      "looks like you have not entered an integer\n",
      "enter interger num234\n"
     ]
    }
   ],
   "source": [
    "askint1()"
   ]
  },
  {
   "cell_type": "code",
   "execution_count": 26,
   "id": "ef27066b",
   "metadata": {},
   "outputs": [],
   "source": [
    "x=[\"mohan\"]\n"
   ]
  },
  {
   "cell_type": "code",
   "execution_count": 27,
   "id": "5c1a66f8",
   "metadata": {},
   "outputs": [
    {
     "name": "stdout",
     "output_type": "stream",
     "text": [
      "['mohan']\n"
     ]
    }
   ],
   "source": [
    "print(x)"
   ]
  },
  {
   "cell_type": "code",
   "execution_count": 28,
   "id": "7390ea6f",
   "metadata": {},
   "outputs": [
    {
     "data": {
      "text/plain": [
       "list"
      ]
     },
     "execution_count": 28,
     "metadata": {},
     "output_type": "execute_result"
    }
   ],
   "source": [
    "type(x)"
   ]
  },
  {
   "cell_type": "code",
   "execution_count": 29,
   "id": "ab14d90d",
   "metadata": {},
   "outputs": [],
   "source": [
    "b=tuple(x)"
   ]
  },
  {
   "cell_type": "code",
   "execution_count": 30,
   "id": "8e66a633",
   "metadata": {},
   "outputs": [
    {
     "data": {
      "text/plain": [
       "('mohan',)"
      ]
     },
     "execution_count": 30,
     "metadata": {},
     "output_type": "execute_result"
    }
   ],
   "source": [
    "b"
   ]
  },
  {
   "cell_type": "code",
   "execution_count": 31,
   "id": "76b90f55",
   "metadata": {},
   "outputs": [
    {
     "data": {
      "text/plain": [
       "tuple"
      ]
     },
     "execution_count": 31,
     "metadata": {},
     "output_type": "execute_result"
    }
   ],
   "source": [
    "type(b)"
   ]
  },
  {
   "cell_type": "code",
   "execution_count": 32,
   "id": "ef95c840",
   "metadata": {},
   "outputs": [
    {
     "name": "stdout",
     "output_type": "stream",
     "text": [
      "<class 'list'>\n"
     ]
    }
   ],
   "source": [
    "print(type(x))"
   ]
  },
  {
   "cell_type": "code",
   "execution_count": 33,
   "id": "8ba257c4",
   "metadata": {},
   "outputs": [],
   "source": [
    "a=(\"mango\")"
   ]
  },
  {
   "cell_type": "code",
   "execution_count": 34,
   "id": "2d76b7fa",
   "metadata": {},
   "outputs": [
    {
     "name": "stdout",
     "output_type": "stream",
     "text": [
      "<class 'str'>\n"
     ]
    }
   ],
   "source": [
    "print(type(a))"
   ]
  },
  {
   "cell_type": "code",
   "execution_count": 35,
   "id": "49693693",
   "metadata": {},
   "outputs": [],
   "source": [
    "b=(\"mango\",)"
   ]
  },
  {
   "cell_type": "code",
   "execution_count": 36,
   "id": "095b7c01",
   "metadata": {},
   "outputs": [
    {
     "name": "stdout",
     "output_type": "stream",
     "text": [
      "<class 'tuple'>\n"
     ]
    }
   ],
   "source": [
    "print(type(b))"
   ]
  },
  {
   "cell_type": "code",
   "execution_count": 42,
   "id": "d1f8109d",
   "metadata": {},
   "outputs": [],
   "source": [
    "x = ['cccc']\n",
    "y=tuple(x)\n",
    "m=str(y)\n"
   ]
  },
  {
   "cell_type": "code",
   "execution_count": 43,
   "id": "bdc42e0e",
   "metadata": {},
   "outputs": [
    {
     "name": "stdout",
     "output_type": "stream",
     "text": [
      "<class 'str'>\n"
     ]
    }
   ],
   "source": [
    "print(type(m))"
   ]
  },
  {
   "cell_type": "code",
   "execution_count": 44,
   "id": "0baa3bee",
   "metadata": {},
   "outputs": [
    {
     "name": "stdout",
     "output_type": "stream",
     "text": [
      "('cccc',)\n"
     ]
    }
   ],
   "source": [
    "print(m)"
   ]
  },
  {
   "cell_type": "code",
   "execution_count": 48,
   "id": "6f2d4be3",
   "metadata": {},
   "outputs": [
    {
     "ename": "TypeError",
     "evalue": "expected string or bytes-like object",
     "output_type": "error",
     "traceback": [
      "\u001b[1;31m---------------------------------------------------------------------------\u001b[0m",
      "\u001b[1;31mTypeError\u001b[0m                                 Traceback (most recent call last)",
      "\u001b[1;32m~\\AppData\\Local\\Temp/ipykernel_20816/1049933763.py\u001b[0m in \u001b[0;36m<module>\u001b[1;34m\u001b[0m\n\u001b[0;32m      3\u001b[0m \u001b[0mtxt\u001b[0m \u001b[1;33m=\u001b[0m \u001b[1;33m[\u001b[0m\u001b[1;34m\"Spain\"\u001b[0m\u001b[1;33m]\u001b[0m\u001b[1;33m\u001b[0m\u001b[1;33m\u001b[0m\u001b[0m\n\u001b[0;32m      4\u001b[0m \u001b[0mtxts\u001b[0m \u001b[1;33m=\u001b[0m \u001b[0mtuple\u001b[0m\u001b[1;33m(\u001b[0m\u001b[0mtxt\u001b[0m\u001b[1;33m)\u001b[0m\u001b[1;33m\u001b[0m\u001b[1;33m\u001b[0m\u001b[0m\n\u001b[1;32m----> 5\u001b[1;33m \u001b[0mx\u001b[0m \u001b[1;33m=\u001b[0m \u001b[0mre\u001b[0m\u001b[1;33m.\u001b[0m\u001b[0mfindall\u001b[0m\u001b[1;33m(\u001b[0m\u001b[1;34m\"ai\"\u001b[0m\u001b[1;33m,\u001b[0m \u001b[0mtxts\u001b[0m\u001b[1;33m)\u001b[0m\u001b[1;33m\u001b[0m\u001b[1;33m\u001b[0m\u001b[0m\n\u001b[0m\u001b[0;32m      6\u001b[0m \u001b[0mprint\u001b[0m\u001b[1;33m(\u001b[0m\u001b[0mx\u001b[0m\u001b[1;33m)\u001b[0m\u001b[1;33m\u001b[0m\u001b[1;33m\u001b[0m\u001b[0m\n",
      "\u001b[1;32m~\\anaconda3\\lib\\re.py\u001b[0m in \u001b[0;36mfindall\u001b[1;34m(pattern, string, flags)\u001b[0m\n\u001b[0;32m    239\u001b[0m \u001b[1;33m\u001b[0m\u001b[0m\n\u001b[0;32m    240\u001b[0m     Empty matches are included in the result.\"\"\"\n\u001b[1;32m--> 241\u001b[1;33m     \u001b[1;32mreturn\u001b[0m \u001b[0m_compile\u001b[0m\u001b[1;33m(\u001b[0m\u001b[0mpattern\u001b[0m\u001b[1;33m,\u001b[0m \u001b[0mflags\u001b[0m\u001b[1;33m)\u001b[0m\u001b[1;33m.\u001b[0m\u001b[0mfindall\u001b[0m\u001b[1;33m(\u001b[0m\u001b[0mstring\u001b[0m\u001b[1;33m)\u001b[0m\u001b[1;33m\u001b[0m\u001b[1;33m\u001b[0m\u001b[0m\n\u001b[0m\u001b[0;32m    242\u001b[0m \u001b[1;33m\u001b[0m\u001b[0m\n\u001b[0;32m    243\u001b[0m \u001b[1;32mdef\u001b[0m \u001b[0mfinditer\u001b[0m\u001b[1;33m(\u001b[0m\u001b[0mpattern\u001b[0m\u001b[1;33m,\u001b[0m \u001b[0mstring\u001b[0m\u001b[1;33m,\u001b[0m \u001b[0mflags\u001b[0m\u001b[1;33m=\u001b[0m\u001b[1;36m0\u001b[0m\u001b[1;33m)\u001b[0m\u001b[1;33m:\u001b[0m\u001b[1;33m\u001b[0m\u001b[1;33m\u001b[0m\u001b[0m\n",
      "\u001b[1;31mTypeError\u001b[0m: expected string or bytes-like object"
     ]
    }
   ],
   "source": [
    "import re\n",
    "\n",
    "txt = [\"Spain\"]\n",
    "txts = tuple(txt)\n",
    "x = re.findall(\"ai\", txts)\n",
    "print(x)"
   ]
  },
  {
   "cell_type": "code",
   "execution_count": 57,
   "id": "61386ac7",
   "metadata": {},
   "outputs": [
    {
     "name": "stdout",
     "output_type": "stream",
     "text": [
      "('a', 'p', 'p', 'l', 'e')\n"
     ]
    }
   ],
   "source": [
    "\n",
    "thistuple = tuple((\"apple\")) \n",
    "print(thistuple)"
   ]
  },
  {
   "cell_type": "code",
   "execution_count": 59,
   "id": "db78d214",
   "metadata": {},
   "outputs": [
    {
     "name": "stdout",
     "output_type": "stream",
     "text": [
      "('list')\n"
     ]
    }
   ],
   "source": [
    "arr =['list']\n",
    "s = str(arr).replace('[','(')\n",
    "s = s.replace(']', ')')\n",
    "\n",
    "print(s)"
   ]
  },
  {
   "cell_type": "code",
   "execution_count": null,
   "id": "db2d294d",
   "metadata": {},
   "outputs": [],
   "source": []
  }
 ],
 "metadata": {
  "kernelspec": {
   "display_name": "Python 3 (ipykernel)",
   "language": "python",
   "name": "python3"
  },
  "language_info": {
   "codemirror_mode": {
    "name": "ipython",
    "version": 3
   },
   "file_extension": ".py",
   "mimetype": "text/x-python",
   "name": "python",
   "nbconvert_exporter": "python",
   "pygments_lexer": "ipython3",
   "version": "3.9.7"
  }
 },
 "nbformat": 4,
 "nbformat_minor": 5
}
