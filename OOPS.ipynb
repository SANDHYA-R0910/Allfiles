{
 "cells": [
  {
   "cell_type": "code",
   "execution_count": 1,
   "id": "683f8064",
   "metadata": {},
   "outputs": [
    {
     "name": "stdout",
     "output_type": "stream",
     "text": [
      "1 \n",
      "1 2 \n",
      "1 2 3 \n",
      "1 2 3 4 \n",
      "1 2 3 4 5 \n"
     ]
    }
   ],
   "source": [
    "for i in range(1,6):\n",
    "    for j in range(1,i+1):\n",
    "        print(j,end=\" \")\n",
    "    print()"
   ]
  },
  {
   "cell_type": "code",
   "execution_count": 2,
   "id": "8cdd131a",
   "metadata": {},
   "outputs": [
    {
     "name": "stdout",
     "output_type": "stream",
     "text": [
      "1 \n",
      "2 2 \n",
      "3 3 3 \n",
      "4 4 4 4 \n",
      "5 5 5 5 5 \n"
     ]
    }
   ],
   "source": [
    "for i in range(1,6):\n",
    "    for j in range(1,i+1):\n",
    "        print(i,end=\" \")\n",
    "    print()"
   ]
  },
  {
   "cell_type": "code",
   "execution_count": 3,
   "id": "52bd4030",
   "metadata": {},
   "outputs": [
    {
     "name": "stdout",
     "output_type": "stream",
     "text": [
      "enter num6\n",
      "                                                  \n",
      "                     ineuron                      \n",
      "                 ineuron ineuron                  \n",
      "             ineuron ineuron ineuron              \n",
      "                 ineuron ineuron                  \n",
      "                     ineuron                      \n"
     ]
    }
   ],
   "source": [
    "x=int(input(\"enter num\"))\n",
    "for i in range(x):\n",
    "    if i<=3:\n",
    "        n=i\n",
    "    else:\n",
    "        n=x-i\n",
    "    print((\"ineuron \"*n).center(50,\" \"))"
   ]
  },
  {
   "cell_type": "code",
   "execution_count": 11,
   "id": "91c0eb37",
   "metadata": {},
   "outputs": [
    {
     "name": "stdout",
     "output_type": "stream",
     "text": [
      "1\n",
      "3\n",
      "5\n",
      "7\n",
      "9\n"
     ]
    }
   ],
   "source": [
    "#Write a program to print the alternate numbers from 1 to 10 in reverse order.\n",
    "for i in range(1,10,2):\n",
    "    print(i)\n"
   ]
  },
  {
   "cell_type": "code",
   "execution_count": 10,
   "id": "be6f0a8f",
   "metadata": {},
   "outputs": [
    {
     "name": "stdout",
     "output_type": "stream",
     "text": [
      "10\n",
      "8\n",
      "6\n",
      "4\n",
      "2\n"
     ]
    }
   ],
   "source": [
    "for i in range(10,1,-2):\n",
    "    print(i)"
   ]
  },
  {
   "cell_type": "code",
   "execution_count": 5,
   "id": "248a25ba",
   "metadata": {},
   "outputs": [
    {
     "data": {
      "text/plain": [
       "[0, 1, 2, 3, 4, 5, 6, 7, 8, 9, 10]"
      ]
     },
     "execution_count": 5,
     "metadata": {},
     "output_type": "execute_result"
    }
   ],
   "source": [
    "list(range(11))"
   ]
  },
  {
   "cell_type": "code",
   "execution_count": 18,
   "id": "db1eefb6",
   "metadata": {},
   "outputs": [
    {
     "name": "stdout",
     "output_type": "stream",
     "text": [
      "enter num6\n",
      "# # # # # \n",
      "# # # # \n",
      "# # # \n",
      "# # \n",
      "# \n",
      "\n"
     ]
    }
   ],
   "source": [
    "x=int(input(\"enter num\"))\n",
    "for i in range(x,0,-1):\n",
    "    for j in range(i-1):\n",
    "        print(\"#\",end=\" \")\n",
    "    print()"
   ]
  },
  {
   "cell_type": "code",
   "execution_count": 48,
   "id": "964df16a",
   "metadata": {},
   "outputs": [],
   "source": [
    "dic={'abc':23, 'xyz':54, 'pqr':90,'poir':432}\n",
    "\n"
   ]
  },
  {
   "cell_type": "code",
   "execution_count": 49,
   "id": "979da26b",
   "metadata": {},
   "outputs": [
    {
     "data": {
      "text/plain": [
       "dict_keys(['abc', 'xyz', 'pqr', 'poir'])"
      ]
     },
     "execution_count": 49,
     "metadata": {},
     "output_type": "execute_result"
    }
   ],
   "source": [
    "dic.keys()"
   ]
  },
  {
   "cell_type": "code",
   "execution_count": 65,
   "id": "1f8a619c",
   "metadata": {},
   "outputs": [],
   "source": [
    "name = dic.keys()\n",
    "for i in dic:\n",
    "    if dic[i] == name:\n",
    "        print(i)\n",
    "    "
   ]
  },
  {
   "cell_type": "code",
   "execution_count": 64,
   "id": "2ac8db63",
   "metadata": {},
   "outputs": [
    {
     "data": {
      "text/plain": [
       "dict_keys(['abc', 'xyz', 'pqr', 'poir'])"
      ]
     },
     "execution_count": 64,
     "metadata": {},
     "output_type": "execute_result"
    }
   ],
   "source": [
    "name "
   ]
  },
  {
   "cell_type": "code",
   "execution_count": 59,
   "id": "65a42761",
   "metadata": {
    "scrolled": true
   },
   "outputs": [
    {
     "name": "stdout",
     "output_type": "stream",
     "text": [
      "('abc', 23)\n",
      "('xyz', 54)\n",
      "('pqr', 90)\n",
      "('poir', 432)\n"
     ]
    }
   ],
   "source": [
    "for i in dic.items():\n",
    "    print(i)"
   ]
  },
  {
   "cell_type": "code",
   "execution_count": 62,
   "id": "075b3fba",
   "metadata": {},
   "outputs": [
    {
     "name": "stdout",
     "output_type": "stream",
     "text": [
      "23\n"
     ]
    }
   ],
   "source": [
    "for i in dic.keys():\n",
    "    if i == \"abc\":\n",
    "        print(dic[i])"
   ]
  },
  {
   "cell_type": "code",
   "execution_count": 63,
   "id": "0e71822b",
   "metadata": {},
   "outputs": [],
   "source": [
    "for i in dic:\n",
    "    if i == dic.keys():\n",
    "        print(dic[i])"
   ]
  },
  {
   "cell_type": "code",
   "execution_count": 4,
   "id": "0d6f03f3",
   "metadata": {
    "scrolled": true
   },
   "outputs": [
    {
     "name": "stdout",
     "output_type": "stream",
     "text": [
      "Enter any number123\n",
      "Product of digits is 6\n"
     ]
    }
   ],
   "source": [
    " #Write a program to display product of the digits of a number accepted from the user.\n",
    "num=int(input(\"Enter any number\"))\n",
    "p=1\n",
    "while(num):\n",
    "   r=num%10\n",
    "   p=p*r\n",
    "   num=num//10\n",
    "print(\"Product of digits is\",p)\n"
   ]
  },
  {
   "cell_type": "code",
   "execution_count": 8,
   "id": "474e3fff",
   "metadata": {},
   "outputs": [
    {
     "name": "stdout",
     "output_type": "stream",
     "text": [
      "enter num123\n",
      "1.23\n"
     ]
    }
   ],
   "source": [
    "#Accept 10 numbers from the user and display their average.\n",
    "x=int(input(\"enter num\"))\n",
    "for i in range(x):\n",
    "    y= x/100\n",
    "print(y)\n",
    "    "
   ]
  },
  {
   "cell_type": "markdown",
   "id": "51c71add",
   "metadata": {},
   "source": [
    "### OOPS"
   ]
  },
  {
   "cell_type": "code",
   "execution_count": 1,
   "id": "f6b028c8",
   "metadata": {},
   "outputs": [],
   "source": [
    "l1 = [1,2,3]\n",
    "t1 = (1,2,3)"
   ]
  },
  {
   "cell_type": "code",
   "execution_count": 6,
   "id": "351eea3e",
   "metadata": {},
   "outputs": [],
   "source": [
    "l1.append()"
   ]
  },
  {
   "cell_type": "code",
   "execution_count": 7,
   "id": "4adf6365",
   "metadata": {},
   "outputs": [
    {
     "data": {
      "text/plain": [
       "[1, 2, 3, 4, [4, 5, 6]]"
      ]
     },
     "execution_count": 7,
     "metadata": {},
     "output_type": "execute_result"
    }
   ],
   "source": [
    "l1"
   ]
  },
  {
   "cell_type": "code",
   "execution_count": 8,
   "id": "c08eff68",
   "metadata": {},
   "outputs": [
    {
     "ename": "AttributeError",
     "evalue": "'tuple' object has no attribute 'append'",
     "output_type": "error",
     "traceback": [
      "\u001b[1;31m---------------------------------------------------------------------------\u001b[0m",
      "\u001b[1;31mAttributeError\u001b[0m                            Traceback (most recent call last)",
      "Cell \u001b[1;32mIn[8], line 1\u001b[0m\n\u001b[1;32m----> 1\u001b[0m t1\u001b[38;5;241m.\u001b[39mappend(\u001b[38;5;241m5\u001b[39m)\n",
      "\u001b[1;31mAttributeError\u001b[0m: 'tuple' object has no attribute 'append'"
     ]
    }
   ],
   "source": [
    "t1.append(5)"
   ]
  },
  {
   "cell_type": "code",
   "execution_count": 9,
   "id": "18b0a1b7",
   "metadata": {},
   "outputs": [
    {
     "name": "stdout",
     "output_type": "stream",
     "text": [
      "<class 'list'>\n"
     ]
    }
   ],
   "source": [
    "print(type(l1))"
   ]
  },
  {
   "cell_type": "code",
   "execution_count": 10,
   "id": "96248d30",
   "metadata": {},
   "outputs": [
    {
     "name": "stdout",
     "output_type": "stream",
     "text": [
      "<class 'tuple'>\n"
     ]
    }
   ],
   "source": [
    "print(type(t1))"
   ]
  },
  {
   "cell_type": "code",
   "execution_count": 11,
   "id": "0fc0257f",
   "metadata": {},
   "outputs": [],
   "source": [
    "l3 = list()"
   ]
  },
  {
   "cell_type": "code",
   "execution_count": 12,
   "id": "ae5aad94",
   "metadata": {},
   "outputs": [
    {
     "name": "stdout",
     "output_type": "stream",
     "text": [
      "<class 'list'>\n"
     ]
    }
   ],
   "source": [
    "print(type(l3))"
   ]
  },
  {
   "cell_type": "code",
   "execution_count": 13,
   "id": "e6288f68",
   "metadata": {},
   "outputs": [],
   "source": [
    "int1 = int()"
   ]
  },
  {
   "cell_type": "code",
   "execution_count": 14,
   "id": "25950f0b",
   "metadata": {},
   "outputs": [
    {
     "data": {
      "text/plain": [
       "0"
      ]
     },
     "execution_count": 14,
     "metadata": {},
     "output_type": "execute_result"
    }
   ],
   "source": [
    "int1"
   ]
  },
  {
   "cell_type": "code",
   "execution_count": 15,
   "id": "ae97b7c6",
   "metadata": {},
   "outputs": [
    {
     "name": "stdout",
     "output_type": "stream",
     "text": [
      "<class 'int'>\n"
     ]
    }
   ],
   "source": [
    "print(type(int1))"
   ]
  },
  {
   "cell_type": "code",
   "execution_count": 17,
   "id": "695f39bd",
   "metadata": {},
   "outputs": [],
   "source": [
    "class Student:\n",
    "    def study():\n",
    "        print(\"i am studying\")\n",
    "    def play():\n",
    "        print(\"i am playing\")"
   ]
  },
  {
   "cell_type": "code",
   "execution_count": 18,
   "id": "db7b125f",
   "metadata": {},
   "outputs": [],
   "source": [
    "s1 = Student()"
   ]
  },
  {
   "cell_type": "code",
   "execution_count": 19,
   "id": "4d1b1f92",
   "metadata": {},
   "outputs": [
    {
     "ename": "TypeError",
     "evalue": "Student.study() takes 0 positional arguments but 1 was given",
     "output_type": "error",
     "traceback": [
      "\u001b[1;31m---------------------------------------------------------------------------\u001b[0m",
      "\u001b[1;31mTypeError\u001b[0m                                 Traceback (most recent call last)",
      "Cell \u001b[1;32mIn[19], line 1\u001b[0m\n\u001b[1;32m----> 1\u001b[0m s1\u001b[38;5;241m.\u001b[39mstudy()\n",
      "\u001b[1;31mTypeError\u001b[0m: Student.study() takes 0 positional arguments but 1 was given"
     ]
    }
   ],
   "source": [
    "s1.study()"
   ]
  },
  {
   "cell_type": "code",
   "execution_count": 20,
   "id": "8734080b",
   "metadata": {},
   "outputs": [
    {
     "name": "stdout",
     "output_type": "stream",
     "text": [
      "<class '__main__.Student'>\n"
     ]
    }
   ],
   "source": [
    "print(type(s1))"
   ]
  },
  {
   "cell_type": "code",
   "execution_count": 23,
   "id": "55cb3e47",
   "metadata": {},
   "outputs": [
    {
     "name": "stdout",
     "output_type": "stream",
     "text": [
      "<class 'method'>\n"
     ]
    }
   ],
   "source": [
    "print(type(s1.study))"
   ]
  },
  {
   "cell_type": "code",
   "execution_count": 25,
   "id": "188d5fd6",
   "metadata": {},
   "outputs": [
    {
     "name": "stdout",
     "output_type": "stream",
     "text": [
      "<class 'function'>\n"
     ]
    }
   ],
   "source": [
    "print(type(Student.study))"
   ]
  },
  {
   "cell_type": "code",
   "execution_count": 30,
   "id": "dbbb864f",
   "metadata": {},
   "outputs": [],
   "source": [
    "def my_length_function(sent_object):\n",
    "    ans = 0\n",
    "    for i in sent_object:\n",
    "        ans +=1\n",
    "    return ans\n",
    "    "
   ]
  },
  {
   "cell_type": "code",
   "execution_count": 32,
   "id": "d4bfeaa9",
   "metadata": {},
   "outputs": [
    {
     "data": {
      "text/plain": [
       "5"
      ]
     },
     "execution_count": 32,
     "metadata": {},
     "output_type": "execute_result"
    }
   ],
   "source": [
    "len(l1)"
   ]
  },
  {
   "cell_type": "code",
   "execution_count": 31,
   "id": "6076b9ca",
   "metadata": {},
   "outputs": [
    {
     "data": {
      "text/plain": [
       "5"
      ]
     },
     "execution_count": 31,
     "metadata": {},
     "output_type": "execute_result"
    }
   ],
   "source": [
    "my_length_function(l1)"
   ]
  },
  {
   "cell_type": "code",
   "execution_count": 33,
   "id": "32d76725",
   "metadata": {},
   "outputs": [],
   "source": [
    "a = int()"
   ]
  },
  {
   "cell_type": "code",
   "execution_count": 34,
   "id": "dcffa981",
   "metadata": {},
   "outputs": [
    {
     "data": {
      "text/plain": [
       "0"
      ]
     },
     "execution_count": 34,
     "metadata": {},
     "output_type": "execute_result"
    }
   ],
   "source": [
    "a"
   ]
  },
  {
   "cell_type": "code",
   "execution_count": 40,
   "id": "3565c8c4",
   "metadata": {},
   "outputs": [
    {
     "data": {
      "text/plain": [
       "140728360080136"
      ]
     },
     "execution_count": 40,
     "metadata": {},
     "output_type": "execute_result"
    }
   ],
   "source": [
    "id(a)"
   ]
  },
  {
   "cell_type": "code",
   "execution_count": 35,
   "id": "1d27a1b7",
   "metadata": {},
   "outputs": [
    {
     "data": {
      "text/plain": [
       "['__add__',\n",
       " '__class__',\n",
       " '__class_getitem__',\n",
       " '__contains__',\n",
       " '__delattr__',\n",
       " '__delitem__',\n",
       " '__dir__',\n",
       " '__doc__',\n",
       " '__eq__',\n",
       " '__format__',\n",
       " '__ge__',\n",
       " '__getattribute__',\n",
       " '__getitem__',\n",
       " '__getstate__',\n",
       " '__gt__',\n",
       " '__hash__',\n",
       " '__iadd__',\n",
       " '__imul__',\n",
       " '__init__',\n",
       " '__init_subclass__',\n",
       " '__iter__',\n",
       " '__le__',\n",
       " '__len__',\n",
       " '__lt__',\n",
       " '__mul__',\n",
       " '__ne__',\n",
       " '__new__',\n",
       " '__reduce__',\n",
       " '__reduce_ex__',\n",
       " '__repr__',\n",
       " '__reversed__',\n",
       " '__rmul__',\n",
       " '__setattr__',\n",
       " '__setitem__',\n",
       " '__sizeof__',\n",
       " '__str__',\n",
       " '__subclasshook__',\n",
       " 'append',\n",
       " 'clear',\n",
       " 'copy',\n",
       " 'count',\n",
       " 'extend',\n",
       " 'index',\n",
       " 'insert',\n",
       " 'pop',\n",
       " 'remove',\n",
       " 'reverse',\n",
       " 'sort']"
      ]
     },
     "execution_count": 35,
     "metadata": {},
     "output_type": "execute_result"
    }
   ],
   "source": [
    "list(dir(list))"
   ]
  },
  {
   "cell_type": "code",
   "execution_count": 36,
   "id": "7325684f",
   "metadata": {},
   "outputs": [],
   "source": [
    "class Student:\n",
    "    def __init__():\n",
    "        print(\"i am one of the majic method alredy created and called for student class\")\n",
    "    def study():\n",
    "        print(\"i am studying\")\n",
    "    def play():\n",
    "        print(\"i am playing\")"
   ]
  },
  {
   "cell_type": "code",
   "execution_count": 37,
   "id": "05bb95d4",
   "metadata": {},
   "outputs": [
    {
     "ename": "TypeError",
     "evalue": "Student.__init__() takes 0 positional arguments but 1 was given",
     "output_type": "error",
     "traceback": [
      "\u001b[1;31m---------------------------------------------------------------------------\u001b[0m",
      "\u001b[1;31mTypeError\u001b[0m                                 Traceback (most recent call last)",
      "Cell \u001b[1;32mIn[37], line 1\u001b[0m\n\u001b[1;32m----> 1\u001b[0m s \u001b[38;5;241m=\u001b[39m Student()\n",
      "\u001b[1;31mTypeError\u001b[0m: Student.__init__() takes 0 positional arguments but 1 was given"
     ]
    }
   ],
   "source": [
    "s = Student()"
   ]
  },
  {
   "cell_type": "code",
   "execution_count": 38,
   "id": "2842c306",
   "metadata": {},
   "outputs": [],
   "source": [
    "class Student:\n",
    "    def __init__(agrs):\n",
    "        print(\"i am one of the magic method alredy created and called for student class\")\n",
    "    def study():\n",
    "        print(\"i am studying\")\n",
    "    def play():\n",
    "        print(\"i am playing\")"
   ]
  },
  {
   "cell_type": "code",
   "execution_count": 39,
   "id": "605ad132",
   "metadata": {},
   "outputs": [
    {
     "name": "stdout",
     "output_type": "stream",
     "text": [
      "i am one of the majic method alredy created and called for student class\n"
     ]
    }
   ],
   "source": [
    "s2 = Student()"
   ]
  },
  {
   "cell_type": "code",
   "execution_count": 53,
   "id": "99c25707",
   "metadata": {},
   "outputs": [],
   "source": [
    "def hello_world(agr):\n",
    "    print(\"for the agr id\" + str(id(agr)))\n",
    "    print(\"hi\")"
   ]
  },
  {
   "cell_type": "code",
   "execution_count": 54,
   "id": "ade4217d",
   "metadata": {},
   "outputs": [
    {
     "name": "stdout",
     "output_type": "stream",
     "text": [
      "for the agr id2200554617120\n",
      "hi\n"
     ]
    }
   ],
   "source": [
    "hello_world(a)"
   ]
  },
  {
   "cell_type": "code",
   "execution_count": 55,
   "id": "2f95c42e",
   "metadata": {},
   "outputs": [
    {
     "data": {
      "text/plain": [
       "2200554617120"
      ]
     },
     "execution_count": 55,
     "metadata": {},
     "output_type": "execute_result"
    }
   ],
   "source": [
    "id(a)"
   ]
  },
  {
   "cell_type": "code",
   "execution_count": 78,
   "id": "f847db84",
   "metadata": {},
   "outputs": [],
   "source": [
    "class Student:\n",
    "    def __init__(agrs):\n",
    "        print(\"for the agr id\" + str(id(agrs)))\n",
    "        print(\"i am one of the majic method alredy created and called for student class\")\n",
    "    def study(self):\n",
    "        print(\"i am studying\")\n",
    "    def play(self):\n",
    "        print(\"i am playing\")"
   ]
  },
  {
   "cell_type": "code",
   "execution_count": 79,
   "id": "079fc9c9",
   "metadata": {},
   "outputs": [
    {
     "name": "stdout",
     "output_type": "stream",
     "text": [
      "for the agr id2200554552848\n",
      "i am one of the majic method alredy created and called for student class\n"
     ]
    }
   ],
   "source": [
    "s = Student()"
   ]
  },
  {
   "cell_type": "code",
   "execution_count": 80,
   "id": "b4162fe1",
   "metadata": {},
   "outputs": [
    {
     "name": "stdout",
     "output_type": "stream",
     "text": [
      "<class '__main__.Student'>\n",
      "2200554552848\n"
     ]
    }
   ],
   "source": [
    "print(type(s))\n",
    "print(id(s))"
   ]
  },
  {
   "cell_type": "markdown",
   "id": "93bc8705",
   "metadata": {},
   "source": [
    "# Because the identity of the object is same ==> that they are the same object"
   ]
  },
  {
   "cell_type": "code",
   "execution_count": 81,
   "id": "a27d9afa",
   "metadata": {},
   "outputs": [
    {
     "name": "stdout",
     "output_type": "stream",
     "text": [
      "i am studying\n"
     ]
    }
   ],
   "source": [
    "s.study()"
   ]
  },
  {
   "cell_type": "code",
   "execution_count": 82,
   "id": "f497b637",
   "metadata": {},
   "outputs": [
    {
     "name": "stdout",
     "output_type": "stream",
     "text": [
      "i am playing\n"
     ]
    }
   ],
   "source": [
    "s.play()"
   ]
  },
  {
   "cell_type": "code",
   "execution_count": 83,
   "id": "dd5eb8c5",
   "metadata": {},
   "outputs": [
    {
     "name": "stdout",
     "output_type": "stream",
     "text": [
      "<class 'method'>\n"
     ]
    }
   ],
   "source": [
    "print(type(s.play))"
   ]
  },
  {
   "cell_type": "code",
   "execution_count": 84,
   "id": "9b8c7301",
   "metadata": {},
   "outputs": [
    {
     "name": "stdout",
     "output_type": "stream",
     "text": [
      "<class '__main__.Student'>\n"
     ]
    }
   ],
   "source": [
    "print(type(s))"
   ]
  },
  {
   "cell_type": "code",
   "execution_count": 74,
   "id": "f0252f19",
   "metadata": {},
   "outputs": [
    {
     "name": "stdout",
     "output_type": "stream",
     "text": [
      "['False', 'None', 'True', 'and', 'as', 'assert', 'async', 'await', 'break', 'class', 'continue', 'def', 'del', 'elif', 'else', 'except', 'finally', 'for', 'from', 'global', 'if', 'import', 'in', 'is', 'lambda', 'nonlocal', 'not', 'or', 'pass', 'raise', 'return', 'try', 'while', 'with', 'yield']\n"
     ]
    }
   ],
   "source": [
    "import keyword \n",
    "\n",
    "print(keyword.kwlist)"
   ]
  },
  {
   "cell_type": "markdown",
   "id": "f9170ac8",
   "metadata": {},
   "source": [
    "# Init is a magic  method which gets called when we create a object of the my class and it is called as constructor"
   ]
  },
  {
   "cell_type": "code",
   "execution_count": 104,
   "id": "84651b4e",
   "metadata": {},
   "outputs": [],
   "source": [
    "class Student:\n",
    "    def __init__(self):\n",
    "        self.name = \"sai\"\n",
    "        self.age = 15\n",
    "        print(\"i am one of the majic method alredy created and called for student class\")\n",
    "    def study(self):\n",
    "        print(\"i am studying\")\n",
    "    def play(self):\n",
    "        print(\"i am playing\")"
   ]
  },
  {
   "cell_type": "code",
   "execution_count": 92,
   "id": "ab387980",
   "metadata": {},
   "outputs": [
    {
     "name": "stdout",
     "output_type": "stream",
     "text": [
      "i am one of the majic method alredy created and called for student class\n"
     ]
    }
   ],
   "source": [
    "s1 = Student()"
   ]
  },
  {
   "cell_type": "code",
   "execution_count": 93,
   "id": "1dc9079a",
   "metadata": {},
   "outputs": [
    {
     "data": {
      "text/plain": [
       "'sai'"
      ]
     },
     "execution_count": 93,
     "metadata": {},
     "output_type": "execute_result"
    }
   ],
   "source": [
    "s1.name"
   ]
  },
  {
   "cell_type": "code",
   "execution_count": 94,
   "id": "1ad51020",
   "metadata": {},
   "outputs": [
    {
     "data": {
      "text/plain": [
       "15"
      ]
     },
     "execution_count": 94,
     "metadata": {},
     "output_type": "execute_result"
    }
   ],
   "source": [
    "s1.age"
   ]
  },
  {
   "cell_type": "code",
   "execution_count": 101,
   "id": "bf949025",
   "metadata": {},
   "outputs": [
    {
     "name": "stdout",
     "output_type": "stream",
     "text": [
      "i am one of the majic method alredy created and called for student class\n"
     ]
    }
   ],
   "source": [
    "s2 = Student()"
   ]
  },
  {
   "cell_type": "code",
   "execution_count": 96,
   "id": "1309ee0e",
   "metadata": {},
   "outputs": [],
   "source": [
    "s2.name = \"ram\""
   ]
  },
  {
   "cell_type": "code",
   "execution_count": 97,
   "id": "9d4b67e8",
   "metadata": {},
   "outputs": [
    {
     "data": {
      "text/plain": [
       "'ram'"
      ]
     },
     "execution_count": 97,
     "metadata": {},
     "output_type": "execute_result"
    }
   ],
   "source": [
    "s2.name"
   ]
  },
  {
   "cell_type": "code",
   "execution_count": 105,
   "id": "820fe4e1",
   "metadata": {},
   "outputs": [
    {
     "ename": "TypeError",
     "evalue": "Student.__init__() takes 1 positional argument but 3 were given",
     "output_type": "error",
     "traceback": [
      "\u001b[1;31m---------------------------------------------------------------------------\u001b[0m",
      "\u001b[1;31mTypeError\u001b[0m                                 Traceback (most recent call last)",
      "Cell \u001b[1;32mIn[105], line 4\u001b[0m\n\u001b[0;32m      1\u001b[0m name \u001b[38;5;241m=\u001b[39m \u001b[38;5;124m\"\u001b[39m\u001b[38;5;124mkrish\u001b[39m\u001b[38;5;124m\"\u001b[39m\n\u001b[0;32m      2\u001b[0m age \u001b[38;5;241m=\u001b[39m \u001b[38;5;241m20\u001b[39m\n\u001b[1;32m----> 4\u001b[0m s3 \u001b[38;5;241m=\u001b[39m Student(name,age)\n",
      "\u001b[1;31mTypeError\u001b[0m: Student.__init__() takes 1 positional argument but 3 were given"
     ]
    }
   ],
   "source": [
    "name = \"krish\"\n",
    "age = 20\n",
    "\n",
    "s3 = Student(name,age)"
   ]
  },
  {
   "cell_type": "code",
   "execution_count": 117,
   "id": "5283ff1c",
   "metadata": {},
   "outputs": [],
   "source": [
    "class Student_better:\n",
    "    def __init__(self,s_name,s_age): # initalize\n",
    "        self.name = s_name     # data property or attributes  of my class objects \n",
    "        self.age = s_age\n",
    "        print(\"i am one of the majic method alredy created and called for student class\")\n",
    "    def study(self):\n",
    "        print(\"i am studying\")\n",
    "    def play(self):\n",
    "        print(\"i am playing\" + str(self.name))"
   ]
  },
  {
   "cell_type": "code",
   "execution_count": 118,
   "id": "aabd6b66",
   "metadata": {},
   "outputs": [
    {
     "name": "stdout",
     "output_type": "stream",
     "text": [
      "i am one of the majic method alredy created and called for student class\n"
     ]
    }
   ],
   "source": [
    "s = Student_better(\"jack\",5)"
   ]
  },
  {
   "cell_type": "code",
   "execution_count": 119,
   "id": "03b3eab2",
   "metadata": {},
   "outputs": [
    {
     "data": {
      "text/plain": [
       "'jack'"
      ]
     },
     "execution_count": 119,
     "metadata": {},
     "output_type": "execute_result"
    }
   ],
   "source": [
    "s.name"
   ]
  },
  {
   "cell_type": "code",
   "execution_count": 120,
   "id": "a14eabd4",
   "metadata": {},
   "outputs": [
    {
     "data": {
      "text/plain": [
       "5"
      ]
     },
     "execution_count": 120,
     "metadata": {},
     "output_type": "execute_result"
    }
   ],
   "source": [
    "s.age"
   ]
  },
  {
   "cell_type": "code",
   "execution_count": 122,
   "id": "6efcd7ed",
   "metadata": {},
   "outputs": [
    {
     "name": "stdout",
     "output_type": "stream",
     "text": [
      "i am one of the majic method alredy created and called for student class\n"
     ]
    }
   ],
   "source": [
    "name = \"rahul\"\n",
    "age =  13\n",
    "s1 = Student_better(name,age)"
   ]
  },
  {
   "cell_type": "code",
   "execution_count": 123,
   "id": "a9f210ac",
   "metadata": {},
   "outputs": [
    {
     "data": {
      "text/plain": [
       "'rahul'"
      ]
     },
     "execution_count": 123,
     "metadata": {},
     "output_type": "execute_result"
    }
   ],
   "source": [
    "s1.name"
   ]
  },
  {
   "cell_type": "code",
   "execution_count": 124,
   "id": "31ec5e04",
   "metadata": {},
   "outputs": [
    {
     "data": {
      "text/plain": [
       "13"
      ]
     },
     "execution_count": 124,
     "metadata": {},
     "output_type": "execute_result"
    }
   ],
   "source": [
    "s1.age"
   ]
  },
  {
   "cell_type": "code",
   "execution_count": 125,
   "id": "9ca6e0a8",
   "metadata": {},
   "outputs": [],
   "source": [
    "s.roll_no = 10   # not an ideal way to define a objects"
   ]
  },
  {
   "cell_type": "code",
   "execution_count": 126,
   "id": "d8a3f0b7",
   "metadata": {},
   "outputs": [
    {
     "data": {
      "text/plain": [
       "10"
      ]
     },
     "execution_count": 126,
     "metadata": {},
     "output_type": "execute_result"
    }
   ],
   "source": [
    "s.roll_no"
   ]
  },
  {
   "cell_type": "code",
   "execution_count": 127,
   "id": "82e8c81f",
   "metadata": {},
   "outputs": [
    {
     "ename": "AttributeError",
     "evalue": "'Student_better' object has no attribute 'roll_no'",
     "output_type": "error",
     "traceback": [
      "\u001b[1;31m---------------------------------------------------------------------------\u001b[0m",
      "\u001b[1;31mAttributeError\u001b[0m                            Traceback (most recent call last)",
      "Cell \u001b[1;32mIn[127], line 1\u001b[0m\n\u001b[1;32m----> 1\u001b[0m s1\u001b[38;5;241m.\u001b[39mroll_no\n",
      "\u001b[1;31mAttributeError\u001b[0m: 'Student_better' object has no attribute 'roll_no'"
     ]
    }
   ],
   "source": [
    "s1.roll_no"
   ]
  },
  {
   "cell_type": "code",
   "execution_count": 164,
   "id": "5f361dca",
   "metadata": {},
   "outputs": [],
   "source": [
    "class Rectangle:\n",
    "    def __init__(self,wedith,height):\n",
    "        print(\"constructor is called for Rectangle class\")\n",
    "        self.wedith = wedith\n",
    "        self.height = height \n",
    "    def calculate_area(self):\n",
    "        area = self.wedith *  self.height\n",
    "        return area\n",
    "        \n",
    "    def calculate_perimeter(self):\n",
    "        perimeter = 2*(self.wedith+self.height)\n",
    "        return perimeter\n",
    "    def is_square(self):\n",
    "        return self.wedith == self.height \n",
    "        "
   ]
  },
  {
   "cell_type": "code",
   "execution_count": 165,
   "id": "b6d5fe99",
   "metadata": {},
   "outputs": [
    {
     "name": "stdout",
     "output_type": "stream",
     "text": [
      "constructor is called for Rectangle class\n",
      "constructor is called for Rectangle class\n",
      "constructor is called for Rectangle class\n"
     ]
    }
   ],
   "source": [
    "r1 = Rectangle(10,15)\n",
    "r2 = Rectangle(25,29)\n",
    "r3 = Rectangle(10,10)"
   ]
  },
  {
   "cell_type": "code",
   "execution_count": 143,
   "id": "5c966ac0",
   "metadata": {},
   "outputs": [
    {
     "data": {
      "text/plain": [
       "10"
      ]
     },
     "execution_count": 143,
     "metadata": {},
     "output_type": "execute_result"
    }
   ],
   "source": [
    "r1.wedith"
   ]
  },
  {
   "cell_type": "code",
   "execution_count": 144,
   "id": "18a0035e",
   "metadata": {},
   "outputs": [
    {
     "data": {
      "text/plain": [
       "29"
      ]
     },
     "execution_count": 144,
     "metadata": {},
     "output_type": "execute_result"
    }
   ],
   "source": [
    "r2.height "
   ]
  },
  {
   "cell_type": "code",
   "execution_count": 156,
   "id": "eee1d906",
   "metadata": {},
   "outputs": [
    {
     "data": {
      "text/plain": [
       "150"
      ]
     },
     "execution_count": 156,
     "metadata": {},
     "output_type": "execute_result"
    }
   ],
   "source": [
    "r1.calculate_area()"
   ]
  },
  {
   "cell_type": "code",
   "execution_count": 157,
   "id": "a6b55255",
   "metadata": {},
   "outputs": [
    {
     "data": {
      "text/plain": [
       "50"
      ]
     },
     "execution_count": 157,
     "metadata": {},
     "output_type": "execute_result"
    }
   ],
   "source": [
    "r1.calculate_perimeter()"
   ]
  },
  {
   "cell_type": "code",
   "execution_count": 137,
   "id": "fec764c2",
   "metadata": {},
   "outputs": [
    {
     "data": {
      "text/plain": [
       "15"
      ]
     },
     "execution_count": 137,
     "metadata": {},
     "output_type": "execute_result"
    }
   ],
   "source": [
    "r1.height"
   ]
  },
  {
   "cell_type": "code",
   "execution_count": 138,
   "id": "22072c4d",
   "metadata": {},
   "outputs": [
    {
     "data": {
      "text/plain": [
       "10"
      ]
     },
     "execution_count": 138,
     "metadata": {},
     "output_type": "execute_result"
    }
   ],
   "source": [
    "r1.wedith"
   ]
  },
  {
   "cell_type": "code",
   "execution_count": 158,
   "id": "e08c8787",
   "metadata": {},
   "outputs": [
    {
     "data": {
      "text/plain": [
       "725"
      ]
     },
     "execution_count": 158,
     "metadata": {},
     "output_type": "execute_result"
    }
   ],
   "source": [
    "r2.calculate_area()"
   ]
  },
  {
   "cell_type": "code",
   "execution_count": 161,
   "id": "232ba2e3",
   "metadata": {},
   "outputs": [
    {
     "data": {
      "text/plain": [
       "False"
      ]
     },
     "execution_count": 161,
     "metadata": {},
     "output_type": "execute_result"
    }
   ],
   "source": [
    "r1.is_square()"
   ]
  },
  {
   "cell_type": "code",
   "execution_count": 167,
   "id": "667c9552",
   "metadata": {},
   "outputs": [
    {
     "data": {
      "text/plain": [
       "True"
      ]
     },
     "execution_count": 167,
     "metadata": {},
     "output_type": "execute_result"
    }
   ],
   "source": [
    "r3.is_square()"
   ]
  },
  {
   "cell_type": "markdown",
   "id": "5f8bdebe",
   "metadata": {},
   "source": [
    "## oops enscapsulation "
   ]
  },
  {
   "cell_type": "code",
   "execution_count": 193,
   "id": "d4333f62",
   "metadata": {},
   "outputs": [],
   "source": [
    "class Student: \n",
    "    def __init__(self,name,rollno,marks): \n",
    "        self.name = name \n",
    "        self.rollno = rollno \n",
    "        self.marks = marks \n",
    "        print('Student Constructor Called')\n",
    "    def is_distinction(self):\n",
    "        if (self.marks > 70):\n",
    "            print(\"student has distinction\")\n",
    "        else:\n",
    "            print(\"has no distinction\")"
   ]
  },
  {
   "cell_type": "code",
   "execution_count": 194,
   "id": "c236ba11",
   "metadata": {},
   "outputs": [
    {
     "name": "stdout",
     "output_type": "stream",
     "text": [
      "Student Constructor Called\n"
     ]
    }
   ],
   "source": [
    "s1 = Student(\"mayank\",1,75)"
   ]
  },
  {
   "cell_type": "code",
   "execution_count": 195,
   "id": "3c5216f4",
   "metadata": {},
   "outputs": [
    {
     "name": "stdout",
     "output_type": "stream",
     "text": [
      "mayank 1 75\n"
     ]
    }
   ],
   "source": [
    "print(s1.name,s1.rollno,s1.marks)"
   ]
  },
  {
   "cell_type": "code",
   "execution_count": 196,
   "id": "49edd3ff",
   "metadata": {},
   "outputs": [
    {
     "name": "stdout",
     "output_type": "stream",
     "text": [
      "student has distinction\n"
     ]
    }
   ],
   "source": [
    "s1.is_distinction()"
   ]
  },
  {
   "cell_type": "code",
   "execution_count": 197,
   "id": "15f4f509",
   "metadata": {},
   "outputs": [
    {
     "name": "stdout",
     "output_type": "stream",
     "text": [
      "Student Constructor Called\n"
     ]
    }
   ],
   "source": [
    "s2 = Student(\"sai\",2,50)"
   ]
  },
  {
   "cell_type": "code",
   "execution_count": 198,
   "id": "02cc43d1",
   "metadata": {},
   "outputs": [
    {
     "name": "stdout",
     "output_type": "stream",
     "text": [
      "has no distinction\n"
     ]
    }
   ],
   "source": [
    "s2.is_distinction()"
   ]
  },
  {
   "cell_type": "markdown",
   "id": "f87495b6",
   "metadata": {},
   "source": [
    "## instance varibale ---> They are the variable for which each of the value is diffrent for object ex: s1 , s2 "
   ]
  },
  {
   "cell_type": "markdown",
   "id": "4b634046",
   "metadata": {},
   "source": [
    "# i am to able access and change the marks for any object/instance"
   ]
  },
  {
   "cell_type": "code",
   "execution_count": 199,
   "id": "83e99a75",
   "metadata": {},
   "outputs": [
    {
     "data": {
      "text/plain": [
       "75"
      ]
     },
     "execution_count": 199,
     "metadata": {},
     "output_type": "execute_result"
    }
   ],
   "source": [
    "s1.marks"
   ]
  },
  {
   "cell_type": "code",
   "execution_count": 200,
   "id": "74aace3b",
   "metadata": {},
   "outputs": [],
   "source": [
    "s1.marks = 80\n"
   ]
  },
  {
   "cell_type": "code",
   "execution_count": 201,
   "id": "deaa46a1",
   "metadata": {},
   "outputs": [
    {
     "data": {
      "text/plain": [
       "80"
      ]
     },
     "execution_count": 201,
     "metadata": {},
     "output_type": "execute_result"
    }
   ],
   "source": [
    "s1.marks"
   ]
  },
  {
   "cell_type": "code",
   "execution_count": 202,
   "id": "8e376758",
   "metadata": {},
   "outputs": [
    {
     "name": "stdout",
     "output_type": "stream",
     "text": [
      "student has distinction\n"
     ]
    }
   ],
   "source": [
    "s1.is_distinction()"
   ]
  },
  {
   "cell_type": "code",
   "execution_count": 203,
   "id": "33a5fa22",
   "metadata": {},
   "outputs": [
    {
     "data": {
      "text/plain": [
       "80"
      ]
     },
     "execution_count": 203,
     "metadata": {},
     "output_type": "execute_result"
    }
   ],
   "source": [
    "s1.marks"
   ]
  },
  {
   "cell_type": "markdown",
   "id": "52acdbbf",
   "metadata": {},
   "source": [
    "# very big concern about security"
   ]
  },
  {
   "cell_type": "markdown",
   "id": "2d9fa94b",
   "metadata": {},
   "source": [
    "# access modifier \n",
    "It is not a good practice, to have data properties of our object/ instance to be open for access\n",
    "\n",
    "public                             privtae \n",
    "Can be access outside the           __ --> double underscore     ex: github --> code confiduential     \n",
    "\n",
    "class as well.                      Can be access inside the class                                                                                                                          "
   ]
  },
  {
   "cell_type": "code",
   "execution_count": 240,
   "id": "cac29a81",
   "metadata": {},
   "outputs": [],
   "source": [
    "class Student_better: \n",
    "    def __init__(self,name,rollno,marks): \n",
    "        self.name = name \n",
    "        self.__rollno = rollno \n",
    "        self.__marks = marks \n",
    "        print('Student Constructor Called')\n",
    "        \n",
    "    ##getter\n",
    "    def get_marks(self):\n",
    "        print(\"The marks are\" + str(self.__marks))\n",
    "        \n",
    "    ## setter \n",
    "    def set_marks(self,newscore):\n",
    "        self.__marks = newscore\n",
    "        \n"
   ]
  },
  {
   "cell_type": "code",
   "execution_count": 241,
   "id": "22347139",
   "metadata": {},
   "outputs": [
    {
     "name": "stdout",
     "output_type": "stream",
     "text": [
      "Student Constructor Called\n"
     ]
    }
   ],
   "source": [
    "sb1 = Student_better(\"sai\",1,30)"
   ]
  },
  {
   "cell_type": "code",
   "execution_count": 243,
   "id": "3e18bef5",
   "metadata": {},
   "outputs": [
    {
     "ename": "AttributeError",
     "evalue": "'Student_better' object has no attribute '__rollno'",
     "output_type": "error",
     "traceback": [
      "\u001b[1;31m---------------------------------------------------------------------------\u001b[0m",
      "\u001b[1;31mAttributeError\u001b[0m                            Traceback (most recent call last)",
      "Cell \u001b[1;32mIn[243], line 1\u001b[0m\n\u001b[1;32m----> 1\u001b[0m sb1\u001b[38;5;241m.\u001b[39m__rollno\n",
      "\u001b[1;31mAttributeError\u001b[0m: 'Student_better' object has no attribute '__rollno'"
     ]
    }
   ],
   "source": [
    "sb1.__rollno"
   ]
  },
  {
   "cell_type": "code",
   "execution_count": 242,
   "id": "614afaae",
   "metadata": {},
   "outputs": [
    {
     "data": {
      "text/plain": [
       "'sai'"
      ]
     },
     "execution_count": 242,
     "metadata": {},
     "output_type": "execute_result"
    }
   ],
   "source": [
    "sb1.name"
   ]
  },
  {
   "cell_type": "code",
   "execution_count": 227,
   "id": "f498c2fa",
   "metadata": {},
   "outputs": [
    {
     "ename": "AttributeError",
     "evalue": "'Student_better' object has no attribute 'marks'",
     "output_type": "error",
     "traceback": [
      "\u001b[1;31m---------------------------------------------------------------------------\u001b[0m",
      "\u001b[1;31mAttributeError\u001b[0m                            Traceback (most recent call last)",
      "Cell \u001b[1;32mIn[227], line 1\u001b[0m\n\u001b[1;32m----> 1\u001b[0m sb1\u001b[38;5;241m.\u001b[39mmarks\n",
      "\u001b[1;31mAttributeError\u001b[0m: 'Student_better' object has no attribute 'marks'"
     ]
    }
   ],
   "source": [
    "sb1.marks"
   ]
  },
  {
   "cell_type": "code",
   "execution_count": 228,
   "id": "61fad97d",
   "metadata": {},
   "outputs": [
    {
     "name": "stdout",
     "output_type": "stream",
     "text": [
      "The marks are30\n"
     ]
    }
   ],
   "source": [
    "sb1.get_marks()   ## access the marks"
   ]
  },
  {
   "cell_type": "code",
   "execution_count": 233,
   "id": "69edfe53",
   "metadata": {},
   "outputs": [],
   "source": [
    "sb1.set_marks(70)   ## set the marks"
   ]
  },
  {
   "cell_type": "code",
   "execution_count": 237,
   "id": "0b00f714",
   "metadata": {},
   "outputs": [
    {
     "name": "stdout",
     "output_type": "stream",
     "text": [
      "The marks are70\n"
     ]
    }
   ],
   "source": [
    "sb1.get_marks()    ## can access only inside a class"
   ]
  },
  {
   "cell_type": "code",
   "execution_count": 238,
   "id": "25cbc4c2",
   "metadata": {},
   "outputs": [
    {
     "ename": "AttributeError",
     "evalue": "'Student_better' object has no attribute 'marks'",
     "output_type": "error",
     "traceback": [
      "\u001b[1;31m---------------------------------------------------------------------------\u001b[0m",
      "\u001b[1;31mAttributeError\u001b[0m                            Traceback (most recent call last)",
      "Cell \u001b[1;32mIn[238], line 1\u001b[0m\n\u001b[1;32m----> 1\u001b[0m sb1\u001b[38;5;241m.\u001b[39mmarks\n",
      "\u001b[1;31mAttributeError\u001b[0m: 'Student_better' object has no attribute 'marks'"
     ]
    }
   ],
   "source": [
    "sb1.marks"
   ]
  },
  {
   "cell_type": "markdown",
   "id": "9c499014",
   "metadata": {},
   "source": [
    "## once we make our variable private __ then they can be accessed using __ only.\n",
    "self.__marks not equal "
   ]
  },
  {
   "cell_type": "code",
   "execution_count": 245,
   "id": "70ada81b",
   "metadata": {},
   "outputs": [
    {
     "ename": "AttributeError",
     "evalue": "'Student_better' object has no attribute '__marks'",
     "output_type": "error",
     "traceback": [
      "\u001b[1;31m---------------------------------------------------------------------------\u001b[0m",
      "\u001b[1;31mAttributeError\u001b[0m                            Traceback (most recent call last)",
      "Cell \u001b[1;32mIn[245], line 1\u001b[0m\n\u001b[1;32m----> 1\u001b[0m sb1\u001b[38;5;241m.\u001b[39m__marks\n",
      "\u001b[1;31mAttributeError\u001b[0m: 'Student_better' object has no attribute '__marks'"
     ]
    }
   ],
   "source": [
    "sb1.__marks   # can't access outside a class"
   ]
  },
  {
   "cell_type": "code",
   "execution_count": 247,
   "id": "e6a7024b",
   "metadata": {},
   "outputs": [
    {
     "data": {
      "text/plain": [
       "30"
      ]
     },
     "execution_count": 247,
     "metadata": {},
     "output_type": "execute_result"
    }
   ],
   "source": [
    " ##  _ClassName__AttributeName. \n",
    "sb1._Student_better__marks\n"
   ]
  },
  {
   "cell_type": "markdown",
   "id": "b7b4147b",
   "metadata": {},
   "source": [
    "## wt have we achieved by using getter & setter?\n",
    "## we are still able to change and access the value"
   ]
  },
  {
   "cell_type": "code",
   "execution_count": 254,
   "id": "fb711c58",
   "metadata": {},
   "outputs": [],
   "source": [
    "class Student_better: \n",
    "    def __init__(self,name,rollno,marks): \n",
    "        self.name = name \n",
    "        self.__rollno = rollno \n",
    "        self.__marks = marks \n",
    "        print('Student Constructor Called')\n",
    "        \n",
    "    ##getter\n",
    "    def get_marks(self,passcode): # can do some authentication \n",
    "        if (passcode == \"0123\"):\n",
    "            print(\"The marks are\" + str(self.__marks))\n",
    "        else:\n",
    "            print(\"access denied\")\n",
    "        \n",
    "    ## setter \n",
    "    def set_marks(self,newscore,teacherid):\n",
    "        if (teacherid[0] == \"T\"):\n",
    "            self.__marks = newscore\n",
    "        else:\n",
    "            print(\"you are not a teacher to chnage the marks\")"
   ]
  },
  {
   "cell_type": "code",
   "execution_count": 255,
   "id": "4f742138",
   "metadata": {},
   "outputs": [
    {
     "name": "stdout",
     "output_type": "stream",
     "text": [
      "Student Constructor Called\n"
     ]
    }
   ],
   "source": [
    "sb2 = Student_better(\"ram\",2,45)"
   ]
  },
  {
   "cell_type": "code",
   "execution_count": 256,
   "id": "cf92e147",
   "metadata": {},
   "outputs": [
    {
     "name": "stdout",
     "output_type": "stream",
     "text": [
      "access denied\n"
     ]
    }
   ],
   "source": [
    "sb2.get_marks(\"0000\")  ## control the access"
   ]
  },
  {
   "cell_type": "code",
   "execution_count": 257,
   "id": "85b1953f",
   "metadata": {},
   "outputs": [
    {
     "name": "stdout",
     "output_type": "stream",
     "text": [
      "The marks are45\n"
     ]
    }
   ],
   "source": [
    "sb2.get_marks(\"0123\")"
   ]
  },
  {
   "cell_type": "code",
   "execution_count": 258,
   "id": "b639cfe4",
   "metadata": {},
   "outputs": [
    {
     "name": "stdout",
     "output_type": "stream",
     "text": [
      "you are not a teacher to chnage the marks\n"
     ]
    }
   ],
   "source": [
    "sb2.set_marks(50,\"S12\")"
   ]
  },
  {
   "cell_type": "code",
   "execution_count": 259,
   "id": "1aa95f64",
   "metadata": {},
   "outputs": [],
   "source": [
    "sb2.set_marks(50,\"T12\")   ## Assignment (change the value)"
   ]
  },
  {
   "cell_type": "code",
   "execution_count": 261,
   "id": "515a2b2d",
   "metadata": {},
   "outputs": [
    {
     "name": "stdout",
     "output_type": "stream",
     "text": [
      "The marks are50\n"
     ]
    }
   ],
   "source": [
    "sb2.get_marks(\"0123\")"
   ]
  },
  {
   "cell_type": "markdown",
   "id": "cef1bd4b",
   "metadata": {},
   "source": [
    "## We can apply security measures on getter and seetter variables so as to make sure that we can control the acces and  assignement(changeing the value)"
   ]
  },
  {
   "cell_type": "markdown",
   "id": "819b9327",
   "metadata": {},
   "source": [
    "Example : 💊 capsule (inside data members + methods)\n",
    "    Inside the class i am bale to wrap all the data members & menthods"
   ]
  },
  {
   "cell_type": "code",
   "execution_count": 291,
   "id": "9f882c3e",
   "metadata": {},
   "outputs": [],
   "source": [
    "class Student_better_2: \n",
    "    def __init__(self,name,rollno,marks,password): \n",
    "        self.name = name \n",
    "        self.__rollno = rollno\n",
    "        if (password == \"123\"):\n",
    "            self.__marks = marks\n",
    "        else: # we have to add this so as to make sure that you are creating a data member which is marks\n",
    "            self.__marks = 0\n",
    "        print('Student better Constructor Called')\n",
    "        \n",
    "    ##getter\n",
    "    def get_marks(self,passcode): # can do some authentication \n",
    "        if (passcode == \"0123\"):\n",
    "            print(\"The marks are\" + str(self.__marks))\n",
    "        else:\n",
    "            print(\"access denied\")\n",
    "        \n",
    "    ## setter \n",
    "    def set_marks(self,newscore,teacherid):\n",
    "        if (teacherid[0] == \"T\"):\n",
    "            self.__marks = newscore\n",
    "        else:\n",
    "            print(\"you are not a teacher to chnage the marks\")"
   ]
  },
  {
   "cell_type": "code",
   "execution_count": 270,
   "id": "710c8afc",
   "metadata": {},
   "outputs": [
    {
     "name": "stdout",
     "output_type": "stream",
     "text": [
      "Student better Constructor Called\n"
     ]
    }
   ],
   "source": [
    "sb1 = Student_better_2(\"xyz\",1,45,\"123\")"
   ]
  },
  {
   "cell_type": "code",
   "execution_count": 271,
   "id": "c72780d6",
   "metadata": {},
   "outputs": [
    {
     "name": "stdout",
     "output_type": "stream",
     "text": [
      "The marks are45\n"
     ]
    }
   ],
   "source": [
    "sb1.get_marks(\"0123\")"
   ]
  },
  {
   "cell_type": "code",
   "execution_count": 272,
   "id": "deaa0838",
   "metadata": {},
   "outputs": [],
   "source": [
    "sb1.set_marks(70,\"T13\")"
   ]
  },
  {
   "cell_type": "code",
   "execution_count": 274,
   "id": "d5962f5c",
   "metadata": {},
   "outputs": [
    {
     "name": "stdout",
     "output_type": "stream",
     "text": [
      "The marks are70\n"
     ]
    }
   ],
   "source": [
    "sb1.get_marks(\"0123\")"
   ]
  },
  {
   "cell_type": "code",
   "execution_count": 275,
   "id": "c4be1cc6",
   "metadata": {},
   "outputs": [
    {
     "data": {
      "text/plain": [
       "'xyz'"
      ]
     },
     "execution_count": 275,
     "metadata": {},
     "output_type": "execute_result"
    }
   ],
   "source": [
    "sb1.name"
   ]
  },
  {
   "cell_type": "code",
   "execution_count": 292,
   "id": "154a699a",
   "metadata": {},
   "outputs": [
    {
     "name": "stdout",
     "output_type": "stream",
     "text": [
      "Student better Constructor Called\n"
     ]
    }
   ],
   "source": [
    "sb2 = Student_better_2(\"abc\",1,67,\"456\")"
   ]
  },
  {
   "cell_type": "code",
   "execution_count": 293,
   "id": "5ae38bb5",
   "metadata": {},
   "outputs": [
    {
     "data": {
      "text/plain": [
       "'abc'"
      ]
     },
     "execution_count": 293,
     "metadata": {},
     "output_type": "execute_result"
    }
   ],
   "source": [
    "sb2.name"
   ]
  },
  {
   "cell_type": "code",
   "execution_count": 294,
   "id": "b13100ba",
   "metadata": {},
   "outputs": [
    {
     "name": "stdout",
     "output_type": "stream",
     "text": [
      "The marks are0\n"
     ]
    }
   ],
   "source": [
    "sb2.get_marks(\"0123\")"
   ]
  },
  {
   "cell_type": "code",
   "execution_count": 295,
   "id": "24d1a3c6",
   "metadata": {},
   "outputs": [
    {
     "name": "stdout",
     "output_type": "stream",
     "text": [
      "Student better Constructor Called\n"
     ]
    }
   ],
   "source": [
    "sb3 = Student_better_2(\"abc\",1,67,\"123\")"
   ]
  },
  {
   "cell_type": "code",
   "execution_count": 296,
   "id": "10117a94",
   "metadata": {},
   "outputs": [
    {
     "name": "stdout",
     "output_type": "stream",
     "text": [
      "The marks are67\n"
     ]
    }
   ],
   "source": [
    "sb3.get_marks(\"0123\")"
   ]
  },
  {
   "cell_type": "code",
   "execution_count": 297,
   "id": "0d576e1e",
   "metadata": {},
   "outputs": [
    {
     "data": {
      "text/plain": [
       "'abc'"
      ]
     },
     "execution_count": 297,
     "metadata": {},
     "output_type": "execute_result"
    }
   ],
   "source": [
    "sb3.name"
   ]
  },
  {
   "cell_type": "code",
   "execution_count": 327,
   "id": "288aa101",
   "metadata": {},
   "outputs": [],
   "source": [
    "class Student_better_2: \n",
    "    def __init__(self,name,rollno,marks,password): \n",
    "        \n",
    "        self.__name = name\n",
    "        if(self.authorise()):\n",
    "            print(\"you are authorise\")\n",
    "        else:\n",
    "            print(\"you are not authorised, hence cannot create variable\")\n",
    "            raise 1/10\n",
    "        self.__rollno = rollno\n",
    "        if (password == \"123\"):\n",
    "            self.__marks = marks\n",
    "        else: # we have to add this so as to make sure that you are creating a data member which is marks\n",
    "            self.__marks = 0\n",
    "        print('Student better Constructor Called')\n",
    "        \n",
    "    ##getter\n",
    "    def get_marks(self,passcode): # can do some authentication \n",
    "        if (passcode == \"0123\"):\n",
    "            print(\"The marks are\" + str(self.__marks))\n",
    "        else:\n",
    "            print(\"access denied\")\n",
    "        \n",
    "    ## setter \n",
    "    def set_marks(self,newscore,teacherid):\n",
    "        if (teacherid[0] == \"T\"):\n",
    "            self.__marks = newscore\n",
    "        else:\n",
    "            print(\"you are not a teacher to chnage the marks\")\n",
    "            \n",
    "    def authorise(self):\n",
    "        if(self.__name[0] == \"T\"):\n",
    "            return True\n",
    "        else:\n",
    "            return False\n",
    "             \n",
    "                "
   ]
  },
  {
   "cell_type": "code",
   "execution_count": 328,
   "id": "6dbce089",
   "metadata": {},
   "outputs": [
    {
     "name": "stdout",
     "output_type": "stream",
     "text": [
      "you are authorise\n",
      "Student better Constructor Called\n"
     ]
    }
   ],
   "source": [
    "sb4 = Student_better_2(\"Tara\",1,34,\"123\")"
   ]
  },
  {
   "cell_type": "code",
   "execution_count": 329,
   "id": "78b91e08",
   "metadata": {},
   "outputs": [
    {
     "name": "stdout",
     "output_type": "stream",
     "text": [
      "The marks are34\n"
     ]
    }
   ],
   "source": [
    "sb4.get_marks(\"0123\")"
   ]
  },
  {
   "cell_type": "code",
   "execution_count": 330,
   "id": "5454727e",
   "metadata": {},
   "outputs": [
    {
     "data": {
      "text/plain": [
       "True"
      ]
     },
     "execution_count": 330,
     "metadata": {},
     "output_type": "execute_result"
    }
   ],
   "source": [
    "sb4.authorise()"
   ]
  },
  {
   "cell_type": "code",
   "execution_count": null,
   "id": "473a1553",
   "metadata": {},
   "outputs": [],
   "source": []
  },
  {
   "cell_type": "code",
   "execution_count": 331,
   "id": "057c5a55",
   "metadata": {},
   "outputs": [],
   "source": [
    "class Student:\n",
    "    def __init__(self,name):\n",
    "        self.name = name\n",
    "        self.studentnumber = 1\n",
    "        print(\"student constructor is called\")\n",
    "    \n",
    "        "
   ]
  },
  {
   "cell_type": "code",
   "execution_count": 332,
   "id": "6784f80d",
   "metadata": {},
   "outputs": [
    {
     "name": "stdout",
     "output_type": "stream",
     "text": [
      "student constructor is called\n"
     ]
    }
   ],
   "source": [
    "s1 = Student(\"mayank\")"
   ]
  },
  {
   "cell_type": "code",
   "execution_count": 333,
   "id": "490bf973",
   "metadata": {},
   "outputs": [
    {
     "data": {
      "text/plain": [
       "1"
      ]
     },
     "execution_count": 333,
     "metadata": {},
     "output_type": "execute_result"
    }
   ],
   "source": [
    "s1.studentnumber"
   ]
  },
  {
   "cell_type": "code",
   "execution_count": 334,
   "id": "ee53b68b",
   "metadata": {},
   "outputs": [
    {
     "name": "stdout",
     "output_type": "stream",
     "text": [
      "student constructor is called\n"
     ]
    }
   ],
   "source": [
    "s2 = Student(\"abc\")"
   ]
  },
  {
   "cell_type": "code",
   "execution_count": 335,
   "id": "6e1db782",
   "metadata": {},
   "outputs": [
    {
     "data": {
      "text/plain": [
       "1"
      ]
     },
     "execution_count": 335,
     "metadata": {},
     "output_type": "execute_result"
    }
   ],
   "source": [
    "s2.studentnumber"
   ]
  },
  {
   "cell_type": "code",
   "execution_count": 336,
   "id": "537801a7",
   "metadata": {},
   "outputs": [],
   "source": [
    "## static variable "
   ]
  },
  {
   "cell_type": "code",
   "execution_count": 479,
   "id": "2b285742",
   "metadata": {},
   "outputs": [],
   "source": [
    "class Student:\n",
    "    \n",
    "    tse = 1 ## public static variable (Property of a class not a object)\n",
    "    __schoolname = \"ABCD\"   ## private static varibale\n",
    "    \n",
    "    \n",
    "    def __init__(self,name,student_year):\n",
    "        self.name = name\n",
    "        self.student_year = student_year\n",
    "        self.studentnumber = Student.tse\n",
    "        Student.tse =  Student.tse + 1\n",
    "        if (student_year == \"2023\"):\n",
    "            print(\"The student year \" + str(student_year))\n",
    "        else:\n",
    "            print(\"No year\")\n",
    "        print(\"student constructor is called\")\n",
    "    def get_tse(self): ## static method\n",
    "        return (Student.tse)\n",
    "    def get_schoolname(self):\n",
    "        return Student.__schoolname\n",
    "    def __get_year(self):\n",
    "        return True"
   ]
  },
  {
   "cell_type": "code",
   "execution_count": 443,
   "id": "437bf723",
   "metadata": {},
   "outputs": [],
   "source": [
    "# print(Student.tse)"
   ]
  },
  {
   "cell_type": "code",
   "execution_count": 481,
   "id": "459759ce",
   "metadata": {},
   "outputs": [
    {
     "name": "stdout",
     "output_type": "stream",
     "text": [
      "The student year 2023\n",
      "student constructor is called\n"
     ]
    }
   ],
   "source": [
    "a = Student(\"Ragavendra\",\"2023\")"
   ]
  },
  {
   "cell_type": "code",
   "execution_count": 439,
   "id": "89182471",
   "metadata": {},
   "outputs": [
    {
     "data": {
      "text/plain": [
       "True"
      ]
     },
     "execution_count": 439,
     "metadata": {},
     "output_type": "execute_result"
    }
   ],
   "source": [
    "a._Student__get_year()"
   ]
  },
  {
   "cell_type": "code",
   "execution_count": 441,
   "id": "e546785b",
   "metadata": {},
   "outputs": [
    {
     "ename": "AttributeError",
     "evalue": "type object 'Student' has no attribute '__get_year'",
     "output_type": "error",
     "traceback": [
      "\u001b[1;31m---------------------------------------------------------------------------\u001b[0m",
      "\u001b[1;31mAttributeError\u001b[0m                            Traceback (most recent call last)",
      "Cell \u001b[1;32mIn[441], line 1\u001b[0m\n\u001b[1;32m----> 1\u001b[0m Student\u001b[38;5;241m.\u001b[39m__get_year()\n",
      "\u001b[1;31mAttributeError\u001b[0m: type object 'Student' has no attribute '__get_year'"
     ]
    }
   ],
   "source": [
    "Student.__get_year()"
   ]
  },
  {
   "cell_type": "code",
   "execution_count": 426,
   "id": "9dd9e4d3",
   "metadata": {},
   "outputs": [
    {
     "data": {
      "text/plain": [
       "1"
      ]
     },
     "execution_count": 426,
     "metadata": {},
     "output_type": "execute_result"
    }
   ],
   "source": [
    "a.studentnumber"
   ]
  },
  {
   "cell_type": "code",
   "execution_count": 427,
   "id": "1d7dec43",
   "metadata": {},
   "outputs": [
    {
     "data": {
      "text/plain": [
       "'ABCD'"
      ]
     },
     "execution_count": 427,
     "metadata": {},
     "output_type": "execute_result"
    }
   ],
   "source": [
    "a.get_schoolname()"
   ]
  },
  {
   "cell_type": "code",
   "execution_count": 428,
   "id": "edec6c38",
   "metadata": {},
   "outputs": [
    {
     "data": {
      "text/plain": [
       "'Ragavendra'"
      ]
     },
     "execution_count": 428,
     "metadata": {},
     "output_type": "execute_result"
    }
   ],
   "source": [
    "a.name"
   ]
  },
  {
   "cell_type": "code",
   "execution_count": 465,
   "id": "73af67f6",
   "metadata": {},
   "outputs": [
    {
     "data": {
      "text/plain": [
       "7"
      ]
     },
     "execution_count": 465,
     "metadata": {},
     "output_type": "execute_result"
    }
   ],
   "source": [
    "a.get_tse()"
   ]
  },
  {
   "cell_type": "code",
   "execution_count": 408,
   "id": "4e3b7080",
   "metadata": {},
   "outputs": [
    {
     "data": {
      "text/plain": [
       "2"
      ]
     },
     "execution_count": 408,
     "metadata": {},
     "output_type": "execute_result"
    }
   ],
   "source": [
    "a.tse"
   ]
  },
  {
   "cell_type": "code",
   "execution_count": 409,
   "id": "e9e4602a",
   "metadata": {},
   "outputs": [
    {
     "name": "stdout",
     "output_type": "stream",
     "text": [
      "student constructor is called\n"
     ]
    }
   ],
   "source": [
    "b = Student(\"sai\")"
   ]
  },
  {
   "cell_type": "code",
   "execution_count": 410,
   "id": "3849c1dc",
   "metadata": {},
   "outputs": [
    {
     "data": {
      "text/plain": [
       "2"
      ]
     },
     "execution_count": 410,
     "metadata": {},
     "output_type": "execute_result"
    }
   ],
   "source": [
    "b.studentnumber"
   ]
  },
  {
   "cell_type": "code",
   "execution_count": 411,
   "id": "6d3b24f8",
   "metadata": {},
   "outputs": [
    {
     "name": "stdout",
     "output_type": "stream",
     "text": [
      "student constructor is called\n"
     ]
    }
   ],
   "source": [
    "c = Student(\"Ram\")"
   ]
  },
  {
   "cell_type": "code",
   "execution_count": 412,
   "id": "690f0403",
   "metadata": {},
   "outputs": [
    {
     "data": {
      "text/plain": [
       "3"
      ]
     },
     "execution_count": 412,
     "metadata": {},
     "output_type": "execute_result"
    }
   ],
   "source": [
    "c.studentnumber"
   ]
  },
  {
   "cell_type": "code",
   "execution_count": 413,
   "id": "5acb2315",
   "metadata": {},
   "outputs": [
    {
     "data": {
      "text/plain": [
       "4"
      ]
     },
     "execution_count": 413,
     "metadata": {},
     "output_type": "execute_result"
    }
   ],
   "source": [
    "c.get_tse()"
   ]
  },
  {
   "cell_type": "code",
   "execution_count": 414,
   "id": "0bc9a2e0",
   "metadata": {},
   "outputs": [
    {
     "name": "stdout",
     "output_type": "stream",
     "text": [
      "4\n"
     ]
    }
   ],
   "source": [
    "print(Student.tse)"
   ]
  },
  {
   "cell_type": "code",
   "execution_count": null,
   "id": "cd37ff63",
   "metadata": {},
   "outputs": [],
   "source": [
    "##classname.staticvariable"
   ]
  },
  {
   "cell_type": "code",
   "execution_count": 467,
   "id": "e2bc4083",
   "metadata": {},
   "outputs": [],
   "source": [
    "class Student1:\n",
    "    \n",
    "    tse = 1 ## public static variable (Property of a class not an object)\n",
    "    __schoolname = \"ABCD\"   ## private static variable\n",
    "    __student_year = \"2023\"  ## private static variable\n",
    "    \n",
    "    def __init__(self, name):\n",
    "        self.name = name\n",
    "        self.studentnumber = Student.tse\n",
    "        Student.tse += 1\n",
    "        if Student1.__student_year == \"2023\":\n",
    "            print(\"The student year is \" + str(Student1.__student_year))\n",
    "        else:\n",
    "            print(\"No year\")\n",
    "        print(\"student constructor is called\")\n",
    "        \n",
    "    def get_tse(self): ## static method\n",
    "        return Student.tse\n",
    "    \n",
    "    def get_schoolname(self):\n",
    "        return Student.__schoolname\n",
    "    \n",
    "    def __get_year(self):\n",
    "        return True\n"
   ]
  },
  {
   "cell_type": "code",
   "execution_count": 468,
   "id": "cf8682d2",
   "metadata": {},
   "outputs": [
    {
     "name": "stdout",
     "output_type": "stream",
     "text": [
      "The student year is 2023\n",
      "student constructor is called\n"
     ]
    }
   ],
   "source": [
    "s1 = Student1(\"ram\")"
   ]
  },
  {
   "cell_type": "code",
   "execution_count": 469,
   "id": "d9babbb4",
   "metadata": {},
   "outputs": [
    {
     "data": {
      "text/plain": [
       "'ram'"
      ]
     },
     "execution_count": 469,
     "metadata": {},
     "output_type": "execute_result"
    }
   ],
   "source": [
    "s1.name"
   ]
  },
  {
   "cell_type": "code",
   "execution_count": 470,
   "id": "8e93c4e2",
   "metadata": {},
   "outputs": [
    {
     "data": {
      "text/plain": [
       "'ABCD'"
      ]
     },
     "execution_count": 470,
     "metadata": {},
     "output_type": "execute_result"
    }
   ],
   "source": [
    "a.get_schoolname()"
   ]
  },
  {
   "cell_type": "code",
   "execution_count": 471,
   "id": "bcabf522",
   "metadata": {},
   "outputs": [
    {
     "data": {
      "text/plain": [
       "8"
      ]
     },
     "execution_count": 471,
     "metadata": {},
     "output_type": "execute_result"
    }
   ],
   "source": [
    "a.get_tse()"
   ]
  },
  {
   "cell_type": "code",
   "execution_count": 472,
   "id": "68a29960",
   "metadata": {},
   "outputs": [
    {
     "data": {
      "text/plain": [
       "1"
      ]
     },
     "execution_count": 472,
     "metadata": {},
     "output_type": "execute_result"
    }
   ],
   "source": [
    "a.studentnumber"
   ]
  },
  {
   "cell_type": "markdown",
   "id": "3f9075b5",
   "metadata": {},
   "source": [
    "## Inheritance"
   ]
  },
  {
   "cell_type": "code",
   "execution_count": 1,
   "id": "d8d9825b",
   "metadata": {},
   "outputs": [
    {
     "data": {
      "text/plain": [
       "0.6"
      ]
     },
     "execution_count": 1,
     "metadata": {},
     "output_type": "execute_result"
    }
   ],
   "source": [
    "3/5"
   ]
  },
  {
   "cell_type": "code",
   "execution_count": 2,
   "id": "0e442f24",
   "metadata": {},
   "outputs": [
    {
     "data": {
      "text/plain": [
       "0.8"
      ]
     },
     "execution_count": 2,
     "metadata": {},
     "output_type": "execute_result"
    }
   ],
   "source": [
    "3/5 + 1/5"
   ]
  },
  {
   "cell_type": "markdown",
   "id": "1de3ccd1",
   "metadata": {},
   "source": [
    "## creating a fraction class "
   ]
  },
  {
   "cell_type": "code",
   "execution_count": 96,
   "id": "3b41eb73",
   "metadata": {},
   "outputs": [],
   "source": [
    "class Fraction_main():\n",
    "    def __init__(self,num,den):\n",
    "        self.numerator =  num\n",
    "        self.denomenator = den\n",
    "        print(\"The fraction is created\")\n",
    "    def __str__(self):\n",
    "#         return \"I am automatically getting called when print is called\"\n",
    "          return f\"{self.numerator}/{ self.denomenator}\"\n",
    "        \n",
    "    def __add__(self,other):\n",
    "        new_num = self.numerator * other.denomenator + other.numerator * self.denomenator\n",
    "        new_den = self.denomenator * other.denomenator\n",
    "        return Fraction(new_num,new_den).simplify()\n",
    "#         print(self)\n",
    "#         print(other)\n",
    "          #add logic\n",
    "          \n",
    "    def _gcd(self,num,den):\n",
    "        while den:\n",
    "            num,den = den, num%den\n",
    "        return num\n",
    "    def _gcd_2(self,num,den):\n",
    "        gcd = 1\n",
    "        for i in range(2,min(num,den)+1):\n",
    "            if (num%i ==0 and dem%i ==0):\n",
    "                gcd = i\n",
    "        return gcd\n",
    "    def simplify(self):\n",
    "        gcd = self._gcd(self.numerator,self.denomenator)\n",
    "        self.numerator = self.numerator // gcd\n",
    "        self.denomenator =  self.denomenator // gcd\n",
    "        return self\n",
    "    def __sub__(self,other):\n",
    "        new_num = self.numerator * other.denomenator - other.numerator * self.denomenator\n",
    "        new_den = self.denomenator * other.denomenator\n",
    "        return Fraction(new_num,new_den).simplify()\n",
    "    \n",
    "    def __mul__(self,other):\n",
    "        new_num = self.numerator * other.numerator \n",
    "        new_den = self.denomenator * other.denomenator\n",
    "        return Fraction(new_num,new_den).simplify()\n",
    "    def __div__(self,other):\n",
    "        new_num = self.numerator *other.denomenator\n",
    "        new_den = self.denomenator * other.numerator\n",
    "        return Fraction(new_num,new_den).simplify()\n",
    "        \n",
    "        \n",
    "        \n",
    "        \n",
    "       \n",
    "         \n",
    "        "
   ]
  },
  {
   "cell_type": "code",
   "execution_count": 97,
   "id": "1db514e6",
   "metadata": {},
   "outputs": [
    {
     "ename": "ModuleNotFoundError",
     "evalue": "No module named 'Fraction'",
     "output_type": "error",
     "traceback": [
      "\u001b[1;31m---------------------------------------------------------------------------\u001b[0m",
      "\u001b[1;31mModuleNotFoundError\u001b[0m                       Traceback (most recent call last)",
      "Cell \u001b[1;32mIn[97], line 1\u001b[0m\n\u001b[1;32m----> 1\u001b[0m \u001b[38;5;28;01mfrom\u001b[39;00m \u001b[38;5;21;01mFraction\u001b[39;00m \u001b[38;5;28;01mimport\u001b[39;00m Fraction\n",
      "\u001b[1;31mModuleNotFoundError\u001b[0m: No module named 'Fraction'"
     ]
    }
   ],
   "source": [
    "from Fraction import Fraction"
   ]
  },
  {
   "cell_type": "code",
   "execution_count": 98,
   "id": "efd1daab",
   "metadata": {},
   "outputs": [
    {
     "name": "stdout",
     "output_type": "stream",
     "text": [
      "The fraction is created\n"
     ]
    }
   ],
   "source": [
    "f1 = Fraction_main(3,5)"
   ]
  },
  {
   "cell_type": "code",
   "execution_count": 99,
   "id": "b4b5f2f4",
   "metadata": {},
   "outputs": [
    {
     "name": "stdout",
     "output_type": "stream",
     "text": [
      "3/5\n"
     ]
    }
   ],
   "source": [
    "print(f1)  # want the output as 3/5"
   ]
  },
  {
   "cell_type": "code",
   "execution_count": 100,
   "id": "81b8d73b",
   "metadata": {},
   "outputs": [
    {
     "name": "stdout",
     "output_type": "stream",
     "text": [
      "The fraction is created\n"
     ]
    }
   ],
   "source": [
    "f2 = Fraction_main(1,5)"
   ]
  },
  {
   "cell_type": "code",
   "execution_count": 101,
   "id": "da580051",
   "metadata": {},
   "outputs": [
    {
     "name": "stdout",
     "output_type": "stream",
     "text": [
      "1/5\n"
     ]
    }
   ],
   "source": [
    "print(f2)"
   ]
  },
  {
   "cell_type": "code",
   "execution_count": 102,
   "id": "0718fcd5",
   "metadata": {},
   "outputs": [
    {
     "name": "stdout",
     "output_type": "stream",
     "text": [
      "3/5 1/5\n"
     ]
    }
   ],
   "source": [
    "print(f1,f2)"
   ]
  },
  {
   "cell_type": "code",
   "execution_count": 103,
   "id": "fa26454d",
   "metadata": {},
   "outputs": [
    {
     "name": "stdout",
     "output_type": "stream",
     "text": [
      "The fraction is created\n",
      "4/5\n"
     ]
    }
   ],
   "source": [
    "print(f1 + f2) # 3/5, 1/5"
   ]
  },
  {
   "cell_type": "code",
   "execution_count": 104,
   "id": "94b91c74",
   "metadata": {},
   "outputs": [
    {
     "name": "stdout",
     "output_type": "stream",
     "text": [
      "The fraction is created\n",
      "4/5\n"
     ]
    }
   ],
   "source": [
    "print(f1 + f2)"
   ]
  },
  {
   "cell_type": "code",
   "execution_count": 105,
   "id": "62f5a297",
   "metadata": {},
   "outputs": [
    {
     "name": "stdout",
     "output_type": "stream",
     "text": [
      "The fraction is created\n",
      "2/5\n"
     ]
    }
   ],
   "source": [
    "print(f1-f2)"
   ]
  },
  {
   "cell_type": "code",
   "execution_count": 106,
   "id": "2be8b96a",
   "metadata": {},
   "outputs": [
    {
     "name": "stdout",
     "output_type": "stream",
     "text": [
      "The fraction is created\n",
      "3/25\n"
     ]
    }
   ],
   "source": [
    "print(f1*f2)"
   ]
  },
  {
   "cell_type": "code",
   "execution_count": 108,
   "id": "c02456c1",
   "metadata": {},
   "outputs": [
    {
     "ename": "TypeError",
     "evalue": "unsupported operand type(s) for /: 'Fraction_main' and 'Fraction_main'",
     "output_type": "error",
     "traceback": [
      "\u001b[1;31m---------------------------------------------------------------------------\u001b[0m",
      "\u001b[1;31mTypeError\u001b[0m                                 Traceback (most recent call last)",
      "Cell \u001b[1;32mIn[108], line 1\u001b[0m\n\u001b[1;32m----> 1\u001b[0m \u001b[38;5;28mprint\u001b[39m(f1\u001b[38;5;241m/\u001b[39mf2)\n",
      "\u001b[1;31mTypeError\u001b[0m: unsupported operand type(s) for /: 'Fraction_main' and 'Fraction_main'"
     ]
    }
   ],
   "source": [
    "print(f1/f2)"
   ]
  },
  {
   "cell_type": "code",
   "execution_count": 109,
   "id": "9cfd7171",
   "metadata": {},
   "outputs": [
    {
     "ename": "TypeError",
     "evalue": "can only concatenate str (not \"int\") to str",
     "output_type": "error",
     "traceback": [
      "\u001b[1;31m---------------------------------------------------------------------------\u001b[0m",
      "\u001b[1;31mTypeError\u001b[0m                                 Traceback (most recent call last)",
      "Cell \u001b[1;32mIn[109], line 1\u001b[0m\n\u001b[1;32m----> 1\u001b[0m \u001b[38;5;124m\"\u001b[39m\u001b[38;5;124msai\u001b[39m\u001b[38;5;124m\"\u001b[39m \u001b[38;5;241m+\u001b[39m \u001b[38;5;241m1\u001b[39m\n",
      "\u001b[1;31mTypeError\u001b[0m: can only concatenate str (not \"int\") to str"
     ]
    }
   ],
   "source": [
    "\"sai\" + 1"
   ]
  },
  {
   "cell_type": "code",
   "execution_count": 25,
   "id": "4362064d",
   "metadata": {},
   "outputs": [
    {
     "data": {
      "text/plain": [
       "[1, 2, 3, 4]"
      ]
     },
     "execution_count": 25,
     "metadata": {},
     "output_type": "execute_result"
    }
   ],
   "source": [
    "[1,2] + [3,4]"
   ]
  },
  {
   "cell_type": "code",
   "execution_count": 26,
   "id": "3760b6f0",
   "metadata": {},
   "outputs": [
    {
     "ename": "TypeError",
     "evalue": "unsupported operand type(s) for +: 'set' and 'set'",
     "output_type": "error",
     "traceback": [
      "\u001b[1;31m---------------------------------------------------------------------------\u001b[0m",
      "\u001b[1;31mTypeError\u001b[0m                                 Traceback (most recent call last)",
      "Cell \u001b[1;32mIn[26], line 1\u001b[0m\n\u001b[1;32m----> 1\u001b[0m {\u001b[38;5;241m1\u001b[39m,\u001b[38;5;241m2\u001b[39m} \u001b[38;5;241m+\u001b[39m {\u001b[38;5;241m3\u001b[39m,\u001b[38;5;241m4\u001b[39m}\n",
      "\u001b[1;31mTypeError\u001b[0m: unsupported operand type(s) for +: 'set' and 'set'"
     ]
    }
   ],
   "source": [
    "{1,2} + {3,4}"
   ]
  },
  {
   "cell_type": "code",
   "execution_count": 17,
   "id": "656be919",
   "metadata": {},
   "outputs": [
    {
     "data": {
      "text/plain": [
       "['sai', 'ram']"
      ]
     },
     "execution_count": 17,
     "metadata": {},
     "output_type": "execute_result"
    }
   ],
   "source": [
    "\"sai-ram\".split(\"-\")"
   ]
  },
  {
   "cell_type": "code",
   "execution_count": null,
   "id": "7a14b5f2",
   "metadata": {},
   "outputs": [],
   "source": [
    "Dry ---> don't use same code again "
   ]
  },
  {
   "cell_type": "markdown",
   "id": "3b313ff0",
   "metadata": {},
   "source": [
    " ## Inheritance"
   ]
  },
  {
   "cell_type": "code",
   "execution_count": 32,
   "id": "5a789fec",
   "metadata": {},
   "outputs": [],
   "source": [
    "class Animal():\n",
    "    def __init__(self,species,sound):\n",
    "        self.species = species\n",
    "        self.sound = sound\n",
    "    def make_sound(self):\n",
    "        return (f\" the sound is {self.sound} and species is {self.species}\")"
   ]
  },
  {
   "cell_type": "code",
   "execution_count": 33,
   "id": "cbcb3565",
   "metadata": {},
   "outputs": [],
   "source": [
    "class Dog(Animal):\n",
    "    def bite(self):\n",
    "        print(\"i am a dog and I can bite\")"
   ]
  },
  {
   "cell_type": "code",
   "execution_count": 34,
   "id": "ee1bfc88",
   "metadata": {},
   "outputs": [],
   "source": [
    "class Cat(Animal):\n",
    "    def __init__(self,name):\n",
    "        super().__init__(\"cat\",\"meow\")\n",
    "        self.name = name\n",
    "#         self.species = \"lion\"\n",
    "#         self.sound = \"bark\"\n",
    "        \n",
    "    def purr(self):\n",
    "        print(\"I am a cat and I can purr\")\n",
    "    def make_sound(self):\n",
    "        a = super().make_sound()\n",
    "        b = f\"The name is {self.name}\"  \n",
    "        return f\"{a}\\n{b}\"\n",
    "        "
   ]
  },
  {
   "cell_type": "code",
   "execution_count": 14,
   "id": "54869d8d",
   "metadata": {},
   "outputs": [],
   "source": [
    "s = Dog(\"juli\",\"bowbow\")"
   ]
  },
  {
   "cell_type": "code",
   "execution_count": 68,
   "id": "d40e8631",
   "metadata": {},
   "outputs": [
    {
     "data": {
      "text/plain": [
       "'bowbow'"
      ]
     },
     "execution_count": 68,
     "metadata": {},
     "output_type": "execute_result"
    }
   ],
   "source": [
    "s.sound"
   ]
  },
  {
   "cell_type": "code",
   "execution_count": 69,
   "id": "93f9d42e",
   "metadata": {},
   "outputs": [
    {
     "data": {
      "text/plain": [
       "'juli'"
      ]
     },
     "execution_count": 69,
     "metadata": {},
     "output_type": "execute_result"
    }
   ],
   "source": [
    "s.species"
   ]
  },
  {
   "cell_type": "code",
   "execution_count": 70,
   "id": "3149654e",
   "metadata": {},
   "outputs": [
    {
     "data": {
      "text/plain": [
       "' the sound is bowbow and species is juli'"
      ]
     },
     "execution_count": 70,
     "metadata": {},
     "output_type": "execute_result"
    }
   ],
   "source": [
    "s.make_sound()"
   ]
  },
  {
   "cell_type": "code",
   "execution_count": 71,
   "id": "ad1e9792",
   "metadata": {},
   "outputs": [
    {
     "name": "stdout",
     "output_type": "stream",
     "text": [
      "i am a dog and I can bite\n"
     ]
    }
   ],
   "source": [
    "s.bite()"
   ]
  },
  {
   "cell_type": "code",
   "execution_count": 72,
   "id": "e648380c",
   "metadata": {},
   "outputs": [],
   "source": [
    "m = Cat(\"billi\")"
   ]
  },
  {
   "cell_type": "code",
   "execution_count": 73,
   "id": "079302b3",
   "metadata": {},
   "outputs": [
    {
     "data": {
      "text/plain": [
       "'billi'"
      ]
     },
     "execution_count": 73,
     "metadata": {},
     "output_type": "execute_result"
    }
   ],
   "source": [
    " m.name"
   ]
  },
  {
   "cell_type": "code",
   "execution_count": 74,
   "id": "216429e9",
   "metadata": {},
   "outputs": [
    {
     "name": "stdout",
     "output_type": "stream",
     "text": [
      "I am a cat and I can purr\n"
     ]
    }
   ],
   "source": [
    "m.purr()"
   ]
  },
  {
   "cell_type": "code",
   "execution_count": 75,
   "id": "928ac76b",
   "metadata": {},
   "outputs": [
    {
     "data": {
      "text/plain": [
       "' the sound is meow and species is cat'"
      ]
     },
     "execution_count": 75,
     "metadata": {},
     "output_type": "execute_result"
    }
   ],
   "source": [
    "m.make_sound() # inherting from animal class, make_sound()"
   ]
  },
  {
   "cell_type": "code",
   "execution_count": 77,
   "id": "800b145b",
   "metadata": {},
   "outputs": [],
   "source": [
    "cat1 = Cat(\"bubbles\")"
   ]
  },
  {
   "cell_type": "code",
   "execution_count": 78,
   "id": "45981b50",
   "metadata": {},
   "outputs": [
    {
     "data": {
      "text/plain": [
       "' the sound is meow and species is cat'"
      ]
     },
     "execution_count": 78,
     "metadata": {},
     "output_type": "execute_result"
    }
   ],
   "source": [
    "cat1.make_sound()"
   ]
  },
  {
   "cell_type": "code",
   "execution_count": 79,
   "id": "88befb33",
   "metadata": {},
   "outputs": [],
   "source": [
    "cat2 = Cat(\"killi\")"
   ]
  },
  {
   "cell_type": "code",
   "execution_count": 80,
   "id": "cb2b88df",
   "metadata": {},
   "outputs": [
    {
     "data": {
      "text/plain": [
       "' the sound is meow and species is cat'"
      ]
     },
     "execution_count": 80,
     "metadata": {},
     "output_type": "execute_result"
    }
   ],
   "source": [
    "cat2.make_sound()"
   ]
  },
  {
   "cell_type": "code",
   "execution_count": 81,
   "id": "6ce9e456",
   "metadata": {},
   "outputs": [],
   "source": [
    "animal = Animal(\"roar\",\"lion\")"
   ]
  },
  {
   "cell_type": "code",
   "execution_count": 82,
   "id": "fdfab75d",
   "metadata": {},
   "outputs": [
    {
     "data": {
      "text/plain": [
       "' the sound is lion and species is roar'"
      ]
     },
     "execution_count": 82,
     "metadata": {},
     "output_type": "execute_result"
    }
   ],
   "source": [
    "animal.make_sound()"
   ]
  },
  {
   "cell_type": "code",
   "execution_count": 83,
   "id": "fe375ff4",
   "metadata": {},
   "outputs": [
    {
     "ename": "AttributeError",
     "evalue": "'Animal' object has no attribute 'purr'",
     "output_type": "error",
     "traceback": [
      "\u001b[1;31m---------------------------------------------------------------------------\u001b[0m",
      "\u001b[1;31mAttributeError\u001b[0m                            Traceback (most recent call last)",
      "Cell \u001b[1;32mIn[83], line 1\u001b[0m\n\u001b[1;32m----> 1\u001b[0m animal\u001b[38;5;241m.\u001b[39mpurr()\n",
      "\u001b[1;31mAttributeError\u001b[0m: 'Animal' object has no attribute 'purr'"
     ]
    }
   ],
   "source": [
    "animal.purr()"
   ]
  },
  {
   "cell_type": "code",
   "execution_count": 35,
   "id": "b0632291",
   "metadata": {},
   "outputs": [],
   "source": [
    "cat = Cat(\"pigeon\")"
   ]
  },
  {
   "cell_type": "code",
   "execution_count": 36,
   "id": "27608b4a",
   "metadata": {},
   "outputs": [
    {
     "data": {
      "text/plain": [
       "' the sound is meow and species is cat\\nThe name is pigeon'"
      ]
     },
     "execution_count": 36,
     "metadata": {},
     "output_type": "execute_result"
    }
   ],
   "source": [
    "cat.make_sound()"
   ]
  },
  {
   "cell_type": "code",
   "execution_count": 85,
   "id": "ec5817a7",
   "metadata": {},
   "outputs": [
    {
     "data": {
      "text/plain": [
       "' the sound is meow and species is cat'"
      ]
     },
     "execution_count": 85,
     "metadata": {},
     "output_type": "execute_result"
    }
   ],
   "source": [
    "# cat.make_sound() old"
   ]
  },
  {
   "cell_type": "markdown",
   "id": "3353a946",
   "metadata": {},
   "source": [
    "## Complex class\n"
   ]
  },
  {
   "cell_type": "code",
   "execution_count": 84,
   "id": "551dead9",
   "metadata": {},
   "outputs": [],
   "source": [
    " c1 = complex(3,5)"
   ]
  },
  {
   "cell_type": "code",
   "execution_count": 85,
   "id": "b67de2ec",
   "metadata": {},
   "outputs": [
    {
     "data": {
      "text/plain": [
       "(3+5j)"
      ]
     },
     "execution_count": 85,
     "metadata": {},
     "output_type": "execute_result"
    }
   ],
   "source": [
    "c1"
   ]
  },
  {
   "cell_type": "code",
   "execution_count": 88,
   "id": "cb7d2559",
   "metadata": {},
   "outputs": [],
   "source": [
    "c2=complex(0,5)"
   ]
  },
  {
   "cell_type": "code",
   "execution_count": 89,
   "id": "6f71b77a",
   "metadata": {},
   "outputs": [
    {
     "name": "stdout",
     "output_type": "stream",
     "text": [
      "5j\n"
     ]
    }
   ],
   "source": [
    "print(c2)"
   ]
  },
  {
   "cell_type": "code",
   "execution_count": 90,
   "id": "0b20c9ec",
   "metadata": {},
   "outputs": [],
   "source": [
    "c3 = complex(3,-5)"
   ]
  },
  {
   "cell_type": "code",
   "execution_count": 91,
   "id": "421fec05",
   "metadata": {},
   "outputs": [
    {
     "name": "stdout",
     "output_type": "stream",
     "text": [
      "(3-5j)\n"
     ]
    }
   ],
   "source": [
    "print(c3)"
   ]
  },
  {
   "cell_type": "code",
   "execution_count": 121,
   "id": "869e9dc8",
   "metadata": {},
   "outputs": [],
   "source": [
    "c4 = c1*c2"
   ]
  },
  {
   "cell_type": "code",
   "execution_count": 122,
   "id": "35bbbbf2",
   "metadata": {},
   "outputs": [
    {
     "name": "stdout",
     "output_type": "stream",
     "text": [
      "(-25+15j)\n"
     ]
    }
   ],
   "source": [
    "print(c4)"
   ]
  },
  {
   "cell_type": "code",
   "execution_count": 123,
   "id": "35526408",
   "metadata": {},
   "outputs": [],
   "source": [
    "c5  = c1 +c2"
   ]
  },
  {
   "cell_type": "code",
   "execution_count": 124,
   "id": "0883c2c4",
   "metadata": {},
   "outputs": [
    {
     "name": "stdout",
     "output_type": "stream",
     "text": [
      "(3+10j)\n"
     ]
    }
   ],
   "source": [
    "print(c5)"
   ]
  },
  {
   "cell_type": "code",
   "execution_count": 278,
   "id": "27daf070",
   "metadata": {},
   "outputs": [],
   "source": [
    "c6 = complex(6,-7)"
   ]
  },
  {
   "cell_type": "code",
   "execution_count": 279,
   "id": "d33d52d3",
   "metadata": {},
   "outputs": [],
   "source": [
    "c7 = (c1 * c6)"
   ]
  },
  {
   "cell_type": "code",
   "execution_count": 280,
   "id": "33c01b93",
   "metadata": {},
   "outputs": [
    {
     "name": "stdout",
     "output_type": "stream",
     "text": [
      "(53+9j)\n"
     ]
    }
   ],
   "source": [
    "print(c7)"
   ]
  },
  {
   "cell_type": "code",
   "execution_count": 281,
   "id": "61ff247c",
   "metadata": {},
   "outputs": [],
   "source": [
    "c8 = c1 / c6"
   ]
  },
  {
   "cell_type": "code",
   "execution_count": 282,
   "id": "3eb49d52",
   "metadata": {},
   "outputs": [
    {
     "name": "stdout",
     "output_type": "stream",
     "text": [
      "(-0.20000000000000004+0.6j)\n"
     ]
    }
   ],
   "source": [
    "print(c8)"
   ]
  },
  {
   "cell_type": "code",
   "execution_count": 83,
   "id": "4edb2f7d",
   "metadata": {},
   "outputs": [],
   "source": [
    "class ComplexNumber():\n",
    "    def __init__(self,real,imag=0):\n",
    "        self.real = real\n",
    "        self.imag = imag\n",
    "    def __str__(self):\n",
    "        if self.real == 0:\n",
    "            return (f\"{self.imag}i\")\n",
    "        if self.imag < 0:\n",
    "            return(f\"({self.real}{self.imag}i)\")\n",
    "        return ( f\"({self.real} + {self.imag}i)\")\n",
    "    def __add__(self,other):\n",
    "        new_real = self.real + other.real\n",
    "        new_imag = self.imag + other.imag\n",
    "        return ComplexNumber(new_real,new_imag)\n",
    "    def __sub__(self,other):\n",
    "        new_real = self.real - other.real\n",
    "        new_imag = self.imag - other.imag\n",
    "        return ComplexNumber(new_real,new_imag)\n",
    "    def __mul__(self,other):\n",
    "        new_real = self.real * other.real - self.imag * other.imag\n",
    "        new_imag = self.real * other.imag +  other.real * self.imag\n",
    "        return ComplexNumber(new_real,new_imag)\n",
    "#     def __truediv__(self, other):\n",
    "#         denominator = other.real**2 + other.imag**2\n",
    "#         new_real = (self.real * other.real + self.imag * other.imag) / denominator\n",
    "#         new_imag = (self.imag * other.real - self.real * other.imag) / denominator\n",
    "#         return ComplexNumber(new_real, new_imag)\n",
    "    def __truediv__(self,other):\n",
    "        denominator = other.real**2 + other.imag**2\n",
    "        cm = self.__mul__(ComplexNumber(other.real,other.imag * -1))\n",
    "        return ComplexNumber(cm.real/denominator,cm.imag/denominator)\n",
    "#         new_real = (self.real * other.real + self.imag * other.imag)/denominator\n",
    "#         new_imag = (self.real * other.imag -  other.real * other.imag)/denominator\n",
    "#         return ComplexNumber(new_real,new_imag)\n",
    "    def __eq__(self,other):\n",
    "        return (self.real == self.imag) and (self.imag == other.imag)\n",
    "    def __ne__(self,other):\n",
    "        return not (self.real == self.imag) and (self.imag == other.imag)\n",
    "    def conjugate(self):\n",
    "        return ComplexNumber(self.real,self.imag*-1)\n",
    "        \n",
    "\n"
   ]
  },
  {
   "cell_type": "code",
   "execution_count": 2,
   "id": "ddef3f9b",
   "metadata": {},
   "outputs": [],
   "source": [
    "a = ComplexNumber(3,5)"
   ]
  },
  {
   "cell_type": "code",
   "execution_count": 3,
   "id": "337a521e",
   "metadata": {},
   "outputs": [
    {
     "name": "stdout",
     "output_type": "stream",
     "text": [
      "(3 + 5i)\n"
     ]
    }
   ],
   "source": [
    "print(a)"
   ]
  },
  {
   "cell_type": "code",
   "execution_count": 4,
   "id": "bafe0f58",
   "metadata": {},
   "outputs": [],
   "source": [
    "b = ComplexNumber(6,-7)"
   ]
  },
  {
   "cell_type": "code",
   "execution_count": 5,
   "id": "68f4e5c7",
   "metadata": {},
   "outputs": [
    {
     "name": "stdout",
     "output_type": "stream",
     "text": [
      "(6-7i)\n"
     ]
    }
   ],
   "source": [
    "print(b)"
   ]
  },
  {
   "cell_type": "code",
   "execution_count": 451,
   "id": "9a00a597",
   "metadata": {},
   "outputs": [],
   "source": [
    "c = ComplexNumber(0,8)"
   ]
  },
  {
   "cell_type": "code",
   "execution_count": 452,
   "id": "e98bfe19",
   "metadata": {},
   "outputs": [
    {
     "name": "stdout",
     "output_type": "stream",
     "text": [
      "8i\n"
     ]
    }
   ],
   "source": [
    "print(c)"
   ]
  },
  {
   "cell_type": "code",
   "execution_count": 453,
   "id": "0c7d1b83",
   "metadata": {},
   "outputs": [],
   "source": [
    "d = ComplexNumber(4,-5)"
   ]
  },
  {
   "cell_type": "code",
   "execution_count": 454,
   "id": "3c779331",
   "metadata": {},
   "outputs": [
    {
     "name": "stdout",
     "output_type": "stream",
     "text": [
      "(4-5i)\n"
     ]
    }
   ],
   "source": [
    "print(d)"
   ]
  },
  {
   "cell_type": "code",
   "execution_count": 6,
   "id": "41de7bbf",
   "metadata": {},
   "outputs": [
    {
     "name": "stdout",
     "output_type": "stream",
     "text": [
      "(9-2i)\n"
     ]
    }
   ],
   "source": [
    "print(a+b)"
   ]
  },
  {
   "cell_type": "code",
   "execution_count": 7,
   "id": "1fddc212",
   "metadata": {},
   "outputs": [
    {
     "name": "stdout",
     "output_type": "stream",
     "text": [
      "(-3 + 12i)\n"
     ]
    }
   ],
   "source": [
    "print(a-b)"
   ]
  },
  {
   "cell_type": "code",
   "execution_count": 8,
   "id": "c82ab28c",
   "metadata": {},
   "outputs": [
    {
     "name": "stdout",
     "output_type": "stream",
     "text": [
      "(53 + 9i)\n"
     ]
    }
   ],
   "source": [
    "print(a*b)"
   ]
  },
  {
   "cell_type": "code",
   "execution_count": 9,
   "id": "b6fc1678",
   "metadata": {},
   "outputs": [
    {
     "name": "stdout",
     "output_type": "stream",
     "text": [
      "(-0.2 + 0.6i)\n"
     ]
    }
   ],
   "source": [
    "print(a/b)"
   ]
  },
  {
   "cell_type": "code",
   "execution_count": 10,
   "id": "6553e6fc",
   "metadata": {},
   "outputs": [
    {
     "name": "stdout",
     "output_type": "stream",
     "text": [
      "False\n"
     ]
    }
   ],
   "source": [
    "print(a==b)"
   ]
  },
  {
   "cell_type": "code",
   "execution_count": 11,
   "id": "cc8dbbb0",
   "metadata": {},
   "outputs": [
    {
     "name": "stdout",
     "output_type": "stream",
     "text": [
      "False\n"
     ]
    }
   ],
   "source": [
    "print(a!=b)"
   ]
  },
  {
   "cell_type": "code",
   "execution_count": 12,
   "id": "dbed1fa8",
   "metadata": {},
   "outputs": [
    {
     "name": "stdout",
     "output_type": "stream",
     "text": [
      "True\n"
     ]
    }
   ],
   "source": [
    "print(a!=a)"
   ]
  },
  {
   "cell_type": "code",
   "execution_count": 13,
   "id": "b20cc928",
   "metadata": {},
   "outputs": [
    {
     "name": "stdout",
     "output_type": "stream",
     "text": [
      "(3-5i)\n"
     ]
    }
   ],
   "source": [
    "print(a.conjugate())"
   ]
  },
  {
   "cell_type": "code",
   "execution_count": 84,
   "id": "93b7332d",
   "metadata": {},
   "outputs": [],
   "source": [
    "k = ComplexNumber(2,3)"
   ]
  },
  {
   "cell_type": "code",
   "execution_count": 85,
   "id": "ab0e0636",
   "metadata": {},
   "outputs": [],
   "source": [
    "l = ComplexNumber(1,-2)"
   ]
  },
  {
   "cell_type": "code",
   "execution_count": 86,
   "id": "950b0686",
   "metadata": {},
   "outputs": [
    {
     "name": "stdout",
     "output_type": "stream",
     "text": [
      "(8-1i)\n"
     ]
    }
   ],
   "source": [
    "print(k*l)"
   ]
  },
  {
   "cell_type": "code",
   "execution_count": null,
   "id": "37c5361c",
   "metadata": {},
   "outputs": [],
   "source": []
  },
  {
   "cell_type": "markdown",
   "id": "0323ec3f",
   "metadata": {},
   "source": [
    "## Advance inheritance"
   ]
  },
  {
   "cell_type": "code",
   "execution_count": null,
   "id": "17cee364",
   "metadata": {},
   "outputs": [],
   "source": []
  },
  {
   "cell_type": "code",
   "execution_count": 46,
   "id": "25bdc13f",
   "metadata": {},
   "outputs": [],
   "source": [
    "class Parent:\n",
    "    def __init__(self):\n",
    "        self.a = 6\n",
    "        self.b = 5\n",
    "    def _givefee(self): # protected\n",
    "        print(\"take my money and pay\")\n",
    "    def __eat(self): # private\n",
    "        print(\"I am eating\")\n",
    "    "
   ]
  },
  {
   "cell_type": "code",
   "execution_count": 47,
   "id": "43c1eda6",
   "metadata": {},
   "outputs": [],
   "source": [
    "class Child(Parent):\n",
    "    def __init__(self):\n",
    "        self.c = 7\n",
    "        self.d = 8\n",
    "    def givefee(self): # can access only in the child class\n",
    "        super()._givefee()\n",
    "    def eat(self): #can't access the private \n",
    "        super().__eat()\n",
    "    \n",
    "        "
   ]
  },
  {
   "cell_type": "code",
   "execution_count": 48,
   "id": "13a6d9d6",
   "metadata": {},
   "outputs": [],
   "source": [
    "c = Child()"
   ]
  },
  {
   "cell_type": "code",
   "execution_count": 49,
   "id": "f73527a7",
   "metadata": {},
   "outputs": [
    {
     "name": "stdout",
     "output_type": "stream",
     "text": [
      "take my money and pay\n"
     ]
    }
   ],
   "source": [
    "c.givefee()"
   ]
  },
  {
   "cell_type": "code",
   "execution_count": 50,
   "id": "1431fcd7",
   "metadata": {},
   "outputs": [
    {
     "ename": "AttributeError",
     "evalue": "'super' object has no attribute '_Child__eat'",
     "output_type": "error",
     "traceback": [
      "\u001b[1;31m---------------------------------------------------------------------------\u001b[0m",
      "\u001b[1;31mAttributeError\u001b[0m                            Traceback (most recent call last)",
      "Cell \u001b[1;32mIn[50], line 1\u001b[0m\n\u001b[1;32m----> 1\u001b[0m c\u001b[38;5;241m.\u001b[39meat()\n",
      "Cell \u001b[1;32mIn[47], line 8\u001b[0m, in \u001b[0;36mChild.eat\u001b[1;34m(self)\u001b[0m\n\u001b[0;32m      7\u001b[0m \u001b[38;5;28;01mdef\u001b[39;00m \u001b[38;5;21meat\u001b[39m(\u001b[38;5;28mself\u001b[39m):\n\u001b[1;32m----> 8\u001b[0m     \u001b[38;5;28msuper\u001b[39m()\u001b[38;5;241m.\u001b[39m__eat()\n",
      "\u001b[1;31mAttributeError\u001b[0m: 'super' object has no attribute '_Child__eat'"
     ]
    }
   ],
   "source": [
    "c.eat()"
   ]
  },
  {
   "cell_type": "markdown",
   "id": "62fa9972",
   "metadata": {},
   "source": [
    "## multiple inheritance"
   ]
  },
  {
   "cell_type": "code",
   "execution_count": 60,
   "id": "3501e0e9",
   "metadata": {},
   "outputs": [],
   "source": [
    "class Parent1:\n",
    "    def __init__(self):\n",
    "        self.a = 6\n",
    "        self.b = 5\n",
    "    def givefee(self):\n",
    "        print(\"p1 take my money and pay\")\n",
    "    def eat(self): \n",
    "        print(\"p1 I am eating\")"
   ]
  },
  {
   "cell_type": "code",
   "execution_count": 61,
   "id": "281b36d9",
   "metadata": {},
   "outputs": [],
   "source": [
    "class Parent2:\n",
    "    def __init__(self):\n",
    "        self.a = 6\n",
    "        self.b = 5\n",
    "    def givefee(self):\n",
    "        print(\"p2 take my money and pay\")\n",
    "    def eat(self): \n",
    "        print(\"p2 I am eating\")"
   ]
  },
  {
   "cell_type": "code",
   "execution_count": 62,
   "id": "384e9bea",
   "metadata": {},
   "outputs": [],
   "source": [
    "class Child(Parent1,Parent2):\n",
    "    def __init__(self):\n",
    "        self.c = 7\n",
    "        self.d = 8\n",
    "    def givefee(self):\n",
    "        super().givefee()\n",
    "        \n",
    "        "
   ]
  },
  {
   "cell_type": "code",
   "execution_count": 63,
   "id": "277f2f16",
   "metadata": {},
   "outputs": [],
   "source": [
    "m = Child()"
   ]
  },
  {
   "cell_type": "code",
   "execution_count": 64,
   "id": "befa72a3",
   "metadata": {},
   "outputs": [
    {
     "name": "stdout",
     "output_type": "stream",
     "text": [
      "p1 take my money and pay\n"
     ]
    }
   ],
   "source": [
    "m.givefee()"
   ]
  },
  {
   "cell_type": "markdown",
   "id": "61bba900",
   "metadata": {},
   "source": [
    "## multilevel"
   ]
  },
  {
   "cell_type": "code",
   "execution_count": 70,
   "id": "8123f671",
   "metadata": {},
   "outputs": [],
   "source": [
    "class Grandparent():\n",
    "    def __init__(self):\n",
    "        self.name = \"GP\"\n",
    "    def money(self):\n",
    "        print(\"G take my money\")\n",
    "class Parent(Grandparent):\n",
    "    def __init__(self):\n",
    "        self.name = \"GP\"\n",
    "#     def money(self):\n",
    "#         print(\"P take my money\")\n",
    "class Child(Parent):\n",
    "    def __init__(self):\n",
    "        self.name = \"GP\"\n",
    "   "
   ]
  },
  {
   "cell_type": "code",
   "execution_count": 71,
   "id": "70812dd6",
   "metadata": {},
   "outputs": [],
   "source": [
    "n = Child()"
   ]
  },
  {
   "cell_type": "code",
   "execution_count": 72,
   "id": "b090d12c",
   "metadata": {},
   "outputs": [
    {
     "name": "stdout",
     "output_type": "stream",
     "text": [
      "G take my money\n"
     ]
    }
   ],
   "source": [
    "n.money()"
   ]
  },
  {
   "cell_type": "code",
   "execution_count": 73,
   "id": "b2cc44c1",
   "metadata": {},
   "outputs": [
    {
     "data": {
      "text/plain": [
       "'GP'"
      ]
     },
     "execution_count": 73,
     "metadata": {},
     "output_type": "execute_result"
    }
   ],
   "source": [
    "n.name"
   ]
  },
  {
   "cell_type": "code",
   "execution_count": 76,
   "id": "85d30529",
   "metadata": {},
   "outputs": [
    {
     "name": "stdout",
     "output_type": "stream",
     "text": [
      "C\n"
     ]
    }
   ],
   "source": [
    "class A:\n",
    "    def common(self):\n",
    "        return \"A\"\n",
    "\n",
    "class B(A):\n",
    "    pass\n",
    "\n",
    "class C(A):\n",
    "    def common(self):\n",
    "        return \"C\"\n",
    "    \n",
    "\n",
    "class D(B, C):\n",
    "    pass\n",
    "\n",
    "obj = D()\n",
    "print(obj.common())"
   ]
  },
  {
   "cell_type": "code",
   "execution_count": 77,
   "id": "d91623b7",
   "metadata": {},
   "outputs": [
    {
     "name": "stdout",
     "output_type": "stream",
     "text": [
      "XZ\n"
     ]
    }
   ],
   "source": [
    "class X:\n",
    "    def common(self):\n",
    "        return \"X\"\n",
    "\n",
    "class Y:\n",
    "    def common(self):\n",
    "        return \"Y\"\n",
    "\n",
    "class Z(X, Y):\n",
    "    def common(self):\n",
    "        return super().common() + \"Z\"\n",
    "\n",
    "obj = Z()\n",
    "print(obj.common())"
   ]
  },
  {
   "cell_type": "markdown",
   "id": "b75f731d",
   "metadata": {},
   "source": [
    "## MRO --> Method Resolution Order"
   ]
  },
  {
   "cell_type": "code",
   "execution_count": 78,
   "id": "8f0f938b",
   "metadata": {},
   "outputs": [
    {
     "name": "stdout",
     "output_type": "stream",
     "text": [
      "B\n"
     ]
    }
   ],
   "source": [
    "class A:\n",
    "    def common(self):\n",
    "        return \"A\"\n",
    "\n",
    "class B(A):\n",
    "    def common(self):\n",
    "        return \"B\"\n",
    "\n",
    "class C(A):\n",
    "    pass\n",
    "\n",
    "class D(B, C):\n",
    "    pass\n",
    "\n",
    "obj = D()\n",
    "print(obj.common())"
   ]
  },
  {
   "cell_type": "code",
   "execution_count": 79,
   "id": "5128043d",
   "metadata": {},
   "outputs": [
    {
     "name": "stdout",
     "output_type": "stream",
     "text": [
      "CD\n"
     ]
    }
   ],
   "source": [
    "class A:\n",
    "    def common(self):\n",
    "        return \"A\"\n",
    "\n",
    "class B(A):\n",
    "    def common(self):\n",
    "        retur super().common()\n",
    "        return \"B\"\n",
    "\n",
    "class C(A):\n",
    "    def common(self):\n",
    "        return \"C\"\n",
    "\n",
    "class D(B, C):\n",
    "    def common(self):\n",
    "        return super().common() + \"D\"\n",
    "\n",
    "obj = D()\n",
    "print(obj.common())"
   ]
  },
  {
   "cell_type": "code",
   "execution_count": 80,
   "id": "164bcc9f",
   "metadata": {},
   "outputs": [
    {
     "name": "stdout",
     "output_type": "stream",
     "text": [
      "BD\n"
     ]
    }
   ],
   "source": [
    "class A:\n",
    "    def common(self):\n",
    "        return \"A\"\n",
    "\n",
    "class B(A):\n",
    "    def common(self):\n",
    "        super().common()\n",
    "        return \"B\"\n",
    "\n",
    "class C(A):\n",
    "    def common(self):\n",
    "        return \"C\"\n",
    "\n",
    "class D(B, C):\n",
    "    def common(self):\n",
    "        return super().common() + \"D\"\n",
    "\n",
    "obj = D()\n",
    "print(obj.common())"
   ]
  },
  {
   "cell_type": "code",
   "execution_count": 82,
   "id": "c4433341",
   "metadata": {},
   "outputs": [
    {
     "name": "stdout",
     "output_type": "stream",
     "text": [
      "AD\n"
     ]
    }
   ],
   "source": [
    "class A:\n",
    "    def common(self):\n",
    "        return \"A\"\n",
    "\n",
    "class B(A):\n",
    "    def common(self):\n",
    "        return super().common()\n",
    "       \n",
    "\n",
    "class C(A):\n",
    "       pass \n",
    "\n",
    "class D(B, C):\n",
    "    def common(self):\n",
    "        return super().common() + \"D\"\n",
    "\n",
    "obj = D()\n",
    "print(obj.common())"
   ]
  },
  {
   "cell_type": "code",
   "execution_count": 252,
   "id": "2cefcbe2",
   "metadata": {},
   "outputs": [
    {
     "data": {
      "text/plain": [
       "'\\nDesign a Python class named `BankAccount` to represent bank accounts.\\n\\nTheory:\\nA bank account typically includes attributes such as account number, balance, and account holder name.\\nThe class should handle operations such as deposit, withdrawal, and transfer of funds between accounts.\\n\\nOperations:\\n1. Deposit: Add funds to the account\\n2. Withdrawal: Subtract funds from the account\\n3. Transfer: Transfer funds from one account to another\\n\\nTest Cases:\\nTest Case 1:\\nacc1 = BankAccount(\"John Doe\", 1000)\\nacc2 = BankAccount(\"Jane Smith\", 2000)\\nassert acc1.balance == 1000\\nassert acc2.balance == 2000\\nacc1.deposit(500)\\nacc2.withdraw(100)\\nacc1.transfer(acc2, 200)\\nassert acc1.balance == 1300\\nassert acc2.balance == 2300\\n\\nTest Case 2:\\nacc3 = BankAccount(\"Alice Johnson\", 500)\\nacc4 = BankAccount(\"Bob Brown\", 1500)\\nassert acc3.balance == 500\\nassert acc4.balance == 1500\\nacc3.deposit(100)\\nacc4.withdraw(200)\\nacc3.transfer(acc4, 300)\\nassert acc3.balance == 400\\nassert acc4.balance == 1800\\n'"
      ]
     },
     "execution_count": 252,
     "metadata": {},
     "output_type": "execute_result"
    }
   ],
   "source": [
    "# Question 0: Class for Bank Account\n",
    "\"\"\"\n",
    "Design a Python class named `BankAccount` to represent bank accounts.\n",
    "\n",
    "Theory:\n",
    "A bank account typically includes attributes such as account number, balance, and account holder name.\n",
    "The class should handle operations such as deposit, withdrawal, and transfer of funds between accounts.\n",
    "\n",
    "Operations:\n",
    "1. Deposit: Add funds to the account\n",
    "2. Withdrawal: Subtract funds from the account\n",
    "3. Transfer: Transfer funds from one account to another\n",
    "\n",
    "Test Cases:\n",
    "Test Case 1:\n",
    "acc1 = BankAccount(\"John Doe\", 1000)\n",
    "acc2 = BankAccount(\"Jane Smith\", 2000)\n",
    "assert acc1.balance == 1000\n",
    "assert acc2.balance == 2000\n",
    "acc1.deposit(500)\n",
    "acc2.withdraw(100)\n",
    "acc1.transfer(acc2, 200)\n",
    "assert acc1.balance == 1300\n",
    "assert acc2.balance == 2300\n",
    "\n",
    "Test Case 2:\n",
    "acc3 = BankAccount(\"Alice Johnson\", 500)\n",
    "acc4 = BankAccount(\"Bob Brown\", 1500)\n",
    "assert acc3.balance == 500\n",
    "assert acc4.balance == 1500\n",
    "acc3.deposit(100)\n",
    "acc4.withdraw(200)\n",
    "acc3.transfer(acc4, 300)\n",
    "assert acc3.balance == 400\n",
    "assert acc4.balance == 1800\n",
    "\"\"\""
   ]
  },
  {
   "cell_type": "code",
   "execution_count": 238,
   "id": "10a644af",
   "metadata": {},
   "outputs": [],
   "source": [
    "class BankAccount:\n",
    "    def __init__(self, account_holder, balance):\n",
    "        self.account_holder = account_holder\n",
    "        self.balance = balance\n",
    "        \n",
    "    def deposit(self, amount):\n",
    "        if amount > 0:\n",
    "            self.balance += amount\n",
    "        else:\n",
    "            print(\"Deposit amount must be greater than zero.\")\n",
    "\n",
    "    def withdraw(self, amount):\n",
    "        if amount > 0 and amount <= self.balance:\n",
    "            self.balance -= amount\n",
    "        else:\n",
    "            print(\"Withdrawal amount must be greater than zero and less than or equal to balance.\")\n",
    "            \n",
    "    def transfer(self, recipient_account, amount):\n",
    "        if amount > 0 and amount <= self.balance:\n",
    "            self.withdraw(amount)  # Withdraw from sender account\n",
    "            recipient_account.deposit(amount)  # Deposit to recipient account\n",
    "        else:\n",
    "            print(\"Transfer amount must be greater than zero and less than or equal to balance.\")"
   ]
  },
  {
   "cell_type": "code",
   "execution_count": 239,
   "id": "697742a7",
   "metadata": {},
   "outputs": [],
   "source": [
    "# Test Case 1\n",
    "acc1 = BankAccount(\"John Doe\", 1000)\n"
   ]
  },
  {
   "cell_type": "code",
   "execution_count": 240,
   "id": "ffc78571",
   "metadata": {},
   "outputs": [],
   "source": [
    "acc2 = BankAccount(\"Jane Smith\", 2000)"
   ]
  },
  {
   "cell_type": "code",
   "execution_count": 241,
   "id": "b2330b23",
   "metadata": {},
   "outputs": [],
   "source": [
    "assert acc1.balance == 1000\n"
   ]
  },
  {
   "cell_type": "code",
   "execution_count": 242,
   "id": "3f40ac2f",
   "metadata": {},
   "outputs": [],
   "source": [
    "assert acc2.balance == 2000"
   ]
  },
  {
   "cell_type": "code",
   "execution_count": 243,
   "id": "3ff7d863",
   "metadata": {},
   "outputs": [],
   "source": [
    "acc1.deposit(500)\n"
   ]
  },
  {
   "cell_type": "code",
   "execution_count": 244,
   "id": "086f3777",
   "metadata": {},
   "outputs": [],
   "source": [
    "acc2.withdraw(100)"
   ]
  },
  {
   "cell_type": "code",
   "execution_count": 245,
   "id": "7f73a714",
   "metadata": {},
   "outputs": [],
   "source": [
    "acc1.transfer(acc2, 200)"
   ]
  },
  {
   "cell_type": "code",
   "execution_count": 246,
   "id": "7aae619b",
   "metadata": {},
   "outputs": [],
   "source": [
    "assert acc1.balance == 1300\n"
   ]
  },
  {
   "cell_type": "code",
   "execution_count": 251,
   "id": "562317e1",
   "metadata": {},
   "outputs": [],
   "source": [
    "assert acc2.balance == 2100"
   ]
  },
  {
   "cell_type": "code",
   "execution_count": 250,
   "id": "7ebf7cf7",
   "metadata": {},
   "outputs": [
    {
     "data": {
      "text/plain": [
       "2100"
      ]
     },
     "execution_count": 250,
     "metadata": {},
     "output_type": "execute_result"
    }
   ],
   "source": [
    "acc2.balance"
   ]
  },
  {
   "cell_type": "code",
   "execution_count": 254,
   "id": "b2f2ec0a",
   "metadata": {},
   "outputs": [],
   "source": [
    "# # Test Case 2\n",
    "acc3 = BankAccount(\"Alice Johnson\", 500)\n",
    "acc4 = BankAccount(\"Bob Brown\", 1500)\n"
   ]
  },
  {
   "cell_type": "code",
   "execution_count": 255,
   "id": "47d36612",
   "metadata": {},
   "outputs": [],
   "source": [
    "assert acc3.balance == 500\n",
    "assert acc4.balance == 1500"
   ]
  },
  {
   "cell_type": "code",
   "execution_count": 256,
   "id": "5021d391",
   "metadata": {},
   "outputs": [],
   "source": [
    "acc3.deposit(100)\n",
    "acc4.withdraw(200)"
   ]
  },
  {
   "cell_type": "code",
   "execution_count": 257,
   "id": "8baa9f22",
   "metadata": {},
   "outputs": [],
   "source": [
    "acc3.transfer(acc4, 300)"
   ]
  },
  {
   "cell_type": "code",
   "execution_count": 258,
   "id": "fc416020",
   "metadata": {},
   "outputs": [
    {
     "ename": "AssertionError",
     "evalue": "",
     "output_type": "error",
     "traceback": [
      "\u001b[1;31m---------------------------------------------------------------------------\u001b[0m",
      "\u001b[1;31mAssertionError\u001b[0m                            Traceback (most recent call last)",
      "Cell \u001b[1;32mIn[258], line 1\u001b[0m\n\u001b[1;32m----> 1\u001b[0m \u001b[38;5;28;01massert\u001b[39;00m acc3\u001b[38;5;241m.\u001b[39mbalance \u001b[38;5;241m==\u001b[39m \u001b[38;5;241m400\u001b[39m\n\u001b[0;32m      2\u001b[0m \u001b[38;5;28;01massert\u001b[39;00m acc4\u001b[38;5;241m.\u001b[39mbalance \u001b[38;5;241m==\u001b[39m \u001b[38;5;241m1800\u001b[39m\n",
      "\u001b[1;31mAssertionError\u001b[0m: "
     ]
    }
   ],
   "source": [
    "assert acc3.balance == 400\n",
    "assert acc4.balance == 1800"
   ]
  },
  {
   "cell_type": "markdown",
   "id": "a22d9274",
   "metadata": {},
   "source": [
    "## Abstraction and Polymorphism "
   ]
  },
  {
   "cell_type": "markdown",
   "id": "2ab67451",
   "metadata": {},
   "source": [
    "  ## Ploymorphism"
   ]
  },
  {
   "cell_type": "markdown",
   "id": "683cb354",
   "metadata": {},
   "source": [
    "1. operator overloading\n",
    "2. Function overloading\n",
    "3. Method overriding "
   ]
  },
  {
   "cell_type": "markdown",
   "id": "bbc56cf4",
   "metadata": {},
   "source": [
    "operator overloading"
   ]
  },
  {
   "cell_type": "code",
   "execution_count": 259,
   "id": "75835ad2",
   "metadata": {},
   "outputs": [
    {
     "data": {
      "text/plain": [
       "3"
      ]
     },
     "execution_count": 259,
     "metadata": {},
     "output_type": "execute_result"
    }
   ],
   "source": [
    "1+2"
   ]
  },
  {
   "cell_type": "code",
   "execution_count": 260,
   "id": "c2cc4a8b",
   "metadata": {},
   "outputs": [
    {
     "data": {
      "text/plain": [
       "'12'"
      ]
     },
     "execution_count": 260,
     "metadata": {},
     "output_type": "execute_result"
    }
   ],
   "source": [
    "\"1\" + \"2\""
   ]
  },
  {
   "cell_type": "code",
   "execution_count": 11,
   "id": "0f3855e9",
   "metadata": {},
   "outputs": [],
   "source": [
    "class ComplexNumber:\n",
    "    def __init__(self,real,imag):\n",
    "        self.real = real  \n",
    "        self.imag = imag\n",
    "    def __add__(self,other):\n",
    "        print(\" I am a plus operator and I do nothing else\")\n",
    "        ans = self.real + self.imag\n",
    "        print(ans)"
   ]
  },
  {
   "cell_type": "code",
   "execution_count": 12,
   "id": "6059d664",
   "metadata": {},
   "outputs": [],
   "source": [
    "m = ComplexNumber(4,3)"
   ]
  },
  {
   "cell_type": "code",
   "execution_count": 13,
   "id": "db302543",
   "metadata": {},
   "outputs": [
    {
     "data": {
      "text/plain": [
       "<__main__.ComplexNumber at 0x2298ae253d0>"
      ]
     },
     "execution_count": 13,
     "metadata": {},
     "output_type": "execute_result"
    }
   ],
   "source": [
    "m"
   ]
  },
  {
   "cell_type": "code",
   "execution_count": 14,
   "id": "b2da2212",
   "metadata": {},
   "outputs": [],
   "source": [
    "a = ComplexNumber(4,5)"
   ]
  },
  {
   "cell_type": "code",
   "execution_count": 15,
   "id": "30ece940",
   "metadata": {},
   "outputs": [
    {
     "name": "stdout",
     "output_type": "stream",
     "text": [
      "<__main__.ComplexNumber object at 0x00000229899B4F10>\n"
     ]
    }
   ],
   "source": [
    "print(a)"
   ]
  },
  {
   "cell_type": "code",
   "execution_count": null,
   "id": "6edb4cd6",
   "metadata": {},
   "outputs": [],
   "source": []
  },
  {
   "cell_type": "code",
   "execution_count": null,
   "id": "e9cfbc51",
   "metadata": {},
   "outputs": [],
   "source": []
  },
  {
   "cell_type": "code",
   "execution_count": null,
   "id": "8e87c706",
   "metadata": {},
   "outputs": [],
   "source": []
  },
  {
   "cell_type": "code",
   "execution_count": null,
   "id": "2b62647a",
   "metadata": {},
   "outputs": [],
   "source": []
  }
 ],
 "metadata": {
  "kernelspec": {
   "display_name": "Python 3 (ipykernel)",
   "language": "python",
   "name": "python3"
  },
  "language_info": {
   "codemirror_mode": {
    "name": "ipython",
    "version": 3
   },
   "file_extension": ".py",
   "mimetype": "text/x-python",
   "name": "python",
   "nbconvert_exporter": "python",
   "pygments_lexer": "ipython3",
   "version": "3.11.5"
  }
 },
 "nbformat": 4,
 "nbformat_minor": 5
}
