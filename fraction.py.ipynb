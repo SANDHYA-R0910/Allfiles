{
 "cells": [
  {
   "cell_type": "code",
   "execution_count": 200,
   "id": "6ef72d9f",
   "metadata": {},
   "outputs": [],
   "source": [
    "class Fraction_main():\n",
    "    def __init__(self,num,den):\n",
    "        self.numerator =  num\n",
    "        self.denomenator = den\n",
    "        print(\"The fraction is created\")\n",
    "    def __str__(self):\n",
    "#         return \"I am automatically getting called when print is called\"\n",
    "          return f\"{self.numerator}/{ self.denomenator}\"\n",
    "        \n",
    "    def __add__(self,other):\n",
    "        new_num = self.numerator * other.denomenator + other.numerator * self.denomenator\n",
    "        new_den = self.denomenator * other.denomenator\n",
    "        return Fraction_main(new_num,new_den).simplify()\n",
    "#         print(self)\n",
    "#         print(other)\n",
    "          #add logic\n",
    "          \n",
    "    def _gcd(self,num,den):\n",
    "        while den:\n",
    "            num,den = den, num%den\n",
    "        return num\n",
    "    def _gcd_2(self,num,den):\n",
    "        gcd = 1\n",
    "        for i in range(2,min(num,den)+1):\n",
    "            if (num%i ==0 and dem%i ==0):\n",
    "                gcd = i\n",
    "        return gcd\n",
    "    def simplify(self):\n",
    "        gcd = self._gcd(self.numerator,self.denomenator)\n",
    "        self.numerator = self.numerator // gcd\n",
    "        self.denomenator =  self.denomenator // gcd\n",
    "        return self\n",
    "    def __sub__(self,other):\n",
    "        new_num = self.numerator * other.denomenator - other.numerator * self.denomenator\n",
    "        new_den = self.denomenator * other.denomenator\n",
    "        return Fraction_main(new_num,new_den).simplify()\n",
    "    \n",
    "    def __mul__(self,other):\n",
    "        new_num = self.numerator * other.numerator \n",
    "        new_den = self.denomenator * other.denomenator\n",
    "        return Fraction_main(new_num,new_den).simplify()\n",
    "    def __truediv__(self,other): # division\n",
    "        new_num = self.numerator *  other.denomenator\n",
    "        new_den = self.denomenator * other.numerator\n",
    "        return Fraction_main(new_num,new_den).simplify()\n",
    "    def __eq__(self,other):\n",
    "        return self.numerator == other.numerator and self.denomenator == other.denomenator\n",
    "    def __gt__(self,other):\n",
    "        return (self.numerator * other.denomenator) > (other.numerator * self.denomenator)\n",
    "    def __lt__(self,other):\n",
    "        return (self.numerator * other.denomenator) < (other.numerator * self.denomenator)\n",
    "    def __ne__(self,other):\n",
    "        return not self == other\n",
    "    "
   ]
  },
  {
   "cell_type": "code",
   "execution_count": 204,
   "id": "63effe57",
   "metadata": {},
   "outputs": [],
   "source": [
    "from fractions import Fraction"
   ]
  },
  {
   "cell_type": "code",
   "execution_count": null,
   "id": "0dce8d8a",
   "metadata": {},
   "outputs": [],
   "source": [
    "Fraction."
   ]
  },
  {
   "cell_type": "code",
   "execution_count": 185,
   "id": "2216bcca",
   "metadata": {},
   "outputs": [
    {
     "name": "stdout",
     "output_type": "stream",
     "text": [
      "The fraction is created\n"
     ]
    }
   ],
   "source": [
    "f1 = Fraction_main(3,5)"
   ]
  },
  {
   "cell_type": "code",
   "execution_count": 186,
   "id": "fffcc87d",
   "metadata": {},
   "outputs": [
    {
     "name": "stdout",
     "output_type": "stream",
     "text": [
      "3/5\n"
     ]
    }
   ],
   "source": [
    "print(f1)"
   ]
  },
  {
   "cell_type": "code",
   "execution_count": 187,
   "id": "d2d03ce3",
   "metadata": {},
   "outputs": [
    {
     "name": "stdout",
     "output_type": "stream",
     "text": [
      "The fraction is created\n"
     ]
    }
   ],
   "source": [
    "f2 = Fraction_main(1,5)"
   ]
  },
  {
   "cell_type": "code",
   "execution_count": 188,
   "id": "625f5876",
   "metadata": {},
   "outputs": [
    {
     "name": "stdout",
     "output_type": "stream",
     "text": [
      "1/5\n"
     ]
    }
   ],
   "source": [
    "print(f2)"
   ]
  },
  {
   "cell_type": "code",
   "execution_count": 189,
   "id": "e3b2e13e",
   "metadata": {},
   "outputs": [
    {
     "name": "stdout",
     "output_type": "stream",
     "text": [
      "3/5 1/5\n"
     ]
    }
   ],
   "source": [
    "print(f1,f2)"
   ]
  },
  {
   "cell_type": "code",
   "execution_count": 190,
   "id": "ee4e8b0a",
   "metadata": {},
   "outputs": [
    {
     "name": "stdout",
     "output_type": "stream",
     "text": [
      "The fraction is created\n",
      "4/5\n"
     ]
    }
   ],
   "source": [
    "print(f1+f2)"
   ]
  },
  {
   "cell_type": "code",
   "execution_count": 191,
   "id": "8cab03c0",
   "metadata": {},
   "outputs": [
    {
     "name": "stdout",
     "output_type": "stream",
     "text": [
      "The fraction is created\n",
      "2/5\n"
     ]
    }
   ],
   "source": [
    "print(f1-f2)"
   ]
  },
  {
   "cell_type": "code",
   "execution_count": 192,
   "id": "de03c557",
   "metadata": {},
   "outputs": [
    {
     "name": "stdout",
     "output_type": "stream",
     "text": [
      "The fraction is created\n",
      "3/25\n"
     ]
    }
   ],
   "source": [
    "print(f1*f2)"
   ]
  },
  {
   "cell_type": "code",
   "execution_count": 193,
   "id": "f78b1f74",
   "metadata": {},
   "outputs": [
    {
     "name": "stdout",
     "output_type": "stream",
     "text": [
      "The fraction is created\n",
      "3/1\n"
     ]
    }
   ],
   "source": [
    "print(f1/f2)"
   ]
  },
  {
   "cell_type": "code",
   "execution_count": 194,
   "id": "ccdb8ef2",
   "metadata": {},
   "outputs": [
    {
     "name": "stdout",
     "output_type": "stream",
     "text": [
      "The fraction is created\n",
      "The fraction is created\n"
     ]
    }
   ],
   "source": [
    "f1 = Fraction_main(1,5)\n",
    "f2 = Fraction_main(1,5)"
   ]
  },
  {
   "cell_type": "code",
   "execution_count": 195,
   "id": "d8044eb1",
   "metadata": {},
   "outputs": [
    {
     "data": {
      "text/plain": [
       "True"
      ]
     },
     "execution_count": 195,
     "metadata": {},
     "output_type": "execute_result"
    }
   ],
   "source": [
    "f1 == f2"
   ]
  },
  {
   "cell_type": "code",
   "execution_count": 196,
   "id": "9837adb9",
   "metadata": {},
   "outputs": [
    {
     "name": "stdout",
     "output_type": "stream",
     "text": [
      "The fraction is created\n",
      "The fraction is created\n"
     ]
    }
   ],
   "source": [
    "f1 = Fraction_main(3,5)\n",
    "f2 = Fraction_main(1,5)"
   ]
  },
  {
   "cell_type": "code",
   "execution_count": 197,
   "id": "a36963f6",
   "metadata": {},
   "outputs": [
    {
     "name": "stdout",
     "output_type": "stream",
     "text": [
      "True\n"
     ]
    }
   ],
   "source": [
    "print(f1>f2)"
   ]
  },
  {
   "cell_type": "code",
   "execution_count": 198,
   "id": "8e9bac59",
   "metadata": {},
   "outputs": [
    {
     "name": "stdout",
     "output_type": "stream",
     "text": [
      "False\n"
     ]
    }
   ],
   "source": [
    "print(f1 < f2)"
   ]
  },
  {
   "cell_type": "code",
   "execution_count": 199,
   "id": "a271193b",
   "metadata": {},
   "outputs": [
    {
     "name": "stdout",
     "output_type": "stream",
     "text": [
      "True\n"
     ]
    }
   ],
   "source": [
    "print(f1 != f2)"
   ]
  },
  {
   "cell_type": "code",
   "execution_count": 201,
   "id": "fb2b39cc",
   "metadata": {},
   "outputs": [
    {
     "name": "stdout",
     "output_type": "stream",
     "text": [
      "The fraction is created\n"
     ]
    }
   ],
   "source": [
    "m = Fraction_main(1,3)"
   ]
  },
  {
   "cell_type": "code",
   "execution_count": 202,
   "id": "9e7177c5",
   "metadata": {},
   "outputs": [
    {
     "name": "stdout",
     "output_type": "stream",
     "text": [
      "The fraction is created\n"
     ]
    }
   ],
   "source": [
    "n =  Fraction_main(2,5)"
   ]
  },
  {
   "cell_type": "code",
   "execution_count": 203,
   "id": "160a801f",
   "metadata": {},
   "outputs": [
    {
     "name": "stdout",
     "output_type": "stream",
     "text": [
      "The fraction is created\n",
      "11/15\n"
     ]
    }
   ],
   "source": [
    "print(m+n)"
   ]
  },
  {
   "cell_type": "code",
   "execution_count": null,
   "id": "32cf75a4",
   "metadata": {},
   "outputs": [],
   "source": []
  }
 ],
 "metadata": {
  "kernelspec": {
   "display_name": "Python 3 (ipykernel)",
   "language": "python",
   "name": "python3"
  },
  "language_info": {
   "codemirror_mode": {
    "name": "ipython",
    "version": 3
   },
   "file_extension": ".py",
   "mimetype": "text/x-python",
   "name": "python",
   "nbconvert_exporter": "python",
   "pygments_lexer": "ipython3",
   "version": "3.11.5"
  }
 },
 "nbformat": 4,
 "nbformat_minor": 5
}
