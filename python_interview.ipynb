{
 "cells": [
  {
   "cell_type": "markdown",
   "id": "cee38b40",
   "metadata": {},
   "source": [
    "1. Convert string to the list"
   ]
  },
  {
   "cell_type": "code",
   "execution_count": 10,
   "id": "2e5491ea",
   "metadata": {},
   "outputs": [
    {
     "data": {
      "text/plain": [
       "['my', 'name', 'is', 'sai,am', 'i', 'am', 'teaching', 'data', 'science']"
      ]
     },
     "execution_count": 10,
     "metadata": {},
     "output_type": "execute_result"
    }
   ],
   "source": [
    "string = \"my name is sai,am i am teaching data science\"\n",
    "string.split()"
   ]
  },
  {
   "cell_type": "markdown",
   "id": "7766a560",
   "metadata": {},
   "source": [
    "2. Remove duplicates from the string"
   ]
  },
  {
   "cell_type": "code",
   "execution_count": 21,
   "id": "e0d16bc8",
   "metadata": {},
   "outputs": [
    {
     "data": {
      "text/plain": [
       "'my name is sai, and am i am teaching data science'"
      ]
     },
     "execution_count": 21,
     "metadata": {},
     "output_type": "execute_result"
    }
   ],
   "source": [
    "string"
   ]
  },
  {
   "cell_type": "code",
   "execution_count": 22,
   "id": "2a9dba46",
   "metadata": {},
   "outputs": [
    {
     "name": "stdout",
     "output_type": "stream",
     "text": [
      "my name is sai, and am i teaching data science\n"
     ]
    }
   ],
   "source": [
    "words = string.split()\n",
    "\n",
    "empty_string = []\n",
    "\n",
    "[empty_string.append(i) for i in words if i not in empty_string]\n",
    "y = \" \".join(empty_string)\n",
    "print(y)\n"
   ]
  },
  {
   "cell_type": "markdown",
   "id": "aea7562d",
   "metadata": {},
   "source": [
    "3. Reverse the give string"
   ]
  },
  {
   "cell_type": "code",
   "execution_count": 31,
   "id": "2eac934c",
   "metadata": {},
   "outputs": [
    {
     "data": {
      "text/plain": [
       "'my name is sai, and am i am teaching data science'"
      ]
     },
     "execution_count": 31,
     "metadata": {},
     "output_type": "execute_result"
    }
   ],
   "source": [
    "string"
   ]
  },
  {
   "cell_type": "code",
   "execution_count": 32,
   "id": "fa273a9c",
   "metadata": {},
   "outputs": [
    {
     "data": {
      "text/plain": [
       "'ecneics atad gnihcaet ma i ma dna ,ias si eman ym'"
      ]
     },
     "execution_count": 32,
     "metadata": {},
     "output_type": "execute_result"
    }
   ],
   "source": [
    "string[::-1]"
   ]
  },
  {
   "cell_type": "code",
   "execution_count": 43,
   "id": "278d73d0",
   "metadata": {},
   "outputs": [
    {
     "name": "stdout",
     "output_type": "stream",
     "text": [
      "ecneics atad gnihcaet ma i ma dna ,ias si eman ym\n"
     ]
    }
   ],
   "source": [
    "y = \"\"\n",
    "for i in string:\n",
    "    y = i+y\n",
    "print(y)"
   ]
  },
  {
   "cell_type": "code",
   "execution_count": 42,
   "id": "6720a9d9",
   "metadata": {},
   "outputs": [
    {
     "name": "stdout",
     "output_type": "stream",
     "text": [
      "['ym', 'eman', 'si', ',ias', 'dna', 'ma', 'i', 'ma', 'gnihcaet', 'atad', 'ecneics']\n"
     ]
    }
   ],
   "source": [
    "m = []\n",
    "for i in string.split():\n",
    "    m.append(i[::-1])\n",
    "print(m)"
   ]
  },
  {
   "cell_type": "code",
   "execution_count": 51,
   "id": "37d5077e",
   "metadata": {},
   "outputs": [
    {
     "name": "stdout",
     "output_type": "stream",
     "text": [
      "science data teaching am i am and sai, is name my\n"
     ]
    }
   ],
   "source": [
    "k = string.split()\n",
    "l = []\n",
    "\n",
    "for i in reversed(k):\n",
    "    l.append(i)\n",
    "n = \" \".join(l)\n",
    "print(n)"
   ]
  },
  {
   "cell_type": "code",
   "execution_count": 55,
   "id": "d47d6059",
   "metadata": {},
   "outputs": [
    {
     "name": "stdout",
     "output_type": "stream",
     "text": [
      "science data teaching am i am and sai, is name my\n"
     ]
    }
   ],
   "source": [
    "k = string.split()\n",
    "l = []\n",
    "\n",
    "for i in range(len(k)-1,-1,-1):\n",
    "    l.append(k[i])\n",
    "n = \" \".join(l)\n",
    "print(n)"
   ]
  },
  {
   "cell_type": "markdown",
   "id": "2000e705",
   "metadata": {},
   "source": [
    "4. Array"
   ]
  },
  {
   "cell_type": "code",
   "execution_count": 56,
   "id": "7998999c",
   "metadata": {},
   "outputs": [],
   "source": [
    "import numpy as np"
   ]
  },
  {
   "cell_type": "code",
   "execution_count": 60,
   "id": "c18be385",
   "metadata": {},
   "outputs": [],
   "source": [
    "arr = (np.array([1,2,3,4,5]))\n"
   ]
  },
  {
   "cell_type": "code",
   "execution_count": 61,
   "id": "d086e499",
   "metadata": {},
   "outputs": [
    {
     "data": {
      "text/plain": [
       "array([1, 2, 3, 4, 5])"
      ]
     },
     "execution_count": 61,
     "metadata": {},
     "output_type": "execute_result"
    }
   ],
   "source": [
    "arr"
   ]
  },
  {
   "cell_type": "code",
   "execution_count": 67,
   "id": "3afa8043",
   "metadata": {},
   "outputs": [
    {
     "name": "stdout",
     "output_type": "stream",
     "text": [
      "[array([5, 4, 3, 2, 1])]\n"
     ]
    }
   ],
   "source": [
    "x = []\n",
    "for i in range(1):\n",
    "    a = arr[::-1]\n",
    "    x.append(a)\n",
    "print(x)\n",
    "\n",
    "   "
   ]
  },
  {
   "cell_type": "code",
   "execution_count": null,
   "id": "bae35228",
   "metadata": {},
   "outputs": [],
   "source": [
    "# 5. Give me the function which can give the sort the given list"
   ]
  },
  {
   "cell_type": "code",
   "execution_count": 78,
   "id": "0a72c8c2",
   "metadata": {},
   "outputs": [],
   "source": [
    "my_list = [64,83,45,23,78,92]\n",
    "my_list.sort()"
   ]
  },
  {
   "cell_type": "code",
   "execution_count": 79,
   "id": "1197f08e",
   "metadata": {},
   "outputs": [
    {
     "data": {
      "text/plain": [
       "[23, 45, 64, 78, 83, 92]"
      ]
     },
     "execution_count": 79,
     "metadata": {},
     "output_type": "execute_result"
    }
   ],
   "source": [
    "my_list"
   ]
  },
  {
   "cell_type": "code",
   "execution_count": 85,
   "id": "b22fa22f",
   "metadata": {},
   "outputs": [],
   "source": [
    "my_list = [64,83,45,23,78,92]"
   ]
  },
  {
   "cell_type": "code",
   "execution_count": 95,
   "id": "7ce4e3ae",
   "metadata": {},
   "outputs": [],
   "source": [
    "def sort_fun(my_list):\n",
    "    for i in range(len(my_list)):\n",
    "        for j in range(len(my_list)-1):\n",
    "            if my_list[j] > my_list[j+1]:\n",
    "                my_list[j],my_list[j+1] = my_list[j+1],my_list[j]\n",
    "    return my_list\n",
    "\n",
    "# print(\"sorted list\",my_list)\n",
    "a = sort_fun(my_list)"
   ]
  },
  {
   "cell_type": "code",
   "execution_count": 96,
   "id": "498c1676",
   "metadata": {},
   "outputs": [
    {
     "name": "stdout",
     "output_type": "stream",
     "text": [
      "[2, 3, 5, 6, 8, 98]\n"
     ]
    }
   ],
   "source": [
    "print(a)"
   ]
  },
  {
   "cell_type": "markdown",
   "id": "dea2ed9a",
   "metadata": {},
   "source": [
    "# 6  time complexity of the above code\n",
    "#  time complexity is O(n^2)\n",
    "O -->  represents the asymptotic upper bound \n",
    "\n",
    "The outer loop runs \n",
    "\n",
    "n times, where \n",
    "n is the number of elements in the list.\n",
    "Inside the outer loop, the inner loop also runs \n",
    "n times for each iteration of the outer loop.\n",
    "Within the inner loop, there are constant-time operations (comparisons and swapping) performed n square times in the worst case."
   ]
  },
  {
   "cell_type": "markdown",
   "id": "3472a4b5",
   "metadata": {},
   "source": [
    "##7 Can you give me mutablity and immutablity in python"
   ]
  },
  {
   "cell_type": "code",
   "execution_count": 100,
   "id": "b3b77f4f",
   "metadata": {},
   "outputs": [],
   "source": [
    "my_list = [1,2,3,4,5]\n",
    "my_list[1] = 6"
   ]
  },
  {
   "cell_type": "code",
   "execution_count": 101,
   "id": "216f7da5",
   "metadata": {},
   "outputs": [
    {
     "data": {
      "text/plain": [
       "[1, 6, 3, 4, 5]"
      ]
     },
     "execution_count": 101,
     "metadata": {},
     "output_type": "execute_result"
    }
   ],
   "source": [
    "my_list"
   ]
  },
  {
   "cell_type": "code",
   "execution_count": 102,
   "id": "8b3138a1",
   "metadata": {},
   "outputs": [],
   "source": [
    "my_list = (1,2,3,4,5)"
   ]
  },
  {
   "cell_type": "code",
   "execution_count": 103,
   "id": "32cfcd74",
   "metadata": {},
   "outputs": [
    {
     "data": {
      "text/plain": [
       "2"
      ]
     },
     "execution_count": 103,
     "metadata": {},
     "output_type": "execute_result"
    }
   ],
   "source": [
    "my_list[1]"
   ]
  },
  {
   "cell_type": "code",
   "execution_count": 104,
   "id": "23c823a8",
   "metadata": {},
   "outputs": [
    {
     "ename": "TypeError",
     "evalue": "'tuple' object does not support item assignment",
     "output_type": "error",
     "traceback": [
      "\u001b[1;31m---------------------------------------------------------------------------\u001b[0m",
      "\u001b[1;31mTypeError\u001b[0m                                 Traceback (most recent call last)",
      "Cell \u001b[1;32mIn[104], line 1\u001b[0m\n\u001b[1;32m----> 1\u001b[0m my_list[\u001b[38;5;241m1\u001b[39m]\u001b[38;5;241m=\u001b[39m\u001b[38;5;241m9\u001b[39m\n",
      "\u001b[1;31mTypeError\u001b[0m: 'tuple' object does not support item assignment"
     ]
    }
   ],
   "source": [
    "my_list[1]=9"
   ]
  },
  {
   "cell_type": "code",
   "execution_count": 107,
   "id": "b1db38d7",
   "metadata": {},
   "outputs": [],
   "source": [
    "string = \"Hello\""
   ]
  },
  {
   "cell_type": "code",
   "execution_count": 108,
   "id": "62d2f6d7",
   "metadata": {},
   "outputs": [
    {
     "ename": "TypeError",
     "evalue": "'str' object does not support item assignment",
     "output_type": "error",
     "traceback": [
      "\u001b[1;31m---------------------------------------------------------------------------\u001b[0m",
      "\u001b[1;31mTypeError\u001b[0m                                 Traceback (most recent call last)",
      "Cell \u001b[1;32mIn[108], line 1\u001b[0m\n\u001b[1;32m----> 1\u001b[0m string[\u001b[38;5;241m1\u001b[39m]\u001b[38;5;241m=\u001b[39m \u001b[38;5;124m'\u001b[39m\u001b[38;5;124mp\u001b[39m\u001b[38;5;124m'\u001b[39m\n",
      "\u001b[1;31mTypeError\u001b[0m: 'str' object does not support item assignment"
     ]
    }
   ],
   "source": [
    "string[1] = 'p'"
   ]
  },
  {
   "cell_type": "markdown",
   "id": "e1b7ba76",
   "metadata": {},
   "source": [
    "Immutable objects are safer to use in multithreaded environments because their state cannot be changed.\n",
    "Mutable objects are generally less memory efficient compared to immutable objects because\n",
    "modifying them often involves creating new objects or modifying existing ones in place.\n",
    "Mutable objects are often used when you need to represent a collection of items that can change over time, \n",
    "whereas immutable objects are useful when you want to ensure that the object's state remains constant."
   ]
  },
  {
   "cell_type": "code",
   "execution_count": 134,
   "id": "ed17988c",
   "metadata": {},
   "outputs": [],
   "source": [
    "list1 = ['w','a','w','b']\n",
    "list2 = ['e','','ritting','log']"
   ]
  },
  {
   "cell_type": "code",
   "execution_count": 135,
   "id": "282e697d",
   "metadata": {},
   "outputs": [
    {
     "name": "stdout",
     "output_type": "stream",
     "text": [
      "['we', 'a', 'writting', 'blog']\n"
     ]
    }
   ],
   "source": [
    "list3 = []\n",
    "for i in range(len(list1)):\n",
    "               list3.append(list1[i]+list2[i]) \n",
    "print(list3)\n",
    "        "
   ]
  },
  {
   "cell_type": "code",
   "execution_count": 139,
   "id": "e1b7b54e",
   "metadata": {},
   "outputs": [
    {
     "name": "stdout",
     "output_type": "stream",
     "text": [
      "we\n",
      "a\n",
      "writting\n",
      "blog\n"
     ]
    }
   ],
   "source": [
    "for m,n in zip(list1,list2):\n",
    "    print(m+n)"
   ]
  },
  {
   "cell_type": "code",
   "execution_count": 137,
   "id": "58435a06",
   "metadata": {},
   "outputs": [
    {
     "data": {
      "text/plain": [
       "['we', 'a', 'writting', 'blog']"
      ]
     },
     "execution_count": 137,
     "metadata": {},
     "output_type": "execute_result"
    }
   ],
   "source": [
    "[i+j for i,j in zip(list1,list2)]\n"
   ]
  },
  {
   "cell_type": "markdown",
   "id": "6da4d213",
   "metadata": {},
   "source": [
    "#7 is removing first item or last item taking in same time in the pysthon list\n",
    "\n",
    "Ans :  Python list do not take the same time."
   ]
  },
  {
   "cell_type": "code",
   "execution_count": 156,
   "id": "00daa590",
   "metadata": {},
   "outputs": [],
   "source": [
    "x = [1,2,4,5,7,8,9]\n"
   ]
  },
  {
   "cell_type": "code",
   "execution_count": 157,
   "id": "064d5748",
   "metadata": {},
   "outputs": [
    {
     "data": {
      "text/plain": [
       "9"
      ]
     },
     "execution_count": 157,
     "metadata": {},
     "output_type": "execute_result"
    }
   ],
   "source": [
    "x.pop()"
   ]
  },
  {
   "cell_type": "markdown",
   "id": "d19a3671",
   "metadata": {},
   "source": [
    "O(n)--> strating element\n",
    "O(1)--> Last element \n",
    "\n",
    "O(1) represents constant time complexity, where the time taken is independent of the input size.\n",
    "O(n) represents linear time complexity, where the time taken is directly proportional to the input size.\n",
    "\n",
    "Removing the last item from a list (x.pop()) is faster than removing the first item (x.pop(0)), \n",
    "especially for large lists, because it does not require shifting elements."
   ]
  },
  {
   "cell_type": "code",
   "execution_count": 158,
   "id": "a04bf28b",
   "metadata": {},
   "outputs": [
    {
     "data": {
      "text/plain": [
       "1"
      ]
     },
     "execution_count": 158,
     "metadata": {},
     "output_type": "execute_result"
    }
   ],
   "source": [
    "x.pop(0)"
   ]
  },
  {
   "cell_type": "code",
   "execution_count": 159,
   "id": "51c9903c",
   "metadata": {},
   "outputs": [
    {
     "data": {
      "text/plain": [
       "[2, 4, 5, 7, 8]"
      ]
     },
     "execution_count": 159,
     "metadata": {},
     "output_type": "execute_result"
    }
   ],
   "source": [
    "x"
   ]
  },
  {
   "cell_type": "markdown",
   "id": "c6ef25f4",
   "metadata": {},
   "source": [
    "## 8. Minimun value in the dict"
   ]
  },
  {
   "cell_type": "code",
   "execution_count": 233,
   "id": "cfa411e4",
   "metadata": {},
   "outputs": [],
   "source": [
    "my_dict = {'a':10,'b':5,'c':8,'d':3}\n"
   ]
  },
  {
   "cell_type": "code",
   "execution_count": 195,
   "id": "3af8a0b3",
   "metadata": {},
   "outputs": [
    {
     "data": {
      "text/plain": [
       "3"
      ]
     },
     "execution_count": 195,
     "metadata": {},
     "output_type": "execute_result"
    }
   ],
   "source": [
    "min(my_dict.values())"
   ]
  },
  {
   "cell_type": "code",
   "execution_count": 196,
   "id": "f63dea07",
   "metadata": {},
   "outputs": [
    {
     "data": {
      "text/plain": [
       "'a'"
      ]
     },
     "execution_count": 196,
     "metadata": {},
     "output_type": "execute_result"
    }
   ],
   "source": [
    "min(my_dict.keys())"
   ]
  },
  {
   "cell_type": "code",
   "execution_count": 227,
   "id": "29722780",
   "metadata": {},
   "outputs": [],
   "source": [
    "min_key = None\n",
    "min_value = float('inf')\n"
   ]
  },
  {
   "cell_type": "code",
   "execution_count": 228,
   "id": "e4a31ab3",
   "metadata": {},
   "outputs": [],
   "source": [
    "min_key"
   ]
  },
  {
   "cell_type": "code",
   "execution_count": 229,
   "id": "751a4829",
   "metadata": {},
   "outputs": [
    {
     "data": {
      "text/plain": [
       "inf"
      ]
     },
     "execution_count": 229,
     "metadata": {},
     "output_type": "execute_result"
    }
   ],
   "source": [
    "min_value"
   ]
  },
  {
   "cell_type": "code",
   "execution_count": 287,
   "id": "3422e8cf",
   "metadata": {},
   "outputs": [],
   "source": [
    "min_key, min_value = next(iter(my_dict.items()))"
   ]
  },
  {
   "cell_type": "code",
   "execution_count": 288,
   "id": "2d23f714",
   "metadata": {},
   "outputs": [],
   "source": [
    "for i, j in my_dict.items():\n",
    "    if j < min_value:\n",
    "        min_value = j\n",
    "    if i < min_key:\n",
    "        min_key = i \n"
   ]
  },
  {
   "cell_type": "code",
   "execution_count": 289,
   "id": "03c8751c",
   "metadata": {},
   "outputs": [
    {
     "name": "stdout",
     "output_type": "stream",
     "text": [
      "a\n",
      "3\n"
     ]
    }
   ],
   "source": [
    "print(min_key)\n",
    "print(min_value)"
   ]
  },
  {
   "cell_type": "markdown",
   "id": "650ca4b6",
   "metadata": {},
   "source": [
    "#9 i want shuffle the element inside  the list"
   ]
  },
  {
   "cell_type": "code",
   "execution_count": 281,
   "id": "4214ed62",
   "metadata": {},
   "outputs": [],
   "source": [
    "list = [\"python\",\"is\",\"Easy\",\"if\",\"sunny\",\"teaching\"]"
   ]
  },
  {
   "cell_type": "code",
   "execution_count": 269,
   "id": "c770ba5e",
   "metadata": {},
   "outputs": [],
   "source": [
    "import random\n",
    "random.shuffle(list)"
   ]
  },
  {
   "cell_type": "code",
   "execution_count": 268,
   "id": "709ae6b6",
   "metadata": {},
   "outputs": [
    {
     "data": {
      "text/plain": [
       "['python', 'Easy', 'sunny', 'teaching', 'is', 'if']"
      ]
     },
     "execution_count": 268,
     "metadata": {},
     "output_type": "execute_result"
    }
   ],
   "source": [
    "list"
   ]
  },
  {
   "cell_type": "code",
   "execution_count": 270,
   "id": "157ac6d3",
   "metadata": {},
   "outputs": [
    {
     "data": {
      "text/plain": [
       "['sunny', 'is', 'Easy', 'teaching', 'if', 'python']"
      ]
     },
     "execution_count": 270,
     "metadata": {},
     "output_type": "execute_result"
    }
   ],
   "source": [
    "list"
   ]
  },
  {
   "cell_type": "markdown",
   "id": "30b7051c",
   "metadata": {},
   "source": [
    "#10. Remove all the white spaces in a string"
   ]
  },
  {
   "cell_type": "code",
   "execution_count": 254,
   "id": "d255266b",
   "metadata": {},
   "outputs": [],
   "source": [
    "string = \" C O D E \""
   ]
  },
  {
   "cell_type": "code",
   "execution_count": 255,
   "id": "4b32b469",
   "metadata": {},
   "outputs": [
    {
     "data": {
      "text/plain": [
       "'CODE'"
      ]
     },
     "execution_count": 255,
     "metadata": {},
     "output_type": "execute_result"
    }
   ],
   "source": [
    "string.replace(' ','')"
   ]
  },
  {
   "cell_type": "code",
   "execution_count": 271,
   "id": "c6838736",
   "metadata": {},
   "outputs": [
    {
     "data": {
      "text/plain": [
       "'CODE'"
      ]
     },
     "execution_count": 271,
     "metadata": {},
     "output_type": "execute_result"
    }
   ],
   "source": [
    "\"\".join(string.split())"
   ]
  },
  {
   "cell_type": "markdown",
   "id": "0c1fde3e",
   "metadata": {},
   "source": [
    "# 11. write a python program to find the secong largest number in the given list"
   ]
  },
  {
   "cell_type": "code",
   "execution_count": 300,
   "id": "c2c48e2f",
   "metadata": {},
   "outputs": [
    {
     "name": "stdout",
     "output_type": "stream",
     "text": [
      "67\n"
     ]
    }
   ],
   "source": [
    "list = [2,4,6,89,45,67]\n",
    "sorted_number = sorted(list,reverse=True)\n",
    "second_largest = sorted_number[1]\n",
    "print(second_largest)"
   ]
  },
  {
   "cell_type": "code",
   "execution_count": 318,
   "id": "dd23c6c1",
   "metadata": {},
   "outputs": [],
   "source": [
    "list = [2,4,6,89,45,67]\n"
   ]
  },
  {
   "cell_type": "code",
   "execution_count": 311,
   "id": "7b9085f8",
   "metadata": {},
   "outputs": [
    {
     "data": {
      "text/plain": [
       "[2, 4, 6, 45, 67, 89]"
      ]
     },
     "execution_count": 311,
     "metadata": {},
     "output_type": "execute_result"
    }
   ],
   "source": [
    "list.sort()\n",
    "list"
   ]
  },
  {
   "cell_type": "code",
   "execution_count": 313,
   "id": "aa879822",
   "metadata": {},
   "outputs": [],
   "source": [
    "list.reverse()"
   ]
  },
  {
   "cell_type": "code",
   "execution_count": 314,
   "id": "4de7d7d8",
   "metadata": {},
   "outputs": [
    {
     "data": {
      "text/plain": [
       "[89, 67, 45, 6, 4, 2]"
      ]
     },
     "execution_count": 314,
     "metadata": {},
     "output_type": "execute_result"
    }
   ],
   "source": [
    "list"
   ]
  },
  {
   "cell_type": "code",
   "execution_count": 315,
   "id": "67d0d7ed",
   "metadata": {},
   "outputs": [
    {
     "data": {
      "text/plain": [
       "67"
      ]
     },
     "execution_count": 315,
     "metadata": {},
     "output_type": "execute_result"
    }
   ],
   "source": [
    "list[1]"
   ]
  },
  {
   "cell_type": "code",
   "execution_count": 320,
   "id": "04fdd88a",
   "metadata": {},
   "outputs": [],
   "source": [
    "sorted_numbers = sorted(list, reverse=True)"
   ]
  },
  {
   "cell_type": "code",
   "execution_count": 321,
   "id": "4d87adc0",
   "metadata": {},
   "outputs": [],
   "source": [
    "second_largest = sorted_numbers[1]"
   ]
  },
  {
   "cell_type": "code",
   "execution_count": 322,
   "id": "09067092",
   "metadata": {},
   "outputs": [
    {
     "data": {
      "text/plain": [
       "67"
      ]
     },
     "execution_count": 322,
     "metadata": {},
     "output_type": "execute_result"
    }
   ],
   "source": [
    "second_largest"
   ]
  },
  {
   "cell_type": "markdown",
   "id": "12996331",
   "metadata": {},
   "source": [
    "# 12 factorial with recursion\n"
   ]
  },
  {
   "cell_type": "code",
   "execution_count": 325,
   "id": "2f0c724d",
   "metadata": {},
   "outputs": [
    {
     "name": "stdout",
     "output_type": "stream",
     "text": [
      "120\n"
     ]
    }
   ],
   "source": [
    "def fact(n):\n",
    "    if n==1 or n==0:\n",
    "        return 1\n",
    "    else:\n",
    "        return n*fact(n-1)\n",
    "a = fact(5)\n",
    "print(a)\n"
   ]
  },
  {
   "cell_type": "markdown",
   "id": "94b7224c",
   "metadata": {},
   "source": [
    "# 13 fibonacci"
   ]
  },
  {
   "cell_type": "code",
   "execution_count": 330,
   "id": "ab1ed326",
   "metadata": {},
   "outputs": [
    {
     "name": "stdout",
     "output_type": "stream",
     "text": [
      "55\n"
     ]
    }
   ],
   "source": [
    "def fib(n):\n",
    "    a, b = 0, 1\n",
    "    for _ in range(2, n+1):\n",
    "        c = a + b\n",
    "        a, b = b, c\n",
    "    return b\n",
    "\n",
    "m = fib(10)\n",
    "print(m)\n"
   ]
  },
  {
   "cell_type": "code",
   "execution_count": 343,
   "id": "9e2df4c3",
   "metadata": {},
   "outputs": [
    {
     "name": "stdout",
     "output_type": "stream",
     "text": [
      "[0, 1, 1, 2, 3, 5, 8, 13, 21, 34]\n"
     ]
    }
   ],
   "source": [
    "def fib(n):\n",
    "    a, b = 0, 1\n",
    "    fib_series = [a, b]  # Initialize the series with the first two Fibonacci numbers\n",
    "    for _ in range(2, n):\n",
    "        c = a + b\n",
    "        fib_series.append(c)  # Append the next Fibonacci number to the series\n",
    "        a, b = b, c  # Update a and b for the next iteration\n",
    "    return fib_series\n",
    "\n",
    "result = fib(10)\n",
    "print(result)\n"
   ]
  },
  {
   "cell_type": "code",
   "execution_count": 342,
   "id": "b091e441",
   "metadata": {},
   "outputs": [
    {
     "name": "stdout",
     "output_type": "stream",
     "text": [
      "1 2 3 5 8 13 21 34 55 89 \n"
     ]
    }
   ],
   "source": [
    "n = 10\n",
    "num1 = 0\n",
    "num2 = 1\n",
    "next_num = num2\n",
    "count =1 \n",
    "\n",
    "while count<=n:\n",
    "    print(next_num,end=\" \")\n",
    "    count = count+1\n",
    "    num1,num2 = num2, next_num\n",
    "    next_num = num1+num2\n",
    "print()   \n",
    "\n",
    "\n",
    "    "
   ]
  },
  {
   "cell_type": "code",
   "execution_count": 2,
   "id": "f9f006e9",
   "metadata": {},
   "outputs": [],
   "source": [
    "def fibonacci(n):\n",
    "    if n <= 1:\n",
    "        return n\n",
    "    else:\n",
    "        return fibonacci(n-1) + fibonacci(n-2)"
   ]
  },
  {
   "cell_type": "code",
   "execution_count": 3,
   "id": "57f8d970",
   "metadata": {},
   "outputs": [
    {
     "data": {
      "text/plain": [
       "55"
      ]
     },
     "execution_count": 3,
     "metadata": {},
     "output_type": "execute_result"
    }
   ],
   "source": [
    "fibonacci(10)"
   ]
  },
  {
   "cell_type": "markdown",
   "id": "2e0e17ee",
   "metadata": {},
   "source": [
    "#14 Palindrom"
   ]
  },
  {
   "cell_type": "code",
   "execution_count": 349,
   "id": "40db41d0",
   "metadata": {},
   "outputs": [
    {
     "name": "stdout",
     "output_type": "stream",
     "text": [
      "Enter a number: 121\n",
      "The number is a palindrome!\n"
     ]
    }
   ],
   "source": [
    "def is_palindrome(num):\n",
    "    temp = num\n",
    "    rev = 0\n",
    "    while num > 0:\n",
    "        dig = num % 10\n",
    "        rev = rev * 10 + dig\n",
    "        num = num // 10\n",
    "    return temp == rev\n",
    "\n",
    "def main():\n",
    "    num = int(input(\"Enter a number: \"))\n",
    "    if is_palindrome(num):\n",
    "        print(\"The number is a palindrome!\")\n",
    "    else:\n",
    "        print(\"Not a palindrome!\")\n",
    "\n",
    "if __name__ == \"__main__\":\n",
    "    main()\n"
   ]
  },
  {
   "cell_type": "code",
   "execution_count": 1,
   "id": "64fdd4c7",
   "metadata": {},
   "outputs": [
    {
     "name": "stdout",
     "output_type": "stream",
     "text": [
      "Enter a string:level\n",
      "The string is a palindrome\n"
     ]
    }
   ],
   "source": [
    "string=input((\"Enter a string:\"))\n",
    "if(string==string[::-1]):\n",
    "      print(\"The string is a palindrome\")\n",
    "else:\n",
    "      print(\"Not a palindrome\")"
   ]
  },
  {
   "cell_type": "code",
   "execution_count": 22,
   "id": "cda5d4cb",
   "metadata": {},
   "outputs": [],
   "source": [
    "def is_palindrome(s):\n",
    "    return s == s[::-1]"
   ]
  },
  {
   "cell_type": "code",
   "execution_count": 23,
   "id": "4be15cf7",
   "metadata": {},
   "outputs": [],
   "source": [
    "\n",
    "m = is_palindrome(\"level\")\n"
   ]
  },
  {
   "cell_type": "code",
   "execution_count": 24,
   "id": "531cc281",
   "metadata": {},
   "outputs": [
    {
     "data": {
      "text/plain": [
       "True"
      ]
     },
     "execution_count": 24,
     "metadata": {},
     "output_type": "execute_result"
    }
   ],
   "source": [
    "m"
   ]
  },
  {
   "cell_type": "code",
   "execution_count": 15,
   "id": "a9aa73e8",
   "metadata": {},
   "outputs": [
    {
     "name": "stdout",
     "output_type": "stream",
     "text": [
      "enter stringlevel\n",
      "level is a palindrom\n"
     ]
    }
   ],
   "source": [
    "s = input(\"enter string\")\n",
    "rev_str = \"\"\n",
    "for i in s:\n",
    "    rev_str = i+rev_str\n",
    "if s == rev_str:\n",
    "    print(s,\"is a palindrom\")\n",
    "else:\n",
    "    print(s,\"is not a palindrom\")\n",
    "    "
   ]
  },
  {
   "cell_type": "code",
   "execution_count": 25,
   "id": "b1fac4bb",
   "metadata": {},
   "outputs": [
    {
     "name": "stdout",
     "output_type": "stream",
     "text": [
      "level is a palindrome\n",
      "madam is a palindrome\n",
      "silent is not a palindrome\n"
     ]
    }
   ],
   "source": [
    "def is_palindrome(s):\n",
    "    return s == s[::-1]\n",
    "\n",
    "s = [\"level\", \"madam\", \"silent\"]\n",
    "\n",
    "for word in s:\n",
    "    if is_palindrome(word):\n",
    "        print(word, \"is a palindrome\")\n",
    "    else:\n",
    "        print(word, \"is not a palindrome\")\n"
   ]
  },
  {
   "cell_type": "code",
   "execution_count": null,
   "id": "3e1f226d",
   "metadata": {},
   "outputs": [],
   "source": []
  }
 ],
 "metadata": {
  "kernelspec": {
   "display_name": "Python 3 (ipykernel)",
   "language": "python",
   "name": "python3"
  },
  "language_info": {
   "codemirror_mode": {
    "name": "ipython",
    "version": 3
   },
   "file_extension": ".py",
   "mimetype": "text/x-python",
   "name": "python",
   "nbconvert_exporter": "python",
   "pygments_lexer": "ipython3",
   "version": "3.11.5"
  }
 },
 "nbformat": 4,
 "nbformat_minor": 5
}
