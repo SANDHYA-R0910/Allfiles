{
 "cells": [
  {
   "cell_type": "markdown",
   "id": "b7575783",
   "metadata": {},
   "source": [
    "1. Write a  Python program to sum all the items in a list."
   ]
  },
  {
   "cell_type": "code",
   "execution_count": 6,
   "id": "098ef421",
   "metadata": {},
   "outputs": [],
   "source": [
    "x = [1,2,3,4,5,6,7,8,9,10]"
   ]
  },
  {
   "cell_type": "code",
   "execution_count": 7,
   "id": "c812ffb3",
   "metadata": {},
   "outputs": [
    {
     "name": "stdout",
     "output_type": "stream",
     "text": [
      "55\n"
     ]
    }
   ],
   "source": [
    "y = 0\n",
    "for i in x:\n",
    "    y = i + y\n",
    "print(y)"
   ]
  },
  {
   "cell_type": "markdown",
   "id": "daf975ca",
   "metadata": {},
   "source": [
    "2. Write a Python program to get the largest number from a list."
   ]
  },
  {
   "cell_type": "code",
   "execution_count": 8,
   "id": "dfeecc7c",
   "metadata": {},
   "outputs": [
    {
     "data": {
      "text/plain": [
       "[1, 2, 3, 4, 5, 6, 7, 8, 9, 10]"
      ]
     },
     "execution_count": 8,
     "metadata": {},
     "output_type": "execute_result"
    }
   ],
   "source": [
    "x"
   ]
  },
  {
   "cell_type": "code",
   "execution_count": 9,
   "id": "a38fe5be",
   "metadata": {},
   "outputs": [
    {
     "name": "stdout",
     "output_type": "stream",
     "text": [
      "The largest number in the list 10\n"
     ]
    }
   ],
   "source": [
    "largest = x[0]\n",
    "for i in x:\n",
    "    if i > largest:\n",
    "        largest = i\n",
    "print(\"The largest number in the list\",largest)"
   ]
  },
  {
   "cell_type": "markdown",
   "id": "bd630918",
   "metadata": {},
   "source": [
    "3. Write a Python program to clone or copy item in a list."
   ]
  },
  {
   "cell_type": "code",
   "execution_count": 14,
   "id": "bbfc4b21",
   "metadata": {},
   "outputs": [
    {
     "data": {
      "text/plain": [
       "[1, 2, 3, 4, 5, 6, 7, 8, 9, 10]"
      ]
     },
     "execution_count": 14,
     "metadata": {},
     "output_type": "execute_result"
    }
   ],
   "source": [
    "x "
   ]
  },
  {
   "cell_type": "code",
   "execution_count": 11,
   "id": "1ccfa538",
   "metadata": {},
   "outputs": [],
   "source": [
    "list1 = x.copy()"
   ]
  },
  {
   "cell_type": "code",
   "execution_count": 12,
   "id": "d9925d56",
   "metadata": {},
   "outputs": [
    {
     "data": {
      "text/plain": [
       "[1, 2, 3, 4, 5, 6, 7, 8, 9, 10]"
      ]
     },
     "execution_count": 12,
     "metadata": {},
     "output_type": "execute_result"
    }
   ],
   "source": [
    "list1"
   ]
  },
  {
   "cell_type": "code",
   "execution_count": 15,
   "id": "a6610387",
   "metadata": {},
   "outputs": [],
   "source": [
    "list1.append(13)"
   ]
  },
  {
   "cell_type": "code",
   "execution_count": 16,
   "id": "ff54da06",
   "metadata": {},
   "outputs": [
    {
     "data": {
      "text/plain": [
       "[1, 2, 3, 4, 5, 6, 7, 8, 9, 10, 13]"
      ]
     },
     "execution_count": 16,
     "metadata": {},
     "output_type": "execute_result"
    }
   ],
   "source": [
    "list1"
   ]
  },
  {
   "cell_type": "markdown",
   "id": "e182ea15",
   "metadata": {},
   "source": [
    "aliter:"
   ]
  },
  {
   "cell_type": "code",
   "execution_count": 17,
   "id": "7be564d0",
   "metadata": {},
   "outputs": [],
   "source": [
    "original_list = [1,2,3,4,5]"
   ]
  },
  {
   "cell_type": "code",
   "execution_count": 18,
   "id": "90c7baa0",
   "metadata": {},
   "outputs": [],
   "source": [
    "clone_list = original_list[:]"
   ]
  },
  {
   "cell_type": "code",
   "execution_count": 19,
   "id": "c55ec528",
   "metadata": {},
   "outputs": [],
   "source": [
    "clone_list.append(6)"
   ]
  },
  {
   "cell_type": "code",
   "execution_count": 21,
   "id": "5429a9e1",
   "metadata": {},
   "outputs": [
    {
     "name": "stdout",
     "output_type": "stream",
     "text": [
      "The original list [1, 2, 3, 4, 5]\n",
      "The clone list [1, 2, 3, 4, 5, 6]\n"
     ]
    }
   ],
   "source": [
    "print(\"The original list\",original_list)\n",
    "print(\"The clone list\",clone_list)"
   ]
  },
  {
   "cell_type": "markdown",
   "id": "d1b77e7d",
   "metadata": {},
   "source": [
    "4. Write a Python program to access the index of an element present in a list."
   ]
  },
  {
   "cell_type": "code",
   "execution_count": 30,
   "id": "3d592f63",
   "metadata": {},
   "outputs": [
    {
     "data": {
      "text/plain": [
       "[1, 2, 3, 4, 5, 6, 7, 8, 9, 10]"
      ]
     },
     "execution_count": 30,
     "metadata": {},
     "output_type": "execute_result"
    }
   ],
   "source": [
    "x"
   ]
  },
  {
   "cell_type": "code",
   "execution_count": 32,
   "id": "c1af9385",
   "metadata": {},
   "outputs": [
    {
     "name": "stdout",
     "output_type": "stream",
     "text": [
      "Index of 10 : 9\n"
     ]
    }
   ],
   "source": [
    "elementto_find = 10\n",
    "index = -1\n",
    "for i in range(len(x)):\n",
    "    if x[i] == elementto_find:\n",
    "        index = i\n",
    "        break\n",
    "if index != -1:\n",
    "    print(\"Index of\", elementto_find, \":\", index)\n",
    "else:\n",
    "    print(elementto_find, \"not found in the list\")       \n",
    "\n",
    "        \n",
    "   "
   ]
  },
  {
   "cell_type": "code",
   "execution_count": null,
   "id": "4392c9cd",
   "metadata": {},
   "outputs": [],
   "source": []
  },
  {
   "cell_type": "code",
   "execution_count": null,
   "id": "57cfa992",
   "metadata": {},
   "outputs": [],
   "source": []
  }
 ],
 "metadata": {
  "kernelspec": {
   "display_name": "Python 3 (ipykernel)",
   "language": "python",
   "name": "python3"
  },
  "language_info": {
   "codemirror_mode": {
    "name": "ipython",
    "version": 3
   },
   "file_extension": ".py",
   "mimetype": "text/x-python",
   "name": "python",
   "nbconvert_exporter": "python",
   "pygments_lexer": "ipython3",
   "version": "3.11.5"
  }
 },
 "nbformat": 4,
 "nbformat_minor": 5
}
