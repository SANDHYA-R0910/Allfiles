{
 "cells": [
  {
   "cell_type": "code",
   "execution_count": null,
   "id": "c5cc9edc",
   "metadata": {},
   "outputs": [],
   "source": []
  },
  {
   "cell_type": "code",
   "execution_count": 4,
   "id": "a9c46143",
   "metadata": {},
   "outputs": [
    {
     "name": "stdout",
     "output_type": "stream",
     "text": [
      "Please enter an item: seat1\n",
      "seat1 is available.\n"
     ]
    }
   ],
   "source": [
    "list1 = [['seat1', 'seat2', 'seat3','seat4','seat5'],['car21', 'car22', 'car23','car24','car25'],['car31', 'car32', 'car33','car34','car35'] ]\n",
    "\n",
    "x = input(\"Please enter an item: \")\n",
    "\n",
    "for i in list1:\n",
    "    if x in i:\n",
    "        print(user_input, \"is available.\")\n",
    "        break\n",
    "    else:\n",
    "        print(user_input, \"is not available.\")\n",
    "      "
   ]
  },
  {
   "cell_type": "code",
   "execution_count": null,
   "id": "76d5c173",
   "metadata": {},
   "outputs": [],
   "source": []
  }
 ],
 "metadata": {
  "kernelspec": {
   "display_name": "Python 3 (ipykernel)",
   "language": "python",
   "name": "python3"
  },
  "language_info": {
   "codemirror_mode": {
    "name": "ipython",
    "version": 3
   },
   "file_extension": ".py",
   "mimetype": "text/x-python",
   "name": "python",
   "nbconvert_exporter": "python",
   "pygments_lexer": "ipython3",
   "version": "3.9.7"
  }
 },
 "nbformat": 4,
 "nbformat_minor": 5
}
