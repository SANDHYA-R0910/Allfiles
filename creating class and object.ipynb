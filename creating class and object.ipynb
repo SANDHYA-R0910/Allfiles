{
 "cells": [
  {
   "cell_type": "code",
   "execution_count": 5,
   "id": "388fbba0",
   "metadata": {},
   "outputs": [
    {
     "name": "stdout",
     "output_type": "stream",
     "text": [
      "skeeG\n"
     ]
    }
   ],
   "source": [
    "\n",
    "class Solution:\n",
    "     def reverseWord(self, str: str) -> str:\n",
    "        return str[::-1]\n",
    "s = Solution()\n",
    "str = s.reverseWord(\"Geeks\")\n",
    "print(str)"
   ]
  },
  {
   "cell_type": "code",
   "execution_count": 3,
   "id": "952d43dc",
   "metadata": {},
   "outputs": [],
   "source": [
    "s=\"Geeks\""
   ]
  },
  {
   "cell_type": "code",
   "execution_count": 4,
   "id": "893db7c9",
   "metadata": {},
   "outputs": [
    {
     "name": "stdout",
     "output_type": "stream",
     "text": [
      "skeeG\n"
     ]
    }
   ],
   "source": [
    "print(s[::-1])"
   ]
  },
  {
   "cell_type": "code",
   "execution_count": 17,
   "id": "82ae8e7b",
   "metadata": {},
   "outputs": [
    {
     "name": "stdout",
     "output_type": "stream",
     "text": [
      "({1, 2, 3, 4}, 4)\n"
     ]
    }
   ],
   "source": [
    "class Solution:\n",
    "    def duplicates(self, arr, n):\n",
    "        if arr == set(m):\n",
    "            return arr,n\n",
    "        else:\n",
    "            return -1\n",
    "    \t    \n",
    "\n",
    "m = {1,2,3,4}\n",
    "n = 4\n",
    "s = Solution()\n",
    "f = s.duplicates(m,n)\n",
    "print(f)"
   ]
  },
  {
   "cell_type": "code",
   "execution_count": 19,
   "id": "f41e59a8",
   "metadata": {},
   "outputs": [
    {
     "name": "stdout",
     "output_type": "stream",
     "text": [
      "-1\n"
     ]
    }
   ],
   "source": [
    "class Solution:\n",
    "    def duplicates(self, arr, n=None):\n",
    "        if n is None:\n",
    "            n = len(arr)\n",
    "\n",
    "        if arr == set(range(1, n + 1)):\n",
    "            return -1\n",
    "        else:\n",
    "            return arr\n",
    "\n",
    "m = {1, 2, 3, 4,1}\n",
    "s = Solution()\n",
    "result = s.duplicates(m)\n",
    "print(result)\n"
   ]
  },
  {
   "cell_type": "code",
   "execution_count": null,
   "id": "0d862d6a",
   "metadata": {},
   "outputs": [],
   "source": [
    "class Solution:\n",
    "    def reverseWord(self, s: str) -> str:\n",
    "        return s[::-1]\n",
    "\n",
    "# Creating an instance of the Solution class\n",
    "sol = Solution()\n",
    "\n",
    "# Calling the reverseWord method on the instance\n",
    "str_reversed = sol.reverseWord(\"Geeks\")\n",
    "print(str_reversed)\n"
   ]
  },
  {
   "cell_type": "code",
   "execution_count": 30,
   "id": "02c4090e",
   "metadata": {},
   "outputs": [],
   "source": [
    "emp_info = {\"name\":\"sai\",\"designation\":\"Data scientist\"}"
   ]
  },
  {
   "cell_type": "code",
   "execution_count": 34,
   "id": "5fedff43",
   "metadata": {},
   "outputs": [],
   "source": [
    "class Emp:\n",
    "    def __init__(self,record:dict):\n",
    "        \n",
    "        for attr_name,values in record.items():\n",
    "            setattr(self,attr_name,values)\n",
    "        \n",
    "    @classmethod\n",
    "    def get_object(cls,record):\n",
    "        return Emp(record)\n",
    "        "
   ]
  },
  {
   "cell_type": "code",
   "execution_count": 35,
   "id": "1bf05c8f",
   "metadata": {},
   "outputs": [],
   "source": [
    "emp = Emp.get_object(emp_info)"
   ]
  },
  {
   "cell_type": "code",
   "execution_count": 36,
   "id": "76c0e53f",
   "metadata": {},
   "outputs": [
    {
     "data": {
      "text/plain": [
       "'sai'"
      ]
     },
     "execution_count": 36,
     "metadata": {},
     "output_type": "execute_result"
    }
   ],
   "source": [
    "emp.name"
   ]
  },
  {
   "cell_type": "code",
   "execution_count": 37,
   "id": "47aed405",
   "metadata": {},
   "outputs": [],
   "source": [
    "emp.age = 30\n"
   ]
  },
  {
   "cell_type": "code",
   "execution_count": 38,
   "id": "0f3ee965",
   "metadata": {},
   "outputs": [
    {
     "data": {
      "text/plain": [
       "30"
      ]
     },
     "execution_count": 38,
     "metadata": {},
     "output_type": "execute_result"
    }
   ],
   "source": [
    "emp.age"
   ]
  },
  {
   "cell_type": "code",
   "execution_count": 39,
   "id": "fde3c72d",
   "metadata": {},
   "outputs": [
    {
     "ename": "AttributeError",
     "evalue": "'Emp' object has no attribute 'state'",
     "output_type": "error",
     "traceback": [
      "\u001b[1;31m---------------------------------------------------------------------------\u001b[0m",
      "\u001b[1;31mAttributeError\u001b[0m                            Traceback (most recent call last)",
      "Cell \u001b[1;32mIn[39], line 1\u001b[0m\n\u001b[1;32m----> 1\u001b[0m emp\u001b[38;5;241m.\u001b[39mstate\n",
      "\u001b[1;31mAttributeError\u001b[0m: 'Emp' object has no attribute 'state'"
     ]
    }
   ],
   "source": [
    "emp.state"
   ]
  },
  {
   "cell_type": "code",
   "execution_count": 40,
   "id": "5c731d1b",
   "metadata": {},
   "outputs": [],
   "source": [
    "emp.state = \"Karnataka\""
   ]
  },
  {
   "cell_type": "code",
   "execution_count": 41,
   "id": "82132129",
   "metadata": {},
   "outputs": [
    {
     "data": {
      "text/plain": [
       "'Karnataka'"
      ]
     },
     "execution_count": 41,
     "metadata": {},
     "output_type": "execute_result"
    }
   ],
   "source": [
    "emp.state"
   ]
  },
  {
   "cell_type": "code",
   "execution_count": 44,
   "id": "77a54c80",
   "metadata": {},
   "outputs": [
    {
     "data": {
      "text/plain": [
       "'Data scientist'"
      ]
     },
     "execution_count": 44,
     "metadata": {},
     "output_type": "execute_result"
    }
   ],
   "source": [
    "emp.designation"
   ]
  },
  {
   "cell_type": "code",
   "execution_count": 50,
   "id": "5cde5c69",
   "metadata": {},
   "outputs": [],
   "source": [
    "class Sensor:\n",
    "    def __init__(self,):\n",
    "        self.sensor1 = 3\n",
    "        self.sensor = 4\n",
    "    def to_dict(self,):\n",
    "        return self.__dict__\n",
    "    \n",
    "        "
   ]
  },
  {
   "cell_type": "code",
   "execution_count": 57,
   "id": "41b4adec",
   "metadata": {},
   "outputs": [],
   "source": [
    "s = Sensor()"
   ]
  },
  {
   "cell_type": "code",
   "execution_count": 58,
   "id": "738c5521",
   "metadata": {},
   "outputs": [
    {
     "data": {
      "text/plain": [
       "{'sensor1': 3, 'sensor': 4}"
      ]
     },
     "execution_count": 58,
     "metadata": {},
     "output_type": "execute_result"
    }
   ],
   "source": [
    "s.to_dict()"
   ]
  },
  {
   "cell_type": "code",
   "execution_count": 59,
   "id": "849f3688",
   "metadata": {},
   "outputs": [
    {
     "data": {
      "text/plain": [
       "{'sensor1': 3, 'sensor': 4}"
      ]
     },
     "execution_count": 59,
     "metadata": {},
     "output_type": "execute_result"
    }
   ],
   "source": [
    "s.__dict__"
   ]
  },
  {
   "cell_type": "code",
   "execution_count": 61,
   "id": "b30ca926",
   "metadata": {},
   "outputs": [],
   "source": [
    "class ACSensor:\n",
    "    def __init__(self,temp_s,humd_s,flow_s):\n",
    "        self.temp_s = temp_s\n",
    "        self.humd_s = humd_s\n",
    "        self.flow_s = flow_s\n",
    "    def to_dict(self,):\n",
    "        return self.__dict__\n",
    "        "
   ]
  },
  {
   "cell_type": "code",
   "execution_count": 63,
   "id": "7caf3e7d",
   "metadata": {},
   "outputs": [],
   "source": [
    "ac = ACSensor(temp_s =10,humd_s = 3, flow_s = 2)"
   ]
  },
  {
   "cell_type": "code",
   "execution_count": 64,
   "id": "3e9de0d5",
   "metadata": {},
   "outputs": [
    {
     "data": {
      "text/plain": [
       "<__main__.ACSensor at 0x293c36fb990>"
      ]
     },
     "execution_count": 64,
     "metadata": {},
     "output_type": "execute_result"
    }
   ],
   "source": [
    "ac"
   ]
  },
  {
   "cell_type": "code",
   "execution_count": 66,
   "id": "b8ab4829",
   "metadata": {},
   "outputs": [
    {
     "data": {
      "text/plain": [
       "{'temp_s': 10, 'humd_s': 3, 'flow_s': 2}"
      ]
     },
     "execution_count": 66,
     "metadata": {},
     "output_type": "execute_result"
    }
   ],
   "source": [
    "ac.to_dict()"
   ]
  },
  {
   "cell_type": "code",
   "execution_count": 107,
   "id": "c89cef8c",
   "metadata": {},
   "outputs": [],
   "source": [
    "emp = {\"name\":[\"sai\",\"Ram\"],\"designation\":[\"Data scientist\",\"Data Scientist\"]}"
   ]
  },
  {
   "cell_type": "code",
   "execution_count": 108,
   "id": "315e0c20",
   "metadata": {},
   "outputs": [],
   "source": [
    "import pandas as pd"
   ]
  },
  {
   "cell_type": "code",
   "execution_count": 109,
   "id": "f17d5553",
   "metadata": {},
   "outputs": [],
   "source": [
    "df = pd.DataFrame(emp)"
   ]
  },
  {
   "cell_type": "code",
   "execution_count": 110,
   "id": "56b02271",
   "metadata": {},
   "outputs": [
    {
     "data": {
      "text/html": [
       "<div>\n",
       "<style scoped>\n",
       "    .dataframe tbody tr th:only-of-type {\n",
       "        vertical-align: middle;\n",
       "    }\n",
       "\n",
       "    .dataframe tbody tr th {\n",
       "        vertical-align: top;\n",
       "    }\n",
       "\n",
       "    .dataframe thead th {\n",
       "        text-align: right;\n",
       "    }\n",
       "</style>\n",
       "<table border=\"1\" class=\"dataframe\">\n",
       "  <thead>\n",
       "    <tr style=\"text-align: right;\">\n",
       "      <th></th>\n",
       "      <th>name</th>\n",
       "      <th>designation</th>\n",
       "    </tr>\n",
       "  </thead>\n",
       "  <tbody>\n",
       "    <tr>\n",
       "      <th>0</th>\n",
       "      <td>sai</td>\n",
       "      <td>Data scientist</td>\n",
       "    </tr>\n",
       "    <tr>\n",
       "      <th>1</th>\n",
       "      <td>Ram</td>\n",
       "      <td>Data Scientist</td>\n",
       "    </tr>\n",
       "  </tbody>\n",
       "</table>\n",
       "</div>"
      ],
      "text/plain": [
       "  name     designation\n",
       "0  sai  Data scientist\n",
       "1  Ram  Data Scientist"
      ]
     },
     "execution_count": 110,
     "metadata": {},
     "output_type": "execute_result"
    }
   ],
   "source": [
    "df"
   ]
  },
  {
   "cell_type": "code",
   "execution_count": 111,
   "id": "17188cfb",
   "metadata": {},
   "outputs": [],
   "source": [
    "columns = df.columns"
   ]
  },
  {
   "cell_type": "code",
   "execution_count": 112,
   "id": "0e6ad111",
   "metadata": {},
   "outputs": [
    {
     "data": {
      "text/plain": [
       "Index(['name', 'designation'], dtype='object')"
      ]
     },
     "execution_count": 112,
     "metadata": {},
     "output_type": "execute_result"
    }
   ],
   "source": [
    "columns"
   ]
  },
  {
   "cell_type": "code",
   "execution_count": 113,
   "id": "e075d57d",
   "metadata": {},
   "outputs": [
    {
     "name": "stdout",
     "output_type": "stream",
     "text": [
      "['sai' 'Data scientist']\n",
      "['Ram' 'Data Scientist']\n"
     ]
    }
   ],
   "source": [
    "for i in df.values:\n",
    "    print(i)"
   ]
  },
  {
   "cell_type": "code",
   "execution_count": 116,
   "id": "bbb701a6",
   "metadata": {},
   "outputs": [
    {
     "data": {
      "text/plain": [
       "array(['Ram', 'Data Scientist'], dtype=object)"
      ]
     },
     "execution_count": 116,
     "metadata": {},
     "output_type": "execute_result"
    }
   ],
   "source": [
    "i"
   ]
  },
  {
   "cell_type": "code",
   "execution_count": 115,
   "id": "ef3422ec",
   "metadata": {},
   "outputs": [
    {
     "data": {
      "text/plain": [
       "{'name': 'Ram', 'designation': 'Data Scientist'}"
      ]
     },
     "execution_count": 115,
     "metadata": {},
     "output_type": "execute_result"
    }
   ],
   "source": [
    "dict(zip(columns,i))"
   ]
  },
  {
   "cell_type": "code",
   "execution_count": null,
   "id": "8521ea90",
   "metadata": {},
   "outputs": [],
   "source": [
    "## We have dict and we are getting object "
   ]
  },
  {
   "cell_type": "code",
   "execution_count": 122,
   "id": "8dfcd1a0",
   "metadata": {},
   "outputs": [
    {
     "name": "stdout",
     "output_type": "stream",
     "text": [
      "{'name': 'sai', 'designation': 'Data scientist'}\n",
      "<__main__.Emp object at 0x00000293C7243590>\n",
      "{'name': 'sai', 'designation': 'Data scientist'}\n",
      "{'name': 'Ram', 'designation': 'Data Scientist'}\n",
      "<__main__.Emp object at 0x00000293C7260FD0>\n",
      "{'name': 'Ram', 'designation': 'Data Scientist'}\n"
     ]
    }
   ],
   "source": [
    "for i in df.values:\n",
    "    record = (dict(zip(columns,i))) ## created dict\n",
    "    print(record)\n",
    "    s=Emp.get_object(record) ## created object \n",
    "    print(s)\n",
    "    print(s.__dict__)## created dict from object"
   ]
  },
  {
   "cell_type": "code",
   "execution_count": null,
   "id": "540447f4",
   "metadata": {},
   "outputs": [],
   "source": [
    "yield & return\n",
    "yield -->\n",
    "return --> "
   ]
  },
  {
   "cell_type": "code",
   "execution_count": 123,
   "id": "525b4597",
   "metadata": {},
   "outputs": [
    {
     "name": "stdout",
     "output_type": "stream",
     "text": [
      "5\n"
     ]
    }
   ],
   "source": [
    "print(2 * 3 ** 3 % 7)"
   ]
  },
  {
   "cell_type": "code",
   "execution_count": 124,
   "id": "e594d9d5",
   "metadata": {},
   "outputs": [
    {
     "ename": "SyntaxError",
     "evalue": "invalid decimal literal (2265958973.py, line 1)",
     "output_type": "error",
     "traceback": [
      "\u001b[1;36m  Cell \u001b[1;32mIn[124], line 1\u001b[1;36m\u001b[0m\n\u001b[1;33m    2var = 1\u001b[0m\n\u001b[1;37m    ^\u001b[0m\n\u001b[1;31mSyntaxError\u001b[0m\u001b[1;31m:\u001b[0m invalid decimal literal\n"
     ]
    }
   ],
   "source": [
    "2var = 1\n",
    "print(2var)"
   ]
  },
  {
   "cell_type": "code",
   "execution_count": 125,
   "id": "531d7bde",
   "metadata": {},
   "outputs": [
    {
     "name": "stdout",
     "output_type": "stream",
     "text": [
      "3\n"
     ]
    }
   ],
   "source": [
    "_var = 3\n",
    "print(_var)"
   ]
  },
  {
   "cell_type": "code",
   "execution_count": 126,
   "id": "7b13d90b",
   "metadata": {},
   "outputs": [
    {
     "name": "stdout",
     "output_type": "stream",
     "text": [
      "0\n"
     ]
    }
   ],
   "source": [
    "print(2//3)"
   ]
  },
  {
   "cell_type": "code",
   "execution_count": 127,
   "id": "1a1e50ed",
   "metadata": {},
   "outputs": [
    {
     "name": "stdout",
     "output_type": "stream",
     "text": [
      "3\n"
     ]
    }
   ],
   "source": [
    "print(3*1**3)"
   ]
  },
  {
   "cell_type": "code",
   "execution_count": 128,
   "id": "02482a58",
   "metadata": {},
   "outputs": [
    {
     "name": "stdout",
     "output_type": "stream",
     "text": [
      "5.0\n"
     ]
    }
   ],
   "source": [
    "print(10/2)"
   ]
  },
  {
   "cell_type": "code",
   "execution_count": 130,
   "id": "d6259cf1",
   "metadata": {},
   "outputs": [
    {
     "name": "stdout",
     "output_type": "stream",
     "text": [
      "True\n"
     ]
    }
   ],
   "source": [
    " x = 5 \n",
    "print(x > 3 and x < 10)"
   ]
  },
  {
   "cell_type": "code",
   "execution_count": 132,
   "id": "a75e60ed",
   "metadata": {},
   "outputs": [],
   "source": [
    "x = 10\n",
    "x += 5"
   ]
  },
  {
   "cell_type": "code",
   "execution_count": 133,
   "id": "2f3a7c95",
   "metadata": {},
   "outputs": [
    {
     "name": "stdout",
     "output_type": "stream",
     "text": [
      "15\n"
     ]
    }
   ],
   "source": [
    "print(x)"
   ]
  },
  {
   "cell_type": "code",
   "execution_count": 135,
   "id": "0dc06916",
   "metadata": {},
   "outputs": [
    {
     "name": "stdout",
     "output_type": "stream",
     "text": [
      "weivretnI nohtyP\n"
     ]
    }
   ],
   "source": [
    "str = 'Python Interview' \n",
    "print(str[::-1])"
   ]
  },
  {
   "cell_type": "code",
   "execution_count": 136,
   "id": "af9fa8c8",
   "metadata": {},
   "outputs": [
    {
     "name": "stdout",
     "output_type": "stream",
     "text": [
      "49\n"
     ]
    }
   ],
   "source": [
    "x = 7 ** 2\n",
    "print(x) "
   ]
  },
  {
   "cell_type": "code",
   "execution_count": null,
   "id": "a574c26a",
   "metadata": {},
   "outputs": [],
   "source": [
    " "
   ]
  }
 ],
 "metadata": {
  "kernelspec": {
   "display_name": "Python 3 (ipykernel)",
   "language": "python",
   "name": "python3"
  },
  "language_info": {
   "codemirror_mode": {
    "name": "ipython",
    "version": 3
   },
   "file_extension": ".py",
   "mimetype": "text/x-python",
   "name": "python",
   "nbconvert_exporter": "python",
   "pygments_lexer": "ipython3",
   "version": "3.11.5"
  }
 },
 "nbformat": 4,
 "nbformat_minor": 5
}
