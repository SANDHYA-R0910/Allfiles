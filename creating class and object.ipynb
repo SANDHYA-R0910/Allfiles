{
 "cells": [
  {
   "cell_type": "code",
   "execution_count": 5,
   "id": "388fbba0",
   "metadata": {},
   "outputs": [
    {
     "name": "stdout",
     "output_type": "stream",
     "text": [
      "skeeG\n"
     ]
    }
   ],
   "source": [
    "\n",
    "class Solution:\n",
    "     def reverseWord(self, str: str) -> str:\n",
    "        return str[::-1]\n",
    "s = Solution()\n",
    "str = s.reverseWord(\"Geeks\")\n",
    "print(str)"
   ]
  },
  {
   "cell_type": "code",
   "execution_count": 3,
   "id": "952d43dc",
   "metadata": {},
   "outputs": [],
   "source": [
    "s=\"Geeks\""
   ]
  },
  {
   "cell_type": "code",
   "execution_count": 4,
   "id": "893db7c9",
   "metadata": {},
   "outputs": [
    {
     "name": "stdout",
     "output_type": "stream",
     "text": [
      "skeeG\n"
     ]
    }
   ],
   "source": [
    "print(s[::-1])"
   ]
  },
  {
   "cell_type": "code",
   "execution_count": 17,
   "id": "82ae8e7b",
   "metadata": {},
   "outputs": [
    {
     "name": "stdout",
     "output_type": "stream",
     "text": [
      "({1, 2, 3, 4}, 4)\n"
     ]
    }
   ],
   "source": [
    "class Solution:\n",
    "    def duplicates(self, arr, n):\n",
    "        if arr == set(m):\n",
    "            return arr,n\n",
    "        else:\n",
    "            return -1\n",
    "    \t    \n",
    "\n",
    "m = {1,2,3,4}\n",
    "n = 4\n",
    "s = Solution()\n",
    "f = s.duplicates(m,n)\n",
    "print(f)"
   ]
  },
  {
   "cell_type": "code",
   "execution_count": 19,
   "id": "f41e59a8",
   "metadata": {},
   "outputs": [
    {
     "name": "stdout",
     "output_type": "stream",
     "text": [
      "-1\n"
     ]
    }
   ],
   "source": [
    "class Solution:\n",
    "    def duplicates(self, arr, n=None):\n",
    "        if n is None:\n",
    "            n = len(arr)\n",
    "\n",
    "        if arr == set(range(1, n + 1)):\n",
    "            return -1\n",
    "        else:\n",
    "            return arr\n",
    "\n",
    "m = {1, 2, 3, 4,1}\n",
    "s = Solution()\n",
    "result = s.duplicates(m)\n",
    "print(result)\n"
   ]
  },
  {
   "cell_type": "code",
   "execution_count": null,
   "id": "0d862d6a",
   "metadata": {},
   "outputs": [],
   "source": [
    "class Solution:\n",
    "    def reverseWord(self, s: str) -> str:\n",
    "        return s[::-1]\n",
    "\n",
    "# Creating an instance of the Solution class\n",
    "sol = Solution()\n",
    "\n",
    "# Calling the reverseWord method on the instance\n",
    "str_reversed = sol.reverseWord(\"Geeks\")\n",
    "print(str_reversed)\n"
   ]
  },
  {
   "cell_type": "code",
   "execution_count": 30,
   "id": "02c4090e",
   "metadata": {},
   "outputs": [],
   "source": [
    "emp_info = {\"name\":\"sai\",\"designation\":\"Data scientist\"}"
   ]
  },
  {
   "cell_type": "code",
   "execution_count": 34,
   "id": "5fedff43",
   "metadata": {},
   "outputs": [],
   "source": [
    "class Emp:\n",
    "    def __init__(self,record:dict):\n",
    "        \n",
    "        for attr_name,values in record.items():\n",
    "            setattr(self,attr_name,values)\n",
    "        \n",
    "    @classmethod\n",
    "    def get_object(cls,record):\n",
    "        return Emp(record)\n",
    "        "
   ]
  },
  {
   "cell_type": "code",
   "execution_count": 35,
   "id": "1bf05c8f",
   "metadata": {},
   "outputs": [],
   "source": [
    "emp = Emp.get_object(emp_info)"
   ]
  },
  {
   "cell_type": "code",
   "execution_count": 36,
   "id": "76c0e53f",
   "metadata": {},
   "outputs": [
    {
     "data": {
      "text/plain": [
       "'sai'"
      ]
     },
     "execution_count": 36,
     "metadata": {},
     "output_type": "execute_result"
    }
   ],
   "source": [
    "emp.name"
   ]
  },
  {
   "cell_type": "code",
   "execution_count": 37,
   "id": "47aed405",
   "metadata": {},
   "outputs": [],
   "source": [
    "emp.age = 30\n"
   ]
  },
  {
   "cell_type": "code",
   "execution_count": 38,
   "id": "0f3ee965",
   "metadata": {},
   "outputs": [
    {
     "data": {
      "text/plain": [
       "30"
      ]
     },
     "execution_count": 38,
     "metadata": {},
     "output_type": "execute_result"
    }
   ],
   "source": [
    "emp.age"
   ]
  },
  {
   "cell_type": "code",
   "execution_count": 39,
   "id": "fde3c72d",
   "metadata": {},
   "outputs": [
    {
     "ename": "AttributeError",
     "evalue": "'Emp' object has no attribute 'state'",
     "output_type": "error",
     "traceback": [
      "\u001b[1;31m---------------------------------------------------------------------------\u001b[0m",
      "\u001b[1;31mAttributeError\u001b[0m                            Traceback (most recent call last)",
      "Cell \u001b[1;32mIn[39], line 1\u001b[0m\n\u001b[1;32m----> 1\u001b[0m emp\u001b[38;5;241m.\u001b[39mstate\n",
      "\u001b[1;31mAttributeError\u001b[0m: 'Emp' object has no attribute 'state'"
     ]
    }
   ],
   "source": [
    "emp.state"
   ]
  },
  {
   "cell_type": "code",
   "execution_count": 40,
   "id": "5c731d1b",
   "metadata": {},
   "outputs": [],
   "source": [
    "emp.state = \"Karnataka\""
   ]
  },
  {
   "cell_type": "code",
   "execution_count": 41,
   "id": "82132129",
   "metadata": {},
   "outputs": [
    {
     "data": {
      "text/plain": [
       "'Karnataka'"
      ]
     },
     "execution_count": 41,
     "metadata": {},
     "output_type": "execute_result"
    }
   ],
   "source": [
    "emp.state"
   ]
  },
  {
   "cell_type": "code",
   "execution_count": 44,
   "id": "77a54c80",
   "metadata": {},
   "outputs": [
    {
     "data": {
      "text/plain": [
       "'Data scientist'"
      ]
     },
     "execution_count": 44,
     "metadata": {},
     "output_type": "execute_result"
    }
   ],
   "source": [
    "emp.designation"
   ]
  },
  {
   "cell_type": "code",
   "execution_count": 50,
   "id": "5cde5c69",
   "metadata": {},
   "outputs": [],
   "source": [
    "class Sensor:\n",
    "    def __init__(self,):\n",
    "        self.sensor1 = 3\n",
    "        self.sensor = 4\n",
    "    def to_dict(self,):\n",
    "        return self.__dict__\n",
    "    \n",
    "        "
   ]
  },
  {
   "cell_type": "code",
   "execution_count": 57,
   "id": "41b4adec",
   "metadata": {},
   "outputs": [],
   "source": [
    "s = Sensor()"
   ]
  },
  {
   "cell_type": "code",
   "execution_count": 58,
   "id": "738c5521",
   "metadata": {},
   "outputs": [
    {
     "data": {
      "text/plain": [
       "{'sensor1': 3, 'sensor': 4}"
      ]
     },
     "execution_count": 58,
     "metadata": {},
     "output_type": "execute_result"
    }
   ],
   "source": [
    "s.to_dict()"
   ]
  },
  {
   "cell_type": "code",
   "execution_count": 59,
   "id": "849f3688",
   "metadata": {},
   "outputs": [
    {
     "data": {
      "text/plain": [
       "{'sensor1': 3, 'sensor': 4}"
      ]
     },
     "execution_count": 59,
     "metadata": {},
     "output_type": "execute_result"
    }
   ],
   "source": [
    "s.__dict__"
   ]
  },
  {
   "cell_type": "code",
   "execution_count": 61,
   "id": "b30ca926",
   "metadata": {},
   "outputs": [],
   "source": [
    "class ACSensor:\n",
    "    def __init__(self,temp_s,humd_s,flow_s):\n",
    "        self.temp_s = temp_s\n",
    "        self.humd_s = humd_s\n",
    "        self.flow_s = flow_s\n",
    "    def to_dict(self,):\n",
    "        return self.__dict__\n",
    "        "
   ]
  },
  {
   "cell_type": "code",
   "execution_count": 63,
   "id": "7caf3e7d",
   "metadata": {},
   "outputs": [],
   "source": [
    "ac = ACSensor(temp_s =10,humd_s = 3, flow_s = 2)"
   ]
  },
  {
   "cell_type": "code",
   "execution_count": 64,
   "id": "3e9de0d5",
   "metadata": {},
   "outputs": [
    {
     "data": {
      "text/plain": [
       "<__main__.ACSensor at 0x293c36fb990>"
      ]
     },
     "execution_count": 64,
     "metadata": {},
     "output_type": "execute_result"
    }
   ],
   "source": [
    "ac"
   ]
  },
  {
   "cell_type": "code",
   "execution_count": 66,
   "id": "b8ab4829",
   "metadata": {},
   "outputs": [
    {
     "data": {
      "text/plain": [
       "{'temp_s': 10, 'humd_s': 3, 'flow_s': 2}"
      ]
     },
     "execution_count": 66,
     "metadata": {},
     "output_type": "execute_result"
    }
   ],
   "source": [
    "ac.to_dict()"
   ]
  },
  {
   "cell_type": "code",
   "execution_count": 107,
   "id": "c89cef8c",
   "metadata": {},
   "outputs": [],
   "source": [
    "emp = {\"name\":[\"sai\",\"Ram\"],\"designation\":[\"Data scientist\",\"Data Scientist\"]}"
   ]
  },
  {
   "cell_type": "code",
   "execution_count": 108,
   "id": "315e0c20",
   "metadata": {},
   "outputs": [],
   "source": [
    "import pandas as pd"
   ]
  },
  {
   "cell_type": "code",
   "execution_count": 109,
   "id": "f17d5553",
   "metadata": {},
   "outputs": [],
   "source": [
    "df = pd.DataFrame(emp)"
   ]
  },
  {
   "cell_type": "code",
   "execution_count": 110,
   "id": "56b02271",
   "metadata": {},
   "outputs": [
    {
     "data": {
      "text/html": [
       "<div>\n",
       "<style scoped>\n",
       "    .dataframe tbody tr th:only-of-type {\n",
       "        vertical-align: middle;\n",
       "    }\n",
       "\n",
       "    .dataframe tbody tr th {\n",
       "        vertical-align: top;\n",
       "    }\n",
       "\n",
       "    .dataframe thead th {\n",
       "        text-align: right;\n",
       "    }\n",
       "</style>\n",
       "<table border=\"1\" class=\"dataframe\">\n",
       "  <thead>\n",
       "    <tr style=\"text-align: right;\">\n",
       "      <th></th>\n",
       "      <th>name</th>\n",
       "      <th>designation</th>\n",
       "    </tr>\n",
       "  </thead>\n",
       "  <tbody>\n",
       "    <tr>\n",
       "      <th>0</th>\n",
       "      <td>sai</td>\n",
       "      <td>Data scientist</td>\n",
       "    </tr>\n",
       "    <tr>\n",
       "      <th>1</th>\n",
       "      <td>Ram</td>\n",
       "      <td>Data Scientist</td>\n",
       "    </tr>\n",
       "  </tbody>\n",
       "</table>\n",
       "</div>"
      ],
      "text/plain": [
       "  name     designation\n",
       "0  sai  Data scientist\n",
       "1  Ram  Data Scientist"
      ]
     },
     "execution_count": 110,
     "metadata": {},
     "output_type": "execute_result"
    }
   ],
   "source": [
    "df"
   ]
  },
  {
   "cell_type": "code",
   "execution_count": 111,
   "id": "17188cfb",
   "metadata": {},
   "outputs": [],
   "source": [
    "columns = df.columns"
   ]
  },
  {
   "cell_type": "code",
   "execution_count": 112,
   "id": "0e6ad111",
   "metadata": {},
   "outputs": [
    {
     "data": {
      "text/plain": [
       "Index(['name', 'designation'], dtype='object')"
      ]
     },
     "execution_count": 112,
     "metadata": {},
     "output_type": "execute_result"
    }
   ],
   "source": [
    "columns"
   ]
  },
  {
   "cell_type": "code",
   "execution_count": 113,
   "id": "e075d57d",
   "metadata": {},
   "outputs": [
    {
     "name": "stdout",
     "output_type": "stream",
     "text": [
      "['sai' 'Data scientist']\n",
      "['Ram' 'Data Scientist']\n"
     ]
    }
   ],
   "source": [
    "for i in df.values:\n",
    "    print(i)"
   ]
  },
  {
   "cell_type": "code",
   "execution_count": 116,
   "id": "d3675e78",
   "metadata": {},
   "outputs": [
    {
     "data": {
      "text/plain": [
       "array(['Ram', 'Data Scientist'], dtype=object)"
      ]
     },
     "execution_count": 116,
     "metadata": {},
     "output_type": "execute_result"
    }
   ],
   "source": [
    "i"
   ]
  },
  {
   "cell_type": "code",
   "execution_count": 115,
   "id": "71407478",
   "metadata": {},
   "outputs": [
    {
     "data": {
      "text/plain": [
       "{'name': 'Ram', 'designation': 'Data Scientist'}"
      ]
     },
     "execution_count": 115,
     "metadata": {},
     "output_type": "execute_result"
    }
   ],
   "source": [
    "dict(zip(columns,i))"
   ]
  },
  {
   "cell_type": "code",
   "execution_count": null,
   "id": "31cdffc3",
   "metadata": {},
   "outputs": [],
   "source": [
    "## We have dict and we are getting object "
   ]
  },
  {
   "cell_type": "code",
   "execution_count": 122,
   "id": "57766835",
   "metadata": {},
   "outputs": [
    {
     "name": "stdout",
     "output_type": "stream",
     "text": [
      "{'name': 'sai', 'designation': 'Data scientist'}\n",
      "<__main__.Emp object at 0x00000293C7243590>\n",
      "{'name': 'sai', 'designation': 'Data scientist'}\n",
      "{'name': 'Ram', 'designation': 'Data Scientist'}\n",
      "<__main__.Emp object at 0x00000293C7260FD0>\n",
      "{'name': 'Ram', 'designation': 'Data Scientist'}\n"
     ]
    }
   ],
   "source": [
    "for i in df.values:\n",
    "    record = (dict(zip(columns,i))) ## created dict\n",
    "    print(record)\n",
    "    s=Emp.get_object(record) ## created object \n",
    "    print(s)\n",
    "    print(s.__dict__)## created dict from object"
   ]
  },
  {
   "cell_type": "code",
   "execution_count": null,
   "id": "fa98c210",
   "metadata": {},
   "outputs": [],
   "source": [
    "yield & return\n",
    "yield -->\n",
    "return --> "
   ]
  },
  {
   "cell_type": "code",
   "execution_count": 123,
   "id": "47d981a6",
   "metadata": {},
   "outputs": [
    {
     "name": "stdout",
     "output_type": "stream",
     "text": [
      "5\n"
     ]
    }
   ],
   "source": [
    "print(2 * 3 ** 3 % 7)"
   ]
  },
  {
   "cell_type": "code",
   "execution_count": 124,
   "id": "1eba6049",
   "metadata": {},
   "outputs": [
    {
     "ename": "SyntaxError",
     "evalue": "invalid decimal literal (2265958973.py, line 1)",
     "output_type": "error",
     "traceback": [
      "\u001b[1;36m  Cell \u001b[1;32mIn[124], line 1\u001b[1;36m\u001b[0m\n\u001b[1;33m    2var = 1\u001b[0m\n\u001b[1;37m    ^\u001b[0m\n\u001b[1;31mSyntaxError\u001b[0m\u001b[1;31m:\u001b[0m invalid decimal literal\n"
     ]
    }
   ],
   "source": [
    "2var = 1\n",
    "print(2var)"
   ]
  },
  {
   "cell_type": "code",
   "execution_count": 125,
   "id": "97624d3a",
   "metadata": {},
   "outputs": [
    {
     "name": "stdout",
     "output_type": "stream",
     "text": [
      "3\n"
     ]
    }
   ],
   "source": [
    "_var = 3\n",
    "print(_var)"
   ]
  },
  {
   "cell_type": "code",
   "execution_count": 126,
   "id": "e4c341dc",
   "metadata": {},
   "outputs": [
    {
     "name": "stdout",
     "output_type": "stream",
     "text": [
      "0\n"
     ]
    }
   ],
   "source": [
    "print(2//3)"
   ]
  },
  {
   "cell_type": "code",
   "execution_count": 127,
   "id": "fdd11993",
   "metadata": {},
   "outputs": [
    {
     "name": "stdout",
     "output_type": "stream",
     "text": [
      "3\n"
     ]
    }
   ],
   "source": [
    "print(3*1**3)"
   ]
  },
  {
   "cell_type": "code",
   "execution_count": 128,
   "id": "92195663",
   "metadata": {},
   "outputs": [
    {
     "name": "stdout",
     "output_type": "stream",
     "text": [
      "5.0\n"
     ]
    }
   ],
   "source": [
    "print(10/2)"
   ]
  },
  {
   "cell_type": "code",
   "execution_count": 130,
   "id": "e8679018",
   "metadata": {},
   "outputs": [
    {
     "name": "stdout",
     "output_type": "stream",
     "text": [
      "True\n"
     ]
    }
   ],
   "source": [
    " x = 5 \n",
    "print(x > 3 and x < 10)"
   ]
  },
  {
   "cell_type": "code",
   "execution_count": 132,
   "id": "81f92311",
   "metadata": {},
   "outputs": [],
   "source": [
    "x = 10\n",
    "x += 5"
   ]
  },
  {
   "cell_type": "code",
   "execution_count": 133,
   "id": "205f5604",
   "metadata": {},
   "outputs": [
    {
     "name": "stdout",
     "output_type": "stream",
     "text": [
      "15\n"
     ]
    }
   ],
   "source": [
    "print(x)"
   ]
  },
  {
   "cell_type": "code",
   "execution_count": 135,
   "id": "9ced8180",
   "metadata": {},
   "outputs": [
    {
     "name": "stdout",
     "output_type": "stream",
     "text": [
      "weivretnI nohtyP\n"
     ]
    }
   ],
   "source": [
    "str = 'Python Interview' \n",
    "print(str[::-1])"
   ]
  },
  {
   "cell_type": "code",
   "execution_count": 136,
   "id": "d594147b",
   "metadata": {},
   "outputs": [
    {
     "name": "stdout",
     "output_type": "stream",
     "text": [
      "49\n"
     ]
    }
   ],
   "source": [
    "x = 7 ** 2\n",
    "print(x) "
   ]
  },
  {
   "cell_type": "code",
   "execution_count": 137,
   "id": "bfdd2b3c",
   "metadata": {},
   "outputs": [
    {
     "name": "stdout",
     "output_type": "stream",
     "text": [
      "!dlroW ,olleH\n"
     ]
    }
   ],
   "source": [
    "original_string = \"Hello, World!\"\n",
    "reversed_string = ''\n",
    "for char in original_string:\n",
    "    reversed_string = char + reversed_string\n",
    "print(reversed_string)\n",
    "\n",
    "        "
   ]
  },
  {
   "cell_type": "code",
   "execution_count": 155,
   "id": "af2973f2",
   "metadata": {},
   "outputs": [],
   "source": [
    "class Car:\n",
    "    pass\n",
    "\n"
   ]
  },
  {
   "cell_type": "code",
   "execution_count": 156,
   "id": "68465c3b",
   "metadata": {},
   "outputs": [],
   "source": [
    "audi = car()"
   ]
  },
  {
   "cell_type": "code",
   "execution_count": 157,
   "id": "90ba337c",
   "metadata": {},
   "outputs": [
    {
     "data": {
      "text/plain": [
       "<__main__.car at 0x293c5c4d390>"
      ]
     },
     "execution_count": 157,
     "metadata": {},
     "output_type": "execute_result"
    }
   ],
   "source": [
    "audi.millage = 10\n",
    "audi.year = 2023\n",
    "audi.make = audiq7\n",
    "audi"
   ]
  },
  {
   "cell_type": "code",
   "execution_count": 158,
   "id": "a0496a17",
   "metadata": {},
   "outputs": [
    {
     "data": {
      "text/plain": [
       "10"
      ]
     },
     "execution_count": 158,
     "metadata": {},
     "output_type": "execute_result"
    }
   ],
   "source": [
    "audi.millage"
   ]
  },
  {
   "cell_type": "code",
   "execution_count": 159,
   "id": "62fa70d9",
   "metadata": {},
   "outputs": [
    {
     "ename": "NameError",
     "evalue": "name 'millage' is not defined",
     "output_type": "error",
     "traceback": [
      "\u001b[1;31m---------------------------------------------------------------------------\u001b[0m",
      "\u001b[1;31mNameError\u001b[0m                                 Traceback (most recent call last)",
      "Cell \u001b[1;32mIn[159], line 1\u001b[0m\n\u001b[1;32m----> 1\u001b[0m millage\n",
      "\u001b[1;31mNameError\u001b[0m: name 'millage' is not defined"
     ]
    }
   ],
   "source": [
    "millage"
   ]
  },
  {
   "cell_type": "code",
   "execution_count": 162,
   "id": "d2b0c381",
   "metadata": {},
   "outputs": [],
   "source": [
    "nana = car()"
   ]
  },
  {
   "cell_type": "code",
   "execution_count": 164,
   "id": "a1844ac1",
   "metadata": {},
   "outputs": [],
   "source": [
    "nana.millage = 20\n",
    "nana.model = \"xyz\"\n",
    "nana.year = 2025\n",
    "nana.enginenumber = 123456\n",
    "nana.make = \"nano\""
   ]
  },
  {
   "cell_type": "code",
   "execution_count": 165,
   "id": "a8b5a37b",
   "metadata": {},
   "outputs": [
    {
     "data": {
      "text/plain": [
       "20"
      ]
     },
     "execution_count": 165,
     "metadata": {},
     "output_type": "execute_result"
    }
   ],
   "source": [
    "nana.millage "
   ]
  },
  {
   "cell_type": "code",
   "execution_count": 166,
   "id": "33b22cbf",
   "metadata": {},
   "outputs": [
    {
     "data": {
      "text/plain": [
       "10"
      ]
     },
     "execution_count": 166,
     "metadata": {},
     "output_type": "execute_result"
    }
   ],
   "source": [
    "audi.millage"
   ]
  },
  {
   "cell_type": "code",
   "execution_count": 175,
   "id": "6c7b1627",
   "metadata": {},
   "outputs": [
    {
     "name": "stdout",
     "output_type": "stream",
     "text": [
      "(10, 2025, 'audiq7', 123456)\n"
     ]
    }
   ],
   "source": [
    "class car:\n",
    "    def __init__(self,millage,year,make,model):\n",
    "        self.millage = millage\n",
    "        self.year = year\n",
    "        self.make = make\n",
    "        self.model = model\n",
    "    def access_varibale(self):\n",
    "        return self.millage,self.year,self.make,self.model\n",
    "audi = car(10,2025,\"audiq7\",123456)\n",
    "b = audi.access_varibale()\n",
    "print(b)"
   ]
  },
  {
   "cell_type": "code",
   "execution_count": 189,
   "id": "6b89ad2f",
   "metadata": {},
   "outputs": [],
   "source": [
    "class car:\n",
    "    def __init__(self,millage,year,make,model):\n",
    "        self.millage = millage\n",
    "        self.year = year\n",
    "        self.make = make\n",
    "        self.model = model"
   ]
  },
  {
   "cell_type": "code",
   "execution_count": 190,
   "id": "4d9a046c",
   "metadata": {},
   "outputs": [],
   "source": [
    "nano = car(20,2023,\"nano37\",34567)\n",
    "audi7 = car(40,2024,\"audi47\",9867)"
   ]
  },
  {
   "cell_type": "code",
   "execution_count": 191,
   "id": "b1a4be70",
   "metadata": {},
   "outputs": [
    {
     "data": {
      "text/plain": [
       "20"
      ]
     },
     "execution_count": 191,
     "metadata": {},
     "output_type": "execute_result"
    }
   ],
   "source": [
    "nano.millage"
   ]
  },
  {
   "cell_type": "code",
   "execution_count": 192,
   "id": "10dd36ad",
   "metadata": {},
   "outputs": [
    {
     "data": {
      "text/plain": [
       "40"
      ]
     },
     "execution_count": 192,
     "metadata": {},
     "output_type": "execute_result"
    }
   ],
   "source": [
    "audi7.millage"
   ]
  },
  {
   "cell_type": "code",
   "execution_count": 209,
   "id": "1aa059cd",
   "metadata": {},
   "outputs": [],
   "source": [
    "class car:\n",
    "    def __init__(a,m,y,ma,mo):\n",
    "        a.millage = m\n",
    "        a.year = y\n",
    "        a.make = ma\n",
    "        a.model = mo\n",
    "    def age(self,current_year):\n",
    "        return current_year - a.year"
   ]
  },
  {
   "cell_type": "code",
   "execution_count": 210,
   "id": "d52d77b6",
   "metadata": {},
   "outputs": [],
   "source": [
    "n = car(20,2023,\"nan\",1223)"
   ]
  },
  {
   "cell_type": "code",
   "execution_count": 211,
   "id": "334ac19e",
   "metadata": {},
   "outputs": [
    {
     "data": {
      "text/plain": [
       "20"
      ]
     },
     "execution_count": 211,
     "metadata": {},
     "output_type": "execute_result"
    }
   ],
   "source": [
    "n.millage"
   ]
  },
  {
   "cell_type": "code",
   "execution_count": 212,
   "id": "162b3849",
   "metadata": {},
   "outputs": [
    {
     "ename": "AttributeError",
     "evalue": "'car' object has no attribute 'm'",
     "output_type": "error",
     "traceback": [
      "\u001b[1;31m---------------------------------------------------------------------------\u001b[0m",
      "\u001b[1;31mAttributeError\u001b[0m                            Traceback (most recent call last)",
      "Cell \u001b[1;32mIn[212], line 1\u001b[0m\n\u001b[1;32m----> 1\u001b[0m n\u001b[38;5;241m.\u001b[39mm\n",
      "\u001b[1;31mAttributeError\u001b[0m: 'car' object has no attribute 'm'"
     ]
    }
   ],
   "source": [
    "n.m"
   ]
  },
  {
   "cell_type": "code",
   "execution_count": 214,
   "id": "7a4cbda0",
   "metadata": {},
   "outputs": [
    {
     "data": {
      "text/plain": [
       "<bound method car.age of <__main__.car object at 0x00000293C7249950>>"
      ]
     },
     "execution_count": 214,
     "metadata": {},
     "output_type": "execute_result"
    }
   ],
   "source": [
    "n.age"
   ]
  },
  {
   "cell_type": "code",
   "execution_count": 216,
   "id": "cf06f449",
   "metadata": {},
   "outputs": [
    {
     "data": {
      "text/plain": [
       "-4"
      ]
     },
     "execution_count": 216,
     "metadata": {},
     "output_type": "execute_result"
    }
   ],
   "source": [
    "n.age(2021)"
   ]
  },
  {
   "cell_type": "code",
   "execution_count": 253,
   "id": "90d32d5e",
   "metadata": {},
   "outputs": [],
   "source": [
    "class car:\n",
    "    def __init__(a,m,y,ma,mo):\n",
    "        a.millage = m\n",
    "        a.year = y\n",
    "        a.make = ma\n",
    "        a.model = mo\n",
    "    def age(b,current_year):\n",
    "        return current_year - b.year\n",
    "    def milage(self):\n",
    "        print(\"milage of the car\",self.millage)\n",
    "    def __str__(b):\n",
    "        return \"this is my car class i have created\"\n",
    "#         print(\"this is my car class i have created\")"
   ]
  },
  {
   "cell_type": "code",
   "execution_count": 254,
   "id": "98c5bd37",
   "metadata": {},
   "outputs": [],
   "source": [
    "audi = car(20,2021,\"nan\",1223)"
   ]
  },
  {
   "cell_type": "code",
   "execution_count": 255,
   "id": "3e76570a",
   "metadata": {},
   "outputs": [
    {
     "data": {
      "text/plain": [
       "3"
      ]
     },
     "execution_count": 255,
     "metadata": {},
     "output_type": "execute_result"
    }
   ],
   "source": [
    "audi.age(2024)"
   ]
  },
  {
   "cell_type": "code",
   "execution_count": 256,
   "id": "a792a92f",
   "metadata": {},
   "outputs": [
    {
     "name": "stdout",
     "output_type": "stream",
     "text": [
      "milage of the car 20\n"
     ]
    }
   ],
   "source": [
    "audi.milage()"
   ]
  },
  {
   "cell_type": "code",
   "execution_count": 257,
   "id": "b349202e",
   "metadata": {},
   "outputs": [
    {
     "name": "stdout",
     "output_type": "stream",
     "text": [
      "this is my car class i have created\n"
     ]
    }
   ],
   "source": [
    "print(audi)"
   ]
  },
  {
   "cell_type": "code",
   "execution_count": 39,
   "id": "d3e7786a",
   "metadata": {},
   "outputs": [],
   "source": [
    "class student:\n",
    "    def __init__(self,name,roll_number,joining_date,current_topic):\n",
    "        self.name = name\n",
    "        self.roll_number = roll_number\n",
    "        self.joining_date = joining_date\n",
    "        self.current_topic = current_topic\n",
    "    def currt_topic(self):\n",
    "        print(\"current topic in my class is\",  self.current_topic)\n",
    "    \n",
    "    def name_phrase(self):\n",
    "        if type(self.name)==list:\n",
    "            for i in self.name:\n",
    "                print(\"name of the student\",i)\n",
    "        else:\n",
    "            print(\"provided name is not in the form of list\")\n",
    "    def str_rollno(self):\n",
    "        try:\n",
    "            if type(self.roll_number)==str:\n",
    "                print(\"do nothing\")\n",
    "            else:\n",
    "                return str(self.roll_number) \n",
    "        except Exception as e:\n",
    "            print(\"this is my err message\",e)\n",
    "    def duration(self,current_date):\n",
    "        print(\"duration of the class in my class is\", current_date - self.joining_date)\n",
    "    def __str__(self):\n",
    "        return \"this is the student class where they can try get input there own data\""
   ]
  },
  {
   "cell_type": "code",
   "execution_count": 40,
   "id": "fc620169",
   "metadata": {},
   "outputs": [],
   "source": [
    "sara = student(\"sara\",\"###\",2021,\"opps\")"
   ]
  },
  {
   "cell_type": "code",
   "execution_count": 41,
   "id": "9d8b299d",
   "metadata": {},
   "outputs": [
    {
     "name": "stdout",
     "output_type": "stream",
     "text": [
      "current topic in my class is opps\n"
     ]
    }
   ],
   "source": [
    "sara.currt_topic()"
   ]
  },
  {
   "cell_type": "code",
   "execution_count": 42,
   "id": "b7f843f4",
   "metadata": {},
   "outputs": [
    {
     "name": "stdout",
     "output_type": "stream",
     "text": [
      "this is the student class where they can try get input there own data\n"
     ]
    }
   ],
   "source": [
    "print(sara)"
   ]
  },
  {
   "cell_type": "code",
   "execution_count": 43,
   "id": "b6bc52a7",
   "metadata": {},
   "outputs": [
    {
     "name": "stdout",
     "output_type": "stream",
     "text": [
      "duration of the class in my class is 3\n"
     ]
    }
   ],
   "source": [
    "sara.duration(2024)"
   ]
  },
  {
   "cell_type": "code",
   "execution_count": 44,
   "id": "8e1aa4e2",
   "metadata": {},
   "outputs": [
    {
     "name": "stdout",
     "output_type": "stream",
     "text": [
      "do nothing\n"
     ]
    }
   ],
   "source": [
    "sara.str_rollno()"
   ]
  },
  {
   "cell_type": "code",
   "execution_count": 46,
   "id": "af8eb05d",
   "metadata": {},
   "outputs": [],
   "source": [
    "mega = student([\"jack\",\"johan\",\"jeenu\"],[23,34,24,35],2021,\"oops\")"
   ]
  },
  {
   "cell_type": "code",
   "execution_count": 47,
   "id": "263b71e4",
   "metadata": {},
   "outputs": [
    {
     "name": "stdout",
     "output_type": "stream",
     "text": [
      "name of the student jack\n",
      "name of the student johan\n",
      "name of the student jeenu\n"
     ]
    }
   ],
   "source": [
    "mega.name_phrase()"
   ]
  },
  {
   "cell_type": "code",
   "execution_count": 48,
   "id": "96c2dc9f",
   "metadata": {},
   "outputs": [
    {
     "data": {
      "text/plain": [
       "'[23, 34, 24, 35]'"
      ]
     },
     "execution_count": 48,
     "metadata": {},
     "output_type": "execute_result"
    }
   ],
   "source": [
    "mega.str_rollno()"
   ]
  },
  {
   "cell_type": "code",
   "execution_count": 49,
   "id": "5c51e972",
   "metadata": {},
   "outputs": [
    {
     "data": {
      "text/plain": [
       "['jack', 'johan', 'jeenu']"
      ]
     },
     "execution_count": 49,
     "metadata": {},
     "output_type": "execute_result"
    }
   ],
   "source": [
    "##outside a class\n",
    "mega.name"
   ]
  },
  {
   "cell_type": "code",
   "execution_count": 8,
   "id": "9ab5d740",
   "metadata": {},
   "outputs": [],
   "source": [
    "class data:\n",
    "    def __init__(self,filename,filetype,date,size):\n",
    "        self.filename = filename\n",
    "        self.filetype = filetype\n",
    "        self.date = date\n",
    "        self.size = size\n",
    "    def file_open(self):\n",
    "        f =  open(self.filename, 'w')\n",
    "        f.write(\"Hello, this is a sample text.\\n\")\n",
    "        f.close()\n",
    "    def file_read(self):\n",
    "        f = open(self.filename,\"r\")\n",
    "        print(f.read())\n",
    "        f.close()\n",
    "    def file_append(self):\n",
    "        f = open(self.filename,'a')\n",
    "        f.write(\"i am appending another line sentence\")\n",
    "        f.close()\n",
    "\n",
    "        "
   ]
  },
  {
   "cell_type": "code",
   "execution_count": 9,
   "id": "b80c7242",
   "metadata": {},
   "outputs": [],
   "source": [
    "s = data(\"anu\",\"txt\",\"12-03-2024\",\"10mb\")"
   ]
  },
  {
   "cell_type": "code",
   "execution_count": 10,
   "id": "e9af5c61",
   "metadata": {},
   "outputs": [],
   "source": [
    "s.file_open()"
   ]
  },
  {
   "cell_type": "code",
   "execution_count": 11,
   "id": "1a451081",
   "metadata": {},
   "outputs": [
    {
     "name": "stdout",
     "output_type": "stream",
     "text": [
      "Hello, this is a sample text.\n",
      "\n"
     ]
    }
   ],
   "source": [
    "s.file_read()"
   ]
  },
  {
   "cell_type": "code",
   "execution_count": 12,
   "id": "feaaf73b",
   "metadata": {},
   "outputs": [],
   "source": [
    "s.file_append()"
   ]
  },
  {
   "cell_type": "code",
   "execution_count": null,
   "id": "a725d6fb",
   "metadata": {},
   "outputs": [],
   "source": [
    "## class object exception handling and logging "
   ]
  },
  {
   "cell_type": "code",
   "execution_count": 50,
   "id": "e5a91b9c",
   "metadata": {},
   "outputs": [
    {
     "name": "stdout",
     "output_type": "stream",
     "text": [
      "File content after opening: Hello, this is a sample text file \n",
      "\n",
      "File content after appending: Hello, this is a sample text file \n",
      "new line added in gerry file\n"
     ]
    }
   ],
   "source": [
    "import logging as lg\n",
    "\n",
    "lg.basicConfig(filename='OOPS.log', level=lg.ERROR)\n",
    "\n",
    "class data:\n",
    "    def __init__(self,filename,filetype,date,size):\n",
    "        self.filename = filename\n",
    "        self.filetype = filetype\n",
    "        self.date = date\n",
    "        self.size = size\n",
    "    def file_open(self):\n",
    "        try:\n",
    "            with open(f\"{self.filename}_{self.filetype}\", 'w') as file:\n",
    "                file.write(\"Hello, this is a sample text file \\n\")\n",
    "        except IOError as e:\n",
    "            self.logging(e)    \n",
    "       \n",
    "    def file_read(self):\n",
    "        try:\n",
    "            with open(f\"{self.filename}_{self.filetype}\",'r') as file:\n",
    "                return file.read()\n",
    "        except FileNotFoundError as e:\n",
    "            self.logging(e)\n",
    "        except Exception as e:\n",
    "            self.logging(e)\n",
    "    def file_append(self, data):\n",
    "        try:\n",
    "            with open(f\"{self.filename}_{self.filetype}\", 'a') as file:\n",
    "                file.write(data)\n",
    "        except FileNotFoundError as e:\n",
    "            self.logging(e)\n",
    "        except Exception as e:\n",
    "            self.logging(e)\n",
    "    def logging(self,log):\n",
    "        lg.error(log)\n",
    "\n",
    "s = data('gerry', '.txt', '13-03-2024', '10mb')\n",
    "s.file_open()\n",
    "file_content = s.file_read()\n",
    "print(\"File content after opening:\", file_content)\n",
    "s.file_append(\"new line added in gerry file\")\n",
    "file_content_after_append = s.file_read()\n",
    "print(\"File content after appending:\", file_content_after_append)\n",
    "s.logging(\"Hello gerry\")"
   ]
  },
  {
   "cell_type": "code",
   "execution_count": null,
   "id": "2b386730",
   "metadata": {},
   "outputs": [],
   "source": []
  },
  {
   "cell_type": "code",
   "execution_count": 43,
   "id": "450f342f",
   "metadata": {},
   "outputs": [
    {
     "name": "stdout",
     "output_type": "stream",
     "text": [
      "File content: this is my first file - 2022-01-01 new line\n"
     ]
    }
   ],
   "source": [
    "import logging as lg\n",
    "\n",
    "lg.basicConfig(filename='OOPS.log', level=lg.ERROR)\n",
    "\n",
    "class Data:\n",
    "    def __init__(self, fileName, fileType, date, size):\n",
    "        self.fileName = fileName\n",
    "        self.fileType = fileType\n",
    "        self.date = date  # Changed from 'data' to 'date'\n",
    "        self.size = size\n",
    "\n",
    "\n",
    "    def File_open(self):\n",
    "        try:\n",
    "            with open(f\"{self.fileName}_{self.fileType}\", 'w') as f:\n",
    "                # Concatenate the date before calling write\n",
    "                content_to_write = f\"this is my first file - {self.date}\"\n",
    "                f.write(content_to_write)\n",
    "        except Exception as e:\n",
    "            self.logging(e)\n",
    "            \n",
    "    def File_read(self):\n",
    "        try:\n",
    "            with open(f\"{self.fileName}_{self.fileType}\", 'r') as f:\n",
    "                return f.read()  # Return the read content\n",
    "        except FileNotFoundError as e:\n",
    "            self.logging(e)\n",
    "        except Exception as e:\n",
    "            self.logging(e)\n",
    "    \n",
    "    def File_append(self, data):\n",
    "        try:\n",
    "            with open(f\"{self.fileName}_{self.fileType}\", 'a') as f:\n",
    "                f.write(data)\n",
    "        except FileNotFoundError as e:\n",
    "            self.logging(e)\n",
    "        except Exception as e:\n",
    "            self.logging(e)\n",
    "    \n",
    "    def logging(self, log):\n",
    "        lg.error(log) \n",
    "\n",
    "# Example usage\n",
    "d = Data('m', '.txt', '2022-01-01', 2)\n",
    "d.File_open()\n",
    "d.File_append(' new line')\n",
    "read_content = d.File_read()\n",
    "print(\"File content:\", read_content)\n"
   ]
  },
  {
   "cell_type": "markdown",
   "id": "7a38dcf0",
   "metadata": {},
   "source": [
    "#ABSTRACTION --> Protecting varible, method from some one\n",
    "_(single underscore) --> protected\n",
    "__(double underscore) --> private\n",
    "No underscore --> public"
   ]
  },
  {
   "cell_type": "code",
   "execution_count": 53,
   "id": "c7801ab8",
   "metadata": {},
   "outputs": [
    {
     "name": "stdout",
     "output_type": "stream",
     "text": [
      "4\n",
      "This is my test code for abstraction\n"
     ]
    }
   ],
   "source": [
    "class test:\n",
    "    def __init__(self,a,b,c,d):\n",
    "        self.a = a\n",
    "        self.b = b\n",
    "        self.c = c\n",
    "        self.d = d\n",
    "    def test_custom(self,v):\n",
    "        return v - self.a\n",
    "    def __str__(self):\n",
    "        return \"This is my test code for abstraction\"\n",
    "m = test(4,5,6,7)\n",
    "s=m.test_custom(8)\n",
    "print(s)\n",
    "print(m)\n",
    "        "
   ]
  },
  {
   "cell_type": "markdown",
   "id": "958c4fa8",
   "metadata": {},
   "source": [
    "## protected"
   ]
  },
  {
   "cell_type": "code",
   "execution_count": 64,
   "id": "9f63ad45",
   "metadata": {},
   "outputs": [
    {
     "name": "stdout",
     "output_type": "stream",
     "text": [
      "2\n",
      "This is my test code for abstraction\n"
     ]
    }
   ],
   "source": [
    "class test:\n",
    "    def __init__(self,a,b,c,d):\n",
    "        self._a = a\n",
    "        self.b = b\n",
    "        self.c = c\n",
    "        self.d = d\n",
    "    def test_custom(self,v):\n",
    "        return v - self._a\n",
    "    def __str__(self):\n",
    "        return \"This is my test code for abstraction\"\n",
    "m = test(4,5,6,7)\n",
    "s=m.test_custom(6)\n",
    "print(s)\n",
    "print(m)"
   ]
  },
  {
   "cell_type": "code",
   "execution_count": 65,
   "id": "72ffd3a3",
   "metadata": {},
   "outputs": [
    {
     "data": {
      "text/plain": [
       "4"
      ]
     },
     "execution_count": 65,
     "metadata": {},
     "output_type": "execute_result"
    }
   ],
   "source": [
    "m._a"
   ]
  },
  {
   "cell_type": "markdown",
   "id": "a1c21a83",
   "metadata": {},
   "source": [
    "## private"
   ]
  },
  {
   "cell_type": "code",
   "execution_count": 66,
   "id": "c14bff77",
   "metadata": {},
   "outputs": [],
   "source": [
    "class test:\n",
    "    def __init__(self,a,b,c,d):\n",
    "        self.__a = a\n",
    "        self.b = b\n",
    "        self.c = c\n",
    "        self.d = d\n",
    "    def test_custom(self,v):\n",
    "        return v - self.__a\n",
    "    def __str__(self):\n",
    "        return \"This is my test code for abstraction\"\n"
   ]
  },
  {
   "cell_type": "code",
   "execution_count": 67,
   "id": "e7fa00e8",
   "metadata": {},
   "outputs": [],
   "source": [
    "m = test(4,5,6,7)"
   ]
  },
  {
   "cell_type": "code",
   "execution_count": 68,
   "id": "b04468fa",
   "metadata": {},
   "outputs": [
    {
     "data": {
      "text/plain": [
       "1"
      ]
     },
     "execution_count": 68,
     "metadata": {},
     "output_type": "execute_result"
    }
   ],
   "source": [
    "m.test_custom(5)"
   ]
  },
  {
   "cell_type": "code",
   "execution_count": 69,
   "id": "8f603fac",
   "metadata": {},
   "outputs": [
    {
     "ename": "AttributeError",
     "evalue": "'test' object has no attribute '__a'",
     "output_type": "error",
     "traceback": [
      "\u001b[1;31m---------------------------------------------------------------------------\u001b[0m",
      "\u001b[1;31mAttributeError\u001b[0m                            Traceback (most recent call last)",
      "Cell \u001b[1;32mIn[69], line 1\u001b[0m\n\u001b[1;32m----> 1\u001b[0m m\u001b[38;5;241m.\u001b[39m__a\n",
      "\u001b[1;31mAttributeError\u001b[0m: 'test' object has no attribute '__a'"
     ]
    }
   ],
   "source": [
    "m.__a"
   ]
  },
  {
   "cell_type": "code",
   "execution_count": 63,
   "id": "26d9215a",
   "metadata": {},
   "outputs": [
    {
     "data": {
      "text/plain": [
       "4"
      ]
     },
     "execution_count": 63,
     "metadata": {},
     "output_type": "execute_result"
    }
   ],
   "source": [
    "m._test__a"
   ]
  },
  {
   "cell_type": "code",
   "execution_count": 71,
   "id": "1b6b8a78",
   "metadata": {},
   "outputs": [
    {
     "data": {
      "text/plain": [
       "34"
      ]
     },
     "execution_count": 71,
     "metadata": {},
     "output_type": "execute_result"
    }
   ],
   "source": [
    "class test1(test):\n",
    "    def __init__(self,j,*args):\n",
    "        super(test1,self).__init__(*args)\n",
    "        self.j = j\n",
    "k = test1(34,6,7,89,5)\n",
    "k.j"
   ]
  },
  {
   "cell_type": "code",
   "execution_count": 73,
   "id": "e1ff867a",
   "metadata": {},
   "outputs": [
    {
     "data": {
      "text/plain": [
       "4"
      ]
     },
     "execution_count": 73,
     "metadata": {},
     "output_type": "execute_result"
    }
   ],
   "source": [
    "k.test_custom(10)"
   ]
  },
  {
   "cell_type": "code",
   "execution_count": 74,
   "id": "9af7abde",
   "metadata": {},
   "outputs": [
    {
     "data": {
      "text/plain": [
       "5"
      ]
     },
     "execution_count": 74,
     "metadata": {},
     "output_type": "execute_result"
    }
   ],
   "source": [
    "k.d"
   ]
  },
  {
   "cell_type": "code",
   "execution_count": 158,
   "id": "cb38b9ba",
   "metadata": {},
   "outputs": [],
   "source": [
    "class test:\n",
    "    def __init__(self,k,l,m,n):\n",
    "        self.k = k\n",
    "        self.l = l\n",
    "        self.m = m\n",
    "        self.n = n\n",
    "    def a(self):\n",
    "        return \"this is test calss\"\n",
    "    \n",
    "b = test(2,3,4,5)"
   ]
  },
  {
   "cell_type": "code",
   "execution_count": 159,
   "id": "ea689116",
   "metadata": {},
   "outputs": [
    {
     "data": {
      "text/plain": [
       "3"
      ]
     },
     "execution_count": 159,
     "metadata": {},
     "output_type": "execute_result"
    }
   ],
   "source": [
    "b.l"
   ]
  },
  {
   "cell_type": "code",
   "execution_count": 160,
   "id": "5d0361a8",
   "metadata": {},
   "outputs": [
    {
     "data": {
      "text/plain": [
       "'this is test calss'"
      ]
     },
     "execution_count": 160,
     "metadata": {},
     "output_type": "execute_result"
    }
   ],
   "source": [
    "b.a()"
   ]
  },
  {
   "cell_type": "code",
   "execution_count": 161,
   "id": "60b672a9",
   "metadata": {},
   "outputs": [],
   "source": [
    "class test1:\n",
    "    def __init__(self,p,q,r,s):\n",
    "        self.p = p\n",
    "        self.q = q\n",
    "        self.r = r\n",
    "        self.s = s\n",
    "    def a(self):\n",
    "        return \"this is test1 class\"\n",
    "k = test1(23,34,56,78)"
   ]
  },
  {
   "cell_type": "code",
   "execution_count": 162,
   "id": "c7e6cf05",
   "metadata": {},
   "outputs": [
    {
     "data": {
      "text/plain": [
       "23"
      ]
     },
     "execution_count": 162,
     "metadata": {},
     "output_type": "execute_result"
    }
   ],
   "source": [
    "k.p"
   ]
  },
  {
   "cell_type": "code",
   "execution_count": 163,
   "id": "be6eb365",
   "metadata": {},
   "outputs": [
    {
     "data": {
      "text/plain": [
       "'this is test1 class'"
      ]
     },
     "execution_count": 163,
     "metadata": {},
     "output_type": "execute_result"
    }
   ],
   "source": [
    "k.a()"
   ]
  },
  {
   "cell_type": "code",
   "execution_count": 151,
   "id": "174c3aed",
   "metadata": {},
   "outputs": [],
   "source": [
    "class test2(test, test1):\n",
    "    def __init__(self,s,*args):\n",
    "        test.a(self)\n",
    "        test1.a(self)\n",
    "        self.s = s\n",
    "\n"
   ]
  },
  {
   "cell_type": "code",
   "execution_count": 168,
   "id": "0cf4c4b4",
   "metadata": {},
   "outputs": [],
   "source": [
    "class test2(test, test1):\n",
    "    def __init__(self,d,*args):\n",
    "        test.a(self)\n",
    "        test1.a(self)\n",
    "        self.d = d"
   ]
  },
  {
   "cell_type": "code",
   "execution_count": 169,
   "id": "ea01d369",
   "metadata": {},
   "outputs": [],
   "source": [
    "q = test2(45,56,78,56)"
   ]
  },
  {
   "cell_type": "code",
   "execution_count": 171,
   "id": "90b17dd2",
   "metadata": {},
   "outputs": [
    {
     "data": {
      "text/plain": [
       "45"
      ]
     },
     "execution_count": 171,
     "metadata": {},
     "output_type": "execute_result"
    }
   ],
   "source": [
    "q.d"
   ]
  },
  {
   "cell_type": "code",
   "execution_count": 172,
   "id": "c29db3a2",
   "metadata": {},
   "outputs": [
    {
     "ename": "AttributeError",
     "evalue": "'test2' object has no attribute 'p'",
     "output_type": "error",
     "traceback": [
      "\u001b[1;31m---------------------------------------------------------------------------\u001b[0m",
      "\u001b[1;31mAttributeError\u001b[0m                            Traceback (most recent call last)",
      "Cell \u001b[1;32mIn[172], line 1\u001b[0m\n\u001b[1;32m----> 1\u001b[0m q\u001b[38;5;241m.\u001b[39mp\n",
      "\u001b[1;31mAttributeError\u001b[0m: 'test2' object has no attribute 'p'"
     ]
    }
   ],
   "source": [
    "q.p"
   ]
  },
  {
   "cell_type": "code",
   "execution_count": 155,
   "id": "ebd4c764",
   "metadata": {},
   "outputs": [
    {
     "name": "stdout",
     "output_type": "stream",
     "text": [
      "function a from class test\n",
      "function a from class test1\n"
     ]
    }
   ],
   "source": [
    "class test:\n",
    "    \n",
    "    def a(self):\n",
    "        print('function a from class test')\n",
    "\n",
    "class test1:\n",
    "    def a(self):\n",
    "        print('function a from class test1')\n",
    "\n",
    "class test2():\n",
    "    def a(self):\n",
    "        test.a(self)\n",
    "        test1.a(self)\n",
    "        \n",
    "t = test2()\n",
    "t.a()\n"
   ]
  },
  {
   "cell_type": "code",
   "execution_count": 215,
   "id": "5f9a05b2",
   "metadata": {},
   "outputs": [
    {
     "name": "stdout",
     "output_type": "stream",
     "text": [
      "abc company established in 2018\n"
     ]
    }
   ],
   "source": [
    "class company:\n",
    "    address = \"xyz\"\n",
    "    name = \"abc\"\n",
    "    \n",
    "    def contact(self):\n",
    "        print(\"Contact us at\", self.address)\n",
    "\n",
    "class datascience(company):\n",
    "    def __init__(self):\n",
    "        self.year_establishment = 2018\n",
    "    \n",
    "    def comp_est(self):\n",
    "        print('{0} company established in {1}'.format(company.name, self.year_establishment))\n",
    "\n",
    "a = datascience()\n",
    "a.comp_est()\n"
   ]
  },
  {
   "cell_type": "code",
   "execution_count": null,
   "id": "17d46f47",
   "metadata": {},
   "outputs": [],
   "source": []
  },
  {
   "cell_type": "code",
   "execution_count": 197,
   "id": "93fc8bbc",
   "metadata": {},
   "outputs": [],
   "source": []
  },
  {
   "cell_type": "code",
   "execution_count": null,
   "id": "a4069d7e",
   "metadata": {},
   "outputs": [],
   "source": []
  },
  {
   "cell_type": "code",
   "execution_count": null,
   "id": "274292c2",
   "metadata": {},
   "outputs": [],
   "source": []
  },
  {
   "cell_type": "code",
   "execution_count": null,
   "id": "cbef17e6",
   "metadata": {},
   "outputs": [],
   "source": []
  },
  {
   "cell_type": "code",
   "execution_count": null,
   "id": "40b6448a",
   "metadata": {},
   "outputs": [],
   "source": []
  },
  {
   "cell_type": "code",
   "execution_count": null,
   "id": "6dae4822",
   "metadata": {},
   "outputs": [],
   "source": [
    "##encapsulation --> Hinding the implementation \n"
   ]
  },
  {
   "cell_type": "code",
   "execution_count": null,
   "id": "99fb6e3c",
   "metadata": {},
   "outputs": [],
   "source": []
  },
  {
   "cell_type": "code",
   "execution_count": 182,
   "id": "665289da",
   "metadata": {},
   "outputs": [
    {
     "name": "stdout",
     "output_type": "stream",
     "text": [
      "Moahn_Babu\n"
     ]
    }
   ],
   "source": [
    "import re\n",
    "\n",
    "x = \"Moahn Babu\"\n",
    "\n",
    "x = re.sub(r'\\s', '_', x)\n",
    "\n",
    "print(x)  \n"
   ]
  },
  {
   "cell_type": "code",
   "execution_count": 13,
   "id": "594bcc51",
   "metadata": {},
   "outputs": [],
   "source": [
    "class ComplexNumber:\n",
    "    def __init__(self,real,imag):\n",
    "        self.real = real  \n",
    "        self.imag = imag\n",
    "    def __add__(self,other):\n",
    "        print(\" I am a plus operator and I do nothing else\")\n",
    "        ans = self.real + self.imag\n",
    "        return f\"{ans}\""
   ]
  },
  {
   "cell_type": "code",
   "execution_count": 14,
   "id": "91811453",
   "metadata": {},
   "outputs": [],
   "source": [
    "k = ComplexNumber(4,5)"
   ]
  },
  {
   "cell_type": "code",
   "execution_count": 16,
   "id": "5c84e15f",
   "metadata": {},
   "outputs": [
    {
     "data": {
      "text/plain": [
       "5"
      ]
     },
     "execution_count": 16,
     "metadata": {},
     "output_type": "execute_result"
    }
   ],
   "source": [
    "k.imag"
   ]
  },
  {
   "cell_type": "code",
   "execution_count": 17,
   "id": "870234f1",
   "metadata": {},
   "outputs": [
    {
     "data": {
      "text/plain": [
       "4"
      ]
     },
     "execution_count": 17,
     "metadata": {},
     "output_type": "execute_result"
    }
   ],
   "source": [
    "k.real"
   ]
  },
  {
   "cell_type": "code",
   "execution_count": 18,
   "id": "cd590fa0",
   "metadata": {},
   "outputs": [],
   "source": [
    "n = ComplexNumber(6,8)"
   ]
  },
  {
   "cell_type": "code",
   "execution_count": 19,
   "id": "de7243d0",
   "metadata": {},
   "outputs": [
    {
     "name": "stdout",
     "output_type": "stream",
     "text": [
      " I am a plus operator and I do nothing else\n",
      "9\n"
     ]
    }
   ],
   "source": [
    "print(k+n)"
   ]
  },
  {
   "cell_type": "code",
   "execution_count": null,
   "id": "01df7122",
   "metadata": {},
   "outputs": [],
   "source": []
  }
 ],
 "metadata": {
  "kernelspec": {
   "display_name": "Python 3 (ipykernel)",
   "language": "python",
   "name": "python3"
  },
  "language_info": {
   "codemirror_mode": {
    "name": "ipython",
    "version": 3
   },
   "file_extension": ".py",
   "mimetype": "text/x-python",
   "name": "python",
   "nbconvert_exporter": "python",
   "pygments_lexer": "ipython3",
   "version": "3.11.5"
  }
 },
 "nbformat": 4,
 "nbformat_minor": 5
}
