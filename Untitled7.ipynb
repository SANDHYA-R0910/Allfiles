{
 "cells": [
  {
   "cell_type": "code",
   "execution_count": 5,
   "id": "7a9833d7",
   "metadata": {},
   "outputs": [
    {
     "name": "stdout",
     "output_type": "stream",
     "text": [
      "Temperature distribution is: \n",
      "[100.          98.85811643  97.67607875  96.45421263  95.19283835\n",
      "  93.89226951  92.55281175  91.17476156  89.75840506  88.30401693\n",
      "  86.81185925  85.28218054  83.71521477  82.11118046  80.47027984\n",
      "  78.7926981   77.0786027   75.32814274  73.54144845  71.71863069\n",
      "  69.85978063  67.9649694   66.03424793  64.06764678  62.06517614\n",
      "  60.02682584  57.95256549  55.84234468  53.69609328  51.5137218\n",
      "  49.29512184  47.04016661  44.74871154  42.42059491  40.05563863\n",
      "  37.65364901  35.21441763  32.73772225  30.22332778  27.6709873\n",
      "  25.08044311  22.45142788  19.7836657   17.07687333  14.33076136\n",
      "  11.54503541   8.71939738   5.85354669   2.94718151   0.        ]\n"
     ]
    },
    {
     "data": {
      "image/png": "[encoded data removed]",
      "text/plain": [
       "<Figure size 432x288 with 1 Axes>"
      ]
     },
     "metadata": {
      "needs_background": "light"
     },
     "output_type": "display_data"
    }
   ],
   "source": [
    "import numpy as np\n",
    "from matplotlib import pyplot as plt\n",
    "\n",
    "\n",
    "\n",
    "# Define the domain\n",
    "x_len = 1\n",
    "n_points = 50\n",
    "del_x = x_len/float(n_points - 1)\n",
    "Sc = 2      # Linearization of source term\n",
    "Sp = 0\n",
    "K = np.ones(n_points+1)\n",
    "\n",
    "\n",
    "\n",
    "x = np.arange(n_points+1)\n",
    "f = 0.5\n",
    "x_w = np.arange(x[1] - f, x[-2],1)\n",
    "x_e = np.arange(x[1] + f, x[-1],1)\n",
    "\n",
    "\n",
    "\n",
    "Temp = np.zeros(n_points)\n",
    "\n",
    "\n",
    "\n",
    "T1 = 100    # Temperature value at x = 0 boundary specified\n",
    "\n",
    "\n",
    "\n",
    "# Discretization equation\n",
    "num_itrs = 1000     # Number of iterations for Gauss-Siedel method\n",
    "Temp[0] = T1\n",
    "for nitr in range(num_itrs):\n",
    "    for i in range(1, n_points-1):\n",
    "        del_x_e = x[i + 1] - x[i]\n",
    "        del_x_w = x[i] - x[i - 1]\n",
    "        ke = 1 / float(((x_e[i - 1] - x[i]) / float(K[i])) + ((x[i + 1] - x_e[i - 1]) / float(K[i + 1])))\n",
    "        kw = 1 / float(((x[i] - x_w[i - 1]) / float(K[i - 1])) + ((x_w[i - 1] - x[i - 1]) / float(K[i])))\n",
    "        aE = ke / float(del_x_e)\n",
    "        aW = kw / float(del_x_w)\n",
    "        aP = aE + aW + (Sp * del_x)\n",
    "        b = Sc * del_x\n",
    "        Temp[i] = (aW * Temp[i - 1] + aE * Temp[i + 1] + b) / float(aP)\n",
    "\n",
    "\n",
    "\n",
    "print (\"Temperature distribution is: \\n\" + str(Temp))\n",
    "\n",
    "\n",
    "\n",
    "plt.plot(Temp)\n",
    "plt.show()"
   ]
  },
  {
   "cell_type": "code",
   "execution_count": null,
   "id": "901869ed",
   "metadata": {},
   "outputs": [],
   "source": []
  }
 ],
 "metadata": {
  "kernelspec": {
   "display_name": "Python 3 (ipykernel)",
   "language": "python",
   "name": "python3"
  },
  "language_info": {
   "codemirror_mode": {
    "name": "ipython",
    "version": 3
   },
   "file_extension": ".py",
   "mimetype": "text/x-python",
   "name": "python",
   "nbconvert_exporter": "python",
   "pygments_lexer": "ipython3",
   "version": "3.9.7"
  }
 },
 "nbformat": 4,
 "nbformat_minor": 5
}
