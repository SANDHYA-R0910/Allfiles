{
 "cells": [
  {
   "cell_type": "code",
   "execution_count": 8,
   "id": "b7a76940",
   "metadata": {},
   "outputs": [
    {
     "name": "stdout",
     "output_type": "stream",
     "text": [
      "0 21\n",
      "1 44\n",
      "2 35\n",
      "3 11\n"
     ]
    }
   ],
   "source": [
    "my_list = [21, 44, 35, 11]\n",
    "\n",
    "for i in range(len(my_list)):\n",
    "    value = my_list[i]\n",
    "    print(i, value)"
   ]
  },
  {
   "cell_type": "code",
   "execution_count": 9,
   "id": "ec16c859",
   "metadata": {},
   "outputs": [],
   "source": [
    "my_list = [21, 44, 35, 11]"
   ]
  },
  {
   "cell_type": "code",
   "execution_count": 10,
   "id": "581c7b2e",
   "metadata": {},
   "outputs": [
    {
     "name": "stdout",
     "output_type": "stream",
     "text": [
      "enter index num1\n"
     ]
    }
   ],
   "source": [
    "l= int(input(\"enter index num\"))"
   ]
  },
  {
   "cell_type": "code",
   "execution_count": null,
   "id": "8f8d9df6",
   "metadata": {},
   "outputs": [],
   "source": [
    "\n",
    "    "
   ]
  },
  {
   "cell_type": "code",
   "execution_count": null,
   "id": "28b145e8",
   "metadata": {},
   "outputs": [],
   "source": []
  }
 ],
 "metadata": {
  "kernelspec": {
   "display_name": "Python 3 (ipykernel)",
   "language": "python",
   "name": "python3"
  },
  "language_info": {
   "codemirror_mode": {
    "name": "ipython",
    "version": 3
   },
   "file_extension": ".py",
   "mimetype": "text/x-python",
   "name": "python",
   "nbconvert_exporter": "python",
   "pygments_lexer": "ipython3",
   "version": "3.9.7"
  }
 },
 "nbformat": 4,
 "nbformat_minor": 5
}
